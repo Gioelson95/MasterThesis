{
 "cells": [
  {
   "cell_type": "code",
   "execution_count": 19,
   "metadata": {},
   "outputs": [],
   "source": [
    "# import libraries\n",
    "\n",
    "import numpy as np\n",
    "import pandas as pd\n",
    "#import matplotlib.pyplot as plt\n",
    "from pyphysio import EvenlySignal"
   ]
  },
  {
   "cell_type": "markdown",
   "metadata": {},
   "source": [
    "# primo set di parametri"
   ]
  },
  {
   "cell_type": "code",
   "execution_count": 2,
   "metadata": {},
   "outputs": [
    {
     "name": "stdout",
     "output_type": "stream",
     "text": [
      "Gamma: 3 Delta: 21 tonic atoms: 63\n",
      "a: 3 b: 3 mu: 16 s: 9 phasic atoms: 1296\n",
      "tot atoms: 1359\n"
     ]
    }
   ],
   "source": [
    "# primo set di parametri per creare il dizionario\n",
    "\n",
    "# phasic parameters\n",
    "a = np.array([8, 14, 18]) # steepness of the onset\n",
    "b = np.array([10, 15, 20]) # recovery\n",
    "mu = np.array([0, 10, 20, 30, 40, 50, 60, 70, 80, 90, 100, 110, 120, 130, 140, 150]) # time shift\n",
    "s = np.array([0.100, 0.105, 0.110, 0.115, 0.120, 0.125, 0.130, 0.135, 0.140]) # scale\n",
    "\n",
    "# creo un vettore con tutte le permutazioni di a,b,mu,s\n",
    "phasic_vect = np.array(np.meshgrid(a,b,mu,s)).T.reshape(-1,4)\n",
    "\n",
    "# tonic parameters\n",
    "Gamma = np.array([-20, -10, 1]) # offset\n",
    "Delta = np.array([-0.01, -0.009, -0.008, -0.007, -0.006, -0.005, -0.004, -0.003, -0.002, -0.001, 0, 0.01, 0.02, 0.03, 0.04, 0.05, 0.06, 0.07, 0.08, 0.09, 0.1])\n",
    "\n",
    "# creo un vettore con tutte le permutazioni di Gamma e Delta\n",
    "tonic_vect = np.array(np.meshgrid(Gamma,Delta)).T.reshape(-1,2)\n",
    "\n",
    "K1 = len(Gamma)*len(Delta)\n",
    "K2 = len(a)*len(b)*len(mu)*len(s)\n",
    "K = K1+K2\n",
    "\n",
    "print('Gamma:', len(Gamma), 'Delta:', len(Delta), 'tonic atoms:', len(Gamma)*len(Delta))\n",
    "print('a:', len(a), 'b:', len(b), 'mu:', len(mu), 's:', len(s), 'phasic atoms:', len(a)*len(b)*len(mu)*len(s))\n",
    "print('tot atoms:', K)"
   ]
  },
  {
   "cell_type": "markdown",
   "metadata": {},
   "source": [
    "# secondo set di parametri"
   ]
  },
  {
   "cell_type": "code",
   "execution_count": 20,
   "metadata": {},
   "outputs": [
    {
     "name": "stdout",
     "output_type": "stream",
     "text": [
      "Gamma: 3 Delta: 21 tonic atoms: 63\n",
      "a: 19 b: 9 mu: 32 s: 9 phasic atoms: 49248 phasic atoms with a<b: 25920\n",
      "tot atoms: 25983\n"
     ]
    }
   ],
   "source": [
    "# secondo set di parametri\n",
    "\n",
    "# phasic parameters\n",
    "a = np.array([0.2,0.3,0.4,0.5,0.6,0.7,0.8,0.9,1,1.1,1.2,1.3,1.4,1.5,1.6,1.7,1.8,1.9,2]) # steepness of the onset\n",
    "b = np.array([0.4,0.6,0.8,1,1.2,1.4,1.6,1.8,2]) # recovery\n",
    "mu = np.array([0,10,20,30,40,50,60,70,80,90,100,110,120,130,140,150,160,170,180,190,200,210,220,230,240,250,260,270,280,290,300,310]) # time shift\n",
    "s = np.array([0.06,0.07,0.08,0.09,0.1,0.11,0.12,0.13,0.14]) # scale\n",
    "\n",
    "K2 = len(a)*len(b)*len(mu)*len(s)\n",
    "\n",
    "phasic_vect = np.zeros([K2,4])\n",
    "\n",
    "# creo un vettore con tutte le permutazioni di a,b,mu,s\n",
    "phasic_vect = np.array(np.meshgrid(a,b,mu,s)).T.reshape(-1,4)\n",
    "\n",
    "# rimuovo righe in cui a>b oppure per ogni riga in cui a<b popolo un nuovo vettore\n",
    "pv=np.zeros([K2,4])\n",
    "for ii in range(0,K2):\n",
    "    if phasic_vect[ii,0]<phasic_vect[ii,1]:\n",
    "        pv[ii,:]=phasic_vect[ii,:]\n",
    "\n",
    "# rimuovo righe con zero\n",
    "pv = pv[~np.all(pv == 0, axis=1)]\n",
    "phasic_vect = pv\n",
    "\n",
    "# tonic parameters\n",
    "Gamma = np.array([-20,-10,1]) # offset\n",
    "Delta = np.array([-0.01,-0.009,-0.008,-0.007,-0.006,-0.005,-0.004,-0.003,-0.002,-0.001,0,0.01,0.02,0.03,0.04,0.05,0.06,0.07,0.08,0.09,0.1])\n",
    "\n",
    "# creo un vettore con tutte le permutazioni di Gamma e Delta\n",
    "tonic_vect = np.array(np.meshgrid(Gamma,Delta)).T.reshape(-1,2)\n",
    "\n",
    "K1 = len(Gamma)*len(Delta)\n",
    "print('Gamma:', len(Gamma), 'Delta:', len(Delta), 'tonic atoms:', K1)\n",
    "print('a:', len(a), 'b:', len(b), 'mu:', len(mu), 's:', len(s), 'phasic atoms:', K2, 'phasic atoms with a<b:',len(phasic_vect))\n",
    "K2 = len(phasic_vect)\n",
    "K = K1+K2\n",
    "print('tot atoms:',K)"
   ]
  },
  {
   "cell_type": "code",
   "execution_count": 21,
   "metadata": {},
   "outputs": [
    {
     "name": "stdout",
     "output_type": "stream",
     "text": [
      "(25920, 128)\n"
     ]
    }
   ],
   "source": [
    "# creo un vettore per u\n",
    "# se t-mu maggiore di 0 u=1\n",
    "\n",
    "P = 128\n",
    "t = np.arange(0,P)\n",
    "\n",
    "u = np.zeros([K2,P])\n",
    "for row in range(0,K2):\n",
    "    for col in range(0,P):\n",
    "        if t[col]-phasic_vect[row,2]>0:\n",
    "            u[row,col] = 1\n",
    "print(u.shape)            "
   ]
  },
  {
   "cell_type": "code",
   "execution_count": 22,
   "metadata": {},
   "outputs": [
    {
     "name": "stdout",
     "output_type": "stream",
     "text": [
      "(63, 2)\n",
      "(25920, 4)\n",
      "(25983, 128)\n"
     ]
    }
   ],
   "source": [
    "# creo il dizionario D\n",
    "\n",
    "D = np.zeros([K,P])\n",
    "\n",
    "# popolo D con valori di atomi tonic\n",
    "for row in range(0,K1):\n",
    "    D[row,:] = tonic_vect[row,0]+tonic_vect[row,1]*t[:]\n",
    "\n",
    "# popolo D con valori di atomi phasic\n",
    "for row in range(K1,K):\n",
    "    D[row,:] = (np.exp(-phasic_vect[row-K1,1]*(phasic_vect[row-K1,3]*t[:]-phasic_vect[row-K1,2]))-np.exp(-phasic_vect[row-K1,0]*(phasic_vect[row-K1,3]*t[:]-phasic_vect[row-K1,2])))*u[row-K1,:]\n",
    "        \n",
    "print(tonic_vect.shape)\n",
    "print(phasic_vect.shape)\n",
    "print(D.shape)"
   ]
  },
  {
   "cell_type": "code",
   "execution_count": 23,
   "metadata": {},
   "outputs": [
    {
     "name": "stdout",
     "output_type": "stream",
     "text": [
      "[[-20.    -20.01  -20.02  ... -21.25  -21.26  -21.27 ]\n",
      " [-20.    -20.009 -20.018 ... -21.125 -21.134 -21.143]\n",
      " [-20.    -20.008 -20.016 ... -21.    -21.008 -21.016]\n",
      " ...\n",
      " [  0.      0.      0.    ...   0.      0.      0.   ]\n",
      " [  0.      0.      0.    ...   0.      0.      0.   ]\n",
      " [  0.      0.      0.    ...   0.      0.      0.   ]]\n"
     ]
    }
   ],
   "source": [
    "print(D)\n",
    "#np.savetxt(\"foo.csv\", D, delimiter=\",\")"
   ]
  },
  {
   "cell_type": "code",
   "execution_count": 24,
   "metadata": {},
   "outputs": [],
   "source": [
    "# prendo il segnale\n",
    "\n",
    "data = pd.read_csv('/Users/gioelepozzi/Desktop/PMEmo/code/eda_gram/1_EDA.csv', header=None)\n",
    "\n",
    "subject = data.loc[0,1] # primo soggetto\n",
    "signal = [] # vettore con i valori eda del primo soggetto\n",
    "a = data.iloc[:,1]\n",
    "for k in range(1,len(a)):\n",
    "    signal.append(a[k])\n",
    "\n",
    "fs = 50\n",
    "\n",
    "# trasformazione del segnale per la libreria    \n",
    "signal_p = EvenlySignal(values = signal, sampling_freq = fs, signal_type = 'eda')"
   ]
  },
  {
   "cell_type": "code",
   "execution_count": 25,
   "metadata": {},
   "outputs": [
    {
     "name": "stdout",
     "output_type": "stream",
     "text": [
      "(13, 128)\n"
     ]
    }
   ],
   "source": [
    "# dividere il segnale in frames\n",
    "\n",
    "foo = np.array(signal_p) # rendo il segnale un numpy array\n",
    "\n",
    "# aggiungo tanti zeri alla fine per poter dividere in tot frame uguali da 128 l'uno\n",
    "foo = np.pad(foo, (0, 54), 'constant')\n",
    "foo = np.split(foo,13)\n",
    "\n",
    "# senza aggiungere gli zeri in fondo, lasciando quindi l'ultimo frame più piccolo\n",
    "#a = np.array_split(foo,13) # dimensione ogni frame 135, tranne ultimo 134 13\n",
    "#b = np.pad(a)\n",
    "\n",
    "M = np.array(foo)\n",
    "print(M.shape)"
   ]
  },
  {
   "cell_type": "code",
   "execution_count": 26,
   "metadata": {},
   "outputs": [
    {
     "name": "stdout",
     "output_type": "stream",
     "text": [
      "first frame:\n",
      " [ 8.08407  8.07339  8.0566   8.04592  8.02303  8.00777  7.99862  7.98488\n",
      "  7.97573  7.96047  7.94521  7.93911  7.92385  7.91012  7.90249  7.89791\n",
      "  7.88723  7.8735   7.85976  7.85061  7.83993  7.82467  7.81246  7.80025\n",
      "  7.78652  7.78957  7.77584  7.77431  7.78499  7.78957  7.80483  7.81246\n",
      "  7.82925  7.85213  7.87655  7.89944  7.92538  7.96047  7.99862  8.03676\n",
      "  8.07186  8.11916  8.16646  8.21529  8.26259  8.31753  8.36788  8.41366\n",
      "  8.46249  8.51131  8.56319  8.60744  8.64864  8.69442  8.73104  8.77834\n",
      "  8.81801  8.85769  8.876    8.91262  8.93703  8.95687  8.97518  8.99959\n",
      "  9.0118   9.03927  9.05758  9.07284  9.10335  9.11404  9.1354   9.1476\n",
      "  9.16134  9.18728  9.19338  9.20559  9.23     9.23458  9.25899  9.26967\n",
      "  9.29104  9.30324  9.33376  9.35055  9.37191  9.39327  9.41921  9.44057\n",
      "  9.46804  9.47872  9.50008  9.52602  9.56417  9.59011  9.62673  9.65114\n",
      "  9.68471  9.72286  9.76101  9.7961   9.83578  9.86782  9.9136   9.95785\n",
      " 10.0036  10.0509  10.1135  10.1669  10.2249  10.2966  10.3576  10.4324\n",
      " 10.5072  10.5789  10.6598  10.7406  10.8245  10.9054  10.9954  11.0824\n",
      " 11.174   11.264   11.3586  11.4486  11.5493  11.647   11.7447  11.8499 ]\n",
      "length of the frame:  128\n"
     ]
    }
   ],
   "source": [
    "# prendo il primo frame\n",
    "\n",
    "x1 = M[0] \n",
    "print('first frame:\\n', x1)\n",
    "# selezione prima colonna M[:,0]\n",
    "\n",
    "P = len(x1)\n",
    "print('length of the frame: ', P)"
   ]
  },
  {
   "cell_type": "markdown",
   "metadata": {},
   "source": [
    "# OMP"
   ]
  },
  {
   "cell_type": "code",
   "execution_count": 27,
   "metadata": {},
   "outputs": [
    {
     "name": "stdout",
     "output_type": "stream",
     "text": [
      "DT (128, 25983)\n",
      "c (25983,)\n",
      "x1 (128,)\n"
     ]
    }
   ],
   "source": [
    "DT = D.transpose()\n",
    "\n",
    "# Dc = x\n",
    "\n",
    "# D 128 righe 25983 colonne (trasposto del mio D iniziale)\n",
    "# c 25983 righe 1 colonna\n",
    "# x 128 righe 1 colonna\n",
    "\n",
    "c = np.zeros(K)\n",
    "\n",
    "print('DT',DT.shape)\n",
    "print('c',c.shape)\n",
    "print('x1',x1.shape)"
   ]
  },
  {
   "cell_type": "code",
   "execution_count": 28,
   "metadata": {},
   "outputs": [
    {
     "name": "stderr",
     "output_type": "stream",
     "text": [
      "/Applications/anaconda3/lib/python3.7/site-packages/sklearn/linear_model/omp.py:673: RuntimeWarning:  Orthogonal matching pursuit ended prematurely due to linear\n",
      "dependence in the dictionary. The requested precision might not have been met.\n",
      "\n",
      "  return_n_iter=True)\n"
     ]
    },
    {
     "data": {
      "text/plain": [
       "0.999995277035173"
      ]
     },
     "execution_count": 28,
     "metadata": {},
     "output_type": "execute_result"
    }
   ],
   "source": [
    "# OMP implementation 1\n",
    "\n",
    "from sklearn.linear_model import OrthogonalMatchingPursuit\n",
    "\n",
    "c = OrthogonalMatchingPursuit(normalize=True,precompute=True).fit(DT, x1)\n",
    "c.score(DT, x1)\n",
    "\n"
   ]
  },
  {
   "cell_type": "code",
   "execution_count": 31,
   "metadata": {},
   "outputs": [
    {
     "data": {
      "text/plain": [
       "array([ 8.08413812,  8.07270175,  8.05904271,  8.0421551 ,  8.02481049,\n",
       "        8.00939613,  7.99663261,  7.98566675,  7.97469164,  7.96164876,\n",
       "        7.94480591,  7.939524  ,  7.92222871,  7.91158607,  7.90385048,\n",
       "        7.89598618,  7.88626671,  7.87439177,  7.86133701,  7.84907613,\n",
       "        7.84026287,  7.82467144,  7.81234485,  7.79990669,  7.78993563,\n",
       "        7.78292621,  7.77887734,  7.77804934,  7.78123251,  7.78974787,\n",
       "        7.80531821,  7.81248066,  7.82904106,  7.85281029,  7.87575443,\n",
       "        7.89921497,  7.92661037,  7.95986321,  7.99806367,  8.03739356,\n",
       "        8.07168778,  8.11916213,  8.16662777,  8.21428831,  8.26465334,\n",
       "        8.31620885,  8.36680168,  8.41533976,  8.46245158,  8.51053659,\n",
       "        8.56349   ,  8.60735867,  8.64962991,  8.69119296,  8.73471947,\n",
       "        8.77797438,  8.81792984,  8.85276983,  8.88262712,  8.90960338,\n",
       "        8.93742439,  8.95632264,  8.9775379 ,  8.99579203,  9.01531312,\n",
       "        9.03631791,  9.05763741,  9.07814649,  9.09743815,  9.11604051,\n",
       "        9.13537391,  9.14667305,  9.16559067,  9.18084438,  9.19532419,\n",
       "        9.20986302,  9.22454635,  9.23942483,  9.25485016,  9.27158281,\n",
       "        9.29077058,  9.30366935,  9.33224379,  9.35199791,  9.37173029,\n",
       "        9.3939142 ,  9.41792588,  9.44198029,  9.46421968,  9.48326075,\n",
       "        9.49840776,  9.52600451,  9.56359293,  9.59306909,  9.62194034,\n",
       "        9.65298449,  9.68661644,  9.72229415,  9.75930209,  9.79714182,\n",
       "        9.83568418,  9.86779553,  9.9138226 ,  9.95727413, 10.0034225 ,\n",
       "       10.05398224, 10.10892318, 10.16753963, 10.22903956, 10.29283282,\n",
       "       10.35863781, 10.43281242, 10.50546993, 10.58110753, 10.65946675,\n",
       "       10.74018353, 10.82296194, 10.90764759, 10.99424213, 11.08288541,\n",
       "       11.17382274, 11.26432244, 11.3569806 , 11.45146422, 11.54771575,\n",
       "       11.64590857, 11.74634195, 11.84936647])"
      ]
     },
     "execution_count": 31,
     "metadata": {},
     "output_type": "execute_result"
    }
   ],
   "source": [
    "c.predict(DT)\n"
   ]
  },
  {
   "cell_type": "code",
   "execution_count": null,
   "metadata": {},
   "outputs": [],
   "source": [
    "# OMP implementation 2\n",
    "\n",
    "from sklearn.linear_model import orthogonal_mp\n",
    "\n",
    "#c = spsolve(DT, x1, permc_spec=None, use_umfpack=True)\n",
    "c = orthogonal_mp(DT,x1,precompute=True, return_n_iter=True)\n",
    "\n",
    "\n"
   ]
  },
  {
   "cell_type": "code",
   "execution_count": null,
   "metadata": {},
   "outputs": [],
   "source": [
    "# OMP implementation 3\n",
    "\n",
    "from sparselandtools.pursuits import OrthogonalMatchingPursuit\n",
    "from sparselandtools.dictionaries import Dictionary\n",
    "\n",
    "d = Dictionary(DT)\n",
    "\n",
    "reg = OrthogonalMatchingPursuit(d, sparsity=1).fit(x1)\n",
    "z = np.matmul(d.matrix, reg)"
   ]
  },
  {
   "cell_type": "code",
   "execution_count": null,
   "metadata": {},
   "outputs": [],
   "source": [
    "reg.shape"
   ]
  },
  {
   "cell_type": "code",
   "execution_count": null,
   "metadata": {},
   "outputs": [],
   "source": [
    "# OMP implementation 4\n",
    "\n",
    "import omp\n",
    "\n",
    "npts = 128\n",
    "domain = np.linspace(0, 1, npts)\n",
    "y = np.dot(D, x1)\n",
    "\n",
    "# reconstruct\n",
    "result = omp.omp(D, y)\n",
    "print('Solution: %r' % result.coef)\n",
    "\n",
    "npts = 128\n",
    "domain = np.linspace(0, 1, npts)\n",
    "#X = np.array([np.cos(2 * np.pi * m * domain) for m in range(4)]).T\n",
    "coef = [0., 1., 0., .5]\n",
    "y = np.dot(D, x1)\n",
    "\n",
    "plt.figure()\n",
    "plt.plot(domain, DT)\n",
    "plt.title('Dictionary atoms')\n",
    "\n",
    "# reconstruct\n",
    "result = omp.omp(DT, x1)\n",
    "print('Solution: %r' % result)"
   ]
  },
  {
   "cell_type": "code",
   "execution_count": null,
   "metadata": {},
   "outputs": [],
   "source": []
  },
  {
   "cell_type": "code",
   "execution_count": null,
   "metadata": {
    "scrolled": true
   },
   "outputs": [],
   "source": []
  },
  {
   "cell_type": "code",
   "execution_count": null,
   "metadata": {},
   "outputs": [],
   "source": []
  }
 ],
 "metadata": {
  "kernelspec": {
   "display_name": "Python 3",
   "language": "python",
   "name": "python3"
  },
  "language_info": {
   "codemirror_mode": {
    "name": "ipython",
    "version": 3
   },
   "file_extension": ".py",
   "mimetype": "text/x-python",
   "name": "python",
   "nbconvert_exporter": "python",
   "pygments_lexer": "ipython3",
   "version": "3.7.3"
  }
 },
 "nbformat": 4,
 "nbformat_minor": 2
}
