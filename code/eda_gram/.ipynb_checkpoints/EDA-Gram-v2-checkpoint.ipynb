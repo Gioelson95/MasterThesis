{
 "cells": [
  {
   "cell_type": "markdown",
   "metadata": {},
   "source": [
    "## TODO\n",
    "\n",
    "* come poter fare u come prodotto tra vettori?\n",
    "* condizione per tagliare in automatico il segnale in frames\n",
    "* OMP? problema dizionario con valori troppo grandi o troppo piccoli"
   ]
  },
  {
   "cell_type": "code",
   "execution_count": 1,
   "metadata": {},
   "outputs": [
    {
     "name": "stdout",
     "output_type": "stream",
     "text": [
      "Please cite:\n",
      "Bizzego et al. (2019) 'pyphysio: A physiological signal processing library for data science approaches in physiology', SoftwareX\n"
     ]
    }
   ],
   "source": [
    "# import libraries\n",
    "\n",
    "import numpy as np\n",
    "import pandas as pd\n",
    "import matplotlib.pyplot as plt\n",
    "\n",
    "from tqdm import tqdm\n",
    "from pyphysio import EvenlySignal"
   ]
  },
  {
   "cell_type": "markdown",
   "metadata": {},
   "source": [
    "# primo set di parametri"
   ]
  },
  {
   "cell_type": "code",
   "execution_count": null,
   "metadata": {},
   "outputs": [],
   "source": [
    "# primo set di parametri per creare il dizionario\n",
    "\n",
    "# phasic parameters\n",
    "a = np.array([8, 14, 18]) # steepness of the onset\n",
    "b = np.array([10, 15, 20]) # recovery\n",
    "mu = np.array([0, 10, 20, 30, 40, 50, 60, 70, 80, 90, 100, 110, 120, 130, 140, 150]) # time shift\n",
    "s = np.array([0.100, 0.105, 0.110, 0.115, 0.120, 0.125, 0.130, 0.135, 0.140]) # scale\n",
    "\n",
    "# creo un vettore con tutte le permutazioni di a,b,mu,s\n",
    "phasic_vect = np.array(np.meshgrid(a,b,mu,s)).T.reshape(-1,4)\n",
    "\n",
    "# tonic parameters\n",
    "Gamma = np.array([-20, -10, 1]) # offset\n",
    "Delta = np.array([-0.01, -0.009, -0.008, -0.007, -0.006, -0.005, -0.004, -0.003, -0.002, -0.001, 0, 0.01, 0.02, 0.03, 0.04, 0.05, 0.06, 0.07, 0.08, 0.09, 0.1])\n",
    "\n",
    "# creo un vettore con tutte le permutazioni di Gamma e Delta\n",
    "tonic_vect = np.array(np.meshgrid(Gamma,Delta)).T.reshape(-1,2)\n",
    "\n",
    "K1 = len(Gamma)*len(Delta)\n",
    "K2 = len(a)*len(b)*len(mu)*len(s)\n",
    "K = K1+K2\n",
    "\n",
    "print('Gamma:', len(Gamma), 'Delta:', len(Delta), 'tonic atoms:', len(Gamma)*len(Delta))\n",
    "print('a:', len(a), 'b:', len(b), 'mu:', len(mu), 's:', len(s), 'phasic atoms:', len(a)*len(b)*len(mu)*len(s))\n",
    "print('tot atoms:', K)"
   ]
  },
  {
   "cell_type": "markdown",
   "metadata": {},
   "source": [
    "# secondo set di parametri"
   ]
  },
  {
   "cell_type": "code",
   "execution_count": 2,
   "metadata": {},
   "outputs": [
    {
     "name": "stdout",
     "output_type": "stream",
     "text": [
      "Gamma: 3 Delta: 21 tonic atoms: 63\n",
      "a: 19 b: 9 mu: 32 s: 9 phasic atoms: 49248 phasic atoms with a<b: 25920\n",
      "tot atoms: 25983\n"
     ]
    }
   ],
   "source": [
    "# secondo set di parametri\n",
    "\n",
    "# phasic parameters\n",
    "a = np.array([0.2,0.3,0.4,0.5,0.6,0.7,0.8,0.9,1,1.1,1.2,1.3,1.4,1.5,1.6,1.7,1.8,1.9,2]) # steepness of the onset\n",
    "b = np.array([0.4,0.6,0.8,1,1.2,1.4,1.6,1.8,2]) # recovery\n",
    "mu = np.array([0,10,20,30,40,50,60,70,80,90,100,110,120,130,140,150,160,170,180,190,200,210,220,230,240,250,260,270,280,290,300,310]) # time shift\n",
    "s = np.array([0.06,0.07,0.08,0.09,0.1,0.11,0.12,0.13,0.14]) # scale\n",
    "\n",
    "K2 = len(a)*len(b)*len(mu)*len(s)\n",
    "\n",
    "phasic_vect = np.zeros([K2,4])\n",
    "\n",
    "# creo un vettore con tutte le permutazioni di a,b,mu,s\n",
    "phasic_vect = np.array(np.meshgrid(a,b,mu,s)).T.reshape(-1,4)\n",
    "\n",
    "# rimuovo righe in cui a>b oppure per ogni riga in cui a<b popolo un nuovo vettore\n",
    "pv=np.zeros([K2,4])\n",
    "for ii in range(0,K2):\n",
    "    if phasic_vect[ii,0]<phasic_vect[ii,1]:\n",
    "        pv[ii,:]=phasic_vect[ii,:]\n",
    "\n",
    "# rimuovo righe con zero\n",
    "pv = pv[~np.all(pv == 0, axis=1)]\n",
    "phasic_vect = pv\n",
    "\n",
    "# tonic parameters\n",
    "Gamma = np.array([-20,-10,1]) # offset\n",
    "Delta = np.array([-0.01,-0.009,-0.008,-0.007,-0.006,-0.005,-0.004,-0.003,-0.002,-0.001,0,0.01,0.02,0.03,0.04,0.05,0.06,0.07,0.08,0.09,0.1])\n",
    "\n",
    "# creo un vettore con tutte le permutazioni di Gamma e Delta\n",
    "tonic_vect = np.array(np.meshgrid(Gamma,Delta)).T.reshape(-1,2)\n",
    "\n",
    "K1 = len(Gamma)*len(Delta)\n",
    "print('Gamma:', len(Gamma), 'Delta:', len(Delta), 'tonic atoms:', K1)\n",
    "print('a:', len(a), 'b:', len(b), 'mu:', len(mu), 's:', len(s), 'phasic atoms:', K2, 'phasic atoms with a<b:',len(phasic_vect))\n",
    "K2 = len(phasic_vect)\n",
    "K = K1+K2\n",
    "print('tot atoms:',K)"
   ]
  },
  {
   "cell_type": "code",
   "execution_count": 3,
   "metadata": {},
   "outputs": [
    {
     "name": "stderr",
     "output_type": "stream",
     "text": [
      "100%|██████████| 25920/25920 [00:11<00:00, 2334.93it/s]"
     ]
    },
    {
     "name": "stdout",
     "output_type": "stream",
     "text": [
      "(25920, 128)\n"
     ]
    },
    {
     "name": "stderr",
     "output_type": "stream",
     "text": [
      "\n"
     ]
    }
   ],
   "source": [
    "# creo un vettore per u per calcolo phi2 per atomi phasic\n",
    "# se t-mu maggiore di 0 u=1\n",
    "\n",
    "P = 128\n",
    "t = np.arange(0,P)\n",
    "\n",
    "u = np.zeros([K2,P])\n",
    "for row in tqdm(range(0,K2)):\n",
    "    for col in range(0,P):\n",
    "        if t[col]-phasic_vect[row,2]>=0:\n",
    "            u[row,col] = 1\n",
    "print(u.shape)            "
   ]
  },
  {
   "cell_type": "code",
   "execution_count": 4,
   "metadata": {},
   "outputs": [
    {
     "name": "stdout",
     "output_type": "stream",
     "text": [
      "(63, 2)\n",
      "(25920, 4)\n",
      "(25983, 128)\n"
     ]
    }
   ],
   "source": [
    "# creo il dizionario D\n",
    "\n",
    "D = np.zeros([K,P])\n",
    "\n",
    "# popolo D con valori di atomi tonic\n",
    "for row in range(0,K1):\n",
    "    D[row,:] = tonic_vect[row,0]+tonic_vect[row,1]*t[:]\n",
    "\n",
    "# popolo D con valori di atomi phasic\n",
    "for row in range(K1,K):\n",
    "    D[row,:] = (np.exp(-phasic_vect[row-K1,1]*(phasic_vect[row-K1,3]*t[:]-phasic_vect[row-K1,2]))-np.exp(-phasic_vect[row-K1,0]*(phasic_vect[row-K1,3]*t[:]-phasic_vect[row-K1,2])))*u[row-K1,:]\n",
    "\n",
    "D[np.isnan(D)] = 0 # se un valore molto piccolo diventa nan, sostituisco con zero\n",
    "D[np.isinf(D)] = 100000 # se un valore molto grande diventa inf, sostituisco con 1000000\n",
    "#D[D > 100000] = 100000\n",
    "#D[D < -100000] = -100000\n",
    "\n",
    "\n",
    "print(tonic_vect.shape)\n",
    "print(phasic_vect.shape)\n",
    "print(D.shape)"
   ]
  },
  {
   "cell_type": "code",
   "execution_count": null,
   "metadata": {},
   "outputs": [],
   "source": [
    "t_ = np.arange(0, P, 1)/50\n",
    "\n",
    "plt.figure(figsize=(20,5))\n",
    "plt.title('Signal')\n",
    "plt.xlabel('Time (s)')\n",
    "plt.ylabel('Eda (\\u03BC S)')\n",
    "plt.plot(t_, D[1002,:])"
   ]
  },
  {
   "cell_type": "code",
   "execution_count": null,
   "metadata": {},
   "outputs": [],
   "source": [
    "# funzione per normalizzazione, passare segnale e range in cui si vuole normalizzare\n",
    "\n",
    "def scale(X, x_min, x_max):\n",
    "    nom = (X-X.min(axis=0))*(x_max-x_min)\n",
    "    denom = X.max(axis=0) - X.min(axis=0)\n",
    "    denom[denom==0] = 1\n",
    "    return x_min + nom/denom \n",
    "\n",
    "D_scaled = scale(D, -1, 1)\n",
    "D = D_scaled"
   ]
  },
  {
   "cell_type": "code",
   "execution_count": null,
   "metadata": {},
   "outputs": [],
   "source": [
    "# normalizzazione sugli atomi per unit standard deviation\n",
    "\n",
    "D_scaled = np.zeros([K,P])\n",
    "\n",
    "D_scaled = (D - D.mean(axis=0)) / D.std(axis=0)\n",
    "D = D_scaled"
   ]
  },
  {
   "cell_type": "code",
   "execution_count": null,
   "metadata": {},
   "outputs": [],
   "source": [
    "print(D)\n",
    "np.savetxt(\"foo.csv\", D, delimiter=\",\")"
   ]
  },
  {
   "cell_type": "code",
   "execution_count": 6,
   "metadata": {},
   "outputs": [],
   "source": [
    "# prendo il segnale\n",
    "\n",
    "data = pd.read_csv('/Users/gioelepozzi/Desktop/PMEmo/code/eda_gram/1_EDA.csv', header=None)\n",
    "\n",
    "subject = data.loc[0,1] # primo soggetto\n",
    "signal = [] # vettore con i valori eda del primo soggetto\n",
    "a = data.iloc[:,1]\n",
    "for k in range(1,len(a)):\n",
    "    signal.append(a[k])\n",
    "\n",
    "fs = 50\n",
    "\n",
    "# trasformazione del segnale per la libreria    \n",
    "signal_p = EvenlySignal(values = signal, sampling_freq = fs, signal_type = 'eda')"
   ]
  },
  {
   "cell_type": "code",
   "execution_count": 7,
   "metadata": {},
   "outputs": [
    {
     "name": "stdout",
     "output_type": "stream",
     "text": [
      "(13, 128)\n"
     ]
    }
   ],
   "source": [
    "# dividere il segnale in frames\n",
    "\n",
    "foo = np.array(signal_p) # rendo il segnale un numpy array\n",
    "\n",
    "# aggiungo tanti zeri alla fine per poter dividere in tot frame uguali da 128 l'uno\n",
    "foo = np.pad(foo, (0, 54), 'constant')\n",
    "foo = np.split(foo,13)\n",
    "\n",
    "# senza aggiungere gli zeri in fondo, lasciando quindi l'ultimo frame più piccolo\n",
    "#a = np.array_split(foo,13) # dimensione ogni frame 135, tranne ultimo 134 13\n",
    "#b = np.pad(a)\n",
    "\n",
    "M = np.array(foo)\n",
    "print(M.shape)"
   ]
  },
  {
   "cell_type": "code",
   "execution_count": 8,
   "metadata": {},
   "outputs": [
    {
     "name": "stdout",
     "output_type": "stream",
     "text": [
      "first frame:\n",
      " [ 8.08407  8.07339  8.0566   8.04592  8.02303  8.00777  7.99862  7.98488\n",
      "  7.97573  7.96047  7.94521  7.93911  7.92385  7.91012  7.90249  7.89791\n",
      "  7.88723  7.8735   7.85976  7.85061  7.83993  7.82467  7.81246  7.80025\n",
      "  7.78652  7.78957  7.77584  7.77431  7.78499  7.78957  7.80483  7.81246\n",
      "  7.82925  7.85213  7.87655  7.89944  7.92538  7.96047  7.99862  8.03676\n",
      "  8.07186  8.11916  8.16646  8.21529  8.26259  8.31753  8.36788  8.41366\n",
      "  8.46249  8.51131  8.56319  8.60744  8.64864  8.69442  8.73104  8.77834\n",
      "  8.81801  8.85769  8.876    8.91262  8.93703  8.95687  8.97518  8.99959\n",
      "  9.0118   9.03927  9.05758  9.07284  9.10335  9.11404  9.1354   9.1476\n",
      "  9.16134  9.18728  9.19338  9.20559  9.23     9.23458  9.25899  9.26967\n",
      "  9.29104  9.30324  9.33376  9.35055  9.37191  9.39327  9.41921  9.44057\n",
      "  9.46804  9.47872  9.50008  9.52602  9.56417  9.59011  9.62673  9.65114\n",
      "  9.68471  9.72286  9.76101  9.7961   9.83578  9.86782  9.9136   9.95785\n",
      " 10.0036  10.0509  10.1135  10.1669  10.2249  10.2966  10.3576  10.4324\n",
      " 10.5072  10.5789  10.6598  10.7406  10.8245  10.9054  10.9954  11.0824\n",
      " 11.174   11.264   11.3586  11.4486  11.5493  11.647   11.7447  11.8499 ]\n",
      "length of the frame:  128\n"
     ]
    }
   ],
   "source": [
    "# prendo il primo frame\n",
    "\n",
    "x1 = M[0] \n",
    "print('first frame:\\n', x1)\n",
    "# selezione prima colonna M[:,0]\n",
    "\n",
    "P = len(x1)\n",
    "print('length of the frame: ', P)"
   ]
  },
  {
   "cell_type": "markdown",
   "metadata": {},
   "source": [
    "# OMP"
   ]
  },
  {
   "cell_type": "code",
   "execution_count": 9,
   "metadata": {},
   "outputs": [
    {
     "name": "stdout",
     "output_type": "stream",
     "text": [
      "DT (128, 25983)\n",
      "c (25983,)\n",
      "x1 (128,)\n"
     ]
    }
   ],
   "source": [
    "DT = D.transpose()\n",
    "\n",
    "# Dc = x\n",
    "\n",
    "c = np.zeros(K)\n",
    "\n",
    "print('DT',DT.shape)\n",
    "print('c',c.shape)\n",
    "print('x1',x1.shape)"
   ]
  },
  {
   "cell_type": "code",
   "execution_count": 10,
   "metadata": {},
   "outputs": [
    {
     "name": "stdout",
     "output_type": "stream",
     "text": [
      " \n",
      "LSQR            Least-squares solution of  Ax = b\n",
      "The matrix A has      128 rows  and    25983 cols\n",
      "damp = 0.00000000000000e+00   calc_var =        0\n",
      "atol = 1.00e-08                 conlim = 1.00e+08\n",
      "btol = 1.00e-08               iter_lim =    51966\n",
      " \n",
      "   Itn      x[0]       r1norm     r2norm   Compatible    LS      Norm A   Cond A\n",
      "     0  0.00000e+00   1.032e+02  1.032e+02    1.0e+00  4.9e+00\n",
      "     1 -1.02178e-02   6.483e+00  6.483e+00    6.3e-02  9.0e-01   5.0e+02  1.0e+00\n",
      "     2 -9.63022e-03   1.344e+00  1.344e+00    1.3e-02  1.4e-01   6.8e+02  2.0e+00\n",
      "     3 -9.70235e-03   1.319e+00  1.319e+00    1.3e-02  1.1e-02   8.5e+02  3.0e+00\n",
      "     4 -9.61013e-03   1.255e+00  1.255e+00    1.2e-02  4.2e-02   8.5e+02  2.9e+01\n",
      "     5 -9.62302e-03   1.252e+00  1.252e+00    1.2e-02  1.1e-02   9.8e+02  3.4e+01\n",
      "     6 -9.36877e-03   1.117e+00  1.117e+00    1.1e-02  1.4e-02   9.9e+02  7.2e+01\n",
      "     7 -9.37199e-03   1.116e+00  1.116e+00    1.1e-02  6.2e-03   1.1e+03  8.0e+01\n",
      "     8 -9.26555e-03   1.062e+00  1.062e+00    1.0e-02  5.5e-03   1.1e+03  1.1e+02\n",
      "     9 -9.26615e-03   1.061e+00  1.061e+00    1.0e-02  8.4e-03   1.1e+03  1.1e+02\n",
      "    10 -9.19521e-03   9.764e-01  9.764e-01    9.5e-03  4.7e-03   1.2e+03  1.8e+02\n",
      "   525  9.59607e-03   3.205e-02  3.205e-02    3.1e-04  8.6e-08   8.5e+03  3.0e+06\n",
      "   527  9.59607e-03   3.205e-02  3.205e-02    3.1e-04  4.6e-08   8.5e+03  3.0e+06\n",
      "   530  9.59608e-03   3.205e-02  3.205e-02    3.1e-04  3.5e-08   8.5e+03  3.0e+06\n",
      "   532  9.59609e-03   3.205e-02  3.205e-02    3.1e-04  6.6e-08   8.5e+03  3.0e+06\n",
      "   535  9.59624e-03   3.205e-02  3.205e-02    3.1e-04  6.7e-08   8.5e+03  3.0e+06\n",
      "   582  1.68300e-02   3.203e-02  3.203e-02    3.1e-04  9.1e-08   8.9e+03  3.7e+06\n",
      "   604  1.69843e-02   3.203e-02  3.203e-02    3.1e-04  2.9e-08   9.1e+03  3.7e+06\n",
      "   607  1.69843e-02   3.203e-02  3.203e-02    3.1e-04  6.7e-08   9.1e+03  3.7e+06\n",
      "   697  3.07646e-02   3.175e-02  3.175e-02    3.1e-04  4.5e-08   9.7e+03  1.0e+07\n",
      "   698  3.07646e-02   3.175e-02  3.175e-02    3.1e-04  7.0e-08   9.7e+03  1.0e+07\n",
      "   699  3.07646e-02   3.175e-02  3.175e-02    3.1e-04  6.2e-08   9.8e+03  1.0e+07\n",
      "   701  3.07646e-02   3.175e-02  3.175e-02    3.1e-04  4.4e-08   9.8e+03  1.0e+07\n",
      "   712  3.07653e-02   3.175e-02  3.175e-02    3.1e-04  4.1e-08   9.8e+03  1.0e+07\n",
      "   861  7.34242e-02   3.129e-02  3.129e-02    3.0e-04  6.2e-08   1.1e+04  2.0e+07\n",
      "   863  7.34242e-02   3.129e-02  3.129e-02    3.0e-04  4.2e-08   1.1e+04  2.0e+07\n",
      "   865  7.34242e-02   3.129e-02  3.129e-02    3.0e-04  2.1e-08   1.1e+04  2.0e+07\n",
      "   867  7.34242e-02   3.129e-02  3.129e-02    3.0e-04  8.5e-08   1.1e+04  2.0e+07\n",
      "   880  7.34353e-02   3.129e-02  3.129e-02    3.0e-04  5.1e-08   1.1e+04  2.0e+07\n",
      "   882  7.34354e-02   3.129e-02  3.129e-02    3.0e-04  7.8e-08   1.1e+04  2.0e+07\n",
      "   931  9.52134e-02   3.112e-02  3.112e-02    3.0e-04  6.0e-08   1.1e+04  2.4e+07\n",
      "   958  9.56811e-02   3.111e-02  3.111e-02    3.0e-04  5.7e-08   1.1e+04  2.5e+07\n",
      "   993  9.67321e-02   3.111e-02  3.111e-02    3.0e-04  8.4e-08   1.2e+04  2.5e+07\n",
      "   996  9.67321e-02   3.111e-02  3.111e-02    3.0e-04  1.5e-08   1.2e+04  2.5e+07\n",
      "   998  9.67321e-02   3.111e-02  3.111e-02    3.0e-04  4.2e-08   1.2e+04  2.6e+07\n",
      "  1001  9.67322e-02   3.111e-02  3.111e-02    3.0e-04  3.9e-08   1.2e+04  2.6e+07\n",
      "  1045  9.72339e-02   3.110e-02  3.110e-02    3.0e-04  9.8e-08   1.2e+04  2.6e+07\n",
      "  1050  9.72339e-02   3.110e-02  3.110e-02    3.0e-04  1.8e-08   1.2e+04  2.6e+07\n",
      "  1171  1.38212e-01   3.089e-02  3.089e-02    3.0e-04  8.8e-08   1.3e+04  3.4e+07\n",
      "  1174  1.38213e-01   3.089e-02  3.089e-02    3.0e-04  3.6e-08   1.3e+04  3.4e+07\n",
      "  1176  1.38213e-01   3.089e-02  3.089e-02    3.0e-04  1.3e-08   1.3e+04  3.4e+07\n",
      "  1177  1.38213e-01   3.089e-02  3.089e-02    3.0e-04  1.6e-08   1.3e+04  3.4e+07\n",
      "  1178  1.38213e-01   3.089e-02  3.089e-02    3.0e-04  1.0e-08   1.3e+04  3.4e+07\n",
      "  1179  1.38213e-01   3.089e-02  3.089e-02    3.0e-04  1.6e-08   1.3e+04  3.4e+07\n",
      "  1180  1.38213e-01   3.089e-02  3.089e-02    3.0e-04  1.8e-08   1.3e+04  3.4e+07\n",
      "  1181  1.38213e-01   3.089e-02  3.089e-02    3.0e-04  1.7e-08   1.3e+04  3.4e+07\n",
      "  1182  1.38213e-01   3.089e-02  3.089e-02    3.0e-04  6.4e-08   1.3e+04  3.4e+07\n",
      "  1183  1.38213e-01   3.089e-02  3.089e-02    3.0e-04  1.3e-08   1.3e+04  3.4e+07\n",
      "  1187  1.38219e-01   3.089e-02  3.089e-02    3.0e-04  2.3e-08   1.3e+04  3.4e+07\n",
      "  1188  1.38219e-01   3.089e-02  3.089e-02    3.0e-04  6.1e-08   1.3e+04  3.4e+07\n",
      "  1189  1.38219e-01   3.089e-02  3.089e-02    3.0e-04  7.2e-09   1.3e+04  3.5e+07\n",
      " \n",
      "LSQR finished\n",
      "The least-squares solution is good enough, given atol     \n",
      " \n",
      "istop =       2   r1norm = 3.1e-02   anorm = 1.3e+04   arnorm = 2.8e-06\n",
      "itn   =    1189   r2norm = 3.1e-02   acond = 3.5e+07   xnorm  = 2.1e+01\n",
      " \n"
     ]
    },
    {
     "data": {
      "text/plain": [
       "(25983,)"
      ]
     },
     "execution_count": 10,
     "metadata": {},
     "output_type": "execute_result"
    }
   ],
   "source": [
    "# LSQR implementation\n",
    "# Find the least-squares solution to a large, sparse, linear system of equations\n",
    "\n",
    "from scipy.sparse.linalg import lsqr\n",
    "\n",
    "c = lsqr(DT,x1,show=True)\n",
    "\n",
    "c[0].shape"
   ]
  },
  {
   "cell_type": "code",
   "execution_count": 14,
   "metadata": {},
   "outputs": [
    {
     "name": "stderr",
     "output_type": "stream",
     "text": [
      "/Applications/anaconda3/lib/python3.7/site-packages/sklearn/linear_model/omp.py:673: RuntimeWarning:  Orthogonal matching pursuit ended prematurely due to linear\n",
      "dependence in the dictionary. The requested precision might not have been met.\n",
      "\n",
      "  return_n_iter=True)\n"
     ]
    },
    {
     "data": {
      "text/plain": [
       "array([ 8.08419373,  8.07250825,  8.05912656,  8.04242328,  8.02480818,\n",
       "        8.00901567,  7.99634552,  7.98607468,  7.97552522,  7.96045891,\n",
       "        7.9466892 ,  7.93535145,  7.92427311,  7.91379924,  7.90394642,\n",
       "        7.89446131,  7.88488044,  7.87458734,  7.86286428,  7.84893721,\n",
       "        7.83981675,  7.8250538 ,  7.81180511,  7.80012169,  7.79031234,\n",
       "        7.78287545,  7.77844123,  7.77772342,  7.7814798 ,  7.79048042,\n",
       "        7.8043337 ,  7.81340191,  7.82999355,  7.85093415,  7.87454938,\n",
       "        7.90029619,  7.92846215,  7.95992279,  7.99594782,  8.03804834,\n",
       "        8.07244003,  8.11804435,  8.16608602,  8.21553976,  8.26563429,\n",
       "        8.31580226,  8.36563875,  8.41486697,  8.46330998,  8.51086759,\n",
       "        8.5643436 ,  8.6052396 ,  8.64875954,  8.69296995,  8.73636888,\n",
       "        8.77781376,  8.81645977,  8.85170715,  8.88315657,  8.91057118,\n",
       "        8.93738866,  8.95633392,  8.97601135,  8.99614565,  9.01651096,\n",
       "        9.03692379,  9.0572369 ,  9.07733387,  9.09712445,  9.11654045,\n",
       "        9.13415077,  9.14954123,  9.16474428,  9.17983071,  9.19485986,\n",
       "        9.20988096,  9.22493426,  9.24005205,  9.25525965,  9.27057624,\n",
       "        9.29020342,  9.30778191,  9.32803468,  9.35005224,  9.37304281,\n",
       "        9.39632056,  9.41929505,  9.44146144,  9.46239164,  9.48172625,\n",
       "        9.4986347 ,  9.53023302,  9.56094914,  9.59146888,  9.62237627,\n",
       "        9.65416435,  9.68724495,  9.7219576 ,  9.75857763,  9.79732345,\n",
       "        9.83410781,  9.87164207,  9.91227049,  9.95617599, 10.00350563,\n",
       "       10.05437387, 10.10886553, 10.16703867, 10.2289271 , 10.29454284,\n",
       "       10.35848819, 10.43111047, 10.50549431, 10.58176231, 10.66001217,\n",
       "       10.7403189 , 10.82273706, 10.90730269, 10.99403514, 11.08293876,\n",
       "       11.17389198, 11.26455921, 11.35698086, 11.45129256, 11.5476026 ,\n",
       "       11.64599456, 11.74652959, 11.84924863])"
      ]
     },
     "execution_count": 14,
     "metadata": {},
     "output_type": "execute_result"
    }
   ],
   "source": [
    "# OMP implementation 1\n",
    "\n",
    "from sklearn.linear_model import OrthogonalMatchingPursuit\n",
    "\n",
    "omp = OrthogonalMatchingPursuit(normalize=True,precompute=True).fit(DT, x1)\n",
    "omp.score(DT, x1)\n",
    "omp.predict(DT)\n"
   ]
  },
  {
   "cell_type": "code",
   "execution_count": 16,
   "metadata": {},
   "outputs": [
    {
     "data": {
      "text/plain": [
       "0.9999938585015511"
      ]
     },
     "execution_count": 16,
     "metadata": {},
     "output_type": "execute_result"
    }
   ],
   "source": [
    "omp.score(DT, x1)"
   ]
  },
  {
   "cell_type": "code",
   "execution_count": 11,
   "metadata": {},
   "outputs": [
    {
     "name": "stderr",
     "output_type": "stream",
     "text": [
      "/Applications/anaconda3/lib/python3.7/site-packages/sklearn/linear_model/omp.py:376: RuntimeWarning:  Orthogonal matching pursuit ended prematurely due to linear\n",
      "dependence in the dictionary. The requested precision might not have been met.\n",
      "\n",
      "  return_path=return_path)\n"
     ]
    },
    {
     "name": "stdout",
     "output_type": "stream",
     "text": [
      "[8.67592738 0.         0.         ... 0.         0.         0.        ]\n"
     ]
    }
   ],
   "source": [
    "# OMP implementation 2\n",
    "\n",
    "from sklearn.linear_model import orthogonal_mp\n",
    "\n",
    "omp = orthogonal_mp(DT,x1,precompute=True, return_n_iter=True)\n",
    "\n",
    "print(omp)"
   ]
  },
  {
   "cell_type": "code",
   "execution_count": null,
   "metadata": {},
   "outputs": [],
   "source": []
  },
  {
   "cell_type": "code",
   "execution_count": null,
   "metadata": {},
   "outputs": [],
   "source": [
    "# OMP implementation 3\n",
    "\n",
    "from sparselandtools.pursuits import OrthogonalMatchingPursuit\n",
    "from sparselandtools.dictionaries import Dictionary\n",
    "\n",
    "d = Dictionary(DT)\n",
    "\n",
    "reg = OrthogonalMatchingPursuit(d, sparsity=1).fit(x1)\n",
    "z = np.matmul(d.matrix, reg)"
   ]
  },
  {
   "cell_type": "code",
   "execution_count": null,
   "metadata": {},
   "outputs": [],
   "source": [
    "# OMP implementation 4\n",
    "\n",
    "import omp\n",
    "\n",
    "npts = 128\n",
    "domain = np.linspace(0, 1, npts)\n",
    "y = np.dot(D, x1)\n",
    "\n",
    "# reconstruct\n",
    "result = omp.omp(D, y)\n",
    "print('Solution: %r' % result.coef)\n",
    "\n",
    "npts = 128\n",
    "domain = np.linspace(0, 1, npts)\n",
    "#X = np.array([np.cos(2 * np.pi * m * domain) for m in range(4)]).T\n",
    "coef = [0., 1., 0., .5]\n",
    "y = np.dot(D, x1)\n",
    "\n",
    "plt.figure()\n",
    "plt.plot(domain, DT)\n",
    "plt.title('Dictionary atoms')\n",
    "\n",
    "# reconstruct\n",
    "result = omp.omp(DT, x1)\n",
    "print('Solution: %r' % result)"
   ]
  }
 ],
 "metadata": {
  "kernelspec": {
   "display_name": "Python 3",
   "language": "python",
   "name": "python3"
  },
  "language_info": {
   "codemirror_mode": {
    "name": "ipython",
    "version": 3
   },
   "file_extension": ".py",
   "mimetype": "text/x-python",
   "name": "python",
   "nbconvert_exporter": "python",
   "pygments_lexer": "ipython3",
   "version": "3.7.5"
  }
 },
 "nbformat": 4,
 "nbformat_minor": 2
}
