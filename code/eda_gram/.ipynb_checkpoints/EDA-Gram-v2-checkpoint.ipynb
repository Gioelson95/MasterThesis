{
 "cells": [
  {
   "cell_type": "code",
   "execution_count": 1,
   "metadata": {},
   "outputs": [
    {
     "name": "stdout",
     "output_type": "stream",
     "text": [
      "Please cite:\n",
      "Bizzego et al. (2019) 'pyphysio: A physiological signal processing library for data science approaches in physiology', SoftwareX\n"
     ]
    }
   ],
   "source": [
    "# import libraries\n",
    "\n",
    "import numpy as np\n",
    "import pandas as pd\n",
    "import matplotlib.pyplot as plt\n",
    "\n",
    "from tqdm import tqdm\n",
    "from pyphysio import EvenlySignal"
   ]
  },
  {
   "cell_type": "markdown",
   "metadata": {},
   "source": [
    "# primo set di parametri"
   ]
  },
  {
   "cell_type": "code",
   "execution_count": 34,
   "metadata": {},
   "outputs": [
    {
     "name": "stdout",
     "output_type": "stream",
     "text": [
      "Gamma: 3 Delta: 21 tonic atoms: 63\n",
      "a: 3 b: 3 mu: 16 s: 9 phasic atoms: 1296\n",
      "tot atoms: 1359\n"
     ]
    }
   ],
   "source": [
    "# primo set di parametri per creare il dizionario\n",
    "\n",
    "# phasic parameters\n",
    "a = np.array([8, 14, 18]) # steepness of the onset\n",
    "b = np.array([10, 15, 20]) # recovery\n",
    "mu = np.array([0, 10, 20, 30, 40, 50, 60, 70, 80, 90, 100, 110, 120, 130, 140, 150]) # time shift\n",
    "s = np.array([0.100, 0.105, 0.110, 0.115, 0.120, 0.125, 0.130, 0.135, 0.140]) # scale\n",
    "\n",
    "# creo un vettore con tutte le permutazioni di a,b,mu,s\n",
    "phasic_vect = np.array(np.meshgrid(a,b,mu,s)).T.reshape(-1,4)\n",
    "\n",
    "# tonic parameters\n",
    "Gamma = np.array([-20, -10, 1]) # offset\n",
    "Delta = np.array([-0.01, -0.009, -0.008, -0.007, -0.006, -0.005, -0.004, -0.003, -0.002, -0.001, 0, 0.01, 0.02, 0.03, 0.04, 0.05, 0.06, 0.07, 0.08, 0.09, 0.1])\n",
    "\n",
    "# creo un vettore con tutte le permutazioni di Gamma e Delta\n",
    "tonic_vect = np.array(np.meshgrid(Gamma,Delta)).T.reshape(-1,2)\n",
    "\n",
    "K1 = len(Gamma)*len(Delta)\n",
    "K2 = len(a)*len(b)*len(mu)*len(s)\n",
    "K = K1+K2\n",
    "\n",
    "print('Gamma:', len(Gamma), 'Delta:', len(Delta), 'tonic atoms:', len(Gamma)*len(Delta))\n",
    "print('a:', len(a), 'b:', len(b), 'mu:', len(mu), 's:', len(s), 'phasic atoms:', len(a)*len(b)*len(mu)*len(s))\n",
    "print('tot atoms:', K)"
   ]
  },
  {
   "cell_type": "markdown",
   "metadata": {},
   "source": [
    "# secondo set di parametri"
   ]
  },
  {
   "cell_type": "code",
   "execution_count": 2,
   "metadata": {},
   "outputs": [
    {
     "name": "stdout",
     "output_type": "stream",
     "text": [
      "Gamma: 3 Delta: 21 tonic atoms: 63\n",
      "a: 19 b: 9 mu: 32 s: 9 phasic atoms: 49248 phasic atoms with a<b: 25920\n",
      "tot atoms: 25983\n"
     ]
    }
   ],
   "source": [
    "# secondo set di parametri\n",
    "\n",
    "# phasic parameters\n",
    "a = np.array([0.2,0.3,0.4,0.5,0.6,0.7,0.8,0.9,1,1.1,1.2,1.3,1.4,1.5,1.6,1.7,1.8,1.9,2]) # steepness of the onset\n",
    "b = np.array([0.4,0.6,0.8,1,1.2,1.4,1.6,1.8,2]) # recovery\n",
    "mu = np.array([0,10,20,30,40,50,60,70,80,90,100,110,120,130,140,150,160,170,180,190,200,210,220,230,240,250,260,270,280,290,300,310]) # time shift\n",
    "s = np.array([0.06,0.07,0.08,0.09,0.1,0.11,0.12,0.13,0.14]) # scale\n",
    "\n",
    "K2 = len(a)*len(b)*len(mu)*len(s)\n",
    "\n",
    "phasic_vect = np.zeros([K2,4])\n",
    "\n",
    "# creo un vettore con tutte le permutazioni di a,b,mu,s\n",
    "phasic_vect = np.array(np.meshgrid(a,b,mu,s)).T.reshape(-1,4)\n",
    "\n",
    "# rimuovo righe in cui a>b oppure per ogni riga in cui a<b popolo un nuovo vettore\n",
    "pv=np.zeros([K2,4])\n",
    "for ii in range(0,K2):\n",
    "    if phasic_vect[ii,0]<phasic_vect[ii,1]:\n",
    "        pv[ii,:]=phasic_vect[ii,:]\n",
    "\n",
    "# rimuovo righe con zero\n",
    "pv = pv[~np.all(pv == 0, axis=1)]\n",
    "phasic_vect = pv\n",
    "\n",
    "# tonic parameters\n",
    "Gamma = np.array([-20,-10,1]) # offset\n",
    "Delta = np.array([-0.01,-0.009,-0.008,-0.007,-0.006,-0.005,-0.004,-0.003,-0.002,-0.001,0,0.01,0.02,0.03,0.04,0.05,0.06,0.07,0.08,0.09,0.1])\n",
    "\n",
    "# creo un vettore con tutte le permutazioni di Gamma e Delta\n",
    "tonic_vect = np.array(np.meshgrid(Gamma,Delta)).T.reshape(-1,2)\n",
    "\n",
    "K1 = len(Gamma)*len(Delta)\n",
    "print('Gamma:', len(Gamma), 'Delta:', len(Delta), 'tonic atoms:', K1)\n",
    "print('a:', len(a), 'b:', len(b), 'mu:', len(mu), 's:', len(s), 'phasic atoms:', K2, 'phasic atoms with a<b:',len(phasic_vect))\n",
    "K2 = len(phasic_vect)\n",
    "K = K1+K2\n",
    "print('tot atoms:',K)"
   ]
  },
  {
   "cell_type": "code",
   "execution_count": 3,
   "metadata": {},
   "outputs": [
    {
     "name": "stderr",
     "output_type": "stream",
     "text": [
      "100%|██████████| 25920/25920 [00:09<00:00, 2727.19it/s]"
     ]
    },
    {
     "name": "stdout",
     "output_type": "stream",
     "text": [
      "(25920, 128)\n"
     ]
    },
    {
     "name": "stderr",
     "output_type": "stream",
     "text": [
      "\n"
     ]
    }
   ],
   "source": [
    "# creo un vettore per u\n",
    "# se t-mu maggiore di 0 u=1\n",
    "\n",
    "P = 128\n",
    "t = np.arange(0,P)\n",
    "\n",
    "u = np.zeros([K2,P])\n",
    "for row in tqdm(range(0,K2)):\n",
    "    for col in range(0,P):\n",
    "        if t[col]-phasic_vect[row,2]>0:\n",
    "            u[row,col] = 1\n",
    "print(u.shape)            "
   ]
  },
  {
   "cell_type": "code",
   "execution_count": 4,
   "metadata": {},
   "outputs": [
    {
     "name": "stdout",
     "output_type": "stream",
     "text": [
      "(63, 2)\n",
      "(25920, 4)\n",
      "(25983, 128)\n"
     ]
    }
   ],
   "source": [
    "# creo il dizionario D\n",
    "\n",
    "D = np.zeros([K,P])\n",
    "\n",
    "# popolo D con valori di atomi tonic\n",
    "for row in range(0,K1):\n",
    "    D[row,:] = tonic_vect[row,0]+tonic_vect[row,1]*t[:]\n",
    "\n",
    "# popolo D con valori di atomi phasic\n",
    "for row in range(K1,K):\n",
    "    D[row,:] = (np.exp(-phasic_vect[row-K1,1]*(phasic_vect[row-K1,3]*t[:]-phasic_vect[row-K1,2]))-np.exp(-phasic_vect[row-K1,0]*(phasic_vect[row-K1,3]*t[:]-phasic_vect[row-K1,2])))*u[row-K1,:]\n",
    "\n",
    "#D[np.isnan(D)] = 0 # se un valore molto piccolo diventa nan, sostituisco con zero\n",
    "#D[np.isinf(D)] = 10000000 # se un valore molto grande diventa inf, sostituisco con 1000000\n",
    "#D[D > 10000000] = 10\n",
    "#D[D < -10000000] = -10\n",
    "\n",
    "\n",
    "\n",
    "\n",
    "print(tonic_vect.shape)\n",
    "print(phasic_vect.shape)\n",
    "print(D.shape)"
   ]
  },
  {
   "cell_type": "code",
   "execution_count": 5,
   "metadata": {},
   "outputs": [],
   "source": [
    "def scale(X, x_min, x_max):\n",
    "    nom = (X-X.min(axis=0))*(x_max-x_min)\n",
    "    denom = X.max(axis=0) - X.min(axis=0)\n",
    "    denom[denom==0] = 1\n",
    "    return x_min + nom/denom "
   ]
  },
  {
   "cell_type": "code",
   "execution_count": 7,
   "metadata": {},
   "outputs": [
    {
     "name": "stdout",
     "output_type": "stream",
     "text": [
      "(25983, 128)\n"
     ]
    }
   ],
   "source": [
    "X_scaled = scale(D, -1, 1)\n",
    "print(X_scaled.shape)"
   ]
  },
  {
   "cell_type": "code",
   "execution_count": 17,
   "metadata": {},
   "outputs": [
    {
     "name": "stdout",
     "output_type": "stream",
     "text": [
      "[[-20.    -20.01  -20.02  ... -21.25  -21.26  -21.27 ]\n",
      " [-20.    -20.009 -20.018 ... -21.125 -21.134 -21.143]\n",
      " [-20.    -20.008 -20.016 ... -21.    -21.008 -21.016]\n",
      " ...\n",
      " [  0.      0.      0.    ...   0.      0.      0.   ]\n",
      " [  0.      0.      0.    ...   0.      0.      0.   ]\n",
      " [  0.      0.      0.    ...   0.      0.      0.   ]]\n"
     ]
    }
   ],
   "source": [
    "print(D)\n",
    "#np.savetxt(\"foo.csv\", D, delimiter=\",\")"
   ]
  },
  {
   "cell_type": "code",
   "execution_count": 9,
   "metadata": {},
   "outputs": [],
   "source": [
    "# prendo il segnale\n",
    "\n",
    "data = pd.read_csv('/Users/gioelepozzi/Desktop/PMEmo/code/eda_gram/1_EDA.csv', header=None)\n",
    "\n",
    "subject = data.loc[0,1] # primo soggetto\n",
    "signal = [] # vettore con i valori eda del primo soggetto\n",
    "a = data.iloc[:,1]\n",
    "for k in range(1,len(a)):\n",
    "    signal.append(a[k])\n",
    "\n",
    "fs = 50\n",
    "\n",
    "# trasformazione del segnale per la libreria    \n",
    "signal_p = EvenlySignal(values = signal, sampling_freq = fs, signal_type = 'eda')"
   ]
  },
  {
   "cell_type": "code",
   "execution_count": 10,
   "metadata": {},
   "outputs": [
    {
     "name": "stdout",
     "output_type": "stream",
     "text": [
      "(13, 128)\n"
     ]
    }
   ],
   "source": [
    "# dividere il segnale in frames\n",
    "\n",
    "foo = np.array(signal_p) # rendo il segnale un numpy array\n",
    "\n",
    "# aggiungo tanti zeri alla fine per poter dividere in tot frame uguali da 128 l'uno\n",
    "foo = np.pad(foo, (0, 54), 'constant')\n",
    "foo = np.split(foo,13)\n",
    "\n",
    "# senza aggiungere gli zeri in fondo, lasciando quindi l'ultimo frame più piccolo\n",
    "#a = np.array_split(foo,13) # dimensione ogni frame 135, tranne ultimo 134 13\n",
    "#b = np.pad(a)\n",
    "\n",
    "M = np.array(foo)\n",
    "print(M.shape)"
   ]
  },
  {
   "cell_type": "code",
   "execution_count": 11,
   "metadata": {},
   "outputs": [
    {
     "name": "stdout",
     "output_type": "stream",
     "text": [
      "first frame:\n",
      " [ 8.08407  8.07339  8.0566   8.04592  8.02303  8.00777  7.99862  7.98488\n",
      "  7.97573  7.96047  7.94521  7.93911  7.92385  7.91012  7.90249  7.89791\n",
      "  7.88723  7.8735   7.85976  7.85061  7.83993  7.82467  7.81246  7.80025\n",
      "  7.78652  7.78957  7.77584  7.77431  7.78499  7.78957  7.80483  7.81246\n",
      "  7.82925  7.85213  7.87655  7.89944  7.92538  7.96047  7.99862  8.03676\n",
      "  8.07186  8.11916  8.16646  8.21529  8.26259  8.31753  8.36788  8.41366\n",
      "  8.46249  8.51131  8.56319  8.60744  8.64864  8.69442  8.73104  8.77834\n",
      "  8.81801  8.85769  8.876    8.91262  8.93703  8.95687  8.97518  8.99959\n",
      "  9.0118   9.03927  9.05758  9.07284  9.10335  9.11404  9.1354   9.1476\n",
      "  9.16134  9.18728  9.19338  9.20559  9.23     9.23458  9.25899  9.26967\n",
      "  9.29104  9.30324  9.33376  9.35055  9.37191  9.39327  9.41921  9.44057\n",
      "  9.46804  9.47872  9.50008  9.52602  9.56417  9.59011  9.62673  9.65114\n",
      "  9.68471  9.72286  9.76101  9.7961   9.83578  9.86782  9.9136   9.95785\n",
      " 10.0036  10.0509  10.1135  10.1669  10.2249  10.2966  10.3576  10.4324\n",
      " 10.5072  10.5789  10.6598  10.7406  10.8245  10.9054  10.9954  11.0824\n",
      " 11.174   11.264   11.3586  11.4486  11.5493  11.647   11.7447  11.8499 ]\n",
      "length of the frame:  128\n"
     ]
    }
   ],
   "source": [
    "# prendo il primo frame\n",
    "\n",
    "x1 = M[0] \n",
    "print('first frame:\\n', x1)\n",
    "# selezione prima colonna M[:,0]\n",
    "\n",
    "P = len(x1)\n",
    "print('length of the frame: ', P)"
   ]
  },
  {
   "cell_type": "markdown",
   "metadata": {},
   "source": [
    "# OMP"
   ]
  },
  {
   "cell_type": "code",
   "execution_count": 18,
   "metadata": {},
   "outputs": [
    {
     "name": "stdout",
     "output_type": "stream",
     "text": [
      "DT (128, 25983)\n",
      "c (25983,)\n",
      "x1 (128,)\n"
     ]
    }
   ],
   "source": [
    "DT = D.transpose()\n",
    "X_scaledT = X_scaled.transpose()\n",
    "# Dc = x\n",
    "\n",
    "# D 128 righe 25983 colonne (trasposto del mio D iniziale)\n",
    "# c 25983 righe 1 colonna\n",
    "# x 128 righe 1 colonna\n",
    "\n",
    "c = np.zeros(K)\n",
    "\n",
    "print('DT',DT.shape)\n",
    "print('c',c.shape)\n",
    "print('x1',x1.shape)"
   ]
  },
  {
   "cell_type": "code",
   "execution_count": 33,
   "metadata": {},
   "outputs": [
    {
     "name": "stderr",
     "output_type": "stream",
     "text": [
      "/Applications/anaconda3/lib/python3.7/site-packages/sklearn/linear_model/omp.py:673: RuntimeWarning:  Orthogonal matching pursuit ended prematurely due to linear\n",
      "dependence in the dictionary. The requested precision might not have been met.\n",
      "\n",
      "  return_n_iter=True)\n"
     ]
    },
    {
     "data": {
      "text/plain": [
       "array([ 8.08355985,  8.0744086 ,  8.05834846,  8.04088571,  8.02459523,\n",
       "        8.01025285,  7.99759513,  7.9858189 ,  7.9739005 ,  7.96079176,\n",
       "        7.945533  ,  7.93974544,  7.92165743,  7.91173139,  7.90425972,\n",
       "        7.89610696,  7.88602292,  7.87410089,  7.86135391,  7.84938668,\n",
       "        7.84014467,  7.8243421 ,  7.81258348,  7.80059714,  7.79007928,\n",
       "        7.78225923,  7.77799133,  7.77783093,  7.78209715,  7.79092444,\n",
       "        7.80430494,  7.81265589,  7.83024642,  7.85069732,  7.87403791,\n",
       "        7.9002773 ,  7.92940676,  7.96140198,  7.99622501,  8.0338261 ,\n",
       "        8.07414532,  8.11804736,  8.16701777,  8.21623841,  8.26563327,\n",
       "        8.31513201,  8.36466956,  8.4141858 ,  8.46362529,  8.51293691,\n",
       "        8.56207362,  8.60684483,  8.64948816,  8.6927805 ,  8.73558558,\n",
       "        8.77691557,  8.81591686,  8.85185714,  8.88411353,  8.91216172,\n",
       "        8.93556609,  8.956159  ,  8.97642654,  8.99665131,  9.01682011,\n",
       "        9.03692053,  9.05694095,  9.07687048,  9.09669895,  9.11641684,\n",
       "        9.13601528,  9.14918253,  9.16398494,  9.17900704,  9.19422438,\n",
       "        9.20961377,  9.22515324,  9.24082198,  9.25660031,  9.27246959,\n",
       "        9.28841221,  9.30493746,  9.32858792,  9.35177008,  9.37449319,\n",
       "        9.39676636,  9.41859848,  9.43999831,  9.46097439,  9.48153511,\n",
       "        9.5016887 ,  9.53046488,  9.55939301,  9.58976768,  9.62148106,\n",
       "        9.65443056,  9.68851862,  9.72365246,  9.75974391,  9.79670917,\n",
       "        9.83446867,  9.87058027,  9.91091412,  9.95529884, 10.00346407,\n",
       "       10.05515226, 10.1101181 , 10.16812805, 10.2289598 , 10.29240177,\n",
       "       10.35825272, 10.43292671, 10.50554036, 10.58106121, 10.65926132,\n",
       "       10.73992395, 10.82284306, 10.90782288, 10.9946774 , 11.08323002,\n",
       "       11.1733131 , 11.26468196, 11.35664538, 11.45104908, 11.54767766,\n",
       "       11.64632652, 11.74680142, 11.848918  ])"
      ]
     },
     "execution_count": 33,
     "metadata": {},
     "output_type": "execute_result"
    }
   ],
   "source": [
    "# OMP implementation 1\n",
    "\n",
    "from sklearn.linear_model import OrthogonalMatchingPursuit\n",
    "\n",
    "c = OrthogonalMatchingPursuit(normalize=True,precompute=True).fit(X_scaledT, x1)\n",
    "#c = OrthogonalMatchingPursuit(normalize=True,precompute=True).fit(DT, x1)\n",
    "c.score(X_scaledT, x1)\n",
    "c.predict(X_scaledT)\n"
   ]
  },
  {
   "cell_type": "code",
   "execution_count": 19,
   "metadata": {},
   "outputs": [
    {
     "name": "stdout",
     "output_type": "stream",
     "text": [
      "[2.07602547 0.         0.         ... 0.         0.         0.        ]\n"
     ]
    },
    {
     "name": "stderr",
     "output_type": "stream",
     "text": [
      "/Applications/anaconda3/lib/python3.7/site-packages/sklearn/linear_model/omp.py:376: RuntimeWarning:  Orthogonal matching pursuit ended prematurely due to linear\n",
      "dependence in the dictionary. The requested precision might not have been met.\n",
      "\n",
      "  return_path=return_path)\n"
     ]
    }
   ],
   "source": [
    "# OMP implementation 2\n",
    "\n",
    "from sklearn.linear_model import orthogonal_mp\n",
    "\n",
    "#c = orthogonal_mp(DT,x1,precompute=True, return_n_iter=True)\n",
    "c = orthogonal_mp(X_scaledT,x1,precompute=True, return_n_iter=True)\n",
    "\n",
    "\n",
    "print(c)"
   ]
  },
  {
   "cell_type": "code",
   "execution_count": null,
   "metadata": {},
   "outputs": [],
   "source": []
  },
  {
   "cell_type": "code",
   "execution_count": null,
   "metadata": {},
   "outputs": [],
   "source": []
  },
  {
   "cell_type": "code",
   "execution_count": null,
   "metadata": {},
   "outputs": [],
   "source": []
  },
  {
   "cell_type": "code",
   "execution_count": null,
   "metadata": {},
   "outputs": [],
   "source": [
    "# OMP implementation 3\n",
    "\n",
    "from sparselandtools.pursuits import OrthogonalMatchingPursuit\n",
    "from sparselandtools.dictionaries import Dictionary\n",
    "\n",
    "d = Dictionary(DT)\n",
    "\n",
    "reg = OrthogonalMatchingPursuit(d, sparsity=1).fit(x1)\n",
    "z = np.matmul(d.matrix, reg)"
   ]
  },
  {
   "cell_type": "code",
   "execution_count": null,
   "metadata": {},
   "outputs": [],
   "source": [
    "# OMP implementation 4\n",
    "\n",
    "import omp\n",
    "\n",
    "npts = 128\n",
    "domain = np.linspace(0, 1, npts)\n",
    "y = np.dot(D, x1)\n",
    "\n",
    "# reconstruct\n",
    "result = omp.omp(D, y)\n",
    "print('Solution: %r' % result.coef)\n",
    "\n",
    "npts = 128\n",
    "domain = np.linspace(0, 1, npts)\n",
    "#X = np.array([np.cos(2 * np.pi * m * domain) for m in range(4)]).T\n",
    "coef = [0., 1., 0., .5]\n",
    "y = np.dot(D, x1)\n",
    "\n",
    "plt.figure()\n",
    "plt.plot(domain, DT)\n",
    "plt.title('Dictionary atoms')\n",
    "\n",
    "# reconstruct\n",
    "result = omp.omp(DT, x1)\n",
    "print('Solution: %r' % result)"
   ]
  }
 ],
 "metadata": {
  "kernelspec": {
   "display_name": "Python 3",
   "language": "python",
   "name": "python3"
  },
  "language_info": {
   "codemirror_mode": {
    "name": "ipython",
    "version": 3
   },
   "file_extension": ".py",
   "mimetype": "text/x-python",
   "name": "python",
   "nbconvert_exporter": "python",
   "pygments_lexer": "ipython3",
   "version": "3.7.3"
  }
 },
 "nbformat": 4,
 "nbformat_minor": 2
}
