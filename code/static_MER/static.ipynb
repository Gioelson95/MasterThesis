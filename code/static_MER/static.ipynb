{
 "cells": [
  {
   "cell_type": "markdown",
   "metadata": {},
   "source": [
    "# MER algorithm for static features"
   ]
  },
  {
   "cell_type": "markdown",
   "metadata": {},
   "source": [
    "### Load data"
   ]
  },
  {
   "cell_type": "code",
   "execution_count": 2,
   "metadata": {},
   "outputs": [],
   "source": [
    "import pandas as pd\n",
    "import numpy as np"
   ]
  },
  {
   "cell_type": "code",
   "execution_count": 13,
   "metadata": {},
   "outputs": [],
   "source": [
    "audio_features_dir = '/Users/gioelepozzi/Desktop/MasterThesis/code/features_extraction/dataframe.csv'\n",
    "audio_features_df = pd.read_csv(audio_features_dir, index_col = 0)\n",
    "\n",
    "music_ID = audio_features_df['music_ID']\n",
    "valence_mean = audio_features_df['valence(mean)']\n",
    "arousal_mean = audio_features_df['arousal(mean)']\n",
    "valence_std = audio_features_df['valence(std)']\n",
    "arousal_std = audio_features_df['arousal(std)']\n",
    "\n",
    "audio_features = audio_features_df.iloc[:,5:-1]\n",
    "audio_features_v_mean = audio_features.join(valence_mean).dropna()\n",
    "audio_features_a_mean = audio_features.join(arousal_mean).dropna()\n",
    "audio_features_v_std = audio_features.join(valence_std).dropna()\n",
    "audio_features_a_std = audio_features.join(arousal_std).dropna()\n",
    "\n",
    "audio_features_with_music_ID = audio_features.join(music_ID).dropna()\n",
    "\n",
    "eda_features_dir = '/Users/gioelepozzi/Desktop/MasterThesis/code/eda_feature_extraction/dataframe_EDA.csv'\n",
    "eda_features_df = pd.read_csv(eda_features_dir, index_col= 0)\n",
    "eda_dataset = eda_features_df.groupby(by=['music_ID'], as_index=False).mean()\n",
    "\n",
    "eda_features = eda_dataset.iloc[:,6:-1]\n",
    "eda_features_v_mean = eda_features.join(valence_mean).dropna()\n",
    "eda_features_a_mean = eda_features.join(arousal_mean).dropna()\n",
    "eda_features_v_std = eda_features.join(valence_std).dropna()\n",
    "eda_features_a_std = eda_features.join(arousal_std).dropna()"
   ]
  },
  {
   "cell_type": "code",
   "execution_count": 4,
   "metadata": {},
   "outputs": [],
   "source": [
    "def load_audio_dataset(data):\n",
    "    features = data[data.columns[:-1]].values\n",
    "    labels = data[data.columns[-1]].values\n",
    "    #scaler = StandardScaler(copy=False)\n",
    "    #scaler.fit_transform(features)\n",
    "    return features, labels"
   ]
  },
  {
   "cell_type": "markdown",
   "metadata": {},
   "source": [
    "### Regressors"
   ]
  },
  {
   "cell_type": "code",
   "execution_count": 5,
   "metadata": {},
   "outputs": [],
   "source": [
    "from sklearn.linear_model import Lasso, ElasticNet, Ridge\n",
    "from sklearn.neighbors import KNeighborsRegressor\n",
    "from sklearn.svm import SVR\n",
    "from sklearn.tree import DecisionTreeRegressor\n",
    "from sklearn.ensemble import RandomForestRegressor"
   ]
  },
  {
   "cell_type": "code",
   "execution_count": 6,
   "metadata": {},
   "outputs": [],
   "source": [
    "def rmse(y, y_pred):\n",
    "    return sqrt(mean_squared_error(y, y_pred))\n",
    "\n",
    "regressors = {\n",
    "    'Lasso': Lasso(),\n",
    "    'ElasticNet': ElasticNet(),\n",
    "    'Ridge': Ridge(),\n",
    "    'kNN': KNeighborsRegressor(),\n",
    "    'SVRrbf': SVR(kernel='rbf', gamma='scale'),\n",
    "    'SVRpoly': SVR(kernel='poly', gamma='scale'),\n",
    "    'SVRlinear': SVR(kernel='linear', gamma='scale'),\n",
    "    'DT': DecisionTreeRegressor(max_depth=5),\n",
    "    'RF': RandomForestRegressor(max_depth=5, n_estimators=10, max_features=1),\n",
    "}"
   ]
  },
  {
   "cell_type": "code",
   "execution_count": 7,
   "metadata": {},
   "outputs": [],
   "source": [
    "from tqdm import tqdm"
   ]
  },
  {
   "cell_type": "code",
   "execution_count": 29,
   "metadata": {},
   "outputs": [],
   "source": [
    "def cross_val_regression(regressors, features, labels, preprocessfunc):\n",
    "    columns = list(regressors.keys())\n",
    "    scores = pd.DataFrame(columns=columns, index=['RMSE'])\n",
    "\n",
    "    for reg_name, reg in regressors.items(): #for reg_name, reg in tqdm(regressors.items(), desc='regressors'):\n",
    "        scorer = {'rmse': make_scorer(rmse)}\n",
    "        reg = make_pipeline(*preprocessfunc, reg)\n",
    "        reg_score = cross_validate(reg, features, labels, scoring=scorer, cv=10, return_train_score=False) \n",
    "        scores.loc['RMSE', reg_name] = reg_score['test_rmse'].mean()\n",
    "        #scores.loc['R', reg_name] = reg_score['test_r'].mean()\n",
    "\n",
    "    mean_rmse = scores.mean(axis=1)\n",
    "    std_rmse = scores.std(axis=1)\n",
    "    \n",
    "    scores['Mean'] = mean_rmse\n",
    "    scores['std'] = std_rmse\n",
    "    return scores\n",
    "\n",
    "def format_scores(scores):\n",
    "    def highlight(s):\n",
    "        is_min = s == min(s)\n",
    "#         is_max = s == max(s)\n",
    "#         is_max_or_min = (is_min | is_max)\n",
    "        return ['background-color: yellow' if v else '' for v in is_min]\n",
    "    scores = scores.style.apply(highlight, axis=1, subset=pd.IndexSlice[:, :scores.columns[-2]])\n",
    "    return scores.format('{:.3f}')"
   ]
  },
  {
   "cell_type": "markdown",
   "metadata": {},
   "source": [
    "### Multiple regressors on audio features"
   ]
  },
  {
   "cell_type": "code",
   "execution_count": 27,
   "metadata": {},
   "outputs": [],
   "source": [
    "from sklearn.preprocessing import StandardScaler\n",
    "from sklearn.metrics import mean_squared_error, make_scorer\n",
    "from sklearn.pipeline import make_pipeline\n",
    "from sklearn.model_selection import cross_validate\n",
    "\n",
    "from math import sqrt\n",
    "\n",
    "import IPython.display as ipd"
   ]
  },
  {
   "cell_type": "code",
   "execution_count": 30,
   "metadata": {},
   "outputs": [
    {
     "name": "stdout",
     "output_type": "stream",
     "text": [
      "Audio Features:\n",
      "\n",
      "In Arousal (mean) dimension...\n"
     ]
    },
    {
     "data": {
      "text/html": [
       "<style  type=\"text/css\" >\n",
       "    #T_3d2a32d2_1b5a_11ea_b727_784f438b3f7brow0_col6 {\n",
       "            background-color:  yellow;\n",
       "        }</style><table id=\"T_3d2a32d2_1b5a_11ea_b727_784f438b3f7b\" ><thead>    <tr>        <th class=\"blank level0\" ></th>        <th class=\"col_heading level0 col0\" >Lasso</th>        <th class=\"col_heading level0 col1\" >ElasticNet</th>        <th class=\"col_heading level0 col2\" >Ridge</th>        <th class=\"col_heading level0 col3\" >kNN</th>        <th class=\"col_heading level0 col4\" >SVRrbf</th>        <th class=\"col_heading level0 col5\" >SVRpoly</th>        <th class=\"col_heading level0 col6\" >SVRlinear</th>        <th class=\"col_heading level0 col7\" >DT</th>        <th class=\"col_heading level0 col8\" >RF</th>        <th class=\"col_heading level0 col9\" >Mean</th>        <th class=\"col_heading level0 col10\" >std</th>    </tr></thead><tbody>\n",
       "                <tr>\n",
       "                        <th id=\"T_3d2a32d2_1b5a_11ea_b727_784f438b3f7blevel0_row0\" class=\"row_heading level0 row0\" >RMSE</th>\n",
       "                        <td id=\"T_3d2a32d2_1b5a_11ea_b727_784f438b3f7brow0_col0\" class=\"data row0 col0\" >0.184</td>\n",
       "                        <td id=\"T_3d2a32d2_1b5a_11ea_b727_784f438b3f7brow0_col1\" class=\"data row0 col1\" >0.184</td>\n",
       "                        <td id=\"T_3d2a32d2_1b5a_11ea_b727_784f438b3f7brow0_col2\" class=\"data row0 col2\" >0.107</td>\n",
       "                        <td id=\"T_3d2a32d2_1b5a_11ea_b727_784f438b3f7brow0_col3\" class=\"data row0 col3\" >0.126</td>\n",
       "                        <td id=\"T_3d2a32d2_1b5a_11ea_b727_784f438b3f7brow0_col4\" class=\"data row0 col4\" >0.118</td>\n",
       "                        <td id=\"T_3d2a32d2_1b5a_11ea_b727_784f438b3f7brow0_col5\" class=\"data row0 col5\" >0.205</td>\n",
       "                        <td id=\"T_3d2a32d2_1b5a_11ea_b727_784f438b3f7brow0_col6\" class=\"data row0 col6\" >0.107</td>\n",
       "                        <td id=\"T_3d2a32d2_1b5a_11ea_b727_784f438b3f7brow0_col7\" class=\"data row0 col7\" >0.121</td>\n",
       "                        <td id=\"T_3d2a32d2_1b5a_11ea_b727_784f438b3f7brow0_col8\" class=\"data row0 col8\" >0.122</td>\n",
       "                        <td id=\"T_3d2a32d2_1b5a_11ea_b727_784f438b3f7brow0_col9\" class=\"data row0 col9\" >0.142</td>\n",
       "                        <td id=\"T_3d2a32d2_1b5a_11ea_b727_784f438b3f7brow0_col10\" class=\"data row0 col10\" >0.038</td>\n",
       "            </tr>\n",
       "    </tbody></table>"
      ],
      "text/plain": [
       "<pandas.io.formats.style.Styler at 0x1a299a2ad0>"
      ]
     },
     "metadata": {},
     "output_type": "display_data"
    },
    {
     "name": "stdout",
     "output_type": "stream",
     "text": [
      "In Valence (mean) dimension ...\n"
     ]
    },
    {
     "data": {
      "text/html": [
       "<style  type=\"text/css\" >\n",
       "    #T_3f966d24_1b5a_11ea_b727_784f438b3f7brow0_col2 {\n",
       "            background-color:  yellow;\n",
       "        }</style><table id=\"T_3f966d24_1b5a_11ea_b727_784f438b3f7b\" ><thead>    <tr>        <th class=\"blank level0\" ></th>        <th class=\"col_heading level0 col0\" >Lasso</th>        <th class=\"col_heading level0 col1\" >ElasticNet</th>        <th class=\"col_heading level0 col2\" >Ridge</th>        <th class=\"col_heading level0 col3\" >kNN</th>        <th class=\"col_heading level0 col4\" >SVRrbf</th>        <th class=\"col_heading level0 col5\" >SVRpoly</th>        <th class=\"col_heading level0 col6\" >SVRlinear</th>        <th class=\"col_heading level0 col7\" >DT</th>        <th class=\"col_heading level0 col8\" >RF</th>        <th class=\"col_heading level0 col9\" >Mean</th>        <th class=\"col_heading level0 col10\" >std</th>    </tr></thead><tbody>\n",
       "                <tr>\n",
       "                        <th id=\"T_3f966d24_1b5a_11ea_b727_784f438b3f7blevel0_row0\" class=\"row_heading level0 row0\" >RMSE</th>\n",
       "                        <td id=\"T_3f966d24_1b5a_11ea_b727_784f438b3f7brow0_col0\" class=\"data row0 col0\" >0.162</td>\n",
       "                        <td id=\"T_3f966d24_1b5a_11ea_b727_784f438b3f7brow0_col1\" class=\"data row0 col1\" >0.162</td>\n",
       "                        <td id=\"T_3f966d24_1b5a_11ea_b727_784f438b3f7brow0_col2\" class=\"data row0 col2\" >0.120</td>\n",
       "                        <td id=\"T_3f966d24_1b5a_11ea_b727_784f438b3f7brow0_col3\" class=\"data row0 col3\" >0.132</td>\n",
       "                        <td id=\"T_3f966d24_1b5a_11ea_b727_784f438b3f7brow0_col4\" class=\"data row0 col4\" >0.126</td>\n",
       "                        <td id=\"T_3f966d24_1b5a_11ea_b727_784f438b3f7brow0_col5\" class=\"data row0 col5\" >0.163</td>\n",
       "                        <td id=\"T_3f966d24_1b5a_11ea_b727_784f438b3f7brow0_col6\" class=\"data row0 col6\" >0.122</td>\n",
       "                        <td id=\"T_3f966d24_1b5a_11ea_b727_784f438b3f7brow0_col7\" class=\"data row0 col7\" >0.149</td>\n",
       "                        <td id=\"T_3f966d24_1b5a_11ea_b727_784f438b3f7brow0_col8\" class=\"data row0 col8\" >0.127</td>\n",
       "                        <td id=\"T_3f966d24_1b5a_11ea_b727_784f438b3f7brow0_col9\" class=\"data row0 col9\" >0.140</td>\n",
       "                        <td id=\"T_3f966d24_1b5a_11ea_b727_784f438b3f7brow0_col10\" class=\"data row0 col10\" >0.019</td>\n",
       "            </tr>\n",
       "    </tbody></table>"
      ],
      "text/plain": [
       "<pandas.io.formats.style.Styler at 0x1a25adeb10>"
      ]
     },
     "metadata": {},
     "output_type": "display_data"
    },
    {
     "name": "stdout",
     "output_type": "stream",
     "text": [
      "In Arousal (std) dimension...\n"
     ]
    },
    {
     "data": {
      "text/html": [
       "<style  type=\"text/css\" >\n",
       "    #T_4004f406_1b5a_11ea_b727_784f438b3f7brow0_col8 {\n",
       "            background-color:  yellow;\n",
       "        }</style><table id=\"T_4004f406_1b5a_11ea_b727_784f438b3f7b\" ><thead>    <tr>        <th class=\"blank level0\" ></th>        <th class=\"col_heading level0 col0\" >Lasso</th>        <th class=\"col_heading level0 col1\" >ElasticNet</th>        <th class=\"col_heading level0 col2\" >Ridge</th>        <th class=\"col_heading level0 col3\" >kNN</th>        <th class=\"col_heading level0 col4\" >SVRrbf</th>        <th class=\"col_heading level0 col5\" >SVRpoly</th>        <th class=\"col_heading level0 col6\" >SVRlinear</th>        <th class=\"col_heading level0 col7\" >DT</th>        <th class=\"col_heading level0 col8\" >RF</th>        <th class=\"col_heading level0 col9\" >Mean</th>        <th class=\"col_heading level0 col10\" >std</th>    </tr></thead><tbody>\n",
       "                <tr>\n",
       "                        <th id=\"T_4004f406_1b5a_11ea_b727_784f438b3f7blevel0_row0\" class=\"row_heading level0 row0\" >RMSE</th>\n",
       "                        <td id=\"T_4004f406_1b5a_11ea_b727_784f438b3f7brow0_col0\" class=\"data row0 col0\" >0.047</td>\n",
       "                        <td id=\"T_4004f406_1b5a_11ea_b727_784f438b3f7brow0_col1\" class=\"data row0 col1\" >0.047</td>\n",
       "                        <td id=\"T_4004f406_1b5a_11ea_b727_784f438b3f7brow0_col2\" class=\"data row0 col2\" >0.045</td>\n",
       "                        <td id=\"T_4004f406_1b5a_11ea_b727_784f438b3f7brow0_col3\" class=\"data row0 col3\" >0.046</td>\n",
       "                        <td id=\"T_4004f406_1b5a_11ea_b727_784f438b3f7brow0_col4\" class=\"data row0 col4\" >0.050</td>\n",
       "                        <td id=\"T_4004f406_1b5a_11ea_b727_784f438b3f7brow0_col5\" class=\"data row0 col5\" >0.053</td>\n",
       "                        <td id=\"T_4004f406_1b5a_11ea_b727_784f438b3f7brow0_col6\" class=\"data row0 col6\" >0.051</td>\n",
       "                        <td id=\"T_4004f406_1b5a_11ea_b727_784f438b3f7brow0_col7\" class=\"data row0 col7\" >0.049</td>\n",
       "                        <td id=\"T_4004f406_1b5a_11ea_b727_784f438b3f7brow0_col8\" class=\"data row0 col8\" >0.044</td>\n",
       "                        <td id=\"T_4004f406_1b5a_11ea_b727_784f438b3f7brow0_col9\" class=\"data row0 col9\" >0.048</td>\n",
       "                        <td id=\"T_4004f406_1b5a_11ea_b727_784f438b3f7brow0_col10\" class=\"data row0 col10\" >0.003</td>\n",
       "            </tr>\n",
       "    </tbody></table>"
      ],
      "text/plain": [
       "<pandas.io.formats.style.Styler at 0x1a29aef350>"
      ]
     },
     "metadata": {},
     "output_type": "display_data"
    },
    {
     "name": "stdout",
     "output_type": "stream",
     "text": [
      "In Valence (std) dimension...\n"
     ]
    },
    {
     "data": {
      "text/html": [
       "<style  type=\"text/css\" >\n",
       "    #T_4093ae9e_1b5a_11ea_b727_784f438b3f7brow0_col8 {\n",
       "            background-color:  yellow;\n",
       "        }</style><table id=\"T_4093ae9e_1b5a_11ea_b727_784f438b3f7b\" ><thead>    <tr>        <th class=\"blank level0\" ></th>        <th class=\"col_heading level0 col0\" >Lasso</th>        <th class=\"col_heading level0 col1\" >ElasticNet</th>        <th class=\"col_heading level0 col2\" >Ridge</th>        <th class=\"col_heading level0 col3\" >kNN</th>        <th class=\"col_heading level0 col4\" >SVRrbf</th>        <th class=\"col_heading level0 col5\" >SVRpoly</th>        <th class=\"col_heading level0 col6\" >SVRlinear</th>        <th class=\"col_heading level0 col7\" >DT</th>        <th class=\"col_heading level0 col8\" >RF</th>        <th class=\"col_heading level0 col9\" >Mean</th>        <th class=\"col_heading level0 col10\" >std</th>    </tr></thead><tbody>\n",
       "                <tr>\n",
       "                        <th id=\"T_4093ae9e_1b5a_11ea_b727_784f438b3f7blevel0_row0\" class=\"row_heading level0 row0\" >RMSE</th>\n",
       "                        <td id=\"T_4093ae9e_1b5a_11ea_b727_784f438b3f7brow0_col0\" class=\"data row0 col0\" >0.046</td>\n",
       "                        <td id=\"T_4093ae9e_1b5a_11ea_b727_784f438b3f7brow0_col1\" class=\"data row0 col1\" >0.046</td>\n",
       "                        <td id=\"T_4093ae9e_1b5a_11ea_b727_784f438b3f7brow0_col2\" class=\"data row0 col2\" >0.046</td>\n",
       "                        <td id=\"T_4093ae9e_1b5a_11ea_b727_784f438b3f7brow0_col3\" class=\"data row0 col3\" >0.049</td>\n",
       "                        <td id=\"T_4093ae9e_1b5a_11ea_b727_784f438b3f7brow0_col4\" class=\"data row0 col4\" >0.047</td>\n",
       "                        <td id=\"T_4093ae9e_1b5a_11ea_b727_784f438b3f7brow0_col5\" class=\"data row0 col5\" >0.050</td>\n",
       "                        <td id=\"T_4093ae9e_1b5a_11ea_b727_784f438b3f7brow0_col6\" class=\"data row0 col6\" >0.049</td>\n",
       "                        <td id=\"T_4093ae9e_1b5a_11ea_b727_784f438b3f7brow0_col7\" class=\"data row0 col7\" >0.050</td>\n",
       "                        <td id=\"T_4093ae9e_1b5a_11ea_b727_784f438b3f7brow0_col8\" class=\"data row0 col8\" >0.046</td>\n",
       "                        <td id=\"T_4093ae9e_1b5a_11ea_b727_784f438b3f7brow0_col9\" class=\"data row0 col9\" >0.048</td>\n",
       "                        <td id=\"T_4093ae9e_1b5a_11ea_b727_784f438b3f7brow0_col10\" class=\"data row0 col10\" >0.002</td>\n",
       "            </tr>\n",
       "    </tbody></table>"
      ],
      "text/plain": [
       "<pandas.io.formats.style.Styler at 0x1a2b09f6d0>"
      ]
     },
     "metadata": {},
     "output_type": "display_data"
    }
   ],
   "source": [
    "prefunc = [StandardScaler()]\n",
    "\n",
    "print('Audio Features:\\n')\n",
    "\n",
    "print('In Arousal (mean) dimension...')\n",
    "features_a_mean, labels_a_mean = load_audio_dataset(audio_features_a_mean)\n",
    "scores_a_a_mean = cross_val_regression(regressors, features_a_mean, labels_a_mean, prefunc)\n",
    "ipd.display(format_scores(scores_a_a_mean))\n",
    "\n",
    "print('In Valence (mean) dimension ...')\n",
    "features_v_mean, labels_v_mean = load_audio_dataset(audio_features_v_mean)\n",
    "scores_a_v_mean = cross_val_regression(regressors, features_v_mean, labels_v_mean, prefunc)\n",
    "ipd.display(format_scores(scores_a_v_mean))\n",
    "\n",
    "print('In Arousal (std) dimension...')\n",
    "features_a_std, labels_a_std = load_audio_dataset(audio_features_a_std)\n",
    "scores_a_a_std = cross_val_regression(regressors, features_a_std, labels_a_std, prefunc)\n",
    "ipd.display(format_scores(scores_a_a_std))\n",
    "\n",
    "print('In Valence (std) dimension...')\n",
    "features_v_std, labels_v_std = load_audio_dataset(audio_features_v_std)\n",
    "scores_a_v_std = cross_val_regression(regressors, features_v_std, labels_v_std, prefunc)\n",
    "ipd.display(format_scores(scores_a_v_std))"
   ]
  },
  {
   "cell_type": "markdown",
   "metadata": {},
   "source": [
    "### Multiple regressors on EDA features"
   ]
  },
  {
   "cell_type": "code",
   "execution_count": 11,
   "metadata": {},
   "outputs": [
    {
     "name": "stdout",
     "output_type": "stream",
     "text": [
      "EDA Features:\n",
      "\n",
      "In Arousal (mean) dimension...\n"
     ]
    },
    {
     "data": {
      "text/html": [
       "<style  type=\"text/css\" >\n",
       "    #T_699f1458_1b56_11ea_b727_784f438b3f7brow0_col2 {\n",
       "            background-color:  yellow;\n",
       "        }</style><table id=\"T_699f1458_1b56_11ea_b727_784f438b3f7b\" ><thead>    <tr>        <th class=\"blank level0\" ></th>        <th class=\"col_heading level0 col0\" >Lasso</th>        <th class=\"col_heading level0 col1\" >ElasticNet</th>        <th class=\"col_heading level0 col2\" >Ridge</th>        <th class=\"col_heading level0 col3\" >kNN</th>        <th class=\"col_heading level0 col4\" >SVRrbf</th>        <th class=\"col_heading level0 col5\" >SVRpoly</th>        <th class=\"col_heading level0 col6\" >SVRlinear</th>        <th class=\"col_heading level0 col7\" >DT</th>        <th class=\"col_heading level0 col8\" >RF</th>        <th class=\"col_heading level0 col9\" >Mean</th>        <th class=\"col_heading level0 col10\" >std</th>    </tr></thead><tbody>\n",
       "                <tr>\n",
       "                        <th id=\"T_699f1458_1b56_11ea_b727_784f438b3f7blevel0_row0\" class=\"row_heading level0 row0\" >RMSE</th>\n",
       "                        <td id=\"T_699f1458_1b56_11ea_b727_784f438b3f7brow0_col0\" class=\"data row0 col0\" >0.184</td>\n",
       "                        <td id=\"T_699f1458_1b56_11ea_b727_784f438b3f7brow0_col1\" class=\"data row0 col1\" >0.184</td>\n",
       "                        <td id=\"T_699f1458_1b56_11ea_b727_784f438b3f7brow0_col2\" class=\"data row0 col2\" >0.000</td>\n",
       "                        <td id=\"T_699f1458_1b56_11ea_b727_784f438b3f7brow0_col3\" class=\"data row0 col3\" >0.097</td>\n",
       "                        <td id=\"T_699f1458_1b56_11ea_b727_784f438b3f7brow0_col4\" class=\"data row0 col4\" >0.062</td>\n",
       "                        <td id=\"T_699f1458_1b56_11ea_b727_784f438b3f7brow0_col5\" class=\"data row0 col5\" >0.372</td>\n",
       "                        <td id=\"T_699f1458_1b56_11ea_b727_784f438b3f7brow0_col6\" class=\"data row0 col6\" >0.052</td>\n",
       "                        <td id=\"T_699f1458_1b56_11ea_b727_784f438b3f7brow0_col7\" class=\"data row0 col7\" >0.008</td>\n",
       "                        <td id=\"T_699f1458_1b56_11ea_b727_784f438b3f7brow0_col8\" class=\"data row0 col8\" >0.172</td>\n",
       "                        <td id=\"T_699f1458_1b56_11ea_b727_784f438b3f7brow0_col9\" class=\"data row0 col9\" >0.126</td>\n",
       "                        <td id=\"T_699f1458_1b56_11ea_b727_784f438b3f7brow0_col10\" class=\"data row0 col10\" >0.117</td>\n",
       "            </tr>\n",
       "    </tbody></table>"
      ],
      "text/plain": [
       "<pandas.io.formats.style.Styler at 0x1a25b07750>"
      ]
     },
     "metadata": {},
     "output_type": "display_data"
    },
    {
     "name": "stdout",
     "output_type": "stream",
     "text": [
      "In Valence (mean) dimension...\n"
     ]
    },
    {
     "data": {
      "text/html": [
       "<style  type=\"text/css\" >\n",
       "    #T_6a2c81e4_1b56_11ea_b727_784f438b3f7brow0_col2 {\n",
       "            background-color:  yellow;\n",
       "        }</style><table id=\"T_6a2c81e4_1b56_11ea_b727_784f438b3f7b\" ><thead>    <tr>        <th class=\"blank level0\" ></th>        <th class=\"col_heading level0 col0\" >Lasso</th>        <th class=\"col_heading level0 col1\" >ElasticNet</th>        <th class=\"col_heading level0 col2\" >Ridge</th>        <th class=\"col_heading level0 col3\" >kNN</th>        <th class=\"col_heading level0 col4\" >SVRrbf</th>        <th class=\"col_heading level0 col5\" >SVRpoly</th>        <th class=\"col_heading level0 col6\" >SVRlinear</th>        <th class=\"col_heading level0 col7\" >DT</th>        <th class=\"col_heading level0 col8\" >RF</th>        <th class=\"col_heading level0 col9\" >Mean</th>        <th class=\"col_heading level0 col10\" >std</th>    </tr></thead><tbody>\n",
       "                <tr>\n",
       "                        <th id=\"T_6a2c81e4_1b56_11ea_b727_784f438b3f7blevel0_row0\" class=\"row_heading level0 row0\" >RMSE</th>\n",
       "                        <td id=\"T_6a2c81e4_1b56_11ea_b727_784f438b3f7brow0_col0\" class=\"data row0 col0\" >0.162</td>\n",
       "                        <td id=\"T_6a2c81e4_1b56_11ea_b727_784f438b3f7brow0_col1\" class=\"data row0 col1\" >0.162</td>\n",
       "                        <td id=\"T_6a2c81e4_1b56_11ea_b727_784f438b3f7brow0_col2\" class=\"data row0 col2\" >0.000</td>\n",
       "                        <td id=\"T_6a2c81e4_1b56_11ea_b727_784f438b3f7brow0_col3\" class=\"data row0 col3\" >0.084</td>\n",
       "                        <td id=\"T_6a2c81e4_1b56_11ea_b727_784f438b3f7brow0_col4\" class=\"data row0 col4\" >0.061</td>\n",
       "                        <td id=\"T_6a2c81e4_1b56_11ea_b727_784f438b3f7brow0_col5\" class=\"data row0 col5\" >0.241</td>\n",
       "                        <td id=\"T_6a2c81e4_1b56_11ea_b727_784f438b3f7brow0_col6\" class=\"data row0 col6\" >0.051</td>\n",
       "                        <td id=\"T_6a2c81e4_1b56_11ea_b727_784f438b3f7brow0_col7\" class=\"data row0 col7\" >0.007</td>\n",
       "                        <td id=\"T_6a2c81e4_1b56_11ea_b727_784f438b3f7brow0_col8\" class=\"data row0 col8\" >0.148</td>\n",
       "                        <td id=\"T_6a2c81e4_1b56_11ea_b727_784f438b3f7brow0_col9\" class=\"data row0 col9\" >0.102</td>\n",
       "                        <td id=\"T_6a2c81e4_1b56_11ea_b727_784f438b3f7brow0_col10\" class=\"data row0 col10\" >0.081</td>\n",
       "            </tr>\n",
       "    </tbody></table>"
      ],
      "text/plain": [
       "<pandas.io.formats.style.Styler at 0x1a26230090>"
      ]
     },
     "metadata": {},
     "output_type": "display_data"
    },
    {
     "name": "stdout",
     "output_type": "stream",
     "text": [
      "In Arousal (std) dimension...\n"
     ]
    },
    {
     "data": {
      "text/html": [
       "<style  type=\"text/css\" >\n",
       "    #T_6aa686ec_1b56_11ea_b727_784f438b3f7brow0_col2 {\n",
       "            background-color:  yellow;\n",
       "        }</style><table id=\"T_6aa686ec_1b56_11ea_b727_784f438b3f7b\" ><thead>    <tr>        <th class=\"blank level0\" ></th>        <th class=\"col_heading level0 col0\" >Lasso</th>        <th class=\"col_heading level0 col1\" >ElasticNet</th>        <th class=\"col_heading level0 col2\" >Ridge</th>        <th class=\"col_heading level0 col3\" >kNN</th>        <th class=\"col_heading level0 col4\" >SVRrbf</th>        <th class=\"col_heading level0 col5\" >SVRpoly</th>        <th class=\"col_heading level0 col6\" >SVRlinear</th>        <th class=\"col_heading level0 col7\" >DT</th>        <th class=\"col_heading level0 col8\" >RF</th>        <th class=\"col_heading level0 col9\" >Mean</th>        <th class=\"col_heading level0 col10\" >std</th>    </tr></thead><tbody>\n",
       "                <tr>\n",
       "                        <th id=\"T_6aa686ec_1b56_11ea_b727_784f438b3f7blevel0_row0\" class=\"row_heading level0 row0\" >RMSE</th>\n",
       "                        <td id=\"T_6aa686ec_1b56_11ea_b727_784f438b3f7brow0_col0\" class=\"data row0 col0\" >0.047</td>\n",
       "                        <td id=\"T_6aa686ec_1b56_11ea_b727_784f438b3f7brow0_col1\" class=\"data row0 col1\" >0.047</td>\n",
       "                        <td id=\"T_6aa686ec_1b56_11ea_b727_784f438b3f7brow0_col2\" class=\"data row0 col2\" >0.000</td>\n",
       "                        <td id=\"T_6aa686ec_1b56_11ea_b727_784f438b3f7brow0_col3\" class=\"data row0 col3\" >0.026</td>\n",
       "                        <td id=\"T_6aa686ec_1b56_11ea_b727_784f438b3f7brow0_col4\" class=\"data row0 col4\" >0.047</td>\n",
       "                        <td id=\"T_6aa686ec_1b56_11ea_b727_784f438b3f7brow0_col5\" class=\"data row0 col5\" >0.048</td>\n",
       "                        <td id=\"T_6aa686ec_1b56_11ea_b727_784f438b3f7brow0_col6\" class=\"data row0 col6\" >0.044</td>\n",
       "                        <td id=\"T_6aa686ec_1b56_11ea_b727_784f438b3f7brow0_col7\" class=\"data row0 col7\" >0.002</td>\n",
       "                        <td id=\"T_6aa686ec_1b56_11ea_b727_784f438b3f7brow0_col8\" class=\"data row0 col8\" >0.043</td>\n",
       "                        <td id=\"T_6aa686ec_1b56_11ea_b727_784f438b3f7brow0_col9\" class=\"data row0 col9\" >0.034</td>\n",
       "                        <td id=\"T_6aa686ec_1b56_11ea_b727_784f438b3f7brow0_col10\" class=\"data row0 col10\" >0.020</td>\n",
       "            </tr>\n",
       "    </tbody></table>"
      ],
      "text/plain": [
       "<pandas.io.formats.style.Styler at 0x1a25b07850>"
      ]
     },
     "metadata": {},
     "output_type": "display_data"
    },
    {
     "name": "stdout",
     "output_type": "stream",
     "text": [
      "In Valence (std) dimension...\n"
     ]
    },
    {
     "data": {
      "text/html": [
       "<style  type=\"text/css\" >\n",
       "    #T_6b108650_1b56_11ea_b727_784f438b3f7brow0_col2 {\n",
       "            background-color:  yellow;\n",
       "        }</style><table id=\"T_6b108650_1b56_11ea_b727_784f438b3f7b\" ><thead>    <tr>        <th class=\"blank level0\" ></th>        <th class=\"col_heading level0 col0\" >Lasso</th>        <th class=\"col_heading level0 col1\" >ElasticNet</th>        <th class=\"col_heading level0 col2\" >Ridge</th>        <th class=\"col_heading level0 col3\" >kNN</th>        <th class=\"col_heading level0 col4\" >SVRrbf</th>        <th class=\"col_heading level0 col5\" >SVRpoly</th>        <th class=\"col_heading level0 col6\" >SVRlinear</th>        <th class=\"col_heading level0 col7\" >DT</th>        <th class=\"col_heading level0 col8\" >RF</th>        <th class=\"col_heading level0 col9\" >Mean</th>        <th class=\"col_heading level0 col10\" >std</th>    </tr></thead><tbody>\n",
       "                <tr>\n",
       "                        <th id=\"T_6b108650_1b56_11ea_b727_784f438b3f7blevel0_row0\" class=\"row_heading level0 row0\" >RMSE</th>\n",
       "                        <td id=\"T_6b108650_1b56_11ea_b727_784f438b3f7brow0_col0\" class=\"data row0 col0\" >0.046</td>\n",
       "                        <td id=\"T_6b108650_1b56_11ea_b727_784f438b3f7brow0_col1\" class=\"data row0 col1\" >0.046</td>\n",
       "                        <td id=\"T_6b108650_1b56_11ea_b727_784f438b3f7brow0_col2\" class=\"data row0 col2\" >0.000</td>\n",
       "                        <td id=\"T_6b108650_1b56_11ea_b727_784f438b3f7brow0_col3\" class=\"data row0 col3\" >0.026</td>\n",
       "                        <td id=\"T_6b108650_1b56_11ea_b727_784f438b3f7brow0_col4\" class=\"data row0 col4\" >0.043</td>\n",
       "                        <td id=\"T_6b108650_1b56_11ea_b727_784f438b3f7brow0_col5\" class=\"data row0 col5\" >0.045</td>\n",
       "                        <td id=\"T_6b108650_1b56_11ea_b727_784f438b3f7brow0_col6\" class=\"data row0 col6\" >0.042</td>\n",
       "                        <td id=\"T_6b108650_1b56_11ea_b727_784f438b3f7brow0_col7\" class=\"data row0 col7\" >0.002</td>\n",
       "                        <td id=\"T_6b108650_1b56_11ea_b727_784f438b3f7brow0_col8\" class=\"data row0 col8\" >0.041</td>\n",
       "                        <td id=\"T_6b108650_1b56_11ea_b727_784f438b3f7brow0_col9\" class=\"data row0 col9\" >0.032</td>\n",
       "                        <td id=\"T_6b108650_1b56_11ea_b727_784f438b3f7brow0_col10\" class=\"data row0 col10\" >0.019</td>\n",
       "            </tr>\n",
       "    </tbody></table>"
      ],
      "text/plain": [
       "<pandas.io.formats.style.Styler at 0x1a271fbf50>"
      ]
     },
     "metadata": {},
     "output_type": "display_data"
    }
   ],
   "source": [
    "prefunc = [StandardScaler()]\n",
    "\n",
    "print('EDA Features:\\n')\n",
    "\n",
    "print('In Arousal (mean) dimension...')\n",
    "scores_eda_a_mean = cross_val_regression(regressors, eda_features_a_mean, arousal_mean, prefunc)\n",
    "ipd.display(format_scores(scores_eda_a_mean))\n",
    "\n",
    "print('In Valence (mean) dimension...')\n",
    "scores_eda_v_mean = cross_val_regression(regressors, eda_features_v_mean, valence_mean, prefunc)\n",
    "ipd.display(format_scores(scores_eda_v_mean))\n",
    "\n",
    "print('In Arousal (std) dimension...')\n",
    "scores_eda_a_std = cross_val_regression(regressors, eda_features_a_std, arousal_std, prefunc)\n",
    "ipd.display(format_scores(scores_eda_a_std))\n",
    "\n",
    "print('In Valence (std) dimension...')\n",
    "scores_eda_v_std = cross_val_regression(regressors, eda_features_v_std, valence_std, prefunc)\n",
    "ipd.display(format_scores(scores_eda_v_std))"
   ]
  },
  {
   "cell_type": "markdown",
   "metadata": {},
   "source": [
    "## Multimodal Emotion Recognition Based on Fusion Featrues\n",
    "\n",
    "Evaluating multimodal fusion methods using early-fusion-by-feature-concatenation (EFFC), which means concatenate the audio and text features to a single feature vector and train a single classification model."
   ]
  },
  {
   "cell_type": "markdown",
   "metadata": {},
   "source": [
    "### Multiple regressors on audio + EDA features"
   ]
  },
  {
   "cell_type": "code",
   "execution_count": 14,
   "metadata": {},
   "outputs": [],
   "source": [
    "fusion_dataset = pd.merge(eda_dataset, audio_features_with_music_ID, on=['music_ID']).dropna()\n",
    "fusion_features = fusion_dataset.drop(columns=['music_ID','subject_ID','valence(mean)','arousal(mean)','valence(std)','arousal(std)'])"
   ]
  },
  {
   "cell_type": "code",
   "execution_count": 15,
   "metadata": {},
   "outputs": [
    {
     "name": "stdout",
     "output_type": "stream",
     "text": [
      "Audio + EDA Features:\n",
      "\n",
      "In Arousal (mean) dimension...\n"
     ]
    },
    {
     "data": {
      "text/html": [
       "<style  type=\"text/css\" >\n",
       "    #T_9d0596fa_1b56_11ea_b727_784f438b3f7brow0_col2 {\n",
       "            background-color:  yellow;\n",
       "        }</style><table id=\"T_9d0596fa_1b56_11ea_b727_784f438b3f7b\" ><thead>    <tr>        <th class=\"blank level0\" ></th>        <th class=\"col_heading level0 col0\" >Lasso</th>        <th class=\"col_heading level0 col1\" >ElasticNet</th>        <th class=\"col_heading level0 col2\" >Ridge</th>        <th class=\"col_heading level0 col3\" >kNN</th>        <th class=\"col_heading level0 col4\" >SVRrbf</th>        <th class=\"col_heading level0 col5\" >SVRpoly</th>        <th class=\"col_heading level0 col6\" >SVRlinear</th>        <th class=\"col_heading level0 col7\" >DT</th>        <th class=\"col_heading level0 col8\" >RF</th>        <th class=\"col_heading level0 col9\" >Mean</th>        <th class=\"col_heading level0 col10\" >std</th>    </tr></thead><tbody>\n",
       "                <tr>\n",
       "                        <th id=\"T_9d0596fa_1b56_11ea_b727_784f438b3f7blevel0_row0\" class=\"row_heading level0 row0\" >RMSE</th>\n",
       "                        <td id=\"T_9d0596fa_1b56_11ea_b727_784f438b3f7brow0_col0\" class=\"data row0 col0\" >0.184</td>\n",
       "                        <td id=\"T_9d0596fa_1b56_11ea_b727_784f438b3f7brow0_col1\" class=\"data row0 col1\" >0.184</td>\n",
       "                        <td id=\"T_9d0596fa_1b56_11ea_b727_784f438b3f7brow0_col2\" class=\"data row0 col2\" >0.106</td>\n",
       "                        <td id=\"T_9d0596fa_1b56_11ea_b727_784f438b3f7brow0_col3\" class=\"data row0 col3\" >0.128</td>\n",
       "                        <td id=\"T_9d0596fa_1b56_11ea_b727_784f438b3f7brow0_col4\" class=\"data row0 col4\" >0.117</td>\n",
       "                        <td id=\"T_9d0596fa_1b56_11ea_b727_784f438b3f7brow0_col5\" class=\"data row0 col5\" >0.242</td>\n",
       "                        <td id=\"T_9d0596fa_1b56_11ea_b727_784f438b3f7brow0_col6\" class=\"data row0 col6\" >0.108</td>\n",
       "                        <td id=\"T_9d0596fa_1b56_11ea_b727_784f438b3f7brow0_col7\" class=\"data row0 col7\" >0.121</td>\n",
       "                        <td id=\"T_9d0596fa_1b56_11ea_b727_784f438b3f7brow0_col8\" class=\"data row0 col8\" >0.138</td>\n",
       "                        <td id=\"T_9d0596fa_1b56_11ea_b727_784f438b3f7brow0_col9\" class=\"data row0 col9\" >0.148</td>\n",
       "                        <td id=\"T_9d0596fa_1b56_11ea_b727_784f438b3f7brow0_col10\" class=\"data row0 col10\" >0.046</td>\n",
       "            </tr>\n",
       "    </tbody></table>"
      ],
      "text/plain": [
       "<pandas.io.formats.style.Styler at 0x1a27765bd0>"
      ]
     },
     "metadata": {},
     "output_type": "display_data"
    },
    {
     "name": "stdout",
     "output_type": "stream",
     "text": [
      "In Valence (mean) dimension...\n"
     ]
    },
    {
     "data": {
      "text/html": [
       "<style  type=\"text/css\" >\n",
       "    #T_a23377a0_1b56_11ea_b727_784f438b3f7brow0_col2 {\n",
       "            background-color:  yellow;\n",
       "        }</style><table id=\"T_a23377a0_1b56_11ea_b727_784f438b3f7b\" ><thead>    <tr>        <th class=\"blank level0\" ></th>        <th class=\"col_heading level0 col0\" >Lasso</th>        <th class=\"col_heading level0 col1\" >ElasticNet</th>        <th class=\"col_heading level0 col2\" >Ridge</th>        <th class=\"col_heading level0 col3\" >kNN</th>        <th class=\"col_heading level0 col4\" >SVRrbf</th>        <th class=\"col_heading level0 col5\" >SVRpoly</th>        <th class=\"col_heading level0 col6\" >SVRlinear</th>        <th class=\"col_heading level0 col7\" >DT</th>        <th class=\"col_heading level0 col8\" >RF</th>        <th class=\"col_heading level0 col9\" >Mean</th>        <th class=\"col_heading level0 col10\" >std</th>    </tr></thead><tbody>\n",
       "                <tr>\n",
       "                        <th id=\"T_a23377a0_1b56_11ea_b727_784f438b3f7blevel0_row0\" class=\"row_heading level0 row0\" >RMSE</th>\n",
       "                        <td id=\"T_a23377a0_1b56_11ea_b727_784f438b3f7brow0_col0\" class=\"data row0 col0\" >0.162</td>\n",
       "                        <td id=\"T_a23377a0_1b56_11ea_b727_784f438b3f7brow0_col1\" class=\"data row0 col1\" >0.162</td>\n",
       "                        <td id=\"T_a23377a0_1b56_11ea_b727_784f438b3f7brow0_col2\" class=\"data row0 col2\" >0.126</td>\n",
       "                        <td id=\"T_a23377a0_1b56_11ea_b727_784f438b3f7brow0_col3\" class=\"data row0 col3\" >0.131</td>\n",
       "                        <td id=\"T_a23377a0_1b56_11ea_b727_784f438b3f7brow0_col4\" class=\"data row0 col4\" >0.127</td>\n",
       "                        <td id=\"T_a23377a0_1b56_11ea_b727_784f438b3f7brow0_col5\" class=\"data row0 col5\" >0.284</td>\n",
       "                        <td id=\"T_a23377a0_1b56_11ea_b727_784f438b3f7brow0_col6\" class=\"data row0 col6\" >0.135</td>\n",
       "                        <td id=\"T_a23377a0_1b56_11ea_b727_784f438b3f7brow0_col7\" class=\"data row0 col7\" >0.148</td>\n",
       "                        <td id=\"T_a23377a0_1b56_11ea_b727_784f438b3f7brow0_col8\" class=\"data row0 col8\" >0.139</td>\n",
       "                        <td id=\"T_a23377a0_1b56_11ea_b727_784f438b3f7brow0_col9\" class=\"data row0 col9\" >0.157</td>\n",
       "                        <td id=\"T_a23377a0_1b56_11ea_b727_784f438b3f7brow0_col10\" class=\"data row0 col10\" >0.049</td>\n",
       "            </tr>\n",
       "    </tbody></table>"
      ],
      "text/plain": [
       "<pandas.io.formats.style.Styler at 0x1a26f665d0>"
      ]
     },
     "metadata": {},
     "output_type": "display_data"
    },
    {
     "name": "stdout",
     "output_type": "stream",
     "text": [
      "In Arousal (std) dimension...\n"
     ]
    },
    {
     "data": {
      "text/html": [
       "<style  type=\"text/css\" >\n",
       "    #T_a2cbf03e_1b56_11ea_b727_784f438b3f7brow0_col8 {\n",
       "            background-color:  yellow;\n",
       "        }</style><table id=\"T_a2cbf03e_1b56_11ea_b727_784f438b3f7b\" ><thead>    <tr>        <th class=\"blank level0\" ></th>        <th class=\"col_heading level0 col0\" >Lasso</th>        <th class=\"col_heading level0 col1\" >ElasticNet</th>        <th class=\"col_heading level0 col2\" >Ridge</th>        <th class=\"col_heading level0 col3\" >kNN</th>        <th class=\"col_heading level0 col4\" >SVRrbf</th>        <th class=\"col_heading level0 col5\" >SVRpoly</th>        <th class=\"col_heading level0 col6\" >SVRlinear</th>        <th class=\"col_heading level0 col7\" >DT</th>        <th class=\"col_heading level0 col8\" >RF</th>        <th class=\"col_heading level0 col9\" >Mean</th>        <th class=\"col_heading level0 col10\" >std</th>    </tr></thead><tbody>\n",
       "                <tr>\n",
       "                        <th id=\"T_a2cbf03e_1b56_11ea_b727_784f438b3f7blevel0_row0\" class=\"row_heading level0 row0\" >RMSE</th>\n",
       "                        <td id=\"T_a2cbf03e_1b56_11ea_b727_784f438b3f7brow0_col0\" class=\"data row0 col0\" >0.047</td>\n",
       "                        <td id=\"T_a2cbf03e_1b56_11ea_b727_784f438b3f7brow0_col1\" class=\"data row0 col1\" >0.047</td>\n",
       "                        <td id=\"T_a2cbf03e_1b56_11ea_b727_784f438b3f7brow0_col2\" class=\"data row0 col2\" >0.047</td>\n",
       "                        <td id=\"T_a2cbf03e_1b56_11ea_b727_784f438b3f7brow0_col3\" class=\"data row0 col3\" >0.046</td>\n",
       "                        <td id=\"T_a2cbf03e_1b56_11ea_b727_784f438b3f7brow0_col4\" class=\"data row0 col4\" >0.050</td>\n",
       "                        <td id=\"T_a2cbf03e_1b56_11ea_b727_784f438b3f7brow0_col5\" class=\"data row0 col5\" >0.052</td>\n",
       "                        <td id=\"T_a2cbf03e_1b56_11ea_b727_784f438b3f7brow0_col6\" class=\"data row0 col6\" >0.051</td>\n",
       "                        <td id=\"T_a2cbf03e_1b56_11ea_b727_784f438b3f7brow0_col7\" class=\"data row0 col7\" >0.050</td>\n",
       "                        <td id=\"T_a2cbf03e_1b56_11ea_b727_784f438b3f7brow0_col8\" class=\"data row0 col8\" >0.044</td>\n",
       "                        <td id=\"T_a2cbf03e_1b56_11ea_b727_784f438b3f7brow0_col9\" class=\"data row0 col9\" >0.048</td>\n",
       "                        <td id=\"T_a2cbf03e_1b56_11ea_b727_784f438b3f7brow0_col10\" class=\"data row0 col10\" >0.003</td>\n",
       "            </tr>\n",
       "    </tbody></table>"
      ],
      "text/plain": [
       "<pandas.io.formats.style.Styler at 0x1a259bf190>"
      ]
     },
     "metadata": {},
     "output_type": "display_data"
    },
    {
     "name": "stdout",
     "output_type": "stream",
     "text": [
      "In Valence (std) dimension...\n"
     ]
    },
    {
     "data": {
      "text/html": [
       "<style  type=\"text/css\" >\n",
       "    #T_a368498e_1b56_11ea_b727_784f438b3f7brow0_col8 {\n",
       "            background-color:  yellow;\n",
       "        }</style><table id=\"T_a368498e_1b56_11ea_b727_784f438b3f7b\" ><thead>    <tr>        <th class=\"blank level0\" ></th>        <th class=\"col_heading level0 col0\" >Lasso</th>        <th class=\"col_heading level0 col1\" >ElasticNet</th>        <th class=\"col_heading level0 col2\" >Ridge</th>        <th class=\"col_heading level0 col3\" >kNN</th>        <th class=\"col_heading level0 col4\" >SVRrbf</th>        <th class=\"col_heading level0 col5\" >SVRpoly</th>        <th class=\"col_heading level0 col6\" >SVRlinear</th>        <th class=\"col_heading level0 col7\" >DT</th>        <th class=\"col_heading level0 col8\" >RF</th>        <th class=\"col_heading level0 col9\" >Mean</th>        <th class=\"col_heading level0 col10\" >std</th>    </tr></thead><tbody>\n",
       "                <tr>\n",
       "                        <th id=\"T_a368498e_1b56_11ea_b727_784f438b3f7blevel0_row0\" class=\"row_heading level0 row0\" >RMSE</th>\n",
       "                        <td id=\"T_a368498e_1b56_11ea_b727_784f438b3f7brow0_col0\" class=\"data row0 col0\" >0.046</td>\n",
       "                        <td id=\"T_a368498e_1b56_11ea_b727_784f438b3f7brow0_col1\" class=\"data row0 col1\" >0.046</td>\n",
       "                        <td id=\"T_a368498e_1b56_11ea_b727_784f438b3f7brow0_col2\" class=\"data row0 col2\" >0.047</td>\n",
       "                        <td id=\"T_a368498e_1b56_11ea_b727_784f438b3f7brow0_col3\" class=\"data row0 col3\" >0.049</td>\n",
       "                        <td id=\"T_a368498e_1b56_11ea_b727_784f438b3f7brow0_col4\" class=\"data row0 col4\" >0.048</td>\n",
       "                        <td id=\"T_a368498e_1b56_11ea_b727_784f438b3f7brow0_col5\" class=\"data row0 col5\" >0.049</td>\n",
       "                        <td id=\"T_a368498e_1b56_11ea_b727_784f438b3f7brow0_col6\" class=\"data row0 col6\" >0.048</td>\n",
       "                        <td id=\"T_a368498e_1b56_11ea_b727_784f438b3f7brow0_col7\" class=\"data row0 col7\" >0.051</td>\n",
       "                        <td id=\"T_a368498e_1b56_11ea_b727_784f438b3f7brow0_col8\" class=\"data row0 col8\" >0.046</td>\n",
       "                        <td id=\"T_a368498e_1b56_11ea_b727_784f438b3f7brow0_col9\" class=\"data row0 col9\" >0.048</td>\n",
       "                        <td id=\"T_a368498e_1b56_11ea_b727_784f438b3f7brow0_col10\" class=\"data row0 col10\" >0.002</td>\n",
       "            </tr>\n",
       "    </tbody></table>"
      ],
      "text/plain": [
       "<pandas.io.formats.style.Styler at 0x12300b090>"
      ]
     },
     "metadata": {},
     "output_type": "display_data"
    }
   ],
   "source": [
    "prefunc = [StandardScaler()]\n",
    "\n",
    "print('Audio + EDA Features:\\n')\n",
    "\n",
    "print('In Arousal (mean) dimension...')\n",
    "scores_f_a_mean = cross_val_regression(regressors, fusion_features, arousal_mean, prefunc)\n",
    "ipd.display(format_scores(scores_f_a_mean))\n",
    "\n",
    "print('In Valence (mean) dimension...')\n",
    "scores_f_v_mean = cross_val_regression(regressors, fusion_features, valence_mean, prefunc)\n",
    "ipd.display(format_scores(scores_f_v_mean))\n",
    "\n",
    "print('In Arousal (std) dimension...')\n",
    "scores_f_a_std = cross_val_regression(regressors, fusion_features, arousal_std, prefunc)\n",
    "ipd.display(format_scores(scores_f_a_std))\n",
    "\n",
    "print('In Valence (std) dimension...')\n",
    "scores_f_v_std = cross_val_regression(regressors, fusion_features, valence_std, prefunc)\n",
    "ipd.display(format_scores(scores_f_v_std))"
   ]
  },
  {
   "cell_type": "code",
   "execution_count": null,
   "metadata": {},
   "outputs": [],
   "source": []
  }
 ],
 "metadata": {
  "kernelspec": {
   "display_name": "Python 3",
   "language": "python",
   "name": "python3"
  },
  "language_info": {
   "codemirror_mode": {
    "name": "ipython",
    "version": 3
   },
   "file_extension": ".py",
   "mimetype": "text/x-python",
   "name": "python",
   "nbconvert_exporter": "python",
   "pygments_lexer": "ipython3",
   "version": "3.7.5"
  }
 },
 "nbformat": 4,
 "nbformat_minor": 2
}
