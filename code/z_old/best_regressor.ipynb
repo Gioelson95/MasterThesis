{
 "cells": [
  {
   "cell_type": "markdown",
   "metadata": {},
   "source": [
    "## Regression problem\n",
    "\n",
    "Best regressors for the MER problem are Ridge and Linear Regressor"
   ]
  },
  {
   "cell_type": "code",
   "execution_count": 2,
   "metadata": {},
   "outputs": [],
   "source": [
    "import pandas as pd\n",
    "import numpy as np\n",
    "import statsmodels.api as sm"
   ]
  },
  {
   "cell_type": "code",
   "execution_count": 3,
   "metadata": {},
   "outputs": [],
   "source": [
    "f_dir = '/Users/gioelepozzi/Desktop/data/features_thesis'\n",
    "VA_dir = '/Users/gioelepozzi/Desktop/data/annotations_thesis'"
   ]
  },
  {
   "cell_type": "code",
   "execution_count": 4,
   "metadata": {},
   "outputs": [],
   "source": [
    "audio_dir = f_dir + '/static_features.csv'\n",
    "eda_dir = f_dir + '/static_features_EDA.csv'\n",
    "VA_mean_dir = VA_dir + '/static_annotations.csv'\n",
    "VA_std_dir = VA_dir + '/static_annotations_std.csv'"
   ]
  },
  {
   "cell_type": "code",
   "execution_count": 5,
   "metadata": {},
   "outputs": [],
   "source": [
    "audio_df = pd.read_csv(audio_dir)\n",
    "eda_df = pd.read_csv(eda_dir)\n",
    "eda_df = eda_df.drop(columns=['subject_ID'])\n",
    "eda_df = eda_df.groupby(by=['music_ID'], as_index=False).mean() # mean over 10 subjects\n",
    "\n",
    "fusion_df = pd.merge(audio_df, eda_df, on=['music_ID'])\n",
    "\n",
    "va_mean_df = pd.read_csv(VA_mean_dir)\n",
    "va_std_df = pd.read_csv(VA_std_dir)\n",
    "\n",
    "data_df = pd.merge(fusion_df, va_mean_df, on=['music_ID'])\n",
    "data_df = pd.merge(data_df, va_std_df, on=['music_ID'])"
   ]
  },
  {
   "cell_type": "markdown",
   "metadata": {},
   "source": [
    "`audio_df`dataframe of audio features with music_ID (108 features)\n",
    "\n",
    "`eda_df` dataframe of EDA features with music_ID (91 features)\n",
    "\n",
    "`fusion_df` dataframe with audio and EDA features\n",
    "\n",
    "`va_mean_df` dataframe with mean values of Valence and Arousal\n",
    "\n",
    "`va_std_df` dataframe with standard deviation values of Valence and Arousal\n",
    "\n",
    "`data_df` dataframe with audio features, EDA features, Valence and Arousal mean and standard values"
   ]
  },
  {
   "cell_type": "markdown",
   "metadata": {},
   "source": [
    "### Useful functions:\n",
    "\n",
    "`backward` -> takes the dataframe with features and at -1 the target value\n",
    "\n",
    "`cross_val_regression` -> make RMSE evaluation for Linear Regression and Ridge"
   ]
  },
  {
   "cell_type": "code",
   "execution_count": 35,
   "metadata": {},
   "outputs": [],
   "source": [
    "from sklearn.metrics import mean_squared_error, make_scorer\n",
    "from sklearn.pipeline import make_pipeline\n",
    "from sklearn.model_selection import cross_validate\n",
    "from sklearn.linear_model import Ridge, LinearRegression\n",
    "from sklearn.preprocessing import StandardScaler\n",
    "\n",
    "from math import sqrt\n",
    "\n",
    "regressors = {\n",
    "    'LR': LinearRegression(),\n",
    "    'Ridge': Ridge(alpha=0.1),\n",
    "}\n",
    "\n",
    "def rmse(y, y_pred):\n",
    "    return sqrt(mean_squared_error(y, y_pred))\n",
    "\n",
    "def cross_val_regression(regressors, features, labels, preprocessfunc):\n",
    "    columns = list(regressors.keys())\n",
    "    scores = pd.DataFrame(columns=columns, index=['RMSE'])\n",
    "    for reg_name, reg in regressors.items():\n",
    "        scorer = {'rmse': make_scorer(rmse)}\n",
    "        reg = make_pipeline(*preprocessfunc, reg)\n",
    "        reg_score = cross_validate(reg, features, labels, scoring=scorer, cv=10, return_train_score=False) \n",
    "        scores.loc['RMSE', reg_name] = reg_score['test_rmse'].mean()\n",
    "    return scores\n",
    "\n",
    "\n",
    "# Backward Elimination\n",
    "\n",
    "def backward(df):\n",
    "    a = list(df.columns.values)\n",
    "    target = a[-1]\n",
    "    X = df.drop(columns=[target]) # feature matrix\n",
    "    y = df[target] # target variable\n",
    "    \n",
    "    cols = list(X.columns)\n",
    "    pmax = 1\n",
    "    while (len(cols)>0):\n",
    "        p = []\n",
    "        X_1 = X[cols]\n",
    "        X_1 = sm.add_constant(X_1.values)\n",
    "        model = sm.OLS(y,X_1).fit()\n",
    "        p = pd.Series(model.pvalues.values[1:],index = cols)      \n",
    "        pmax = max(p)\n",
    "        feature_with_p_max = p.idxmax()\n",
    "        if(pmax>0.05):\n",
    "            cols.remove(feature_with_p_max)\n",
    "        else:\n",
    "            break\n",
    "    \n",
    "    selected_features_BE = cols\n",
    "    #print('number of features selected:',len(selected_features_BE), '\\nfeatures:', selected_features_BE)\n",
    "    backward_df = df[np.intersect1d(df.columns, selected_features_BE)]\n",
    "    backward_df = backward_df.join(y)\n",
    "    return backward_df\n"
   ]
  },
  {
   "cell_type": "markdown",
   "metadata": {},
   "source": [
    "### For audio Backward features selection"
   ]
  },
  {
   "cell_type": "code",
   "execution_count": 37,
   "metadata": {},
   "outputs": [
    {
     "name": "stdout",
     "output_type": "stream",
     "text": [
      "AUDIO VALENCE MEAN\n",
      "Ridge RMSE: 0.10995555574622791\n",
      "LR RMSE: 0.11000369922758502 \n",
      "\n",
      "AUDIO AROUSAL MEAN\n",
      "Ridge RMSE: 0.09323701375775093\n",
      "LR RMSE: 0.09326857119630548 \n",
      "\n",
      "AUDIO VALENCE STANDARD DEVIATION\n",
      "Ridge RMSE: 0.04426190722703359\n",
      "LR RMSE: 0.044145563147221865 \n",
      "\n",
      "AUDIO AROUSAL STANDARD DEVIATION\n",
      "Ridge RMSE: 0.044757957843901214\n",
      "LR RMSE: 0.044799270143477087\n"
     ]
    }
   ],
   "source": [
    "#va_df -> df con v-a-mean-std\n",
    "#df -> df con audio/eda/fusion, v-a-mean-std\n",
    "def reg_results(df, va_df):\n",
    "    \n",
    "\n",
    "\n",
    "    # audio valence mean\n",
    "    v_mean = va_mean_df[['music_ID', 'Valence(mean)']]\n",
    "audio_v_mean = pd.merge(audio_df, v_mean, on=['music_ID'])\n",
    "audio_v_mean = audio_v_mean.drop(columns=['music_ID'])\n",
    "print('AUDIO VALENCE MEAN')\n",
    "bw_v_mean = backward(audio_v_mean)\n",
    "features_v_mean = bw_v_mean[bw_v_mean.columns[:-1]].values\n",
    "label_v_mean = bw_v_mean[bw_v_mean.columns[-1]].values\n",
    "prefunc = [StandardScaler()]\n",
    "RMSE_v_mean = cross_val_regression(regressors, features_v_mean, label_v_mean, prefunc)\n",
    "print('Ridge RMSE:', RMSE_v_mean['Ridge'][0])\n",
    "print('LR RMSE:', RMSE_v_mean['LR'][0], '\\n')\n",
    "\n",
    "\n",
    "# audio arousal mean\n",
    "a_mean = va_mean_df[['music_ID', 'Arousal(mean)']]\n",
    "audio_a_mean = pd.merge(audio_df, a_mean, on=['music_ID'])\n",
    "audio_a_mean = audio_a_mean.drop(columns=['music_ID'])\n",
    "print('AUDIO AROUSAL MEAN')\n",
    "bw_a_mean = backward(audio_a_mean)\n",
    "features_a_mean = bw_a_mean[bw_a_mean.columns[:-1]].values\n",
    "label_a_mean = bw_a_mean[bw_a_mean.columns[-1]].values\n",
    "prefunc = [StandardScaler()]\n",
    "RMSE_a_mean = cross_val_regression(regressors, features_a_mean, label_a_mean, prefunc)\n",
    "print('Ridge RMSE:', RMSE_a_mean['Ridge'][0])\n",
    "print('LR RMSE:', RMSE_a_mean['LR'][0], '\\n')\n",
    "\n",
    "\n",
    "# audio valence std\n",
    "v_std = va_std_df[['music_ID', 'Valence(std)']]\n",
    "audio_v_std = pd.merge(audio_df, v_std, on=['music_ID'])\n",
    "audio_v_std = audio_v_std.drop(columns=['music_ID'])\n",
    "print('AUDIO VALENCE STANDARD DEVIATION')\n",
    "bw_v_std = backward(audio_v_std)\n",
    "features_v_std = bw_v_std[bw_v_std.columns[:-1]].values\n",
    "label_v_std = bw_v_std[bw_v_std.columns[-1]].values\n",
    "prefunc = [StandardScaler()]\n",
    "RMSE_v_std = cross_val_regression(regressors, features_v_std, label_v_std, prefunc)\n",
    "print('Ridge RMSE:', RMSE_v_std['Ridge'][0])\n",
    "print('LR RMSE:', RMSE_v_std['LR'][0], '\\n')\n",
    "\n",
    "\n",
    "# audio arousal std\n",
    "a_std = va_std_df[['music_ID', 'Arousal(std)']]\n",
    "audio_a_std = pd.merge(audio_df, a_std, on=['music_ID'])\n",
    "audio_a_std = audio_a_std.drop(columns=['music_ID'])\n",
    "print('AUDIO AROUSAL STANDARD DEVIATION')\n",
    "bw_a_std = backward(audio_a_std)\n",
    "features_a_std = bw_v_std[bw_v_std.columns[:-1]].values\n",
    "label_a_std = bw_a_std[bw_a_std.columns[-1]].values\n",
    "RMSE_a_std = cross_val_regression(regressors, features_a_std, label_a_std, prefunc)\n",
    "print('Ridge RMSE:', RMSE_a_std['Ridge'][0])\n",
    "print('LR RMSE:', RMSE_a_std['LR'][0])"
   ]
  },
  {
   "cell_type": "code",
   "execution_count": null,
   "metadata": {},
   "outputs": [],
   "source": []
  },
  {
   "cell_type": "code",
   "execution_count": null,
   "metadata": {},
   "outputs": [],
   "source": []
  },
  {
   "cell_type": "code",
   "execution_count": null,
   "metadata": {},
   "outputs": [],
   "source": []
  },
  {
   "cell_type": "code",
   "execution_count": null,
   "metadata": {},
   "outputs": [],
   "source": []
  },
  {
   "cell_type": "code",
   "execution_count": null,
   "metadata": {},
   "outputs": [],
   "source": []
  },
  {
   "cell_type": "code",
   "execution_count": null,
   "metadata": {},
   "outputs": [],
   "source": [
    "\n"
   ]
  },
  {
   "cell_type": "code",
   "execution_count": null,
   "metadata": {},
   "outputs": [],
   "source": []
  },
  {
   "cell_type": "code",
   "execution_count": null,
   "metadata": {},
   "outputs": [],
   "source": []
  },
  {
   "cell_type": "code",
   "execution_count": null,
   "metadata": {},
   "outputs": [],
   "source": []
  },
  {
   "cell_type": "code",
   "execution_count": null,
   "metadata": {},
   "outputs": [],
   "source": []
  },
  {
   "cell_type": "code",
   "execution_count": null,
   "metadata": {},
   "outputs": [],
   "source": [
    "# Prova sito"
   ]
  },
  {
   "cell_type": "code",
   "execution_count": null,
   "metadata": {},
   "outputs": [],
   "source": [
    "X = audio_v_mean.iloc[:, :-1].values\n",
    "y = audio_v_mean.iloc[:, -1].values"
   ]
  },
  {
   "cell_type": "code",
   "execution_count": null,
   "metadata": {},
   "outputs": [],
   "source": [
    "from sklearn.model_selection import train_test_split\n",
    "\n",
    "X_train, X_test, Y_train, Y_test = train_test_split(X, y, test_size = 0.2, random_state = 0)\n"
   ]
  },
  {
   "cell_type": "code",
   "execution_count": null,
   "metadata": {},
   "outputs": [],
   "source": [
    "from sklearn.linear_model import LinearRegression\n",
    "\n",
    "model = LinearRegression()\n",
    "model.fit(X_train,Y_train)\n",
    "print(model.score(X_test,Y_test))"
   ]
  },
  {
   "cell_type": "code",
   "execution_count": null,
   "metadata": {},
   "outputs": [],
   "source": [
    "X_train = np.append(arr=np.ones([X_train.shape[0],1]).astype(int), values = X_train, axis = 1)"
   ]
  },
  {
   "cell_type": "code",
   "execution_count": null,
   "metadata": {},
   "outputs": [],
   "source": [
    "def column_index(df, query_cols):\n",
    "    cols = df.columns.values\n",
    "    sidx = np.argsort(cols)\n",
    "    return sidx[np.searchsorted(cols,query_cols,sorter=sidx)]\n",
    "\n",
    "X_opt = column_index(audio_df, selected_features_BE)"
   ]
  },
  {
   "cell_type": "code",
   "execution_count": null,
   "metadata": {},
   "outputs": [],
   "source": [
    "\n",
    "regressor = sm.OLS(Y_train, X_train[:,X_opt]).fit() # OLS -> Ordinary Least Squares\n",
    "print(regressor.summary())"
   ]
  },
  {
   "cell_type": "code",
   "execution_count": null,
   "metadata": {},
   "outputs": [],
   "source": [
    "from sklearn.preprocessing import StandardScaler\n",
    "XX = X[X_opt]\n",
    "X_train, X_test, Y_train, Y_test = train_test_split(XX, y[X_opt], test_size = 0.2, random_state = 0)\n",
    "\n",
    "model = LinearRegression()\n",
    "model.fit(X_train,Y_train)\n",
    "print('Model score: '+str(model.score(X_test,Y_test)))"
   ]
  }
 ],
 "metadata": {
  "kernelspec": {
   "display_name": "Python 3",
   "language": "python",
   "name": "python3"
  },
  "language_info": {
   "codemirror_mode": {
    "name": "ipython",
    "version": 3
   },
   "file_extension": ".py",
   "mimetype": "text/x-python",
   "name": "python",
   "nbconvert_exporter": "python",
   "pygments_lexer": "ipython3",
   "version": "3.7.4"
  }
 },
 "nbformat": 4,
 "nbformat_minor": 4
}
