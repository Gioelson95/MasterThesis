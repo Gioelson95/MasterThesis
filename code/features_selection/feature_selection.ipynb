{
 "cells": [
  {
   "cell_type": "markdown",
   "metadata": {},
   "source": [
    "### ReliefF from skrebate"
   ]
  },
  {
   "cell_type": "code",
   "execution_count": 1,
   "metadata": {},
   "outputs": [
    {
     "name": "stdout",
     "output_type": "stream",
     "text": [
      "Collecting skrebate\n",
      "  Downloading https://files.pythonhosted.org/packages/7d/01/764fdd40b0e9f01624725c3cf1ffa00071fabb66b62d39fc2c28b34f3edb/skrebate-0.6.tar.gz\n",
      "Requirement already satisfied: numpy in /Applications/anaconda3/lib/python3.7/site-packages (from skrebate) (1.17.3)\n",
      "Requirement already satisfied: scipy in /Applications/anaconda3/lib/python3.7/site-packages (from skrebate) (1.3.1)\n",
      "Requirement already satisfied: scikit-learn in /Applications/anaconda3/lib/python3.7/site-packages (from skrebate) (0.21.3)\n",
      "Requirement already satisfied: joblib>=0.11 in /Applications/anaconda3/lib/python3.7/site-packages (from scikit-learn->skrebate) (0.14.0)\n",
      "Building wheels for collected packages: skrebate\n",
      "  Building wheel for skrebate (setup.py) ... \u001b[?25ldone\n",
      "\u001b[?25h  Created wheel for skrebate: filename=skrebate-0.6-cp37-none-any.whl size=29330 sha256=fb390b9e03a880f5bc0ce1b777c1ac2f5058453f4f89380f155d06becd3ade4f\n",
      "  Stored in directory: /Users/gioelepozzi/Library/Caches/pip/wheels/f5/99/36/c827bcfa6852c6d068895b2723c57cea84f93642270c6dc05c\n",
      "Successfully built skrebate\n",
      "Installing collected packages: skrebate\n",
      "Successfully installed skrebate-0.6\n",
      "Note: you may need to restart the kernel to use updated packages.\n"
     ]
    }
   ],
   "source": [
    "%pip install skrebate"
   ]
  },
  {
   "cell_type": "code",
   "execution_count": 1,
   "metadata": {},
   "outputs": [
    {
     "name": "stderr",
     "output_type": "stream",
     "text": [
      "/Applications/anaconda3/lib/python3.7/site-packages/sklearn/externals/joblib/__init__.py:15: DeprecationWarning: sklearn.externals.joblib is deprecated in 0.21 and will be removed in 0.23. Please import this functionality directly from joblib, which can be installed with: pip install joblib. If this warning is raised when loading pickled models, you may need to re-serialize those models with scikit-learn 0.21+.\n",
      "  warnings.warn(msg, category=DeprecationWarning)\n"
     ]
    }
   ],
   "source": [
    "import pandas as pd\n",
    "import numpy as np\n",
    "from sklearn.pipeline import make_pipeline\n",
    "from skrebate import ReliefF\n",
    "from sklearn.ensemble import RandomForestClassifier\n",
    "from sklearn.model_selection import cross_val_score"
   ]
  },
  {
   "cell_type": "code",
   "execution_count": 75,
   "metadata": {},
   "outputs": [
    {
     "data": {
      "text/html": [
       "<div>\n",
       "<style scoped>\n",
       "    .dataframe tbody tr th:only-of-type {\n",
       "        vertical-align: middle;\n",
       "    }\n",
       "\n",
       "    .dataframe tbody tr th {\n",
       "        vertical-align: top;\n",
       "    }\n",
       "\n",
       "    .dataframe thead th {\n",
       "        text-align: right;\n",
       "    }\n",
       "</style>\n",
       "<table border=\"1\" class=\"dataframe\">\n",
       "  <thead>\n",
       "    <tr style=\"text-align: right;\">\n",
       "      <th></th>\n",
       "      <th>tempo</th>\n",
       "      <th>total_beats</th>\n",
       "      <th>average_beats</th>\n",
       "      <th>chroma_stft_mean</th>\n",
       "      <th>chroma_stft_std</th>\n",
       "      <th>chroma_stft_var</th>\n",
       "      <th>chroma_cq_mean</th>\n",
       "      <th>chroma_cq_std</th>\n",
       "      <th>chroma_cq_var</th>\n",
       "      <th>chroma_cens_mean</th>\n",
       "      <th>...</th>\n",
       "      <th>harm_mean</th>\n",
       "      <th>harm_std</th>\n",
       "      <th>harm_var</th>\n",
       "      <th>perc_mean</th>\n",
       "      <th>perc_std</th>\n",
       "      <th>perc_var</th>\n",
       "      <th>frame_mean</th>\n",
       "      <th>frame_std</th>\n",
       "      <th>frame_var</th>\n",
       "      <th>class</th>\n",
       "    </tr>\n",
       "  </thead>\n",
       "  <tbody>\n",
       "    <tr>\n",
       "      <th>0</th>\n",
       "      <td>129.199219</td>\n",
       "      <td>45448</td>\n",
       "      <td>688.606061</td>\n",
       "      <td>0.400506</td>\n",
       "      <td>0.298598</td>\n",
       "      <td>0.089161</td>\n",
       "      <td>0.401260</td>\n",
       "      <td>0.315778</td>\n",
       "      <td>0.099715</td>\n",
       "      <td>0.226653</td>\n",
       "      <td>...</td>\n",
       "      <td>-0.000082</td>\n",
       "      <td>0.131243</td>\n",
       "      <td>0.017225</td>\n",
       "      <td>0.000364</td>\n",
       "      <td>0.095278</td>\n",
       "      <td>0.009078</td>\n",
       "      <td>2.236082</td>\n",
       "      <td>1.363174</td>\n",
       "      <td>1.858242</td>\n",
       "      <td>1.0</td>\n",
       "    </tr>\n",
       "    <tr>\n",
       "      <th>1</th>\n",
       "      <td>151.999081</td>\n",
       "      <td>39347</td>\n",
       "      <td>596.166667</td>\n",
       "      <td>0.524068</td>\n",
       "      <td>0.286910</td>\n",
       "      <td>0.082317</td>\n",
       "      <td>0.455447</td>\n",
       "      <td>0.293067</td>\n",
       "      <td>0.085889</td>\n",
       "      <td>0.242035</td>\n",
       "      <td>...</td>\n",
       "      <td>0.000042</td>\n",
       "      <td>0.334750</td>\n",
       "      <td>0.112057</td>\n",
       "      <td>-0.000773</td>\n",
       "      <td>0.104760</td>\n",
       "      <td>0.010975</td>\n",
       "      <td>2.382367</td>\n",
       "      <td>1.317973</td>\n",
       "      <td>1.737054</td>\n",
       "      <td>1.0</td>\n",
       "    </tr>\n",
       "    <tr>\n",
       "      <th>2</th>\n",
       "      <td>135.999178</td>\n",
       "      <td>346030</td>\n",
       "      <td>1783.659794</td>\n",
       "      <td>0.541510</td>\n",
       "      <td>0.290565</td>\n",
       "      <td>0.084428</td>\n",
       "      <td>0.398486</td>\n",
       "      <td>0.315170</td>\n",
       "      <td>0.099332</td>\n",
       "      <td>0.223880</td>\n",
       "      <td>...</td>\n",
       "      <td>-0.000003</td>\n",
       "      <td>0.269623</td>\n",
       "      <td>0.072697</td>\n",
       "      <td>0.000241</td>\n",
       "      <td>0.110199</td>\n",
       "      <td>0.012144</td>\n",
       "      <td>1.647456</td>\n",
       "      <td>0.919155</td>\n",
       "      <td>0.844845</td>\n",
       "      <td>1.0</td>\n",
       "    </tr>\n",
       "    <tr>\n",
       "      <th>3</th>\n",
       "      <td>143.554688</td>\n",
       "      <td>42339</td>\n",
       "      <td>622.632353</td>\n",
       "      <td>0.567836</td>\n",
       "      <td>0.253213</td>\n",
       "      <td>0.064117</td>\n",
       "      <td>0.334812</td>\n",
       "      <td>0.302933</td>\n",
       "      <td>0.091768</td>\n",
       "      <td>0.200098</td>\n",
       "      <td>...</td>\n",
       "      <td>0.000005</td>\n",
       "      <td>0.267649</td>\n",
       "      <td>0.071636</td>\n",
       "      <td>0.000327</td>\n",
       "      <td>0.105161</td>\n",
       "      <td>0.011059</td>\n",
       "      <td>2.179193</td>\n",
       "      <td>1.335567</td>\n",
       "      <td>1.783739</td>\n",
       "      <td>1.0</td>\n",
       "    </tr>\n",
       "    <tr>\n",
       "      <th>4</th>\n",
       "      <td>117.453835</td>\n",
       "      <td>31558</td>\n",
       "      <td>584.407407</td>\n",
       "      <td>0.390745</td>\n",
       "      <td>0.305108</td>\n",
       "      <td>0.093091</td>\n",
       "      <td>0.584273</td>\n",
       "      <td>0.252345</td>\n",
       "      <td>0.063678</td>\n",
       "      <td>0.272532</td>\n",
       "      <td>...</td>\n",
       "      <td>-0.000036</td>\n",
       "      <td>0.176786</td>\n",
       "      <td>0.031253</td>\n",
       "      <td>-0.000375</td>\n",
       "      <td>0.173086</td>\n",
       "      <td>0.029959</td>\n",
       "      <td>2.672617</td>\n",
       "      <td>1.500751</td>\n",
       "      <td>2.252254</td>\n",
       "      <td>1.0</td>\n",
       "    </tr>\n",
       "    <tr>\n",
       "      <th>...</th>\n",
       "      <td>...</td>\n",
       "      <td>...</td>\n",
       "      <td>...</td>\n",
       "      <td>...</td>\n",
       "      <td>...</td>\n",
       "      <td>...</td>\n",
       "      <td>...</td>\n",
       "      <td>...</td>\n",
       "      <td>...</td>\n",
       "      <td>...</td>\n",
       "      <td>...</td>\n",
       "      <td>...</td>\n",
       "      <td>...</td>\n",
       "      <td>...</td>\n",
       "      <td>...</td>\n",
       "      <td>...</td>\n",
       "      <td>...</td>\n",
       "      <td>...</td>\n",
       "      <td>...</td>\n",
       "      <td>...</td>\n",
       "      <td>...</td>\n",
       "    </tr>\n",
       "    <tr>\n",
       "      <th>762</th>\n",
       "      <td>103.359375</td>\n",
       "      <td>82035</td>\n",
       "      <td>1012.777778</td>\n",
       "      <td>0.374013</td>\n",
       "      <td>0.304130</td>\n",
       "      <td>0.092495</td>\n",
       "      <td>0.521156</td>\n",
       "      <td>0.286639</td>\n",
       "      <td>0.082162</td>\n",
       "      <td>0.257107</td>\n",
       "      <td>...</td>\n",
       "      <td>0.001006</td>\n",
       "      <td>0.205645</td>\n",
       "      <td>0.042290</td>\n",
       "      <td>0.002239</td>\n",
       "      <td>0.136951</td>\n",
       "      <td>0.018755</td>\n",
       "      <td>2.363791</td>\n",
       "      <td>1.705199</td>\n",
       "      <td>2.907702</td>\n",
       "      <td>0.0</td>\n",
       "    </tr>\n",
       "    <tr>\n",
       "      <th>763</th>\n",
       "      <td>123.046875</td>\n",
       "      <td>88110</td>\n",
       "      <td>957.717391</td>\n",
       "      <td>0.438950</td>\n",
       "      <td>0.304103</td>\n",
       "      <td>0.092479</td>\n",
       "      <td>0.528010</td>\n",
       "      <td>0.266138</td>\n",
       "      <td>0.070829</td>\n",
       "      <td>0.265046</td>\n",
       "      <td>...</td>\n",
       "      <td>0.001117</td>\n",
       "      <td>0.194458</td>\n",
       "      <td>0.037814</td>\n",
       "      <td>0.001196</td>\n",
       "      <td>0.127162</td>\n",
       "      <td>0.016170</td>\n",
       "      <td>2.354503</td>\n",
       "      <td>1.505799</td>\n",
       "      <td>2.267431</td>\n",
       "      <td>0.0</td>\n",
       "    </tr>\n",
       "    <tr>\n",
       "      <th>764</th>\n",
       "      <td>129.199219</td>\n",
       "      <td>142165</td>\n",
       "      <td>1194.663866</td>\n",
       "      <td>0.421064</td>\n",
       "      <td>0.291973</td>\n",
       "      <td>0.085248</td>\n",
       "      <td>0.481478</td>\n",
       "      <td>0.275792</td>\n",
       "      <td>0.076061</td>\n",
       "      <td>0.255497</td>\n",
       "      <td>...</td>\n",
       "      <td>-0.000018</td>\n",
       "      <td>0.222749</td>\n",
       "      <td>0.049617</td>\n",
       "      <td>-0.000008</td>\n",
       "      <td>0.129603</td>\n",
       "      <td>0.016797</td>\n",
       "      <td>2.609923</td>\n",
       "      <td>1.448661</td>\n",
       "      <td>2.098619</td>\n",
       "      <td>0.0</td>\n",
       "    </tr>\n",
       "    <tr>\n",
       "      <th>765</th>\n",
       "      <td>123.046875</td>\n",
       "      <td>42681</td>\n",
       "      <td>666.890625</td>\n",
       "      <td>0.432369</td>\n",
       "      <td>0.293613</td>\n",
       "      <td>0.086209</td>\n",
       "      <td>0.598642</td>\n",
       "      <td>0.261772</td>\n",
       "      <td>0.068525</td>\n",
       "      <td>0.269832</td>\n",
       "      <td>...</td>\n",
       "      <td>-0.000031</td>\n",
       "      <td>0.239844</td>\n",
       "      <td>0.057525</td>\n",
       "      <td>-0.000151</td>\n",
       "      <td>0.129919</td>\n",
       "      <td>0.016879</td>\n",
       "      <td>2.138558</td>\n",
       "      <td>1.211559</td>\n",
       "      <td>1.467875</td>\n",
       "      <td>0.0</td>\n",
       "    </tr>\n",
       "    <tr>\n",
       "      <th>766</th>\n",
       "      <td>107.666016</td>\n",
       "      <td>192579</td>\n",
       "      <td>1528.404762</td>\n",
       "      <td>0.389213</td>\n",
       "      <td>0.290379</td>\n",
       "      <td>0.084320</td>\n",
       "      <td>0.479551</td>\n",
       "      <td>0.268011</td>\n",
       "      <td>0.071830</td>\n",
       "      <td>0.251538</td>\n",
       "      <td>...</td>\n",
       "      <td>-0.000009</td>\n",
       "      <td>0.222909</td>\n",
       "      <td>0.049688</td>\n",
       "      <td>-0.000036</td>\n",
       "      <td>0.114183</td>\n",
       "      <td>0.013038</td>\n",
       "      <td>4.116898</td>\n",
       "      <td>1.842604</td>\n",
       "      <td>3.395189</td>\n",
       "      <td>0.0</td>\n",
       "    </tr>\n",
       "  </tbody>\n",
       "</table>\n",
       "<p>767 rows × 52 columns</p>\n",
       "</div>"
      ],
      "text/plain": [
       "          tempo  total_beats  average_beats  chroma_stft_mean  \\\n",
       "0    129.199219        45448     688.606061          0.400506   \n",
       "1    151.999081        39347     596.166667          0.524068   \n",
       "2    135.999178       346030    1783.659794          0.541510   \n",
       "3    143.554688        42339     622.632353          0.567836   \n",
       "4    117.453835        31558     584.407407          0.390745   \n",
       "..          ...          ...            ...               ...   \n",
       "762  103.359375        82035    1012.777778          0.374013   \n",
       "763  123.046875        88110     957.717391          0.438950   \n",
       "764  129.199219       142165    1194.663866          0.421064   \n",
       "765  123.046875        42681     666.890625          0.432369   \n",
       "766  107.666016       192579    1528.404762          0.389213   \n",
       "\n",
       "     chroma_stft_std  chroma_stft_var  chroma_cq_mean  chroma_cq_std  \\\n",
       "0           0.298598         0.089161        0.401260       0.315778   \n",
       "1           0.286910         0.082317        0.455447       0.293067   \n",
       "2           0.290565         0.084428        0.398486       0.315170   \n",
       "3           0.253213         0.064117        0.334812       0.302933   \n",
       "4           0.305108         0.093091        0.584273       0.252345   \n",
       "..               ...              ...             ...            ...   \n",
       "762         0.304130         0.092495        0.521156       0.286639   \n",
       "763         0.304103         0.092479        0.528010       0.266138   \n",
       "764         0.291973         0.085248        0.481478       0.275792   \n",
       "765         0.293613         0.086209        0.598642       0.261772   \n",
       "766         0.290379         0.084320        0.479551       0.268011   \n",
       "\n",
       "     chroma_cq_var  chroma_cens_mean  ...  harm_mean  harm_std  harm_var  \\\n",
       "0         0.099715          0.226653  ...  -0.000082  0.131243  0.017225   \n",
       "1         0.085889          0.242035  ...   0.000042  0.334750  0.112057   \n",
       "2         0.099332          0.223880  ...  -0.000003  0.269623  0.072697   \n",
       "3         0.091768          0.200098  ...   0.000005  0.267649  0.071636   \n",
       "4         0.063678          0.272532  ...  -0.000036  0.176786  0.031253   \n",
       "..             ...               ...  ...        ...       ...       ...   \n",
       "762       0.082162          0.257107  ...   0.001006  0.205645  0.042290   \n",
       "763       0.070829          0.265046  ...   0.001117  0.194458  0.037814   \n",
       "764       0.076061          0.255497  ...  -0.000018  0.222749  0.049617   \n",
       "765       0.068525          0.269832  ...  -0.000031  0.239844  0.057525   \n",
       "766       0.071830          0.251538  ...  -0.000009  0.222909  0.049688   \n",
       "\n",
       "     perc_mean  perc_std  perc_var  frame_mean  frame_std  frame_var  class  \n",
       "0     0.000364  0.095278  0.009078    2.236082   1.363174   1.858242    1.0  \n",
       "1    -0.000773  0.104760  0.010975    2.382367   1.317973   1.737054    1.0  \n",
       "2     0.000241  0.110199  0.012144    1.647456   0.919155   0.844845    1.0  \n",
       "3     0.000327  0.105161  0.011059    2.179193   1.335567   1.783739    1.0  \n",
       "4    -0.000375  0.173086  0.029959    2.672617   1.500751   2.252254    1.0  \n",
       "..         ...       ...       ...         ...        ...        ...    ...  \n",
       "762   0.002239  0.136951  0.018755    2.363791   1.705199   2.907702    0.0  \n",
       "763   0.001196  0.127162  0.016170    2.354503   1.505799   2.267431    0.0  \n",
       "764  -0.000008  0.129603  0.016797    2.609923   1.448661   2.098619    0.0  \n",
       "765  -0.000151  0.129919  0.016879    2.138558   1.211559   1.467875    0.0  \n",
       "766  -0.000036  0.114183  0.013038    4.116898   1.842604   3.395189    0.0  \n",
       "\n",
       "[767 rows x 52 columns]"
      ]
     },
     "execution_count": 75,
     "metadata": {},
     "output_type": "execute_result"
    }
   ],
   "source": [
    "data_path = '/Users/gioelepozzi/Desktop/MasterThesis/code/features_extraction/Emotion_features.csv'\n",
    "\n",
    "data = pd.read_csv(data_path)\n",
    "data_features = data.drop(data.columns[0:2], axis=1)\n",
    "\n",
    "a = np.ones(757)\n",
    "b = np.zeros(10)\n",
    "c = np.concatenate((a,b), axis=0)\n",
    "data_c = {'class':c}\n",
    "df = pd.DataFrame(data_c)\n",
    " \n",
    "data_f = data_features.join(df).dropna()\n",
    "data_f"
   ]
  },
  {
   "cell_type": "code",
   "execution_count": 76,
   "metadata": {},
   "outputs": [],
   "source": [
    "features, labels = data_f.drop('class', axis=1).values, data_f['class'].values\n",
    "clf = make_pipeline(ReliefF(n_features_to_select=2, n_neighbors=100),RandomForestClassifier(n_estimators=100))"
   ]
  },
  {
   "cell_type": "code",
   "execution_count": 77,
   "metadata": {},
   "outputs": [
    {
     "name": "stderr",
     "output_type": "stream",
     "text": [
      "/Applications/anaconda3/lib/python3.7/site-packages/sklearn/model_selection/_split.py:1978: FutureWarning: The default value of cv will change from 3 to 5 in version 0.22. Specify it explicitly to silence this warning.\n",
      "  warnings.warn(CV_WARNING, FutureWarning)\n"
     ]
    },
    {
     "name": "stdout",
     "output_type": "stream",
     "text": [
      "0.9752244347803972\n"
     ]
    }
   ],
   "source": [
    "print(np.mean(cross_val_score(clf, features, labels)))"
   ]
  },
  {
   "cell_type": "code",
   "execution_count": 78,
   "metadata": {},
   "outputs": [],
   "source": [
    "from sklearn.model_selection import train_test_split\n",
    "X_train, X_test, y_train, y_test = train_test_split(features, labels)\n"
   ]
  },
  {
   "cell_type": "code",
   "execution_count": 79,
   "metadata": {},
   "outputs": [
    {
     "name": "stdout",
     "output_type": "stream",
     "text": [
      "0 tempo \t\t -0.024838499168276615\n",
      "1 total_beats \t\t 0.057699179069878564\n",
      "2 average_beats \t\t 0.07009779314108108\n",
      "3 chroma_stft_mean \t\t 0.012759051727876834\n",
      "4 chroma_stft_std \t\t 0.030999578696595795\n",
      "5 chroma_stft_var \t\t 0.033310152973202486\n",
      "6 chroma_cq_mean \t\t 0.07520941640532586\n",
      "7 chroma_cq_std \t\t 0.06440925321274206\n",
      "8 chroma_cq_var \t\t 0.06685066745345934\n",
      "9 chroma_cens_mean \t\t 0.059663739659818624\n",
      "10 chroma_cens_std \t\t 0.06402580474279997\n",
      "11 chroma_cens_var \t\t 0.06385001879025368\n",
      "12 melspectrogram_mean \t\t 0.05771758507474198\n",
      "13 melspectrogram_std \t\t 0.06375768501687565\n",
      "14 melspectrogram_var \t\t 0.03817036816696991\n",
      "15 mfcc_mean \t\t 0.05984516377036485\n",
      "16 mfcc_std \t\t 0.07356725295543179\n",
      "17 mfcc_var \t\t 0.05385779337548449\n",
      "18 mfcc_delta_mean \t\t 0.09321499170291292\n",
      "19 mfcc_delta_std \t\t 0.07379139479530031\n",
      "20 mfcc_delta_var \t\t 0.05504297971445866\n",
      "21 cent_mean \t\t 0.1308164071451825\n",
      "22 cent_std \t\t 0.07241131061255604\n",
      "23 cent_var \t\t 0.06480742294005323\n",
      "24 spec_bw_mean \t\t 0.0730935326213019\n",
      "25 spec_bw_std \t\t 0.05923866315298605\n",
      "26 spec_bw_var \t\t 0.037638916077331795\n",
      "27 contrast_mean \t\t 0.05203086374862002\n",
      "28 contrast_std \t\t 0.0033205307448985334\n",
      "29 contrast_var \t\t 0.001516582651951047\n",
      "30 rolloff_mean \t\t 0.10741979949558084\n",
      "31 rolloff_std \t\t 0.0754118784328973\n",
      "32 rolloff_var \t\t 0.05950054690212328\n",
      "33 poly_mean \t\t 0.0746904887921123\n",
      "34 poly_std \t\t 0.07937101741117991\n",
      "35 poly_var \t\t 0.07709017146212283\n",
      "36 tonnetz_mean \t\t -0.007573001649749453\n",
      "37 tonnetz_std \t\t 0.05072992464352483\n",
      "38 tonnetz_var \t\t 0.03508068631521511\n",
      "39 zcr_mean \t\t 0.11036007164834011\n",
      "40 zcr_std \t\t 0.14808787438115678\n",
      "41 zcr_var \t\t 0.14770693800956938\n",
      "42 harm_mean \t\t 0.015334536562347323\n",
      "43 harm_std \t\t 0.05351136943545647\n",
      "44 harm_var \t\t 0.04342709716378461\n",
      "45 perc_mean \t\t 0.010482947850551509\n",
      "46 perc_std \t\t 0.034251498986740264\n",
      "47 perc_var \t\t 0.024203760352299746\n",
      "48 frame_mean \t\t -0.0010884821108907543\n",
      "49 frame_std \t\t -0.004262987074165092\n",
      "50 frame_var \t\t -0.002009074741241813\n"
     ]
    }
   ],
   "source": [
    "fs = ReliefF()\n",
    "fs.fit(X_train, y_train)\n",
    "count = 0\n",
    "\n",
    "for feature_name, feature_score in zip(data_f.drop('class', axis=1).columns,fs.feature_importances_):\n",
    "    print(count, feature_name, '\\t\\t', feature_score)\n",
    "    count = count+1\n"
   ]
  },
  {
   "cell_type": "code",
   "execution_count": 80,
   "metadata": {},
   "outputs": [
    {
     "data": {
      "text/plain": [
       "array([40, 41, 21, 39, 30, 18, 34, 35, 31,  6, 33, 19, 16, 24, 22,  2,  8,\n",
       "       23,  7, 10, 11, 13, 15,  9, 32, 25, 12,  1, 20, 17, 43, 27, 37, 44,\n",
       "       14, 26, 38, 46,  5,  4, 47, 42,  3, 45, 28, 29, 48, 50, 49, 36,  0])"
      ]
     },
     "execution_count": 80,
     "metadata": {},
     "output_type": "execute_result"
    }
   ],
   "source": [
    "fs.top_features_"
   ]
  },
  {
   "cell_type": "code",
   "execution_count": null,
   "metadata": {},
   "outputs": [],
   "source": []
  },
  {
   "cell_type": "markdown",
   "metadata": {},
   "source": [
    "## RRelieFf from https://gitlab.com/moongoal/sklearn-relief"
   ]
  },
  {
   "cell_type": "code",
   "execution_count": 83,
   "metadata": {},
   "outputs": [
    {
     "name": "stdout",
     "output_type": "stream",
     "text": [
      "Collecting sklearn-relief\n",
      "  Downloading https://files.pythonhosted.org/packages/93/ba/c043b16fa8ec373ae92d4448129a4788e0446d893653a88c2c53dc6dcb3c/sklearn_relief-1.0.0b2-py3-none-any.whl\n",
      "Requirement already satisfied: scipy>=1.0.0 in /Applications/anaconda3/lib/python3.7/site-packages (from sklearn-relief) (1.3.1)\n",
      "Requirement already satisfied: scikit-learn>=0.19.1 in /Applications/anaconda3/lib/python3.7/site-packages (from sklearn-relief) (0.21.3)\n",
      "Requirement already satisfied: numpy>=1.13.3 in /Applications/anaconda3/lib/python3.7/site-packages (from sklearn-relief) (1.17.3)\n",
      "Requirement already satisfied: joblib>=0.11 in /Applications/anaconda3/lib/python3.7/site-packages (from scikit-learn>=0.19.1->sklearn-relief) (0.14.0)\n",
      "Installing collected packages: sklearn-relief\n",
      "Successfully installed sklearn-relief-1.0.0b2\n",
      "Note: you may need to restart the kernel to use updated packages.\n"
     ]
    }
   ],
   "source": [
    "%pip install sklearn-relief"
   ]
  },
  {
   "cell_type": "code",
   "execution_count": 84,
   "metadata": {},
   "outputs": [],
   "source": [
    "import sklearn_relief as relief"
   ]
  },
  {
   "cell_type": "code",
   "execution_count": 102,
   "metadata": {},
   "outputs": [
    {
     "name": "stdout",
     "output_type": "stream",
     "text": [
      "(767, 51) (767, 51) (51,)\n"
     ]
    },
    {
     "data": {
      "text/plain": [
       "(51,)"
      ]
     },
     "execution_count": 102,
     "metadata": {},
     "output_type": "execute_result"
    }
   ],
   "source": [
    "print(input_matrix.shape, data_features.shape, label_vector.shape)\n"
   ]
  },
  {
   "cell_type": "code",
   "execution_count": 131,
   "metadata": {},
   "outputs": [
    {
     "name": "stdout",
     "output_type": "stream",
     "text": [
      "(767,) (51, 767) <class 'numpy.ndarray'>\n"
     ]
    }
   ],
   "source": [
    "#labels = data_features.columns\n",
    "input_matrix = data_features.to_numpy()\n",
    "#mT = input_matrix.transpose()\n",
    "label_vector = np.arange(0,767,1)\n",
    "#label_vector = labels\n",
    "\n",
    "print(label_vector.shape, mT.shape, type(label_vector))"
   ]
  },
  {
   "cell_type": "code",
   "execution_count": 132,
   "metadata": {},
   "outputs": [
    {
     "name": "stdout",
     "output_type": "stream",
     "text": [
      "[-4.91398996e-03  6.18988250e+00 -1.33774809e-02  4.38885272e-06\n",
      "  7.43743132e-07  4.05269699e-07 -1.39214841e-05  2.46965079e-06\n",
      "  1.46532382e-06 -3.46757861e-06 -5.76801870e-06 -1.70028822e-06\n",
      " -2.02057420e-03 -1.09758533e-02 -4.64820369e-01 -7.05281416e-04\n",
      " -1.92683628e-03 -8.90823890e-02 -9.67395467e-07 -1.85994480e-04\n",
      " -1.08578989e-03 -8.14910247e-02 -3.89267095e-03 -1.73697971e+00\n",
      " -9.12160571e-02  4.66114369e-03  1.34447253e+01 -4.50465198e-04\n",
      "  9.85652932e-05  1.40121917e-03 -3.16972040e-01  1.31956997e-03\n",
      "  1.17811727e+01 -2.76037759e-04 -3.60355083e-04 -2.21780395e-03\n",
      " -3.26492178e-06 -6.11097426e-07  1.97437533e-08  3.02456560e-06\n",
      "  3.38635085e-07  1.14404339e-07 -1.28442613e-06 -6.86558535e-06\n",
      " -7.82039325e-07 -1.97948818e-07 -1.88702435e-05 -3.51965498e-06\n",
      " -1.94199898e-04 -1.59269778e-04 -6.37443859e-04]\n"
     ]
    }
   ],
   "source": [
    "r = relief.RReliefF(n_features = 3)\n",
    "transformed_matrix = r.fit_transform(input_matrix, label_vector)\n",
    "print(r.w_) # Each i-th weight will be the weight of the i-th feature\n"
   ]
  },
  {
   "cell_type": "code",
   "execution_count": 144,
   "metadata": {},
   "outputs": [],
   "source": [
    "f = np.sort(r.w_)\n"
   ]
  },
  {
   "cell_type": "code",
   "execution_count": null,
   "metadata": {},
   "outputs": [],
   "source": []
  },
  {
   "cell_type": "code",
   "execution_count": null,
   "metadata": {},
   "outputs": [],
   "source": []
  }
 ],
 "metadata": {
  "kernelspec": {
   "display_name": "Python 3",
   "language": "python",
   "name": "python3"
  },
  "language_info": {
   "codemirror_mode": {
    "name": "ipython",
    "version": 3
   },
   "file_extension": ".py",
   "mimetype": "text/x-python",
   "name": "python",
   "nbconvert_exporter": "python",
   "pygments_lexer": "ipython3",
   "version": "3.7.5"
  }
 },
 "nbformat": 4,
 "nbformat_minor": 2
}
