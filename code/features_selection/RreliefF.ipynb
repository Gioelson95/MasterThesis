{
 "cells": [
  {
   "cell_type": "markdown",
   "metadata": {},
   "source": [
    "# Feature Selection based on ReliefF from skebate"
   ]
  },
  {
   "cell_type": "code",
   "execution_count": null,
   "metadata": {},
   "outputs": [],
   "source": [
    "%pip install skrebate"
   ]
  },
  {
   "cell_type": "code",
   "execution_count": 2,
   "metadata": {},
   "outputs": [],
   "source": [
    "import pandas as pd\n",
    "import numpy as np\n",
    "from sklearn.pipeline import make_pipeline\n",
    "from skrebate import ReliefF\n",
    "from sklearn.ensemble import RandomForestClassifier\n",
    "from sklearn.model_selection import cross_val_score, train_test_split"
   ]
  },
  {
   "cell_type": "code",
   "execution_count": 3,
   "metadata": {},
   "outputs": [],
   "source": [
    "path_static_features = '/Users/gioelepozzi/Desktop/data/features_thesis/static_features.csv'\n",
    "path_static_features_EDA = '/Users/gioelepozzi/Desktop/data/features_thesis/static_features_EDA.csv'\n",
    "path_dynamic_features = '/Users/gioelepozzi/Desktop/data/features_thesis/dynamic_features.csv'\n",
    "path_dynamic_features = '/Users/gioelepozzi/Desktop/data/features_thesis/dynamic_features.csv'\n",
    "path_dynamic_features_EDA = '/Users/gioelepozzi/Desktop/data/features_thesis/dynamic_features_EDA.csv'\n",
    "\n",
    "static_features = pd.read_csv(path_static_features)\n",
    "static_header = static_features[['music_ID']]\n",
    "static_features = static_features.drop(columns=['music_ID'])\n",
    "\n",
    "static_features_EDA = pd.read_csv(path_static_features_EDA)\n",
    "static_header_EDA = static_features_EDA[['music_ID','subject_ID']]\n",
    "static_features_EDA = static_features_EDA.drop(columns=['music_ID', 'subject_ID'])\n",
    "\n",
    "dynamic_features = pd.read_csv(path_dynamic_features)\n",
    "dynamic_header = dynamic_features[['music_ID', 'frame']]\n",
    "dynamic_features = dynamic_features.drop(columns=['music_ID', 'frame'])\n",
    "\n",
    "dynamic_features_EDA = pd.read_csv(path_dynamic_features_EDA)\n",
    "dynamic_header_EDA = dynamic_features_EDA[['music_ID', 'subject_ID', 'frame']]\n",
    "dynamic_features_EDA = dynamic_features_EDA.drop(columns=['music_ID', 'subject_ID', 'frame'])"
   ]
  },
  {
   "cell_type": "code",
   "execution_count": 4,
   "metadata": {},
   "outputs": [],
   "source": [
    "# function to add to a dataframe the 'class' column for the ReliefF algorithm\n",
    "\n",
    "def class_f(df):\n",
    "    a = np.ones(df.shape[0]-10)\n",
    "    b = np.zeros(10)\n",
    "    c = np.concatenate((a,b), axis=0)\n",
    "    data_c = {'class':c}\n",
    "    dataframe_c = pd.DataFrame(data_c)\n",
    "    data_f = df.join(dataframe_c).dropna()\n",
    "    return data_f"
   ]
  },
  {
   "cell_type": "code",
   "execution_count": 5,
   "metadata": {},
   "outputs": [],
   "source": [
    "static_features = class_f(static_features)\n",
    "static_features_EDA = class_f(static_features_EDA)\n",
    "dynamic_features = class_f(dynamic_features)\n",
    "dynamic_features_EDA = class_f(dynamic_features_EDA)"
   ]
  },
  {
   "cell_type": "code",
   "execution_count": 6,
   "metadata": {},
   "outputs": [],
   "source": [
    "# function that given a df return the array order of most relevant features\n",
    "\n",
    "def feature_selection(df):\n",
    "    features, labels = df.drop('class', axis=1).values, df['class'].values\n",
    "    clf = make_pipeline(ReliefF(n_features_to_select=2, n_neighbors=100),RandomForestClassifier(n_estimators=100))\n",
    "    #print('score:', np.mean(cross_val_score(clf, features, labels)))\n",
    "    X_train, X_test, y_train, y_test = train_test_split(features, labels)\n",
    "    fs = ReliefF()\n",
    "    fs.fit(X_train, y_train)\n",
    "    \n",
    "    #count = 0\n",
    "    #for feature_name, feature_score in zip(df.drop('class', axis=1).columns,fs.feature_importances_):\n",
    "    #    print(count, feature_name, feature_score)\n",
    "    #    count = count+1\n",
    "    #print('Order of most relevant features:\\n', fs.top_features_)\n",
    "    \n",
    "    return fs.top_features_"
   ]
  },
  {
   "cell_type": "code",
   "execution_count": null,
   "metadata": {},
   "outputs": [],
   "source": [
    "best_static_features = feature_selection(static_features)\n",
    "best_static_features_EDA = feature_selection(static_features_EDA)\n",
    "best_dynamic_features = feature_selection(dynamic_features)\n",
    "best_dynamic_features_EDA = feature_selection(dynamic_features_EDA)"
   ]
  },
  {
   "cell_type": "code",
   "execution_count": null,
   "metadata": {},
   "outputs": [],
   "source": [
    "# function that returns the dataframes with the best 'max_features'-features\n",
    "\n",
    "def best_df(df, features_array, max_features):\n",
    "    best = features_array[:max_features]\n",
    "    df_best = df.iloc[:,best]\n",
    "    \n",
    "    return df_best"
   ]
  },
  {
   "cell_type": "code",
   "execution_count": null,
   "metadata": {},
   "outputs": [],
   "source": [
    "best_static_df = best_df(df=static_features, features_array=best_static_features, max_features=10)\n",
    "best_static_EDA_df = best_df(df=static_features_EDA, features_array=best_static_features_EDA, max_features=10)\n",
    "best_dynamic_df = best_df(df=dynamic_features, features_array=best_dynamic_features, max_features=10)\n",
    "best_dynamic_EDA_df = best_df(df=dynamic_features_EDA, features_array=best_dynamic_features_EDA, max_features=10)"
   ]
  },
  {
   "cell_type": "code",
   "execution_count": null,
   "metadata": {},
   "outputs": [],
   "source": [
    "best_static_df = static_header.join(best_static_df).dropna()\n",
    "best_static_EDA_df = static_header_EDA.join(best_static_EDA_df).dropna()\n",
    "best_dynamic_df = dynamic_header.join(best_dynamic_df).dropna()\n",
    "best_dynamic_EDA_df = dynamic_header_EDA.join(best_dynamic_EDA_df).dropna()"
   ]
  },
  {
   "cell_type": "code",
   "execution_count": null,
   "metadata": {},
   "outputs": [],
   "source": [
    "# save the new df in .csv files\n",
    "\n",
    "best_static_df.to_csv('static_features_RreliefF.csv', index=False)\n",
    "best_static_EDA_df.to_csv('static_features_EDA_RreliefF.csv', index=False)\n",
    "best_dynamic_df.to_csv('dynamic_features_RreliefF.csv', index=False)\n",
    "best_dynamic_EDA_df.to_csv('dynamic_features_EDA_RreliefF.csv', index=False)"
   ]
  },
  {
   "cell_type": "code",
   "execution_count": null,
   "metadata": {},
   "outputs": [],
   "source": []
  }
 ],
 "metadata": {
  "kernelspec": {
   "display_name": "Python 3",
   "language": "python",
   "name": "python3"
  },
  "language_info": {
   "codemirror_mode": {
    "name": "ipython",
    "version": 3
   },
   "file_extension": ".py",
   "mimetype": "text/x-python",
   "name": "python",
   "nbconvert_exporter": "python",
   "pygments_lexer": "ipython3",
   "version": "3.7.5"
  }
 },
 "nbformat": 4,
 "nbformat_minor": 2
}
