{
 "cells": [
  {
   "cell_type": "markdown",
   "metadata": {},
   "source": [
    "# MER algorithm for dynamic features"
   ]
  },
  {
   "cell_type": "markdown",
   "metadata": {},
   "source": [
    "### Load data"
   ]
  },
  {
   "cell_type": "code",
   "execution_count": 1,
   "metadata": {},
   "outputs": [],
   "source": [
    "import pandas as pd\n",
    "import os\n",
    "import numpy as np\n",
    "from math import sqrt\n",
    "from tqdm import tqdm\n",
    "\n",
    "from sklearn.utils import shuffle\n",
    "from sklearn.linear_model import Lasso, ElasticNet, Ridge\n",
    "from sklearn.svm import SVR, LinearSVR\n",
    "from sklearn.neighbors import KNeighborsRegressor\n",
    "from sklearn.tree import DecisionTreeRegressor\n",
    "from sklearn.ensemble import RandomForestRegressor, AdaBoostRegressor\n",
    "from sklearn.neural_network import MLPRegressor\n",
    "from sklearn.metrics import mean_squared_error, make_scorer\n",
    "from scipy.stats import pearsonr\n",
    "from sklearn.preprocessing import StandardScaler\n",
    "from sklearn.model_selection import cross_validate, KFold, train_test_split\n",
    "from sklearn.feature_extraction.text import TfidfVectorizer, CountVectorizer\n",
    "from sklearn.pipeline import make_pipeline\n",
    "from nltk.stem.snowball import SnowballStemmer\n",
    "import IPython.display as ipd"
   ]
  },
  {
   "cell_type": "code",
   "execution_count": 2,
   "metadata": {},
   "outputs": [],
   "source": [
    "audio_features_dir = '/Users/gioelepozzi/Desktop/data/features_thesis/dynamic_features.csv'\n",
    "audio_features_df = pd.read_csv(audio_features_dir)\n",
    "\n",
    "eda_features_dir = '/Users/gioelepozzi/Desktop/data/features_thesis/dynamic_features_EDA.csv'\n",
    "eda_features_df = pd.read_csv(eda_features_dir)\n",
    "eda_dataset = eda_features_df.groupby(by=['music_ID', 'frame'], as_index=False).mean() # mean over 10 subjects\n",
    "eda_dataset = eda_dataset.drop(columns=['subject_ID'])\n",
    "\n",
    "VA_mean_dir = '/Users/gioelepozzi/Desktop/data/annotations_thesis/dynamic_annotations.csv'\n",
    "VA_std_dir = '/Users/gioelepozzi/Desktop/data/annotations_thesis/dynamic_annotations_std.csv'\n",
    "VA_mean_df = pd.read_csv(VA_mean_dir)\n",
    "VA_std_df = pd.read_csv(VA_std_dir)\n",
    "\n",
    "audio_df = pd.merge(audio_features_df, VA_mean_df, on=['music_ID', 'frame'])\n",
    "audio_df = pd.merge(audio_df, VA_std_df, on=['music_ID', 'frame']) # df with audio features and VA values\n",
    "audio_df = audio_df.fillna(0)\n",
    "\n",
    "eda_df = pd.merge(eda_dataset, VA_mean_df, on=['music_ID', 'frame'])\n",
    "eda_df = pd.merge(eda_df, VA_std_df, on=['music_ID', 'frame'])"
   ]
  },
  {
   "cell_type": "code",
   "execution_count": 3,
   "metadata": {},
   "outputs": [],
   "source": [
    "audio_features_v_mean = audio_df.drop(columns=['music_ID', 'frame', 'Arousal(mean)', 'Arousal(std)', 'Valence(std)'])\n",
    "audio_features_a_mean = audio_df.drop(columns=['music_ID', 'frame', 'Valence(mean)', 'Arousal(std)', 'Valence(std)'])\n",
    "audio_features_v_std = audio_df.drop(columns=['music_ID', 'frame', 'Arousal(mean)', 'Valence(mean)', 'Arousal(std)'])\n",
    "audio_features_a_std = audio_df.drop(columns=['music_ID', 'frame', 'Arousal(mean)', 'Valence(mean)', 'Valence(std)'])\n",
    "\n",
    "eda_features_v_mean = eda_df.drop(columns=['music_ID', 'frame', 'Arousal(mean)', 'Arousal(std)', 'Valence(std)'])\n",
    "eda_features_a_mean = eda_df.drop(columns=['music_ID', 'frame', 'Valence(mean)', 'Arousal(std)', 'Valence(std)'])\n",
    "eda_features_v_std = eda_df.drop(columns=['music_ID', 'frame', 'Arousal(mean)', 'Valence(mean)', 'Arousal(std)'])\n",
    "eda_features_a_std = eda_df.drop(columns=['music_ID', 'frame', 'Arousal(mean)', 'Valence(mean)', 'Valence(std)'])\n",
    "\n",
    "arousal_mean = audio_df['Arousal(mean)']\n",
    "valence_mean = audio_df['Valence(mean)']\n",
    "arousal_std = audio_df['Arousal(std)']\n",
    "valence_std = audio_df['Valence(std)']\n",
    "\n",
    "eda_arousal_mean = eda_df['Arousal(mean)']\n",
    "eda_valence_mean = eda_df['Valence(mean)']\n",
    "eda_arousal_std = eda_df['Arousal(std)']\n",
    "eda_valence_std = eda_df['Valence(std)']"
   ]
  },
  {
   "cell_type": "code",
   "execution_count": 4,
   "metadata": {},
   "outputs": [],
   "source": [
    "fusion_dataset = pd.merge(audio_df, eda_df, on=['music_ID', 'frame'])\n",
    "fusion_features = fusion_dataset.drop(columns=['music_ID', 'frame'])"
   ]
  },
  {
   "cell_type": "code",
   "execution_count": 5,
   "metadata": {},
   "outputs": [],
   "source": [
    "def load_audio_dataset(data):\n",
    "    features = data[data.columns[:-1]].values\n",
    "    labels = data[data.columns[-1]].values\n",
    "    #scaler = StandardScaler(copy=False)\n",
    "    #scaler.fit_transform(features)\n",
    "    return features, labels"
   ]
  },
  {
   "cell_type": "markdown",
   "metadata": {},
   "source": [
    "### Regressors"
   ]
  },
  {
   "cell_type": "code",
   "execution_count": 6,
   "metadata": {},
   "outputs": [],
   "source": [
    "def rmse(y, y_pred):\n",
    "    return sqrt(mean_squared_error(y, y_pred))\n",
    "\n",
    "regressors = {\n",
    "    'Lasso': Lasso(),\n",
    "    'ElasticNet': ElasticNet(),\n",
    "    'Ridge': Ridge(),\n",
    "    'kNN': KNeighborsRegressor(),\n",
    "    'SVRrbf': SVR(kernel='rbf', gamma='scale'),\n",
    "    #'SVRpoly': SVR(kernel='poly', gamma='scale'),\n",
    "    #'SVRlinear': SVR(kernel='linear', gamma='scale'),\n",
    "    'DT': DecisionTreeRegressor(max_depth=5),\n",
    "    'RF': RandomForestRegressor(max_depth=5, n_estimators=10, max_features=1),\n",
    "    #'MLP': MLPRegressor(hidden_layer_sizes=(200,50), max_iter=2000),\n",
    "    #'AdaBoost': AdaBoostRegressor(n_estimators=10),\n",
    "}"
   ]
  },
  {
   "cell_type": "code",
   "execution_count": 7,
   "metadata": {},
   "outputs": [],
   "source": [
    "def cross_val_regression(regressors, features, labels, preprocessfunc):\n",
    "    columns = list(regressors.keys())\n",
    "    scores = pd.DataFrame(columns=columns, index=['RMSE'])\n",
    "\n",
    "    for reg_name, reg in tqdm(regressors.items(), desc='regressors'):\n",
    "        scorer = {'rmse': make_scorer(rmse)}\n",
    "        reg = make_pipeline(*preprocessfunc, reg)\n",
    "        reg_score = cross_validate(reg, features, labels, scoring=scorer, cv=10, return_train_score=False) \n",
    "        scores.loc['RMSE', reg_name] = reg_score['test_rmse'].mean()\n",
    "#         scores.loc['R', reg_name] = reg_score['test_r'].mean()\n",
    "    return scores\n",
    "\n",
    "def format_scores(scores):\n",
    "    def highlight(s):\n",
    "        is_min = s == min(s)\n",
    "#         is_max = s == max(s)\n",
    "#         is_max_or_min = (is_min | is_max)\n",
    "        return ['background-color: yellow' if v else '' for v in is_min]\n",
    "    scores = scores.style.apply(highlight, axis=1, subset=pd.IndexSlice[:, :scores.columns[-2]])\n",
    "    return scores.format('{:.3f}')\n",
    "\n",
    "def regression_results(regressors, trainset, testset, featureNames, labelName, filePrefix, preprocessfunc):\n",
    "    X_train = trainset[featureNames]\n",
    "    y_train = trainset[labelName]\n",
    "    X_test = testset[featureNames]\n",
    "    y_test = testset[labelName]\n",
    "\n",
    "    columns = ['music_ID', 'y_test'] + list(regressors.keys())\n",
    "    results = pd.DataFrame(columns=columns)\n",
    "    results['music_ID'] = testset['music_ID']\n",
    "    results['y_test'] = y_test.values\n",
    "    \n",
    "    for reg_name, reg in tqdm(regressors.items(), desc='regressors'):\n",
    "        reg = make_pipeline(*preprocessfunc, reg)\n",
    "        reg.fit(X_train, y_train)\n",
    "        y_pred = reg.predict(X_test)\n",
    "        results[reg_name] = y_pred\n",
    "        results.to_csv(os.path.join('temp_results',f'{filePrefix}_regression_results_{labelName}.csv'))\n",
    "    \n",
    "def compute_rmse_across_songs(resultsFile):\n",
    "    results = pd.read_csv(resultsFile,index_col=0).dropna(axis=1, how='any')\n",
    "    columns = results.columns[2:]\n",
    "    scores = pd.DataFrame(columns=columns, index=['rmse_across_segments', 'rmse_across_songs'])\n",
    "    rmse_across_songs = {}\n",
    "    testsongs_num = len(results['music_ID'].unique())\n",
    "\n",
    "    for reg_name in columns:\n",
    "        scores.loc['rmse_across_segments', reg_name] = rmse(results['y_test'], results[reg_name])\n",
    "        rmse_across_songs[reg_name] = 0\n",
    "\n",
    "    for i, g in results.groupby('music_ID'):\n",
    "        for reg_name in columns:\n",
    "            rmse_across_songs[reg_name] += rmse(g['y_test'], g[reg_name])\n",
    "\n",
    "    for reg_name in columns:\n",
    "        scores.loc['rmse_across_songs', reg_name] = rmse_across_songs[reg_name]/testsongs_num\n",
    "    \n",
    "    mean_rmse = scores.mean(axis=1)\n",
    "    std_rmse = scores.std(axis=1)\n",
    "    \n",
    "    scores['Mean'] = mean_rmse\n",
    "    scores['std'] = std_rmse\n",
    "    ipd.display(format_scores(scores))"
   ]
  },
  {
   "cell_type": "code",
   "execution_count": 8,
   "metadata": {},
   "outputs": [
    {
     "name": "stdout",
     "output_type": "stream",
     "text": [
      "[63, 490, 34, 743, 104, 177, 79, 894, 14, 668, 683, 151, 504, 516, 355, 98, 97, 579, 892, 837, 152, 169, 388, 391, 561, 850, 985, 958, 572, 514, 625, 791, 517, 507, 501, 1000, 803, 457, 403, 670, 51, 798, 59, 531, 466, 503, 794, 568, 279, 103, 350, 917, 428, 417, 393, 571, 354, 283, 906, 149, 56, 128, 742, 993, 94, 754, 199, 57, 576, 463, 284, 126, 488, 253, 227, 730, 861]\n"
     ]
    }
   ],
   "source": [
    "songs = audio_df['music_ID'].unique()\n",
    "songs = shuffle(songs, random_state=3)\n",
    "test_num = round(len(songs)*0.1)\n",
    "testsongs = songs[:test_num]\n",
    "print(list(testsongs))"
   ]
  },
  {
   "cell_type": "markdown",
   "metadata": {},
   "source": [
    "### Multiple regressors on audio features"
   ]
  },
  {
   "cell_type": "code",
   "execution_count": 9,
   "metadata": {},
   "outputs": [
    {
     "name": "stderr",
     "output_type": "stream",
     "text": [
      "\r",
      "regressors:   0%|          | 0/7 [00:00<?, ?it/s]"
     ]
    },
    {
     "name": "stdout",
     "output_type": "stream",
     "text": [
      "Audio Features:\n",
      "\n",
      "In Arousal dimension...\n"
     ]
    },
    {
     "name": "stderr",
     "output_type": "stream",
     "text": [
      "regressors: 100%|██████████| 7/7 [01:01<00:00,  8.85s/it]\n",
      "regressors:  14%|█▍        | 1/7 [00:00<00:00,  6.74it/s]"
     ]
    },
    {
     "name": "stdout",
     "output_type": "stream",
     "text": [
      "In Valence dimension...\n"
     ]
    },
    {
     "name": "stderr",
     "output_type": "stream",
     "text": [
      "regressors: 100%|██████████| 7/7 [01:12<00:00, 10.36s/it]\n"
     ]
    }
   ],
   "source": [
    "iftestset = audio_df['music_ID'].apply(lambda x: x in testsongs)\n",
    "testset = audio_df[iftestset]\n",
    "trainset = audio_df[~iftestset]\n",
    "prefunc = [StandardScaler()]\n",
    "featureNames = audio_df.columns[2:-4]\n",
    "\n",
    "print('Audio Features:\\n')\n",
    "\n",
    "print('In Arousal dimension...')\n",
    "regression_results(regressors, trainset, testset, featureNames, 'Arousal(mean)', 'audio', prefunc)\n",
    "\n",
    "print('In Valence dimension...')\n",
    "regression_results(regressors, trainset, testset, featureNames, 'Valence(mean)', 'audio', prefunc)"
   ]
  },
  {
   "cell_type": "code",
   "execution_count": 10,
   "metadata": {},
   "outputs": [
    {
     "name": "stdout",
     "output_type": "stream",
     "text": [
      "In Arousal dimension...\n"
     ]
    },
    {
     "data": {
      "text/html": [
       "<style  type=\"text/css\" >\n",
       "    #T_f7882afa_35fc_11ea_a0c5_acde48001122row0_col4 {\n",
       "            background-color:  yellow;\n",
       "        }    #T_f7882afa_35fc_11ea_a0c5_acde48001122row1_col4 {\n",
       "            background-color:  yellow;\n",
       "        }</style><table id=\"T_f7882afa_35fc_11ea_a0c5_acde48001122\" ><thead>    <tr>        <th class=\"blank level0\" ></th>        <th class=\"col_heading level0 col0\" >Lasso</th>        <th class=\"col_heading level0 col1\" >ElasticNet</th>        <th class=\"col_heading level0 col2\" >Ridge</th>        <th class=\"col_heading level0 col3\" >kNN</th>        <th class=\"col_heading level0 col4\" >SVRrbf</th>        <th class=\"col_heading level0 col5\" >DT</th>        <th class=\"col_heading level0 col6\" >RF</th>        <th class=\"col_heading level0 col7\" >Mean</th>        <th class=\"col_heading level0 col8\" >std</th>    </tr></thead><tbody>\n",
       "                <tr>\n",
       "                        <th id=\"T_f7882afa_35fc_11ea_a0c5_acde48001122level0_row0\" class=\"row_heading level0 row0\" >rmse_across_segments</th>\n",
       "                        <td id=\"T_f7882afa_35fc_11ea_a0c5_acde48001122row0_col0\" class=\"data row0 col0\" >0.187</td>\n",
       "                        <td id=\"T_f7882afa_35fc_11ea_a0c5_acde48001122row0_col1\" class=\"data row0 col1\" >0.187</td>\n",
       "                        <td id=\"T_f7882afa_35fc_11ea_a0c5_acde48001122row0_col2\" class=\"data row0 col2\" >0.120</td>\n",
       "                        <td id=\"T_f7882afa_35fc_11ea_a0c5_acde48001122row0_col3\" class=\"data row0 col3\" >0.116</td>\n",
       "                        <td id=\"T_f7882afa_35fc_11ea_a0c5_acde48001122row0_col4\" class=\"data row0 col4\" >0.103</td>\n",
       "                        <td id=\"T_f7882afa_35fc_11ea_a0c5_acde48001122row0_col5\" class=\"data row0 col5\" >0.118</td>\n",
       "                        <td id=\"T_f7882afa_35fc_11ea_a0c5_acde48001122row0_col6\" class=\"data row0 col6\" >0.145</td>\n",
       "                        <td id=\"T_f7882afa_35fc_11ea_a0c5_acde48001122row0_col7\" class=\"data row0 col7\" >0.140</td>\n",
       "                        <td id=\"T_f7882afa_35fc_11ea_a0c5_acde48001122row0_col8\" class=\"data row0 col8\" >0.034</td>\n",
       "            </tr>\n",
       "            <tr>\n",
       "                        <th id=\"T_f7882afa_35fc_11ea_a0c5_acde48001122level0_row1\" class=\"row_heading level0 row1\" >rmse_across_songs</th>\n",
       "                        <td id=\"T_f7882afa_35fc_11ea_a0c5_acde48001122row1_col0\" class=\"data row1 col0\" >0.158</td>\n",
       "                        <td id=\"T_f7882afa_35fc_11ea_a0c5_acde48001122row1_col1\" class=\"data row1 col1\" >0.158</td>\n",
       "                        <td id=\"T_f7882afa_35fc_11ea_a0c5_acde48001122row1_col2\" class=\"data row1 col2\" >0.085</td>\n",
       "                        <td id=\"T_f7882afa_35fc_11ea_a0c5_acde48001122row1_col3\" class=\"data row1 col3\" >0.104</td>\n",
       "                        <td id=\"T_f7882afa_35fc_11ea_a0c5_acde48001122row1_col4\" class=\"data row1 col4\" >0.085</td>\n",
       "                        <td id=\"T_f7882afa_35fc_11ea_a0c5_acde48001122row1_col5\" class=\"data row1 col5\" >0.095</td>\n",
       "                        <td id=\"T_f7882afa_35fc_11ea_a0c5_acde48001122row1_col6\" class=\"data row1 col6\" >0.118</td>\n",
       "                        <td id=\"T_f7882afa_35fc_11ea_a0c5_acde48001122row1_col7\" class=\"data row1 col7\" >0.115</td>\n",
       "                        <td id=\"T_f7882afa_35fc_11ea_a0c5_acde48001122row1_col8\" class=\"data row1 col8\" >0.032</td>\n",
       "            </tr>\n",
       "    </tbody></table>"
      ],
      "text/plain": [
       "<pandas.io.formats.style.Styler at 0x1198cb8d0>"
      ]
     },
     "metadata": {},
     "output_type": "display_data"
    },
    {
     "name": "stdout",
     "output_type": "stream",
     "text": [
      "In Valence dimension...\n"
     ]
    },
    {
     "data": {
      "text/html": [
       "<style  type=\"text/css\" >\n",
       "    #T_f7b2b874_35fc_11ea_a0c5_acde48001122row0_col4 {\n",
       "            background-color:  yellow;\n",
       "        }    #T_f7b2b874_35fc_11ea_a0c5_acde48001122row1_col4 {\n",
       "            background-color:  yellow;\n",
       "        }</style><table id=\"T_f7b2b874_35fc_11ea_a0c5_acde48001122\" ><thead>    <tr>        <th class=\"blank level0\" ></th>        <th class=\"col_heading level0 col0\" >Lasso</th>        <th class=\"col_heading level0 col1\" >ElasticNet</th>        <th class=\"col_heading level0 col2\" >Ridge</th>        <th class=\"col_heading level0 col3\" >kNN</th>        <th class=\"col_heading level0 col4\" >SVRrbf</th>        <th class=\"col_heading level0 col5\" >DT</th>        <th class=\"col_heading level0 col6\" >RF</th>        <th class=\"col_heading level0 col7\" >Mean</th>        <th class=\"col_heading level0 col8\" >std</th>    </tr></thead><tbody>\n",
       "                <tr>\n",
       "                        <th id=\"T_f7b2b874_35fc_11ea_a0c5_acde48001122level0_row0\" class=\"row_heading level0 row0\" >rmse_across_segments</th>\n",
       "                        <td id=\"T_f7b2b874_35fc_11ea_a0c5_acde48001122row0_col0\" class=\"data row0 col0\" >0.157</td>\n",
       "                        <td id=\"T_f7b2b874_35fc_11ea_a0c5_acde48001122row0_col1\" class=\"data row0 col1\" >0.157</td>\n",
       "                        <td id=\"T_f7b2b874_35fc_11ea_a0c5_acde48001122row0_col2\" class=\"data row0 col2\" >0.140</td>\n",
       "                        <td id=\"T_f7b2b874_35fc_11ea_a0c5_acde48001122row0_col3\" class=\"data row0 col3\" >0.135</td>\n",
       "                        <td id=\"T_f7b2b874_35fc_11ea_a0c5_acde48001122row0_col4\" class=\"data row0 col4\" >0.125</td>\n",
       "                        <td id=\"T_f7b2b874_35fc_11ea_a0c5_acde48001122row0_col5\" class=\"data row0 col5\" >0.128</td>\n",
       "                        <td id=\"T_f7b2b874_35fc_11ea_a0c5_acde48001122row0_col6\" class=\"data row0 col6\" >0.130</td>\n",
       "                        <td id=\"T_f7b2b874_35fc_11ea_a0c5_acde48001122row0_col7\" class=\"data row0 col7\" >0.139</td>\n",
       "                        <td id=\"T_f7b2b874_35fc_11ea_a0c5_acde48001122row0_col8\" class=\"data row0 col8\" >0.013</td>\n",
       "            </tr>\n",
       "            <tr>\n",
       "                        <th id=\"T_f7b2b874_35fc_11ea_a0c5_acde48001122level0_row1\" class=\"row_heading level0 row1\" >rmse_across_songs</th>\n",
       "                        <td id=\"T_f7b2b874_35fc_11ea_a0c5_acde48001122row1_col0\" class=\"data row1 col0\" >0.128</td>\n",
       "                        <td id=\"T_f7b2b874_35fc_11ea_a0c5_acde48001122row1_col1\" class=\"data row1 col1\" >0.128</td>\n",
       "                        <td id=\"T_f7b2b874_35fc_11ea_a0c5_acde48001122row1_col2\" class=\"data row1 col2\" >0.105</td>\n",
       "                        <td id=\"T_f7b2b874_35fc_11ea_a0c5_acde48001122row1_col3\" class=\"data row1 col3\" >0.112</td>\n",
       "                        <td id=\"T_f7b2b874_35fc_11ea_a0c5_acde48001122row1_col4\" class=\"data row1 col4\" >0.100</td>\n",
       "                        <td id=\"T_f7b2b874_35fc_11ea_a0c5_acde48001122row1_col5\" class=\"data row1 col5\" >0.104</td>\n",
       "                        <td id=\"T_f7b2b874_35fc_11ea_a0c5_acde48001122row1_col6\" class=\"data row1 col6\" >0.104</td>\n",
       "                        <td id=\"T_f7b2b874_35fc_11ea_a0c5_acde48001122row1_col7\" class=\"data row1 col7\" >0.111</td>\n",
       "                        <td id=\"T_f7b2b874_35fc_11ea_a0c5_acde48001122row1_col8\" class=\"data row1 col8\" >0.012</td>\n",
       "            </tr>\n",
       "    </tbody></table>"
      ],
      "text/plain": [
       "<pandas.io.formats.style.Styler at 0x11c95df90>"
      ]
     },
     "metadata": {},
     "output_type": "display_data"
    }
   ],
   "source": [
    "print('In Arousal dimension...')\n",
    "compute_rmse_across_songs(os.path.join('temp_results','audio_regression_results_Arousal(mean).csv'))\n",
    "print('In Valence dimension...')\n",
    "compute_rmse_across_songs(os.path.join('temp_results','audio_regression_results_Valence(mean).csv'))"
   ]
  },
  {
   "cell_type": "markdown",
   "metadata": {},
   "source": [
    "### Multiple regressors on EDA features"
   ]
  },
  {
   "cell_type": "code",
   "execution_count": 11,
   "metadata": {},
   "outputs": [
    {
     "name": "stderr",
     "output_type": "stream",
     "text": [
      "regressors:  29%|██▊       | 2/7 [00:00<00:00, 15.74it/s]"
     ]
    },
    {
     "name": "stdout",
     "output_type": "stream",
     "text": [
      "In Arousal dimension...\n"
     ]
    },
    {
     "name": "stderr",
     "output_type": "stream",
     "text": [
      "regressors: 100%|██████████| 7/7 [00:22<00:00,  3.20s/it]\n",
      "regressors:  29%|██▊       | 2/7 [00:00<00:00, 15.75it/s]"
     ]
    },
    {
     "name": "stdout",
     "output_type": "stream",
     "text": [
      "In Valence dimension...\n"
     ]
    },
    {
     "name": "stderr",
     "output_type": "stream",
     "text": [
      "regressors: 100%|██████████| 7/7 [00:21<00:00,  3.01s/it]\n"
     ]
    }
   ],
   "source": [
    "iftestset = eda_df['music_ID'].apply(lambda x: x in testsongs)\n",
    "testset = eda_df[iftestset]\n",
    "trainset = eda_df[~iftestset]\n",
    "prefunc = [StandardScaler()]\n",
    "featureNames = list(set(eda_df.columns).difference({'subject_ID', 'music_ID', 'frame', \n",
    "                                                         'Arousal(mean)', 'Valence(mean)'}))\n",
    "\n",
    "print('In Arousal dimension...')\n",
    "regression_results(regressors, trainset, testset, featureNames, 'Arousal(mean)', 'eda', prefunc)\n",
    "\n",
    "print('In Valence dimension...')\n",
    "regression_results(regressors, trainset, testset, featureNames, 'Valence(mean)', 'eda', prefunc)"
   ]
  },
  {
   "cell_type": "code",
   "execution_count": 12,
   "metadata": {},
   "outputs": [
    {
     "name": "stdout",
     "output_type": "stream",
     "text": [
      "In Arousal dimension...\n"
     ]
    },
    {
     "data": {
      "text/html": [
       "<style  type=\"text/css\" >\n",
       "    #T_4de27b9e_35fd_11ea_a0c5_acde48001122row0_col4 {\n",
       "            background-color:  yellow;\n",
       "        }    #T_4de27b9e_35fd_11ea_a0c5_acde48001122row1_col2 {\n",
       "            background-color:  yellow;\n",
       "        }</style><table id=\"T_4de27b9e_35fd_11ea_a0c5_acde48001122\" ><thead>    <tr>        <th class=\"blank level0\" ></th>        <th class=\"col_heading level0 col0\" >Lasso</th>        <th class=\"col_heading level0 col1\" >ElasticNet</th>        <th class=\"col_heading level0 col2\" >Ridge</th>        <th class=\"col_heading level0 col3\" >kNN</th>        <th class=\"col_heading level0 col4\" >SVRrbf</th>        <th class=\"col_heading level0 col5\" >DT</th>        <th class=\"col_heading level0 col6\" >RF</th>        <th class=\"col_heading level0 col7\" >Mean</th>        <th class=\"col_heading level0 col8\" >std</th>    </tr></thead><tbody>\n",
       "                <tr>\n",
       "                        <th id=\"T_4de27b9e_35fd_11ea_a0c5_acde48001122level0_row0\" class=\"row_heading level0 row0\" >rmse_across_segments</th>\n",
       "                        <td id=\"T_4de27b9e_35fd_11ea_a0c5_acde48001122row0_col0\" class=\"data row0 col0\" >0.181</td>\n",
       "                        <td id=\"T_4de27b9e_35fd_11ea_a0c5_acde48001122row0_col1\" class=\"data row0 col1\" >0.181</td>\n",
       "                        <td id=\"T_4de27b9e_35fd_11ea_a0c5_acde48001122row0_col2\" class=\"data row0 col2\" >0.147</td>\n",
       "                        <td id=\"T_4de27b9e_35fd_11ea_a0c5_acde48001122row0_col3\" class=\"data row0 col3\" >0.172</td>\n",
       "                        <td id=\"T_4de27b9e_35fd_11ea_a0c5_acde48001122row0_col4\" class=\"data row0 col4\" >0.146</td>\n",
       "                        <td id=\"T_4de27b9e_35fd_11ea_a0c5_acde48001122row0_col5\" class=\"data row0 col5\" >0.150</td>\n",
       "                        <td id=\"T_4de27b9e_35fd_11ea_a0c5_acde48001122row0_col6\" class=\"data row0 col6\" >0.174</td>\n",
       "                        <td id=\"T_4de27b9e_35fd_11ea_a0c5_acde48001122row0_col7\" class=\"data row0 col7\" >0.164</td>\n",
       "                        <td id=\"T_4de27b9e_35fd_11ea_a0c5_acde48001122row0_col8\" class=\"data row0 col8\" >0.016</td>\n",
       "            </tr>\n",
       "            <tr>\n",
       "                        <th id=\"T_4de27b9e_35fd_11ea_a0c5_acde48001122level0_row1\" class=\"row_heading level0 row1\" >rmse_across_songs</th>\n",
       "                        <td id=\"T_4de27b9e_35fd_11ea_a0c5_acde48001122row1_col0\" class=\"data row1 col0\" >0.151</td>\n",
       "                        <td id=\"T_4de27b9e_35fd_11ea_a0c5_acde48001122row1_col1\" class=\"data row1 col1\" >0.151</td>\n",
       "                        <td id=\"T_4de27b9e_35fd_11ea_a0c5_acde48001122row1_col2\" class=\"data row1 col2\" >0.113</td>\n",
       "                        <td id=\"T_4de27b9e_35fd_11ea_a0c5_acde48001122row1_col3\" class=\"data row1 col3\" >0.152</td>\n",
       "                        <td id=\"T_4de27b9e_35fd_11ea_a0c5_acde48001122row1_col4\" class=\"data row1 col4\" >0.121</td>\n",
       "                        <td id=\"T_4de27b9e_35fd_11ea_a0c5_acde48001122row1_col5\" class=\"data row1 col5\" >0.129</td>\n",
       "                        <td id=\"T_4de27b9e_35fd_11ea_a0c5_acde48001122row1_col6\" class=\"data row1 col6\" >0.146</td>\n",
       "                        <td id=\"T_4de27b9e_35fd_11ea_a0c5_acde48001122row1_col7\" class=\"data row1 col7\" >0.137</td>\n",
       "                        <td id=\"T_4de27b9e_35fd_11ea_a0c5_acde48001122row1_col8\" class=\"data row1 col8\" >0.016</td>\n",
       "            </tr>\n",
       "    </tbody></table>"
      ],
      "text/plain": [
       "<pandas.io.formats.style.Styler at 0x1101f3150>"
      ]
     },
     "metadata": {},
     "output_type": "display_data"
    },
    {
     "name": "stdout",
     "output_type": "stream",
     "text": [
      "In Valence dimension...\n"
     ]
    },
    {
     "data": {
      "text/html": [
       "<style  type=\"text/css\" >\n",
       "    #T_4e018732_35fd_11ea_a0c5_acde48001122row0_col4 {\n",
       "            background-color:  yellow;\n",
       "        }    #T_4e018732_35fd_11ea_a0c5_acde48001122row1_col2 {\n",
       "            background-color:  yellow;\n",
       "        }</style><table id=\"T_4e018732_35fd_11ea_a0c5_acde48001122\" ><thead>    <tr>        <th class=\"blank level0\" ></th>        <th class=\"col_heading level0 col0\" >Lasso</th>        <th class=\"col_heading level0 col1\" >ElasticNet</th>        <th class=\"col_heading level0 col2\" >Ridge</th>        <th class=\"col_heading level0 col3\" >kNN</th>        <th class=\"col_heading level0 col4\" >SVRrbf</th>        <th class=\"col_heading level0 col5\" >DT</th>        <th class=\"col_heading level0 col6\" >RF</th>        <th class=\"col_heading level0 col7\" >Mean</th>        <th class=\"col_heading level0 col8\" >std</th>    </tr></thead><tbody>\n",
       "                <tr>\n",
       "                        <th id=\"T_4e018732_35fd_11ea_a0c5_acde48001122level0_row0\" class=\"row_heading level0 row0\" >rmse_across_segments</th>\n",
       "                        <td id=\"T_4e018732_35fd_11ea_a0c5_acde48001122row0_col0\" class=\"data row0 col0\" >0.152</td>\n",
       "                        <td id=\"T_4e018732_35fd_11ea_a0c5_acde48001122row0_col1\" class=\"data row0 col1\" >0.152</td>\n",
       "                        <td id=\"T_4e018732_35fd_11ea_a0c5_acde48001122row0_col2\" class=\"data row0 col2\" >0.118</td>\n",
       "                        <td id=\"T_4e018732_35fd_11ea_a0c5_acde48001122row0_col3\" class=\"data row0 col3\" >0.138</td>\n",
       "                        <td id=\"T_4e018732_35fd_11ea_a0c5_acde48001122row0_col4\" class=\"data row0 col4\" >0.117</td>\n",
       "                        <td id=\"T_4e018732_35fd_11ea_a0c5_acde48001122row0_col5\" class=\"data row0 col5\" >0.121</td>\n",
       "                        <td id=\"T_4e018732_35fd_11ea_a0c5_acde48001122row0_col6\" class=\"data row0 col6\" >0.150</td>\n",
       "                        <td id=\"T_4e018732_35fd_11ea_a0c5_acde48001122row0_col7\" class=\"data row0 col7\" >0.135</td>\n",
       "                        <td id=\"T_4e018732_35fd_11ea_a0c5_acde48001122row0_col8\" class=\"data row0 col8\" >0.016</td>\n",
       "            </tr>\n",
       "            <tr>\n",
       "                        <th id=\"T_4e018732_35fd_11ea_a0c5_acde48001122level0_row1\" class=\"row_heading level0 row1\" >rmse_across_songs</th>\n",
       "                        <td id=\"T_4e018732_35fd_11ea_a0c5_acde48001122row1_col0\" class=\"data row1 col0\" >0.123</td>\n",
       "                        <td id=\"T_4e018732_35fd_11ea_a0c5_acde48001122row1_col1\" class=\"data row1 col1\" >0.123</td>\n",
       "                        <td id=\"T_4e018732_35fd_11ea_a0c5_acde48001122row1_col2\" class=\"data row1 col2\" >0.102</td>\n",
       "                        <td id=\"T_4e018732_35fd_11ea_a0c5_acde48001122row1_col3\" class=\"data row1 col3\" >0.126</td>\n",
       "                        <td id=\"T_4e018732_35fd_11ea_a0c5_acde48001122row1_col4\" class=\"data row1 col4\" >0.105</td>\n",
       "                        <td id=\"T_4e018732_35fd_11ea_a0c5_acde48001122row1_col5\" class=\"data row1 col5\" >0.106</td>\n",
       "                        <td id=\"T_4e018732_35fd_11ea_a0c5_acde48001122row1_col6\" class=\"data row1 col6\" >0.122</td>\n",
       "                        <td id=\"T_4e018732_35fd_11ea_a0c5_acde48001122row1_col7\" class=\"data row1 col7\" >0.115</td>\n",
       "                        <td id=\"T_4e018732_35fd_11ea_a0c5_acde48001122row1_col8\" class=\"data row1 col8\" >0.010</td>\n",
       "            </tr>\n",
       "    </tbody></table>"
      ],
      "text/plain": [
       "<pandas.io.formats.style.Styler at 0x1a2a9456d0>"
      ]
     },
     "metadata": {},
     "output_type": "display_data"
    }
   ],
   "source": [
    "print('In Arousal dimension...')\n",
    "compute_rmse_across_songs(os.path.join('temp_results','eda_regression_results_Arousal(mean).csv'))\n",
    "print('In Valence dimension...')\n",
    "compute_rmse_across_songs(os.path.join('temp_results','eda_regression_results_Valence(mean).csv'))"
   ]
  },
  {
   "cell_type": "markdown",
   "metadata": {},
   "source": [
    "### Multiple regressors on audio + EDA features"
   ]
  },
  {
   "cell_type": "code",
   "execution_count": 20,
   "metadata": {},
   "outputs": [
    {
     "name": "stderr",
     "output_type": "stream",
     "text": [
      "regressors:  14%|█▍        | 1/7 [00:00<00:00,  6.80it/s]"
     ]
    },
    {
     "name": "stdout",
     "output_type": "stream",
     "text": [
      "In Arousal dimension...\n"
     ]
    },
    {
     "name": "stderr",
     "output_type": "stream",
     "text": [
      "regressors: 100%|██████████| 7/7 [00:15<00:00,  2.14s/it]\n",
      "regressors:  14%|█▍        | 1/7 [00:00<00:00,  7.26it/s]"
     ]
    },
    {
     "name": "stdout",
     "output_type": "stream",
     "text": [
      "In Valence dimension...\n"
     ]
    },
    {
     "name": "stderr",
     "output_type": "stream",
     "text": [
      "regressors: 100%|██████████| 7/7 [00:14<00:00,  2.11s/it]\n"
     ]
    }
   ],
   "source": [
    "iftestset = fusion_dataset['music_ID'].apply(lambda x: x in testsongs)\n",
    "testset = fusion_dataset[iftestset]\n",
    "trainset = fusion_dataset[~iftestset]\n",
    "prefunc = [StandardScaler()]\n",
    "featureNames = list(set(fusion_dataset.columns).difference({'subject_ID', 'music_ID', 'frame', \n",
    "                                                         'Arousal(mean)_y', 'Valence(mean)_y'}))\n",
    "print('In Arousal dimension...')\n",
    "regression_results(regressors, trainset, testset, featureNames, 'Arousal(mean)_y', 'mean_fusion', prefunc)\n",
    "\n",
    "print('In Valence dimension...')\n",
    "regression_results(regressors, trainset, testset, featureNames, 'Valence(mean)_y', 'mean_fusion', prefunc)"
   ]
  },
  {
   "cell_type": "code",
   "execution_count": 22,
   "metadata": {},
   "outputs": [
    {
     "name": "stdout",
     "output_type": "stream",
     "text": [
      "In Arousal dimension...\n"
     ]
    },
    {
     "data": {
      "text/html": [
       "<style  type=\"text/css\" >\n",
       "    #T_90477eac_35fe_11ea_a0c5_acde48001122row0_col2 {\n",
       "            background-color:  yellow;\n",
       "        }    #T_90477eac_35fe_11ea_a0c5_acde48001122row1_col2 {\n",
       "            background-color:  yellow;\n",
       "        }</style><table id=\"T_90477eac_35fe_11ea_a0c5_acde48001122\" ><thead>    <tr>        <th class=\"blank level0\" ></th>        <th class=\"col_heading level0 col0\" >Lasso</th>        <th class=\"col_heading level0 col1\" >ElasticNet</th>        <th class=\"col_heading level0 col2\" >Ridge</th>        <th class=\"col_heading level0 col3\" >kNN</th>        <th class=\"col_heading level0 col4\" >SVRrbf</th>        <th class=\"col_heading level0 col5\" >DT</th>        <th class=\"col_heading level0 col6\" >RF</th>        <th class=\"col_heading level0 col7\" >Mean</th>        <th class=\"col_heading level0 col8\" >std</th>    </tr></thead><tbody>\n",
       "                <tr>\n",
       "                        <th id=\"T_90477eac_35fe_11ea_a0c5_acde48001122level0_row0\" class=\"row_heading level0 row0\" >rmse_across_segments</th>\n",
       "                        <td id=\"T_90477eac_35fe_11ea_a0c5_acde48001122row0_col0\" class=\"data row0 col0\" >0.181</td>\n",
       "                        <td id=\"T_90477eac_35fe_11ea_a0c5_acde48001122row0_col1\" class=\"data row0 col1\" >0.181</td>\n",
       "                        <td id=\"T_90477eac_35fe_11ea_a0c5_acde48001122row0_col2\" class=\"data row0 col2\" >0.000</td>\n",
       "                        <td id=\"T_90477eac_35fe_11ea_a0c5_acde48001122row0_col3\" class=\"data row0 col3\" >0.101</td>\n",
       "                        <td id=\"T_90477eac_35fe_11ea_a0c5_acde48001122row0_col4\" class=\"data row0 col4\" >0.069</td>\n",
       "                        <td id=\"T_90477eac_35fe_11ea_a0c5_acde48001122row0_col5\" class=\"data row0 col5\" >0.008</td>\n",
       "                        <td id=\"T_90477eac_35fe_11ea_a0c5_acde48001122row0_col6\" class=\"data row0 col6\" >0.139</td>\n",
       "                        <td id=\"T_90477eac_35fe_11ea_a0c5_acde48001122row0_col7\" class=\"data row0 col7\" >0.097</td>\n",
       "                        <td id=\"T_90477eac_35fe_11ea_a0c5_acde48001122row0_col8\" class=\"data row0 col8\" >0.075</td>\n",
       "            </tr>\n",
       "            <tr>\n",
       "                        <th id=\"T_90477eac_35fe_11ea_a0c5_acde48001122level0_row1\" class=\"row_heading level0 row1\" >rmse_across_songs</th>\n",
       "                        <td id=\"T_90477eac_35fe_11ea_a0c5_acde48001122row1_col0\" class=\"data row1 col0\" >0.151</td>\n",
       "                        <td id=\"T_90477eac_35fe_11ea_a0c5_acde48001122row1_col1\" class=\"data row1 col1\" >0.151</td>\n",
       "                        <td id=\"T_90477eac_35fe_11ea_a0c5_acde48001122row1_col2\" class=\"data row1 col2\" >0.000</td>\n",
       "                        <td id=\"T_90477eac_35fe_11ea_a0c5_acde48001122row1_col3\" class=\"data row1 col3\" >0.093</td>\n",
       "                        <td id=\"T_90477eac_35fe_11ea_a0c5_acde48001122row1_col4\" class=\"data row1 col4\" >0.057</td>\n",
       "                        <td id=\"T_90477eac_35fe_11ea_a0c5_acde48001122row1_col5\" class=\"data row1 col5\" >0.007</td>\n",
       "                        <td id=\"T_90477eac_35fe_11ea_a0c5_acde48001122row1_col6\" class=\"data row1 col6\" >0.115</td>\n",
       "                        <td id=\"T_90477eac_35fe_11ea_a0c5_acde48001122row1_col7\" class=\"data row1 col7\" >0.082</td>\n",
       "                        <td id=\"T_90477eac_35fe_11ea_a0c5_acde48001122row1_col8\" class=\"data row1 col8\" >0.063</td>\n",
       "            </tr>\n",
       "    </tbody></table>"
      ],
      "text/plain": [
       "<pandas.io.formats.style.Styler at 0x1a2fe6c610>"
      ]
     },
     "metadata": {},
     "output_type": "display_data"
    },
    {
     "name": "stdout",
     "output_type": "stream",
     "text": [
      "In Valence dimension...\n"
     ]
    },
    {
     "data": {
      "text/html": [
       "<style  type=\"text/css\" >\n",
       "    #T_90694f28_35fe_11ea_a0c5_acde48001122row0_col2 {\n",
       "            background-color:  yellow;\n",
       "        }    #T_90694f28_35fe_11ea_a0c5_acde48001122row1_col2 {\n",
       "            background-color:  yellow;\n",
       "        }</style><table id=\"T_90694f28_35fe_11ea_a0c5_acde48001122\" ><thead>    <tr>        <th class=\"blank level0\" ></th>        <th class=\"col_heading level0 col0\" >Lasso</th>        <th class=\"col_heading level0 col1\" >ElasticNet</th>        <th class=\"col_heading level0 col2\" >Ridge</th>        <th class=\"col_heading level0 col3\" >kNN</th>        <th class=\"col_heading level0 col4\" >SVRrbf</th>        <th class=\"col_heading level0 col5\" >DT</th>        <th class=\"col_heading level0 col6\" >RF</th>        <th class=\"col_heading level0 col7\" >Mean</th>        <th class=\"col_heading level0 col8\" >std</th>    </tr></thead><tbody>\n",
       "                <tr>\n",
       "                        <th id=\"T_90694f28_35fe_11ea_a0c5_acde48001122level0_row0\" class=\"row_heading level0 row0\" >rmse_across_segments</th>\n",
       "                        <td id=\"T_90694f28_35fe_11ea_a0c5_acde48001122row0_col0\" class=\"data row0 col0\" >0.152</td>\n",
       "                        <td id=\"T_90694f28_35fe_11ea_a0c5_acde48001122row0_col1\" class=\"data row0 col1\" >0.152</td>\n",
       "                        <td id=\"T_90694f28_35fe_11ea_a0c5_acde48001122row0_col2\" class=\"data row0 col2\" >0.000</td>\n",
       "                        <td id=\"T_90694f28_35fe_11ea_a0c5_acde48001122row0_col3\" class=\"data row0 col3\" >0.115</td>\n",
       "                        <td id=\"T_90694f28_35fe_11ea_a0c5_acde48001122row0_col4\" class=\"data row0 col4\" >0.085</td>\n",
       "                        <td id=\"T_90694f28_35fe_11ea_a0c5_acde48001122row0_col5\" class=\"data row0 col5\" >0.006</td>\n",
       "                        <td id=\"T_90694f28_35fe_11ea_a0c5_acde48001122row0_col6\" class=\"data row0 col6\" >0.136</td>\n",
       "                        <td id=\"T_90694f28_35fe_11ea_a0c5_acde48001122row0_col7\" class=\"data row0 col7\" >0.092</td>\n",
       "                        <td id=\"T_90694f28_35fe_11ea_a0c5_acde48001122row0_col8\" class=\"data row0 col8\" >0.065</td>\n",
       "            </tr>\n",
       "            <tr>\n",
       "                        <th id=\"T_90694f28_35fe_11ea_a0c5_acde48001122level0_row1\" class=\"row_heading level0 row1\" >rmse_across_songs</th>\n",
       "                        <td id=\"T_90694f28_35fe_11ea_a0c5_acde48001122row1_col0\" class=\"data row1 col0\" >0.123</td>\n",
       "                        <td id=\"T_90694f28_35fe_11ea_a0c5_acde48001122row1_col1\" class=\"data row1 col1\" >0.123</td>\n",
       "                        <td id=\"T_90694f28_35fe_11ea_a0c5_acde48001122row1_col2\" class=\"data row1 col2\" >0.000</td>\n",
       "                        <td id=\"T_90694f28_35fe_11ea_a0c5_acde48001122row1_col3\" class=\"data row1 col3\" >0.097</td>\n",
       "                        <td id=\"T_90694f28_35fe_11ea_a0c5_acde48001122row1_col4\" class=\"data row1 col4\" >0.068</td>\n",
       "                        <td id=\"T_90694f28_35fe_11ea_a0c5_acde48001122row1_col5\" class=\"data row1 col5\" >0.006</td>\n",
       "                        <td id=\"T_90694f28_35fe_11ea_a0c5_acde48001122row1_col6\" class=\"data row1 col6\" >0.109</td>\n",
       "                        <td id=\"T_90694f28_35fe_11ea_a0c5_acde48001122row1_col7\" class=\"data row1 col7\" >0.075</td>\n",
       "                        <td id=\"T_90694f28_35fe_11ea_a0c5_acde48001122row1_col8\" class=\"data row1 col8\" >0.053</td>\n",
       "            </tr>\n",
       "    </tbody></table>"
      ],
      "text/plain": [
       "<pandas.io.formats.style.Styler at 0x1a2fe05890>"
      ]
     },
     "metadata": {},
     "output_type": "display_data"
    }
   ],
   "source": [
    "print('In Arousal dimension...')\n",
    "compute_rmse_across_songs(os.path.join('temp_results','mean_fusion_regression_results_Arousal(mean)_y.csv'))\n",
    "print('In Valence dimension...')\n",
    "compute_rmse_across_songs(os.path.join('temp_results','mean_fusion_regression_results_Valence(mean)_y.csv'))"
   ]
  },
  {
   "cell_type": "code",
   "execution_count": null,
   "metadata": {},
   "outputs": [],
   "source": []
  }
 ],
 "metadata": {
  "kernelspec": {
   "display_name": "Python 3",
   "language": "python",
   "name": "python3"
  },
  "language_info": {
   "codemirror_mode": {
    "name": "ipython",
    "version": 3
   },
   "file_extension": ".py",
   "mimetype": "text/x-python",
   "name": "python",
   "nbconvert_exporter": "python",
   "pygments_lexer": "ipython3",
   "version": "3.7.5"
  }
 },
 "nbformat": 4,
 "nbformat_minor": 2
}
