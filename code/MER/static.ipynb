{
 "cells": [
  {
   "cell_type": "markdown",
   "metadata": {},
   "source": [
    "# MER algorithm for static features"
   ]
  },
  {
   "cell_type": "markdown",
   "metadata": {},
   "source": [
    "### Load data"
   ]
  },
  {
   "cell_type": "code",
   "execution_count": 2,
   "metadata": {},
   "outputs": [],
   "source": [
    "import pandas as pd\n",
    "import numpy as np\n",
    "from tqdm import tqdm"
   ]
  },
  {
   "cell_type": "code",
   "execution_count": 8,
   "metadata": {},
   "outputs": [],
   "source": [
    "audio_features_dir = '/Users/gioelepozzi/Desktop/data/features_thesis/static_features.csv'\n",
    "audio_features_df = pd.read_csv(audio_features_dir)\n",
    "\n",
    "eda_features_dir = '/Users/gioelepozzi/Desktop/data/features_thesis/static_features_EDA.csv'\n",
    "eda_features_df = pd.read_csv(eda_features_dir)\n",
    "eda_dataset = eda_features_df.groupby(by=['music_ID'], as_index=False).mean() # mean over 10 subjects\n",
    "eda_dataset = eda_dataset.drop(columns=['subject_ID'])\n",
    "\n",
    "VA_mean_dir = '/Users/gioelepozzi/Desktop/data/annotations_thesis/static_annotations.csv'\n",
    "VA_std_dir = '/Users/gioelepozzi/Desktop/data/annotations_thesis/static_annotations_std.csv'\n",
    "VA_mean_df = pd.read_csv(VA_mean_dir)\n",
    "VA_std_df = pd.read_csv(VA_std_dir)\n",
    "\n",
    "audio_df = pd.merge(audio_features_df, VA_mean_df, on=['music_ID'])\n",
    "audio_df = pd.merge(audio_df, VA_std_df, on=['music_ID']) # df with audio features and VA values\n",
    "\n",
    "eda_df = pd.merge(eda_dataset, VA_mean_df, on=['music_ID'])\n",
    "eda_df = pd.merge(eda_df, VA_std_df, on=['music_ID'])"
   ]
  },
  {
   "cell_type": "code",
   "execution_count": 9,
   "metadata": {},
   "outputs": [],
   "source": [
    "audio_features_v_mean = audio_df.drop(columns=['music_ID', 'Arousal(mean)', 'Arousal(std)', 'Valence(std)'])\n",
    "audio_features_a_mean = audio_df.drop(columns=['music_ID', 'Valence(mean)', 'Arousal(std)', 'Valence(std)'])\n",
    "audio_features_v_std = audio_df.drop(columns=['music_ID', 'Arousal(mean)', 'Valence(mean)', 'Arousal(std)'])\n",
    "audio_features_a_std = audio_df.drop(columns=['music_ID', 'Arousal(mean)', 'Valence(mean)', 'Valence(std)'])\n",
    "\n",
    "eda_features_v_mean = eda_df.drop(columns=['music_ID', 'Arousal(mean)', 'Arousal(std)', 'Valence(std)'])\n",
    "eda_features_a_mean = eda_df.drop(columns=['music_ID', 'Valence(mean)', 'Arousal(std)', 'Valence(std)'])\n",
    "eda_features_v_std = eda_df.drop(columns=['music_ID', 'Arousal(mean)', 'Valence(mean)', 'Arousal(std)'])\n",
    "eda_features_a_std = eda_df.drop(columns=['music_ID', 'Arousal(mean)', 'Valence(mean)', 'Valence(std)'])\n",
    "\n",
    "arousal_mean = audio_df['Arousal(mean)']\n",
    "valence_mean = audio_df['Valence(mean)']\n",
    "arousal_std = audio_df['Arousal(std)']\n",
    "valence_std = audio_df['Valence(std)']"
   ]
  },
  {
   "cell_type": "code",
   "execution_count": 11,
   "metadata": {},
   "outputs": [],
   "source": [
    "fusion_dataset = pd.merge(audio_features_df, eda_dataset, on=['music_ID'])\n",
    "fusion_features = fusion_dataset.drop(columns=['music_ID'])"
   ]
  },
  {
   "cell_type": "code",
   "execution_count": 4,
   "metadata": {},
   "outputs": [],
   "source": [
    "def load_audio_dataset(data):\n",
    "    features = data[data.columns[:-1]].values\n",
    "    labels = data[data.columns[-1]].values\n",
    "    #scaler = StandardScaler(copy=False)\n",
    "    #scaler.fit_transform(features)\n",
    "    return features, labels"
   ]
  },
  {
   "cell_type": "markdown",
   "metadata": {},
   "source": [
    "### Regressors"
   ]
  },
  {
   "cell_type": "code",
   "execution_count": 5,
   "metadata": {},
   "outputs": [],
   "source": [
    "from sklearn.linear_model import Lasso, ElasticNet, Ridge, LinearRegression\n",
    "from sklearn.neighbors import KNeighborsRegressor\n",
    "from sklearn.svm import SVR\n",
    "from sklearn.tree import DecisionTreeRegressor\n",
    "from sklearn.ensemble import RandomForestRegressor"
   ]
  },
  {
   "cell_type": "code",
   "execution_count": 6,
   "metadata": {},
   "outputs": [],
   "source": [
    "def rmse(y, y_pred):\n",
    "    return sqrt(mean_squared_error(y, y_pred))\n",
    "\n",
    "regressors = {\n",
    "    'LR': LinearRegression(),\n",
    "    'Lasso': Lasso(),\n",
    "    'ElasticNet': ElasticNet(),\n",
    "    'Ridge': Ridge(),\n",
    "    'kNN': KNeighborsRegressor(),\n",
    "    'SVRrbf': SVR(kernel='rbf', gamma='scale'),\n",
    "    'SVRpoly': SVR(kernel='poly', gamma='scale'),\n",
    "    'SVRlinear': SVR(kernel='linear', gamma='scale'),\n",
    "    'DT': DecisionTreeRegressor(max_depth=5),\n",
    "    'RF': RandomForestRegressor(max_depth=5, n_estimators=10, max_features=1),\n",
    "}"
   ]
  },
  {
   "cell_type": "code",
   "execution_count": 7,
   "metadata": {},
   "outputs": [],
   "source": [
    "def cross_val_regression(regressors, features, labels, preprocessfunc):\n",
    "    columns = list(regressors.keys())\n",
    "    scores = pd.DataFrame(columns=columns, index=['RMSE'])\n",
    "\n",
    "    for reg_name, reg in regressors.items(): #for reg_name, reg in tqdm(regressors.items(), desc='regressors'):\n",
    "        scorer = {'rmse': make_scorer(rmse)}\n",
    "        reg = make_pipeline(*preprocessfunc, reg)\n",
    "        reg_score = cross_validate(reg, features, labels, scoring=scorer, cv=10, return_train_score=False) \n",
    "        scores.loc['RMSE', reg_name] = reg_score['test_rmse'].mean()\n",
    "        #scores.loc['R', reg_name] = reg_score['test_r'].mean()\n",
    "\n",
    "    mean_rmse = scores.mean(axis=1)\n",
    "    std_rmse = scores.std(axis=1)\n",
    "    \n",
    "    scores['Mean'] = mean_rmse\n",
    "    scores['std'] = std_rmse\n",
    "    return scores\n",
    "\n",
    "def format_scores(scores):\n",
    "    def highlight(s):\n",
    "        is_min = s == min(s)\n",
    "#         is_max = s == max(s)\n",
    "#         is_max_or_min = (is_min | is_max)\n",
    "        return ['background-color: yellow' if v else '' for v in is_min]\n",
    "    scores = scores.style.apply(highlight, axis=1, subset=pd.IndexSlice[:, :scores.columns[-2]])\n",
    "    return scores.format('{:.3f}')"
   ]
  },
  {
   "cell_type": "markdown",
   "metadata": {},
   "source": [
    "### Multiple regressors on audio features"
   ]
  },
  {
   "cell_type": "code",
   "execution_count": 8,
   "metadata": {},
   "outputs": [],
   "source": [
    "from sklearn.preprocessing import StandardScaler\n",
    "from sklearn.metrics import mean_squared_error, make_scorer\n",
    "from sklearn.pipeline import make_pipeline\n",
    "from sklearn.model_selection import cross_validate\n",
    "\n",
    "from math import sqrt\n",
    "\n",
    "import IPython.display as ipd"
   ]
  },
  {
   "cell_type": "code",
   "execution_count": 9,
   "metadata": {},
   "outputs": [
    {
     "name": "stdout",
     "output_type": "stream",
     "text": [
      "Audio Features:\n",
      "\n",
      "In Arousal (mean) dimension...\n"
     ]
    },
    {
     "data": {
      "text/html": [
       "<style  type=\"text/css\" >\n",
       "    #T_c565fb88_3142_11ea_87ea_784f438b3f7brow0_col3 {\n",
       "            background-color:  yellow;\n",
       "        }</style><table id=\"T_c565fb88_3142_11ea_87ea_784f438b3f7b\" ><thead>    <tr>        <th class=\"blank level0\" ></th>        <th class=\"col_heading level0 col0\" >LR</th>        <th class=\"col_heading level0 col1\" >Lasso</th>        <th class=\"col_heading level0 col2\" >ElasticNet</th>        <th class=\"col_heading level0 col3\" >Ridge</th>        <th class=\"col_heading level0 col4\" >kNN</th>        <th class=\"col_heading level0 col5\" >SVRrbf</th>        <th class=\"col_heading level0 col6\" >SVRpoly</th>        <th class=\"col_heading level0 col7\" >SVRlinear</th>        <th class=\"col_heading level0 col8\" >DT</th>        <th class=\"col_heading level0 col9\" >RF</th>        <th class=\"col_heading level0 col10\" >Mean</th>        <th class=\"col_heading level0 col11\" >std</th>    </tr></thead><tbody>\n",
       "                <tr>\n",
       "                        <th id=\"T_c565fb88_3142_11ea_87ea_784f438b3f7blevel0_row0\" class=\"row_heading level0 row0\" >RMSE</th>\n",
       "                        <td id=\"T_c565fb88_3142_11ea_87ea_784f438b3f7brow0_col0\" class=\"data row0 col0\" >0.102</td>\n",
       "                        <td id=\"T_c565fb88_3142_11ea_87ea_784f438b3f7brow0_col1\" class=\"data row0 col1\" >0.184</td>\n",
       "                        <td id=\"T_c565fb88_3142_11ea_87ea_784f438b3f7brow0_col2\" class=\"data row0 col2\" >0.184</td>\n",
       "                        <td id=\"T_c565fb88_3142_11ea_87ea_784f438b3f7brow0_col3\" class=\"data row0 col3\" >0.100</td>\n",
       "                        <td id=\"T_c565fb88_3142_11ea_87ea_784f438b3f7brow0_col4\" class=\"data row0 col4\" >0.119</td>\n",
       "                        <td id=\"T_c565fb88_3142_11ea_87ea_784f438b3f7brow0_col5\" class=\"data row0 col5\" >0.113</td>\n",
       "                        <td id=\"T_c565fb88_3142_11ea_87ea_784f438b3f7brow0_col6\" class=\"data row0 col6\" >0.208</td>\n",
       "                        <td id=\"T_c565fb88_3142_11ea_87ea_784f438b3f7brow0_col7\" class=\"data row0 col7\" >0.106</td>\n",
       "                        <td id=\"T_c565fb88_3142_11ea_87ea_784f438b3f7brow0_col8\" class=\"data row0 col8\" >0.129</td>\n",
       "                        <td id=\"T_c565fb88_3142_11ea_87ea_784f438b3f7brow0_col9\" class=\"data row0 col9\" >0.138</td>\n",
       "                        <td id=\"T_c565fb88_3142_11ea_87ea_784f438b3f7brow0_col10\" class=\"data row0 col10\" >0.138</td>\n",
       "                        <td id=\"T_c565fb88_3142_11ea_87ea_784f438b3f7brow0_col11\" class=\"data row0 col11\" >0.040</td>\n",
       "            </tr>\n",
       "    </tbody></table>"
      ],
      "text/plain": [
       "<pandas.io.formats.style.Styler at 0xb217c6210>"
      ]
     },
     "metadata": {},
     "output_type": "display_data"
    },
    {
     "name": "stdout",
     "output_type": "stream",
     "text": [
      "In Valence (mean) dimension ...\n"
     ]
    },
    {
     "data": {
      "text/html": [
       "<style  type=\"text/css\" >\n",
       "    #T_d059f300_3142_11ea_87ea_784f438b3f7brow0_col5 {\n",
       "            background-color:  yellow;\n",
       "        }</style><table id=\"T_d059f300_3142_11ea_87ea_784f438b3f7b\" ><thead>    <tr>        <th class=\"blank level0\" ></th>        <th class=\"col_heading level0 col0\" >LR</th>        <th class=\"col_heading level0 col1\" >Lasso</th>        <th class=\"col_heading level0 col2\" >ElasticNet</th>        <th class=\"col_heading level0 col3\" >Ridge</th>        <th class=\"col_heading level0 col4\" >kNN</th>        <th class=\"col_heading level0 col5\" >SVRrbf</th>        <th class=\"col_heading level0 col6\" >SVRpoly</th>        <th class=\"col_heading level0 col7\" >SVRlinear</th>        <th class=\"col_heading level0 col8\" >DT</th>        <th class=\"col_heading level0 col9\" >RF</th>        <th class=\"col_heading level0 col10\" >Mean</th>        <th class=\"col_heading level0 col11\" >std</th>    </tr></thead><tbody>\n",
       "                <tr>\n",
       "                        <th id=\"T_d059f300_3142_11ea_87ea_784f438b3f7blevel0_row0\" class=\"row_heading level0 row0\" >RMSE</th>\n",
       "                        <td id=\"T_d059f300_3142_11ea_87ea_784f438b3f7brow0_col0\" class=\"data row0 col0\" >0.122</td>\n",
       "                        <td id=\"T_d059f300_3142_11ea_87ea_784f438b3f7brow0_col1\" class=\"data row0 col1\" >0.162</td>\n",
       "                        <td id=\"T_d059f300_3142_11ea_87ea_784f438b3f7brow0_col2\" class=\"data row0 col2\" >0.162</td>\n",
       "                        <td id=\"T_d059f300_3142_11ea_87ea_784f438b3f7brow0_col3\" class=\"data row0 col3\" >0.120</td>\n",
       "                        <td id=\"T_d059f300_3142_11ea_87ea_784f438b3f7brow0_col4\" class=\"data row0 col4\" >0.126</td>\n",
       "                        <td id=\"T_d059f300_3142_11ea_87ea_784f438b3f7brow0_col5\" class=\"data row0 col5\" >0.119</td>\n",
       "                        <td id=\"T_d059f300_3142_11ea_87ea_784f438b3f7brow0_col6\" class=\"data row0 col6\" >0.212</td>\n",
       "                        <td id=\"T_d059f300_3142_11ea_87ea_784f438b3f7brow0_col7\" class=\"data row0 col7\" >0.127</td>\n",
       "                        <td id=\"T_d059f300_3142_11ea_87ea_784f438b3f7brow0_col8\" class=\"data row0 col8\" >0.143</td>\n",
       "                        <td id=\"T_d059f300_3142_11ea_87ea_784f438b3f7brow0_col9\" class=\"data row0 col9\" >0.126</td>\n",
       "                        <td id=\"T_d059f300_3142_11ea_87ea_784f438b3f7brow0_col10\" class=\"data row0 col10\" >0.142</td>\n",
       "                        <td id=\"T_d059f300_3142_11ea_87ea_784f438b3f7brow0_col11\" class=\"data row0 col11\" >0.029</td>\n",
       "            </tr>\n",
       "    </tbody></table>"
      ],
      "text/plain": [
       "<pandas.io.formats.style.Styler at 0x1a23562a50>"
      ]
     },
     "metadata": {},
     "output_type": "display_data"
    },
    {
     "name": "stdout",
     "output_type": "stream",
     "text": [
      "In Arousal (std) dimension...\n"
     ]
    },
    {
     "data": {
      "text/html": [
       "<style  type=\"text/css\" >\n",
       "    #T_d0ec298c_3142_11ea_87ea_784f438b3f7brow0_col9 {\n",
       "            background-color:  yellow;\n",
       "        }</style><table id=\"T_d0ec298c_3142_11ea_87ea_784f438b3f7b\" ><thead>    <tr>        <th class=\"blank level0\" ></th>        <th class=\"col_heading level0 col0\" >LR</th>        <th class=\"col_heading level0 col1\" >Lasso</th>        <th class=\"col_heading level0 col2\" >ElasticNet</th>        <th class=\"col_heading level0 col3\" >Ridge</th>        <th class=\"col_heading level0 col4\" >kNN</th>        <th class=\"col_heading level0 col5\" >SVRrbf</th>        <th class=\"col_heading level0 col6\" >SVRpoly</th>        <th class=\"col_heading level0 col7\" >SVRlinear</th>        <th class=\"col_heading level0 col8\" >DT</th>        <th class=\"col_heading level0 col9\" >RF</th>        <th class=\"col_heading level0 col10\" >Mean</th>        <th class=\"col_heading level0 col11\" >std</th>    </tr></thead><tbody>\n",
       "                <tr>\n",
       "                        <th id=\"T_d0ec298c_3142_11ea_87ea_784f438b3f7blevel0_row0\" class=\"row_heading level0 row0\" >RMSE</th>\n",
       "                        <td id=\"T_d0ec298c_3142_11ea_87ea_784f438b3f7brow0_col0\" class=\"data row0 col0\" >0.047</td>\n",
       "                        <td id=\"T_d0ec298c_3142_11ea_87ea_784f438b3f7brow0_col1\" class=\"data row0 col1\" >0.047</td>\n",
       "                        <td id=\"T_d0ec298c_3142_11ea_87ea_784f438b3f7brow0_col2\" class=\"data row0 col2\" >0.047</td>\n",
       "                        <td id=\"T_d0ec298c_3142_11ea_87ea_784f438b3f7brow0_col3\" class=\"data row0 col3\" >0.046</td>\n",
       "                        <td id=\"T_d0ec298c_3142_11ea_87ea_784f438b3f7brow0_col4\" class=\"data row0 col4\" >0.047</td>\n",
       "                        <td id=\"T_d0ec298c_3142_11ea_87ea_784f438b3f7brow0_col5\" class=\"data row0 col5\" >0.050</td>\n",
       "                        <td id=\"T_d0ec298c_3142_11ea_87ea_784f438b3f7brow0_col6\" class=\"data row0 col6\" >0.050</td>\n",
       "                        <td id=\"T_d0ec298c_3142_11ea_87ea_784f438b3f7brow0_col7\" class=\"data row0 col7\" >0.049</td>\n",
       "                        <td id=\"T_d0ec298c_3142_11ea_87ea_784f438b3f7brow0_col8\" class=\"data row0 col8\" >0.051</td>\n",
       "                        <td id=\"T_d0ec298c_3142_11ea_87ea_784f438b3f7brow0_col9\" class=\"data row0 col9\" >0.044</td>\n",
       "                        <td id=\"T_d0ec298c_3142_11ea_87ea_784f438b3f7brow0_col10\" class=\"data row0 col10\" >0.048</td>\n",
       "                        <td id=\"T_d0ec298c_3142_11ea_87ea_784f438b3f7brow0_col11\" class=\"data row0 col11\" >0.002</td>\n",
       "            </tr>\n",
       "    </tbody></table>"
      ],
      "text/plain": [
       "<pandas.io.formats.style.Styler at 0x1a231b51d0>"
      ]
     },
     "metadata": {},
     "output_type": "display_data"
    },
    {
     "name": "stdout",
     "output_type": "stream",
     "text": [
      "In Valence (std) dimension...\n"
     ]
    },
    {
     "data": {
      "text/html": [
       "<style  type=\"text/css\" >\n",
       "    #T_d17d07e0_3142_11ea_87ea_784f438b3f7brow0_col9 {\n",
       "            background-color:  yellow;\n",
       "        }</style><table id=\"T_d17d07e0_3142_11ea_87ea_784f438b3f7b\" ><thead>    <tr>        <th class=\"blank level0\" ></th>        <th class=\"col_heading level0 col0\" >LR</th>        <th class=\"col_heading level0 col1\" >Lasso</th>        <th class=\"col_heading level0 col2\" >ElasticNet</th>        <th class=\"col_heading level0 col3\" >Ridge</th>        <th class=\"col_heading level0 col4\" >kNN</th>        <th class=\"col_heading level0 col5\" >SVRrbf</th>        <th class=\"col_heading level0 col6\" >SVRpoly</th>        <th class=\"col_heading level0 col7\" >SVRlinear</th>        <th class=\"col_heading level0 col8\" >DT</th>        <th class=\"col_heading level0 col9\" >RF</th>        <th class=\"col_heading level0 col10\" >Mean</th>        <th class=\"col_heading level0 col11\" >std</th>    </tr></thead><tbody>\n",
       "                <tr>\n",
       "                        <th id=\"T_d17d07e0_3142_11ea_87ea_784f438b3f7blevel0_row0\" class=\"row_heading level0 row0\" >RMSE</th>\n",
       "                        <td id=\"T_d17d07e0_3142_11ea_87ea_784f438b3f7brow0_col0\" class=\"data row0 col0\" >0.051</td>\n",
       "                        <td id=\"T_d17d07e0_3142_11ea_87ea_784f438b3f7brow0_col1\" class=\"data row0 col1\" >0.046</td>\n",
       "                        <td id=\"T_d17d07e0_3142_11ea_87ea_784f438b3f7brow0_col2\" class=\"data row0 col2\" >0.046</td>\n",
       "                        <td id=\"T_d17d07e0_3142_11ea_87ea_784f438b3f7brow0_col3\" class=\"data row0 col3\" >0.051</td>\n",
       "                        <td id=\"T_d17d07e0_3142_11ea_87ea_784f438b3f7brow0_col4\" class=\"data row0 col4\" >0.049</td>\n",
       "                        <td id=\"T_d17d07e0_3142_11ea_87ea_784f438b3f7brow0_col5\" class=\"data row0 col5\" >0.047</td>\n",
       "                        <td id=\"T_d17d07e0_3142_11ea_87ea_784f438b3f7brow0_col6\" class=\"data row0 col6\" >0.048</td>\n",
       "                        <td id=\"T_d17d07e0_3142_11ea_87ea_784f438b3f7brow0_col7\" class=\"data row0 col7\" >0.048</td>\n",
       "                        <td id=\"T_d17d07e0_3142_11ea_87ea_784f438b3f7brow0_col8\" class=\"data row0 col8\" >0.053</td>\n",
       "                        <td id=\"T_d17d07e0_3142_11ea_87ea_784f438b3f7brow0_col9\" class=\"data row0 col9\" >0.046</td>\n",
       "                        <td id=\"T_d17d07e0_3142_11ea_87ea_784f438b3f7brow0_col10\" class=\"data row0 col10\" >0.048</td>\n",
       "                        <td id=\"T_d17d07e0_3142_11ea_87ea_784f438b3f7brow0_col11\" class=\"data row0 col11\" >0.003</td>\n",
       "            </tr>\n",
       "    </tbody></table>"
      ],
      "text/plain": [
       "<pandas.io.formats.style.Styler at 0x11d590b90>"
      ]
     },
     "metadata": {},
     "output_type": "display_data"
    }
   ],
   "source": [
    "prefunc = [StandardScaler()]\n",
    "\n",
    "print('Audio Features:\\n')\n",
    "\n",
    "print('In Arousal (mean) dimension...')\n",
    "features_a_mean, labels_a_mean = load_audio_dataset(audio_features_a_mean)\n",
    "scores_a_a_mean = cross_val_regression(regressors, features_a_mean, labels_a_mean, prefunc)\n",
    "ipd.display(format_scores(scores_a_a_mean))\n",
    "\n",
    "print('In Valence (mean) dimension ...')\n",
    "features_v_mean, labels_v_mean = load_audio_dataset(audio_features_v_mean)\n",
    "scores_a_v_mean = cross_val_regression(regressors, features_v_mean, labels_v_mean, prefunc)\n",
    "ipd.display(format_scores(scores_a_v_mean))\n",
    "\n",
    "print('In Arousal (std) dimension...')\n",
    "features_a_std, labels_a_std = load_audio_dataset(audio_features_a_std)\n",
    "scores_a_a_std = cross_val_regression(regressors, features_a_std, labels_a_std, prefunc)\n",
    "ipd.display(format_scores(scores_a_a_std))\n",
    "\n",
    "print('In Valence (std) dimension...')\n",
    "features_v_std, labels_v_std = load_audio_dataset(audio_features_v_std)\n",
    "scores_a_v_std = cross_val_regression(regressors, features_v_std, labels_v_std, prefunc)\n",
    "ipd.display(format_scores(scores_a_v_std))"
   ]
  },
  {
   "cell_type": "markdown",
   "metadata": {},
   "source": [
    "### Multiple regressors on EDA features"
   ]
  },
  {
   "cell_type": "code",
   "execution_count": 33,
   "metadata": {},
   "outputs": [
    {
     "name": "stdout",
     "output_type": "stream",
     "text": [
      "EDA Features:\n",
      "\n",
      "In Arousal (mean) dimension...\n"
     ]
    },
    {
     "data": {
      "text/html": [
       "<style  type=\"text/css\" >\n",
       "    #T_dbff3b00_3144_11ea_87ea_784f438b3f7brow0_col0 {\n",
       "            background-color:  yellow;\n",
       "        }</style><table id=\"T_dbff3b00_3144_11ea_87ea_784f438b3f7b\" ><thead>    <tr>        <th class=\"blank level0\" ></th>        <th class=\"col_heading level0 col0\" >LR</th>        <th class=\"col_heading level0 col1\" >Lasso</th>        <th class=\"col_heading level0 col2\" >ElasticNet</th>        <th class=\"col_heading level0 col3\" >Ridge</th>        <th class=\"col_heading level0 col4\" >kNN</th>        <th class=\"col_heading level0 col5\" >SVRrbf</th>        <th class=\"col_heading level0 col6\" >SVRpoly</th>        <th class=\"col_heading level0 col7\" >SVRlinear</th>        <th class=\"col_heading level0 col8\" >DT</th>        <th class=\"col_heading level0 col9\" >RF</th>        <th class=\"col_heading level0 col10\" >Mean</th>        <th class=\"col_heading level0 col11\" >std</th>    </tr></thead><tbody>\n",
       "                <tr>\n",
       "                        <th id=\"T_dbff3b00_3144_11ea_87ea_784f438b3f7blevel0_row0\" class=\"row_heading level0 row0\" >RMSE</th>\n",
       "                        <td id=\"T_dbff3b00_3144_11ea_87ea_784f438b3f7brow0_col0\" class=\"data row0 col0\" >0.000</td>\n",
       "                        <td id=\"T_dbff3b00_3144_11ea_87ea_784f438b3f7brow0_col1\" class=\"data row0 col1\" >0.184</td>\n",
       "                        <td id=\"T_dbff3b00_3144_11ea_87ea_784f438b3f7brow0_col2\" class=\"data row0 col2\" >0.184</td>\n",
       "                        <td id=\"T_dbff3b00_3144_11ea_87ea_784f438b3f7brow0_col3\" class=\"data row0 col3\" >0.000</td>\n",
       "                        <td id=\"T_dbff3b00_3144_11ea_87ea_784f438b3f7brow0_col4\" class=\"data row0 col4\" >0.136</td>\n",
       "                        <td id=\"T_dbff3b00_3144_11ea_87ea_784f438b3f7brow0_col5\" class=\"data row0 col5\" >0.075</td>\n",
       "                        <td id=\"T_dbff3b00_3144_11ea_87ea_784f438b3f7brow0_col6\" class=\"data row0 col6\" >0.097</td>\n",
       "                        <td id=\"T_dbff3b00_3144_11ea_87ea_784f438b3f7brow0_col7\" class=\"data row0 col7\" >0.055</td>\n",
       "                        <td id=\"T_dbff3b00_3144_11ea_87ea_784f438b3f7brow0_col8\" class=\"data row0 col8\" >0.008</td>\n",
       "                        <td id=\"T_dbff3b00_3144_11ea_87ea_784f438b3f7brow0_col9\" class=\"data row0 col9\" >0.180</td>\n",
       "                        <td id=\"T_dbff3b00_3144_11ea_87ea_784f438b3f7brow0_col10\" class=\"data row0 col10\" >0.092</td>\n",
       "                        <td id=\"T_dbff3b00_3144_11ea_87ea_784f438b3f7brow0_col11\" class=\"data row0 col11\" >0.076</td>\n",
       "            </tr>\n",
       "    </tbody></table>"
      ],
      "text/plain": [
       "<pandas.io.formats.style.Styler at 0x1a26461050>"
      ]
     },
     "metadata": {},
     "output_type": "display_data"
    },
    {
     "name": "stdout",
     "output_type": "stream",
     "text": [
      "In Valence (mean) dimension...\n"
     ]
    },
    {
     "data": {
      "text/html": [
       "<style  type=\"text/css\" >\n",
       "    #T_dcd836a8_3144_11ea_87ea_784f438b3f7brow0_col0 {\n",
       "            background-color:  yellow;\n",
       "        }</style><table id=\"T_dcd836a8_3144_11ea_87ea_784f438b3f7b\" ><thead>    <tr>        <th class=\"blank level0\" ></th>        <th class=\"col_heading level0 col0\" >LR</th>        <th class=\"col_heading level0 col1\" >Lasso</th>        <th class=\"col_heading level0 col2\" >ElasticNet</th>        <th class=\"col_heading level0 col3\" >Ridge</th>        <th class=\"col_heading level0 col4\" >kNN</th>        <th class=\"col_heading level0 col5\" >SVRrbf</th>        <th class=\"col_heading level0 col6\" >SVRpoly</th>        <th class=\"col_heading level0 col7\" >SVRlinear</th>        <th class=\"col_heading level0 col8\" >DT</th>        <th class=\"col_heading level0 col9\" >RF</th>        <th class=\"col_heading level0 col10\" >Mean</th>        <th class=\"col_heading level0 col11\" >std</th>    </tr></thead><tbody>\n",
       "                <tr>\n",
       "                        <th id=\"T_dcd836a8_3144_11ea_87ea_784f438b3f7blevel0_row0\" class=\"row_heading level0 row0\" >RMSE</th>\n",
       "                        <td id=\"T_dcd836a8_3144_11ea_87ea_784f438b3f7brow0_col0\" class=\"data row0 col0\" >0.000</td>\n",
       "                        <td id=\"T_dcd836a8_3144_11ea_87ea_784f438b3f7brow0_col1\" class=\"data row0 col1\" >0.162</td>\n",
       "                        <td id=\"T_dcd836a8_3144_11ea_87ea_784f438b3f7brow0_col2\" class=\"data row0 col2\" >0.162</td>\n",
       "                        <td id=\"T_dcd836a8_3144_11ea_87ea_784f438b3f7brow0_col3\" class=\"data row0 col3\" >0.000</td>\n",
       "                        <td id=\"T_dcd836a8_3144_11ea_87ea_784f438b3f7brow0_col4\" class=\"data row0 col4\" >0.122</td>\n",
       "                        <td id=\"T_dcd836a8_3144_11ea_87ea_784f438b3f7brow0_col5\" class=\"data row0 col5\" >0.074</td>\n",
       "                        <td id=\"T_dcd836a8_3144_11ea_87ea_784f438b3f7brow0_col6\" class=\"data row0 col6\" >0.100</td>\n",
       "                        <td id=\"T_dcd836a8_3144_11ea_87ea_784f438b3f7brow0_col7\" class=\"data row0 col7\" >0.053</td>\n",
       "                        <td id=\"T_dcd836a8_3144_11ea_87ea_784f438b3f7brow0_col8\" class=\"data row0 col8\" >0.008</td>\n",
       "                        <td id=\"T_dcd836a8_3144_11ea_87ea_784f438b3f7brow0_col9\" class=\"data row0 col9\" >0.157</td>\n",
       "                        <td id=\"T_dcd836a8_3144_11ea_87ea_784f438b3f7brow0_col10\" class=\"data row0 col10\" >0.084</td>\n",
       "                        <td id=\"T_dcd836a8_3144_11ea_87ea_784f438b3f7brow0_col11\" class=\"data row0 col11\" >0.067</td>\n",
       "            </tr>\n",
       "    </tbody></table>"
      ],
      "text/plain": [
       "<pandas.io.formats.style.Styler at 0x1a264893d0>"
      ]
     },
     "metadata": {},
     "output_type": "display_data"
    },
    {
     "name": "stdout",
     "output_type": "stream",
     "text": [
      "In Arousal (std) dimension...\n"
     ]
    },
    {
     "data": {
      "text/html": [
       "<style  type=\"text/css\" >\n",
       "    #T_dd86081e_3144_11ea_87ea_784f438b3f7brow0_col0 {\n",
       "            background-color:  yellow;\n",
       "        }</style><table id=\"T_dd86081e_3144_11ea_87ea_784f438b3f7b\" ><thead>    <tr>        <th class=\"blank level0\" ></th>        <th class=\"col_heading level0 col0\" >LR</th>        <th class=\"col_heading level0 col1\" >Lasso</th>        <th class=\"col_heading level0 col2\" >ElasticNet</th>        <th class=\"col_heading level0 col3\" >Ridge</th>        <th class=\"col_heading level0 col4\" >kNN</th>        <th class=\"col_heading level0 col5\" >SVRrbf</th>        <th class=\"col_heading level0 col6\" >SVRpoly</th>        <th class=\"col_heading level0 col7\" >SVRlinear</th>        <th class=\"col_heading level0 col8\" >DT</th>        <th class=\"col_heading level0 col9\" >RF</th>        <th class=\"col_heading level0 col10\" >Mean</th>        <th class=\"col_heading level0 col11\" >std</th>    </tr></thead><tbody>\n",
       "                <tr>\n",
       "                        <th id=\"T_dd86081e_3144_11ea_87ea_784f438b3f7blevel0_row0\" class=\"row_heading level0 row0\" >RMSE</th>\n",
       "                        <td id=\"T_dd86081e_3144_11ea_87ea_784f438b3f7brow0_col0\" class=\"data row0 col0\" >0.000</td>\n",
       "                        <td id=\"T_dd86081e_3144_11ea_87ea_784f438b3f7brow0_col1\" class=\"data row0 col1\" >0.047</td>\n",
       "                        <td id=\"T_dd86081e_3144_11ea_87ea_784f438b3f7brow0_col2\" class=\"data row0 col2\" >0.047</td>\n",
       "                        <td id=\"T_dd86081e_3144_11ea_87ea_784f438b3f7brow0_col3\" class=\"data row0 col3\" >0.000</td>\n",
       "                        <td id=\"T_dd86081e_3144_11ea_87ea_784f438b3f7brow0_col4\" class=\"data row0 col4\" >0.036</td>\n",
       "                        <td id=\"T_dd86081e_3144_11ea_87ea_784f438b3f7brow0_col5\" class=\"data row0 col5\" >0.048</td>\n",
       "                        <td id=\"T_dd86081e_3144_11ea_87ea_784f438b3f7brow0_col6\" class=\"data row0 col6\" >0.048</td>\n",
       "                        <td id=\"T_dd86081e_3144_11ea_87ea_784f438b3f7brow0_col7\" class=\"data row0 col7\" >0.045</td>\n",
       "                        <td id=\"T_dd86081e_3144_11ea_87ea_784f438b3f7brow0_col8\" class=\"data row0 col8\" >0.002</td>\n",
       "                        <td id=\"T_dd86081e_3144_11ea_87ea_784f438b3f7brow0_col9\" class=\"data row0 col9\" >0.046</td>\n",
       "                        <td id=\"T_dd86081e_3144_11ea_87ea_784f438b3f7brow0_col10\" class=\"data row0 col10\" >0.032</td>\n",
       "                        <td id=\"T_dd86081e_3144_11ea_87ea_784f438b3f7brow0_col11\" class=\"data row0 col11\" >0.022</td>\n",
       "            </tr>\n",
       "    </tbody></table>"
      ],
      "text/plain": [
       "<pandas.io.formats.style.Styler at 0x1a24004950>"
      ]
     },
     "metadata": {},
     "output_type": "display_data"
    },
    {
     "name": "stdout",
     "output_type": "stream",
     "text": [
      "In Valence (std) dimension...\n"
     ]
    },
    {
     "data": {
      "text/html": [
       "<style  type=\"text/css\" >\n",
       "    #T_de398524_3144_11ea_87ea_784f438b3f7brow0_col0 {\n",
       "            background-color:  yellow;\n",
       "        }</style><table id=\"T_de398524_3144_11ea_87ea_784f438b3f7b\" ><thead>    <tr>        <th class=\"blank level0\" ></th>        <th class=\"col_heading level0 col0\" >LR</th>        <th class=\"col_heading level0 col1\" >Lasso</th>        <th class=\"col_heading level0 col2\" >ElasticNet</th>        <th class=\"col_heading level0 col3\" >Ridge</th>        <th class=\"col_heading level0 col4\" >kNN</th>        <th class=\"col_heading level0 col5\" >SVRrbf</th>        <th class=\"col_heading level0 col6\" >SVRpoly</th>        <th class=\"col_heading level0 col7\" >SVRlinear</th>        <th class=\"col_heading level0 col8\" >DT</th>        <th class=\"col_heading level0 col9\" >RF</th>        <th class=\"col_heading level0 col10\" >Mean</th>        <th class=\"col_heading level0 col11\" >std</th>    </tr></thead><tbody>\n",
       "                <tr>\n",
       "                        <th id=\"T_de398524_3144_11ea_87ea_784f438b3f7blevel0_row0\" class=\"row_heading level0 row0\" >RMSE</th>\n",
       "                        <td id=\"T_de398524_3144_11ea_87ea_784f438b3f7brow0_col0\" class=\"data row0 col0\" >0.000</td>\n",
       "                        <td id=\"T_de398524_3144_11ea_87ea_784f438b3f7brow0_col1\" class=\"data row0 col1\" >0.046</td>\n",
       "                        <td id=\"T_de398524_3144_11ea_87ea_784f438b3f7brow0_col2\" class=\"data row0 col2\" >0.046</td>\n",
       "                        <td id=\"T_de398524_3144_11ea_87ea_784f438b3f7brow0_col3\" class=\"data row0 col3\" >0.000</td>\n",
       "                        <td id=\"T_de398524_3144_11ea_87ea_784f438b3f7brow0_col4\" class=\"data row0 col4\" >0.035</td>\n",
       "                        <td id=\"T_de398524_3144_11ea_87ea_784f438b3f7brow0_col5\" class=\"data row0 col5\" >0.045</td>\n",
       "                        <td id=\"T_de398524_3144_11ea_87ea_784f438b3f7brow0_col6\" class=\"data row0 col6\" >0.045</td>\n",
       "                        <td id=\"T_de398524_3144_11ea_87ea_784f438b3f7brow0_col7\" class=\"data row0 col7\" >0.043</td>\n",
       "                        <td id=\"T_de398524_3144_11ea_87ea_784f438b3f7brow0_col8\" class=\"data row0 col8\" >0.002</td>\n",
       "                        <td id=\"T_de398524_3144_11ea_87ea_784f438b3f7brow0_col9\" class=\"data row0 col9\" >0.045</td>\n",
       "                        <td id=\"T_de398524_3144_11ea_87ea_784f438b3f7brow0_col10\" class=\"data row0 col10\" >0.031</td>\n",
       "                        <td id=\"T_de398524_3144_11ea_87ea_784f438b3f7brow0_col11\" class=\"data row0 col11\" >0.021</td>\n",
       "            </tr>\n",
       "    </tbody></table>"
      ],
      "text/plain": [
       "<pandas.io.formats.style.Styler at 0x10b716050>"
      ]
     },
     "metadata": {},
     "output_type": "display_data"
    }
   ],
   "source": [
    "prefunc = [StandardScaler()]\n",
    "\n",
    "print('EDA Features:\\n')\n",
    "\n",
    "print('In Arousal (mean) dimension...')\n",
    "scores_eda_a_mean = cross_val_regression(regressors, eda_features_a_mean, arousal_mean, prefunc)\n",
    "ipd.display(format_scores(scores_eda_a_mean))\n",
    "\n",
    "print('In Valence (mean) dimension...')\n",
    "scores_eda_v_mean = cross_val_regression(regressors, eda_features_v_mean, valence_mean, prefunc)\n",
    "ipd.display(format_scores(scores_eda_v_mean))\n",
    "\n",
    "print('In Arousal (std) dimension...')\n",
    "scores_eda_a_std = cross_val_regression(regressors, eda_features_a_std, arousal_std, prefunc)\n",
    "ipd.display(format_scores(scores_eda_a_std))\n",
    "\n",
    "print('In Valence (std) dimension...')\n",
    "scores_eda_v_std = cross_val_regression(regressors, eda_features_v_std, valence_std, prefunc)\n",
    "ipd.display(format_scores(scores_eda_v_std))"
   ]
  },
  {
   "cell_type": "markdown",
   "metadata": {},
   "source": [
    "### Multiple regressors on audio + EDA features"
   ]
  },
  {
   "cell_type": "code",
   "execution_count": 40,
   "metadata": {},
   "outputs": [
    {
     "name": "stdout",
     "output_type": "stream",
     "text": [
      "Audio + EDA Features:\n",
      "\n",
      "In Arousal (mean) dimension...\n"
     ]
    },
    {
     "data": {
      "text/html": [
       "<style  type=\"text/css\" >\n",
       "    #T_8a834b6c_3145_11ea_87ea_784f438b3f7brow0_col3 {\n",
       "            background-color:  yellow;\n",
       "        }</style><table id=\"T_8a834b6c_3145_11ea_87ea_784f438b3f7b\" ><thead>    <tr>        <th class=\"blank level0\" ></th>        <th class=\"col_heading level0 col0\" >LR</th>        <th class=\"col_heading level0 col1\" >Lasso</th>        <th class=\"col_heading level0 col2\" >ElasticNet</th>        <th class=\"col_heading level0 col3\" >Ridge</th>        <th class=\"col_heading level0 col4\" >kNN</th>        <th class=\"col_heading level0 col5\" >SVRrbf</th>        <th class=\"col_heading level0 col6\" >SVRpoly</th>        <th class=\"col_heading level0 col7\" >SVRlinear</th>        <th class=\"col_heading level0 col8\" >DT</th>        <th class=\"col_heading level0 col9\" >RF</th>        <th class=\"col_heading level0 col10\" >Mean</th>        <th class=\"col_heading level0 col11\" >std</th>    </tr></thead><tbody>\n",
       "                <tr>\n",
       "                        <th id=\"T_8a834b6c_3145_11ea_87ea_784f438b3f7blevel0_row0\" class=\"row_heading level0 row0\" >RMSE</th>\n",
       "                        <td id=\"T_8a834b6c_3145_11ea_87ea_784f438b3f7brow0_col0\" class=\"data row0 col0\" >0.109</td>\n",
       "                        <td id=\"T_8a834b6c_3145_11ea_87ea_784f438b3f7brow0_col1\" class=\"data row0 col1\" >0.184</td>\n",
       "                        <td id=\"T_8a834b6c_3145_11ea_87ea_784f438b3f7brow0_col2\" class=\"data row0 col2\" >0.184</td>\n",
       "                        <td id=\"T_8a834b6c_3145_11ea_87ea_784f438b3f7brow0_col3\" class=\"data row0 col3\" >0.103</td>\n",
       "                        <td id=\"T_8a834b6c_3145_11ea_87ea_784f438b3f7brow0_col4\" class=\"data row0 col4\" >0.126</td>\n",
       "                        <td id=\"T_8a834b6c_3145_11ea_87ea_784f438b3f7brow0_col5\" class=\"data row0 col5\" >0.110</td>\n",
       "                        <td id=\"T_8a834b6c_3145_11ea_87ea_784f438b3f7brow0_col6\" class=\"data row0 col6\" >0.139</td>\n",
       "                        <td id=\"T_8a834b6c_3145_11ea_87ea_784f438b3f7brow0_col7\" class=\"data row0 col7\" >0.112</td>\n",
       "                        <td id=\"T_8a834b6c_3145_11ea_87ea_784f438b3f7brow0_col8\" class=\"data row0 col8\" >0.131</td>\n",
       "                        <td id=\"T_8a834b6c_3145_11ea_87ea_784f438b3f7brow0_col9\" class=\"data row0 col9\" >0.149</td>\n",
       "                        <td id=\"T_8a834b6c_3145_11ea_87ea_784f438b3f7brow0_col10\" class=\"data row0 col10\" >0.135</td>\n",
       "                        <td id=\"T_8a834b6c_3145_11ea_87ea_784f438b3f7brow0_col11\" class=\"data row0 col11\" >0.030</td>\n",
       "            </tr>\n",
       "    </tbody></table>"
      ],
      "text/plain": [
       "<pandas.io.formats.style.Styler at 0x11d5902d0>"
      ]
     },
     "metadata": {},
     "output_type": "display_data"
    },
    {
     "name": "stdout",
     "output_type": "stream",
     "text": [
      "In Valence (mean) dimension...\n"
     ]
    },
    {
     "data": {
      "text/html": [
       "<style  type=\"text/css\" >\n",
       "    #T_a93140b4_3145_11ea_87ea_784f438b3f7brow0_col5 {\n",
       "            background-color:  yellow;\n",
       "        }</style><table id=\"T_a93140b4_3145_11ea_87ea_784f438b3f7b\" ><thead>    <tr>        <th class=\"blank level0\" ></th>        <th class=\"col_heading level0 col0\" >LR</th>        <th class=\"col_heading level0 col1\" >Lasso</th>        <th class=\"col_heading level0 col2\" >ElasticNet</th>        <th class=\"col_heading level0 col3\" >Ridge</th>        <th class=\"col_heading level0 col4\" >kNN</th>        <th class=\"col_heading level0 col5\" >SVRrbf</th>        <th class=\"col_heading level0 col6\" >SVRpoly</th>        <th class=\"col_heading level0 col7\" >SVRlinear</th>        <th class=\"col_heading level0 col8\" >DT</th>        <th class=\"col_heading level0 col9\" >RF</th>        <th class=\"col_heading level0 col10\" >Mean</th>        <th class=\"col_heading level0 col11\" >std</th>    </tr></thead><tbody>\n",
       "                <tr>\n",
       "                        <th id=\"T_a93140b4_3145_11ea_87ea_784f438b3f7blevel0_row0\" class=\"row_heading level0 row0\" >RMSE</th>\n",
       "                        <td id=\"T_a93140b4_3145_11ea_87ea_784f438b3f7brow0_col0\" class=\"data row0 col0\" >0.135</td>\n",
       "                        <td id=\"T_a93140b4_3145_11ea_87ea_784f438b3f7brow0_col1\" class=\"data row0 col1\" >0.162</td>\n",
       "                        <td id=\"T_a93140b4_3145_11ea_87ea_784f438b3f7brow0_col2\" class=\"data row0 col2\" >0.162</td>\n",
       "                        <td id=\"T_a93140b4_3145_11ea_87ea_784f438b3f7brow0_col3\" class=\"data row0 col3\" >0.127</td>\n",
       "                        <td id=\"T_a93140b4_3145_11ea_87ea_784f438b3f7brow0_col4\" class=\"data row0 col4\" >0.129</td>\n",
       "                        <td id=\"T_a93140b4_3145_11ea_87ea_784f438b3f7brow0_col5\" class=\"data row0 col5\" >0.123</td>\n",
       "                        <td id=\"T_a93140b4_3145_11ea_87ea_784f438b3f7brow0_col6\" class=\"data row0 col6\" >0.148</td>\n",
       "                        <td id=\"T_a93140b4_3145_11ea_87ea_784f438b3f7brow0_col7\" class=\"data row0 col7\" >0.138</td>\n",
       "                        <td id=\"T_a93140b4_3145_11ea_87ea_784f438b3f7brow0_col8\" class=\"data row0 col8\" >0.142</td>\n",
       "                        <td id=\"T_a93140b4_3145_11ea_87ea_784f438b3f7brow0_col9\" class=\"data row0 col9\" >0.137</td>\n",
       "                        <td id=\"T_a93140b4_3145_11ea_87ea_784f438b3f7brow0_col10\" class=\"data row0 col10\" >0.140</td>\n",
       "                        <td id=\"T_a93140b4_3145_11ea_87ea_784f438b3f7brow0_col11\" class=\"data row0 col11\" >0.014</td>\n",
       "            </tr>\n",
       "    </tbody></table>"
      ],
      "text/plain": [
       "<pandas.io.formats.style.Styler at 0x1a24004510>"
      ]
     },
     "metadata": {},
     "output_type": "display_data"
    },
    {
     "name": "stdout",
     "output_type": "stream",
     "text": [
      "In Arousal (std) dimension...\n"
     ]
    },
    {
     "data": {
      "text/html": [
       "<style  type=\"text/css\" >\n",
       "    #T_aa37f7b4_3145_11ea_87ea_784f438b3f7brow0_col9 {\n",
       "            background-color:  yellow;\n",
       "        }</style><table id=\"T_aa37f7b4_3145_11ea_87ea_784f438b3f7b\" ><thead>    <tr>        <th class=\"blank level0\" ></th>        <th class=\"col_heading level0 col0\" >LR</th>        <th class=\"col_heading level0 col1\" >Lasso</th>        <th class=\"col_heading level0 col2\" >ElasticNet</th>        <th class=\"col_heading level0 col3\" >Ridge</th>        <th class=\"col_heading level0 col4\" >kNN</th>        <th class=\"col_heading level0 col5\" >SVRrbf</th>        <th class=\"col_heading level0 col6\" >SVRpoly</th>        <th class=\"col_heading level0 col7\" >SVRlinear</th>        <th class=\"col_heading level0 col8\" >DT</th>        <th class=\"col_heading level0 col9\" >RF</th>        <th class=\"col_heading level0 col10\" >Mean</th>        <th class=\"col_heading level0 col11\" >std</th>    </tr></thead><tbody>\n",
       "                <tr>\n",
       "                        <th id=\"T_aa37f7b4_3145_11ea_87ea_784f438b3f7blevel0_row0\" class=\"row_heading level0 row0\" >RMSE</th>\n",
       "                        <td id=\"T_aa37f7b4_3145_11ea_87ea_784f438b3f7brow0_col0\" class=\"data row0 col0\" >0.052</td>\n",
       "                        <td id=\"T_aa37f7b4_3145_11ea_87ea_784f438b3f7brow0_col1\" class=\"data row0 col1\" >0.047</td>\n",
       "                        <td id=\"T_aa37f7b4_3145_11ea_87ea_784f438b3f7brow0_col2\" class=\"data row0 col2\" >0.047</td>\n",
       "                        <td id=\"T_aa37f7b4_3145_11ea_87ea_784f438b3f7brow0_col3\" class=\"data row0 col3\" >0.049</td>\n",
       "                        <td id=\"T_aa37f7b4_3145_11ea_87ea_784f438b3f7brow0_col4\" class=\"data row0 col4\" >0.046</td>\n",
       "                        <td id=\"T_aa37f7b4_3145_11ea_87ea_784f438b3f7brow0_col5\" class=\"data row0 col5\" >0.050</td>\n",
       "                        <td id=\"T_aa37f7b4_3145_11ea_87ea_784f438b3f7brow0_col6\" class=\"data row0 col6\" >0.050</td>\n",
       "                        <td id=\"T_aa37f7b4_3145_11ea_87ea_784f438b3f7brow0_col7\" class=\"data row0 col7\" >0.049</td>\n",
       "                        <td id=\"T_aa37f7b4_3145_11ea_87ea_784f438b3f7brow0_col8\" class=\"data row0 col8\" >0.052</td>\n",
       "                        <td id=\"T_aa37f7b4_3145_11ea_87ea_784f438b3f7brow0_col9\" class=\"data row0 col9\" >0.045</td>\n",
       "                        <td id=\"T_aa37f7b4_3145_11ea_87ea_784f438b3f7brow0_col10\" class=\"data row0 col10\" >0.049</td>\n",
       "                        <td id=\"T_aa37f7b4_3145_11ea_87ea_784f438b3f7brow0_col11\" class=\"data row0 col11\" >0.002</td>\n",
       "            </tr>\n",
       "    </tbody></table>"
      ],
      "text/plain": [
       "<pandas.io.formats.style.Styler at 0x1a23ff5fd0>"
      ]
     },
     "metadata": {},
     "output_type": "display_data"
    },
    {
     "name": "stdout",
     "output_type": "stream",
     "text": [
      "In Valence (std) dimension...\n"
     ]
    },
    {
     "data": {
      "text/html": [
       "<style  type=\"text/css\" >\n",
       "    #T_ab3b6fb0_3145_11ea_87ea_784f438b3f7brow0_col9 {\n",
       "            background-color:  yellow;\n",
       "        }</style><table id=\"T_ab3b6fb0_3145_11ea_87ea_784f438b3f7b\" ><thead>    <tr>        <th class=\"blank level0\" ></th>        <th class=\"col_heading level0 col0\" >LR</th>        <th class=\"col_heading level0 col1\" >Lasso</th>        <th class=\"col_heading level0 col2\" >ElasticNet</th>        <th class=\"col_heading level0 col3\" >Ridge</th>        <th class=\"col_heading level0 col4\" >kNN</th>        <th class=\"col_heading level0 col5\" >SVRrbf</th>        <th class=\"col_heading level0 col6\" >SVRpoly</th>        <th class=\"col_heading level0 col7\" >SVRlinear</th>        <th class=\"col_heading level0 col8\" >DT</th>        <th class=\"col_heading level0 col9\" >RF</th>        <th class=\"col_heading level0 col10\" >Mean</th>        <th class=\"col_heading level0 col11\" >std</th>    </tr></thead><tbody>\n",
       "                <tr>\n",
       "                        <th id=\"T_ab3b6fb0_3145_11ea_87ea_784f438b3f7blevel0_row0\" class=\"row_heading level0 row0\" >RMSE</th>\n",
       "                        <td id=\"T_ab3b6fb0_3145_11ea_87ea_784f438b3f7brow0_col0\" class=\"data row0 col0\" >0.056</td>\n",
       "                        <td id=\"T_ab3b6fb0_3145_11ea_87ea_784f438b3f7brow0_col1\" class=\"data row0 col1\" >0.046</td>\n",
       "                        <td id=\"T_ab3b6fb0_3145_11ea_87ea_784f438b3f7brow0_col2\" class=\"data row0 col2\" >0.046</td>\n",
       "                        <td id=\"T_ab3b6fb0_3145_11ea_87ea_784f438b3f7brow0_col3\" class=\"data row0 col3\" >0.053</td>\n",
       "                        <td id=\"T_ab3b6fb0_3145_11ea_87ea_784f438b3f7brow0_col4\" class=\"data row0 col4\" >0.048</td>\n",
       "                        <td id=\"T_ab3b6fb0_3145_11ea_87ea_784f438b3f7brow0_col5\" class=\"data row0 col5\" >0.047</td>\n",
       "                        <td id=\"T_ab3b6fb0_3145_11ea_87ea_784f438b3f7brow0_col6\" class=\"data row0 col6\" >0.048</td>\n",
       "                        <td id=\"T_ab3b6fb0_3145_11ea_87ea_784f438b3f7brow0_col7\" class=\"data row0 col7\" >0.048</td>\n",
       "                        <td id=\"T_ab3b6fb0_3145_11ea_87ea_784f438b3f7brow0_col8\" class=\"data row0 col8\" >0.052</td>\n",
       "                        <td id=\"T_ab3b6fb0_3145_11ea_87ea_784f438b3f7brow0_col9\" class=\"data row0 col9\" >0.046</td>\n",
       "                        <td id=\"T_ab3b6fb0_3145_11ea_87ea_784f438b3f7brow0_col10\" class=\"data row0 col10\" >0.049</td>\n",
       "                        <td id=\"T_ab3b6fb0_3145_11ea_87ea_784f438b3f7brow0_col11\" class=\"data row0 col11\" >0.004</td>\n",
       "            </tr>\n",
       "    </tbody></table>"
      ],
      "text/plain": [
       "<pandas.io.formats.style.Styler at 0x1a2357ecd0>"
      ]
     },
     "metadata": {},
     "output_type": "display_data"
    }
   ],
   "source": [
    "prefunc = [StandardScaler()]\n",
    "\n",
    "print('Audio + EDA Features:\\n')\n",
    "\n",
    "print('In Arousal (mean) dimension...')\n",
    "scores_f_a_mean = cross_val_regression(regressors, fusion_features, arousal_mean, prefunc)\n",
    "ipd.display(format_scores(scores_f_a_mean))\n",
    "\n",
    "print('In Valence (mean) dimension...')\n",
    "scores_f_v_mean = cross_val_regression(regressors, fusion_features, valence_mean, prefunc)\n",
    "ipd.display(format_scores(scores_f_v_mean))\n",
    "\n",
    "print('In Arousal (std) dimension...')\n",
    "scores_f_a_std = cross_val_regression(regressors, fusion_features, arousal_std, prefunc)\n",
    "ipd.display(format_scores(scores_f_a_std))\n",
    "\n",
    "print('In Valence (std) dimension...')\n",
    "scores_f_v_std = cross_val_regression(regressors, fusion_features, valence_std, prefunc)\n",
    "ipd.display(format_scores(scores_f_v_std))"
   ]
  },
  {
   "cell_type": "code",
   "execution_count": null,
   "metadata": {},
   "outputs": [],
   "source": []
  }
 ],
 "metadata": {
  "kernelspec": {
   "display_name": "Python 3",
   "language": "python",
   "name": "python3"
  },
  "language_info": {
   "codemirror_mode": {
    "name": "ipython",
    "version": 3
   },
   "file_extension": ".py",
   "mimetype": "text/x-python",
   "name": "python",
   "nbconvert_exporter": "python",
   "pygments_lexer": "ipython3",
   "version": "3.7.5"
  }
 },
 "nbformat": 4,
 "nbformat_minor": 2
}
