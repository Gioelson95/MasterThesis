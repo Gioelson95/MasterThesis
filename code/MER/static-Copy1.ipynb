{
 "cells": [
  {
   "cell_type": "markdown",
   "metadata": {},
   "source": [
    "# MER algorithm for static features"
   ]
  },
  {
   "cell_type": "markdown",
   "metadata": {},
   "source": [
    "### Load data"
   ]
  },
  {
   "cell_type": "code",
   "execution_count": 1,
   "metadata": {},
   "outputs": [],
   "source": [
    "import pandas as pd\n",
    "import numpy as np\n",
    "from tqdm import tqdm"
   ]
  },
  {
   "cell_type": "code",
   "execution_count": 2,
   "metadata": {},
   "outputs": [],
   "source": [
    "audio_features_dir = '/Users/gioelepozzi/Desktop/data/features_thesis/static_features.csv'\n",
    "audio_features_df = pd.read_csv(audio_features_dir)\n",
    "\n",
    "eda_features_dir = '/Users/gioelepozzi/Desktop/data/features_thesis/static_features_EDA.csv'\n",
    "eda_features_df = pd.read_csv(eda_features_dir)\n",
    "eda_dataset = eda_features_df.groupby(by=['music_ID'], as_index=False).mean() # mean over 10 subjects\n",
    "eda_dataset = eda_dataset.drop(columns=['subject_ID'])\n",
    "\n",
    "VA_mean_dir = '/Users/gioelepozzi/Desktop/data/annotations_thesis/static_annotations.csv'\n",
    "VA_std_dir = '/Users/gioelepozzi/Desktop/data/annotations_thesis/static_annotations_std.csv'\n",
    "VA_mean_df = pd.read_csv(VA_mean_dir)\n",
    "VA_std_df = pd.read_csv(VA_std_dir)\n",
    "\n",
    "audio_df = pd.merge(audio_features_df, VA_mean_df, on=['music_ID'])\n",
    "audio_df = pd.merge(audio_df, VA_std_df, on=['music_ID']) # df with audio features and VA values\n",
    "\n",
    "eda_df = pd.merge(eda_dataset, VA_mean_df, on=['music_ID'])\n",
    "eda_df = pd.merge(eda_df, VA_std_df, on=['music_ID'])"
   ]
  },
  {
   "cell_type": "code",
   "execution_count": 3,
   "metadata": {},
   "outputs": [],
   "source": [
    "audio_features_v_mean = audio_df.drop(columns=['music_ID', 'Arousal(mean)', 'Arousal(std)', 'Valence(std)'])\n",
    "audio_features_a_mean = audio_df.drop(columns=['music_ID', 'Valence(mean)', 'Arousal(std)', 'Valence(std)'])\n",
    "audio_features_v_std = audio_df.drop(columns=['music_ID', 'Arousal(mean)', 'Valence(mean)', 'Arousal(std)'])\n",
    "audio_features_a_std = audio_df.drop(columns=['music_ID', 'Arousal(mean)', 'Valence(mean)', 'Valence(std)'])\n",
    "\n",
    "eda_features_v_mean = eda_df.drop(columns=['music_ID', 'Arousal(mean)', 'Arousal(std)', 'Valence(std)'])\n",
    "eda_features_a_mean = eda_df.drop(columns=['music_ID', 'Valence(mean)', 'Arousal(std)', 'Valence(std)'])\n",
    "eda_features_v_std = eda_df.drop(columns=['music_ID', 'Arousal(mean)', 'Valence(mean)', 'Arousal(std)'])\n",
    "eda_features_a_std = eda_df.drop(columns=['music_ID', 'Arousal(mean)', 'Valence(mean)', 'Valence(std)'])\n",
    "\n",
    "arousal_mean = audio_df['Arousal(mean)']\n",
    "valence_mean = audio_df['Valence(mean)']\n",
    "arousal_std = audio_df['Arousal(std)']\n",
    "valence_std = audio_df['Valence(std)']"
   ]
  },
  {
   "cell_type": "code",
   "execution_count": 4,
   "metadata": {},
   "outputs": [],
   "source": [
    "fusion_dataset = pd.merge(audio_features_df, eda_dataset, on=['music_ID'])\n",
    "fusion_features = fusion_dataset.drop(columns=['music_ID'])"
   ]
  },
  {
   "cell_type": "code",
   "execution_count": null,
   "metadata": {},
   "outputs": [],
   "source": []
  },
  {
   "cell_type": "code",
   "execution_count": 5,
   "metadata": {},
   "outputs": [],
   "source": [
    "def load_audio_dataset(data):\n",
    "    features = data[data.columns[:-1]].values\n",
    "    labels = data[data.columns[-1]].values\n",
    "    #scaler = StandardScaler(copy=False)\n",
    "    #scaler.fit_transform(features)\n",
    "    return features, labels"
   ]
  },
  {
   "cell_type": "markdown",
   "metadata": {},
   "source": [
    "### Regressors"
   ]
  },
  {
   "cell_type": "code",
   "execution_count": 16,
   "metadata": {},
   "outputs": [],
   "source": [
    "from sklearn.linear_model import Lasso, ElasticNet, Ridge, LinearRegression\n",
    "from sklearn.neighbors import KNeighborsRegressor\n",
    "from sklearn.svm import SVR\n",
    "from sklearn.tree import DecisionTreeRegressor\n",
    "from sklearn.ensemble import RandomForestRegressor\n",
    "from sklearn.metrics import r2_score, f1_score"
   ]
  },
  {
   "cell_type": "code",
   "execution_count": 17,
   "metadata": {},
   "outputs": [],
   "source": [
    "def rmse(y, y_pred):\n",
    "    return sqrt(mean_squared_error(y, y_pred))\n",
    "\n",
    "def r2(y, y_pred):\n",
    "    return r2_score(y, y_pred)\n",
    "\n",
    "def f1(y, y_pred):\n",
    "    return f1_score(y, y_pred)\n",
    "\n",
    "regressors = {\n",
    "    'LR': LinearRegression(),\n",
    "    'Lasso': Lasso(),\n",
    "    'ElasticNet': ElasticNet(),\n",
    "    'Ridge': Ridge(),\n",
    "    'kNN': KNeighborsRegressor(),\n",
    "    'SVRrbf': SVR(kernel='rbf', gamma='scale'),\n",
    "    'SVRpoly': SVR(kernel='poly', gamma='scale'),\n",
    "    'SVRlinear': SVR(kernel='linear', gamma='scale'),\n",
    "    'DT': DecisionTreeRegressor(max_depth=5),\n",
    "    'RF': RandomForestRegressor(max_depth=5, n_estimators=10, max_features=1),\n",
    "}"
   ]
  },
  {
   "cell_type": "code",
   "execution_count": 18,
   "metadata": {},
   "outputs": [],
   "source": [
    "def cross_val_regression_RMSE(regressors, features, labels, preprocessfunc):\n",
    "    columns = list(regressors.keys())\n",
    "    scores = pd.DataFrame(columns=columns, index=['RMSE'])\n",
    "\n",
    "    for reg_name, reg in regressors.items():\n",
    "        scorer = {'rmse': make_scorer(rmse)}\n",
    "        reg = make_pipeline(*preprocessfunc, reg)\n",
    "        reg_score = cross_validate(reg, features, labels, scoring=scorer, cv=10, return_train_score=False) \n",
    "        scores.loc['RMSE', reg_name] = reg_score['test_rmse'].mean()\n",
    "\n",
    "    return scores\n",
    "\n",
    "def cross_val_regression_r2(regressors, features, labels, preprocessfunc):\n",
    "    columns = list(regressors.keys())\n",
    "    scores_r2 = pd.DataFrame(columns=columns, index=['R2'])\n",
    "\n",
    "    for reg_name, reg in regressors.items():\n",
    "        scorer_r2 = {'r2': make_scorer(r2)}\n",
    "        reg = make_pipeline(*preprocessfunc, reg)\n",
    "        reg_score_r2 = cross_validate(reg, features, labels, scoring=scorer_r2, cv=10, return_train_score=False) \n",
    "        scores_r2.loc['R2', reg_name] = reg_score_r2['test_r2'].mean()\n",
    "\n",
    "    return scores_r2\n",
    "\n",
    "def cross_val_regression_f1(regressors, features, labels, preprocessfunc):\n",
    "    columns = list(regressors.keys())\n",
    "    scores_f1 = pd.DataFrame(columns=columns, index=['f1'])\n",
    "\n",
    "    for reg_name, reg in regressors.items():\n",
    "        scorer_f1 = {'f1': make_scorer(f1)}\n",
    "        reg = make_pipeline(*preprocessfunc, reg)\n",
    "        reg_score_f1 = cross_validate(reg, features, labels, scoring=scorer_f1, cv=10, return_train_score=False) \n",
    "        scores_f1.loc['f1', reg_name] = reg_score_r2['test_f1'].mean()\n",
    "\n",
    "    return scores_f1"
   ]
  },
  {
   "cell_type": "code",
   "execution_count": 33,
   "metadata": {},
   "outputs": [],
   "source": [
    "def format_scores(scores):\n",
    "    def highlight(s):\n",
    "        is_min = s == min(s)\n",
    "#         is_max = s == max(s)\n",
    "#         is_max_or_min = (is_min | is_max)\n",
    "        return ['background-color: yellow' if v else '' for v in is_min]\n",
    "    scores = scores.style.apply(highlight, axis=1, subset=pd.IndexSlice[:, :scores.columns[-2]])\n",
    "    return scores.format('{:.3f}')"
   ]
  },
  {
   "cell_type": "markdown",
   "metadata": {},
   "source": [
    "### Multiple regressors on audio features"
   ]
  },
  {
   "cell_type": "code",
   "execution_count": 20,
   "metadata": {},
   "outputs": [],
   "source": [
    "from sklearn.preprocessing import StandardScaler\n",
    "from sklearn.metrics import mean_squared_error, make_scorer\n",
    "from sklearn.pipeline import make_pipeline\n",
    "from sklearn.model_selection import cross_validate\n",
    "\n",
    "from math import sqrt\n",
    "\n",
    "import IPython.display as ipd"
   ]
  },
  {
   "cell_type": "code",
   "execution_count": 26,
   "metadata": {},
   "outputs": [
    {
     "name": "stdout",
     "output_type": "stream",
     "text": [
      "Audio Features - RMSE score:\n",
      "\n",
      "In Arousal (mean) dimension...\n"
     ]
    },
    {
     "data": {
      "text/html": [
       "<style  type=\"text/css\" >\n",
       "    #T_46c8f302_6905_11ea_ab23_784f438b3f7brow0_col3 {\n",
       "            background-color:  yellow;\n",
       "        }</style><table id=\"T_46c8f302_6905_11ea_ab23_784f438b3f7b\" ><thead>    <tr>        <th class=\"blank level0\" ></th>        <th class=\"col_heading level0 col0\" >LR</th>        <th class=\"col_heading level0 col1\" >Lasso</th>        <th class=\"col_heading level0 col2\" >ElasticNet</th>        <th class=\"col_heading level0 col3\" >Ridge</th>        <th class=\"col_heading level0 col4\" >kNN</th>        <th class=\"col_heading level0 col5\" >SVRrbf</th>        <th class=\"col_heading level0 col6\" >SVRpoly</th>        <th class=\"col_heading level0 col7\" >SVRlinear</th>        <th class=\"col_heading level0 col8\" >DT</th>        <th class=\"col_heading level0 col9\" >RF</th>    </tr></thead><tbody>\n",
       "                <tr>\n",
       "                        <th id=\"T_46c8f302_6905_11ea_ab23_784f438b3f7blevel0_row0\" class=\"row_heading level0 row0\" >RMSE</th>\n",
       "                        <td id=\"T_46c8f302_6905_11ea_ab23_784f438b3f7brow0_col0\" class=\"data row0 col0\" >0.102</td>\n",
       "                        <td id=\"T_46c8f302_6905_11ea_ab23_784f438b3f7brow0_col1\" class=\"data row0 col1\" >0.184</td>\n",
       "                        <td id=\"T_46c8f302_6905_11ea_ab23_784f438b3f7brow0_col2\" class=\"data row0 col2\" >0.184</td>\n",
       "                        <td id=\"T_46c8f302_6905_11ea_ab23_784f438b3f7brow0_col3\" class=\"data row0 col3\" >0.100</td>\n",
       "                        <td id=\"T_46c8f302_6905_11ea_ab23_784f438b3f7brow0_col4\" class=\"data row0 col4\" >0.119</td>\n",
       "                        <td id=\"T_46c8f302_6905_11ea_ab23_784f438b3f7brow0_col5\" class=\"data row0 col5\" >0.113</td>\n",
       "                        <td id=\"T_46c8f302_6905_11ea_ab23_784f438b3f7brow0_col6\" class=\"data row0 col6\" >0.209</td>\n",
       "                        <td id=\"T_46c8f302_6905_11ea_ab23_784f438b3f7brow0_col7\" class=\"data row0 col7\" >0.106</td>\n",
       "                        <td id=\"T_46c8f302_6905_11ea_ab23_784f438b3f7brow0_col8\" class=\"data row0 col8\" >0.129</td>\n",
       "                        <td id=\"T_46c8f302_6905_11ea_ab23_784f438b3f7brow0_col9\" class=\"data row0 col9\" >0.136</td>\n",
       "            </tr>\n",
       "    </tbody></table>"
      ],
      "text/plain": [
       "<pandas.io.formats.style.Styler at 0x1a1c85f850>"
      ]
     },
     "metadata": {},
     "output_type": "display_data"
    },
    {
     "name": "stdout",
     "output_type": "stream",
     "text": [
      "In Valence (mean) dimension ...\n"
     ]
    },
    {
     "data": {
      "text/html": [
       "<style  type=\"text/css\" >\n",
       "    #T_518296fe_6905_11ea_ab23_784f438b3f7brow0_col5 {\n",
       "            background-color:  yellow;\n",
       "        }</style><table id=\"T_518296fe_6905_11ea_ab23_784f438b3f7b\" ><thead>    <tr>        <th class=\"blank level0\" ></th>        <th class=\"col_heading level0 col0\" >LR</th>        <th class=\"col_heading level0 col1\" >Lasso</th>        <th class=\"col_heading level0 col2\" >ElasticNet</th>        <th class=\"col_heading level0 col3\" >Ridge</th>        <th class=\"col_heading level0 col4\" >kNN</th>        <th class=\"col_heading level0 col5\" >SVRrbf</th>        <th class=\"col_heading level0 col6\" >SVRpoly</th>        <th class=\"col_heading level0 col7\" >SVRlinear</th>        <th class=\"col_heading level0 col8\" >DT</th>        <th class=\"col_heading level0 col9\" >RF</th>    </tr></thead><tbody>\n",
       "                <tr>\n",
       "                        <th id=\"T_518296fe_6905_11ea_ab23_784f438b3f7blevel0_row0\" class=\"row_heading level0 row0\" >RMSE</th>\n",
       "                        <td id=\"T_518296fe_6905_11ea_ab23_784f438b3f7brow0_col0\" class=\"data row0 col0\" >0.122</td>\n",
       "                        <td id=\"T_518296fe_6905_11ea_ab23_784f438b3f7brow0_col1\" class=\"data row0 col1\" >0.162</td>\n",
       "                        <td id=\"T_518296fe_6905_11ea_ab23_784f438b3f7brow0_col2\" class=\"data row0 col2\" >0.162</td>\n",
       "                        <td id=\"T_518296fe_6905_11ea_ab23_784f438b3f7brow0_col3\" class=\"data row0 col3\" >0.120</td>\n",
       "                        <td id=\"T_518296fe_6905_11ea_ab23_784f438b3f7brow0_col4\" class=\"data row0 col4\" >0.126</td>\n",
       "                        <td id=\"T_518296fe_6905_11ea_ab23_784f438b3f7brow0_col5\" class=\"data row0 col5\" >0.119</td>\n",
       "                        <td id=\"T_518296fe_6905_11ea_ab23_784f438b3f7brow0_col6\" class=\"data row0 col6\" >0.211</td>\n",
       "                        <td id=\"T_518296fe_6905_11ea_ab23_784f438b3f7brow0_col7\" class=\"data row0 col7\" >0.127</td>\n",
       "                        <td id=\"T_518296fe_6905_11ea_ab23_784f438b3f7brow0_col8\" class=\"data row0 col8\" >0.143</td>\n",
       "                        <td id=\"T_518296fe_6905_11ea_ab23_784f438b3f7brow0_col9\" class=\"data row0 col9\" >0.127</td>\n",
       "            </tr>\n",
       "    </tbody></table>"
      ],
      "text/plain": [
       "<pandas.io.formats.style.Styler at 0x1a1c7c6210>"
      ]
     },
     "metadata": {},
     "output_type": "display_data"
    },
    {
     "name": "stdout",
     "output_type": "stream",
     "text": [
      "In Arousal (std) dimension...\n"
     ]
    },
    {
     "data": {
      "text/html": [
       "<style  type=\"text/css\" >\n",
       "    #T_52103af4_6905_11ea_ab23_784f438b3f7brow0_col3 {\n",
       "            background-color:  yellow;\n",
       "        }</style><table id=\"T_52103af4_6905_11ea_ab23_784f438b3f7b\" ><thead>    <tr>        <th class=\"blank level0\" ></th>        <th class=\"col_heading level0 col0\" >LR</th>        <th class=\"col_heading level0 col1\" >Lasso</th>        <th class=\"col_heading level0 col2\" >ElasticNet</th>        <th class=\"col_heading level0 col3\" >Ridge</th>        <th class=\"col_heading level0 col4\" >kNN</th>        <th class=\"col_heading level0 col5\" >SVRrbf</th>        <th class=\"col_heading level0 col6\" >SVRpoly</th>        <th class=\"col_heading level0 col7\" >SVRlinear</th>        <th class=\"col_heading level0 col8\" >DT</th>        <th class=\"col_heading level0 col9\" >RF</th>    </tr></thead><tbody>\n",
       "                <tr>\n",
       "                        <th id=\"T_52103af4_6905_11ea_ab23_784f438b3f7blevel0_row0\" class=\"row_heading level0 row0\" >RMSE</th>\n",
       "                        <td id=\"T_52103af4_6905_11ea_ab23_784f438b3f7brow0_col0\" class=\"data row0 col0\" >0.047</td>\n",
       "                        <td id=\"T_52103af4_6905_11ea_ab23_784f438b3f7brow0_col1\" class=\"data row0 col1\" >0.047</td>\n",
       "                        <td id=\"T_52103af4_6905_11ea_ab23_784f438b3f7brow0_col2\" class=\"data row0 col2\" >0.047</td>\n",
       "                        <td id=\"T_52103af4_6905_11ea_ab23_784f438b3f7brow0_col3\" class=\"data row0 col3\" >0.046</td>\n",
       "                        <td id=\"T_52103af4_6905_11ea_ab23_784f438b3f7brow0_col4\" class=\"data row0 col4\" >0.047</td>\n",
       "                        <td id=\"T_52103af4_6905_11ea_ab23_784f438b3f7brow0_col5\" class=\"data row0 col5\" >0.050</td>\n",
       "                        <td id=\"T_52103af4_6905_11ea_ab23_784f438b3f7brow0_col6\" class=\"data row0 col6\" >0.050</td>\n",
       "                        <td id=\"T_52103af4_6905_11ea_ab23_784f438b3f7brow0_col7\" class=\"data row0 col7\" >0.049</td>\n",
       "                        <td id=\"T_52103af4_6905_11ea_ab23_784f438b3f7brow0_col8\" class=\"data row0 col8\" >0.051</td>\n",
       "                        <td id=\"T_52103af4_6905_11ea_ab23_784f438b3f7brow0_col9\" class=\"data row0 col9\" >0.045</td>\n",
       "            </tr>\n",
       "    </tbody></table>"
      ],
      "text/plain": [
       "<pandas.io.formats.style.Styler at 0x1a1af1c410>"
      ]
     },
     "metadata": {},
     "output_type": "display_data"
    },
    {
     "name": "stdout",
     "output_type": "stream",
     "text": [
      "In Valence (std) dimension...\n"
     ]
    },
    {
     "data": {
      "text/html": [
       "<style  type=\"text/css\" >\n",
       "    #T_529b319a_6905_11ea_ab23_784f438b3f7brow0_col1 {\n",
       "            background-color:  yellow;\n",
       "        }    #T_529b319a_6905_11ea_ab23_784f438b3f7brow0_col2 {\n",
       "            background-color:  yellow;\n",
       "        }</style><table id=\"T_529b319a_6905_11ea_ab23_784f438b3f7b\" ><thead>    <tr>        <th class=\"blank level0\" ></th>        <th class=\"col_heading level0 col0\" >LR</th>        <th class=\"col_heading level0 col1\" >Lasso</th>        <th class=\"col_heading level0 col2\" >ElasticNet</th>        <th class=\"col_heading level0 col3\" >Ridge</th>        <th class=\"col_heading level0 col4\" >kNN</th>        <th class=\"col_heading level0 col5\" >SVRrbf</th>        <th class=\"col_heading level0 col6\" >SVRpoly</th>        <th class=\"col_heading level0 col7\" >SVRlinear</th>        <th class=\"col_heading level0 col8\" >DT</th>        <th class=\"col_heading level0 col9\" >RF</th>    </tr></thead><tbody>\n",
       "                <tr>\n",
       "                        <th id=\"T_529b319a_6905_11ea_ab23_784f438b3f7blevel0_row0\" class=\"row_heading level0 row0\" >RMSE</th>\n",
       "                        <td id=\"T_529b319a_6905_11ea_ab23_784f438b3f7brow0_col0\" class=\"data row0 col0\" >0.051</td>\n",
       "                        <td id=\"T_529b319a_6905_11ea_ab23_784f438b3f7brow0_col1\" class=\"data row0 col1\" >0.046</td>\n",
       "                        <td id=\"T_529b319a_6905_11ea_ab23_784f438b3f7brow0_col2\" class=\"data row0 col2\" >0.046</td>\n",
       "                        <td id=\"T_529b319a_6905_11ea_ab23_784f438b3f7brow0_col3\" class=\"data row0 col3\" >0.051</td>\n",
       "                        <td id=\"T_529b319a_6905_11ea_ab23_784f438b3f7brow0_col4\" class=\"data row0 col4\" >0.049</td>\n",
       "                        <td id=\"T_529b319a_6905_11ea_ab23_784f438b3f7brow0_col5\" class=\"data row0 col5\" >0.047</td>\n",
       "                        <td id=\"T_529b319a_6905_11ea_ab23_784f438b3f7brow0_col6\" class=\"data row0 col6\" >0.048</td>\n",
       "                        <td id=\"T_529b319a_6905_11ea_ab23_784f438b3f7brow0_col7\" class=\"data row0 col7\" >0.048</td>\n",
       "                        <td id=\"T_529b319a_6905_11ea_ab23_784f438b3f7brow0_col8\" class=\"data row0 col8\" >0.052</td>\n",
       "                        <td id=\"T_529b319a_6905_11ea_ab23_784f438b3f7brow0_col9\" class=\"data row0 col9\" >0.045</td>\n",
       "            </tr>\n",
       "    </tbody></table>"
      ],
      "text/plain": [
       "<pandas.io.formats.style.Styler at 0x1a1ce0c2d0>"
      ]
     },
     "metadata": {},
     "output_type": "display_data"
    }
   ],
   "source": [
    "prefunc = [StandardScaler()]\n",
    "\n",
    "print('Audio Features - RMSE score:\\n')\n",
    "\n",
    "print('In Arousal (mean) dimension...')\n",
    "features_a_mean, labels_a_mean = load_audio_dataset(audio_features_a_mean)\n",
    "scores_a_a_mean_RMSE = cross_val_regression_RMSE(regressors, features_a_mean, labels_a_mean, prefunc)\n",
    "ipd.display(format_scores(scores_a_a_mean_RMSE))\n",
    "\n",
    "print('In Valence (mean) dimension ...')\n",
    "features_v_mean, labels_v_mean = load_audio_dataset(audio_features_v_mean)\n",
    "scores_a_v_mean_RMSE = cross_val_regression_RMSE(regressors, features_v_mean, labels_v_mean, prefunc)\n",
    "ipd.display(format_scores(scores_a_v_mean_RMSE))\n",
    "\n",
    "print('In Arousal (std) dimension...')\n",
    "features_a_std, labels_a_std = load_audio_dataset(audio_features_a_std)\n",
    "scores_a_a_std_RMSE = cross_val_regression_RMSE(regressors, features_a_std, labels_a_std, prefunc)\n",
    "ipd.display(format_scores(scores_a_a_std_RMSE))\n",
    "\n",
    "print('In Valence (std) dimension...')\n",
    "features_v_std, labels_v_std = load_audio_dataset(audio_features_v_std)\n",
    "scores_a_v_std_RMSE = cross_val_regression_RMSE(regressors, features_v_std, labels_v_std, prefunc)\n",
    "ipd.display(format_scores(scores_a_v_std_RMSE))"
   ]
  },
  {
   "cell_type": "code",
   "execution_count": 27,
   "metadata": {},
   "outputs": [
    {
     "name": "stdout",
     "output_type": "stream",
     "text": [
      "Audio Features - r2 score:\n",
      "\n",
      "In Arousal (mean) dimension...\n"
     ]
    },
    {
     "data": {
      "text/html": [
       "<style  type=\"text/css\" >\n",
       "    #T_5fe84c52_6905_11ea_ab23_784f438b3f7brow0_col6 {\n",
       "            background-color:  yellow;\n",
       "        }</style><table id=\"T_5fe84c52_6905_11ea_ab23_784f438b3f7b\" ><thead>    <tr>        <th class=\"blank level0\" ></th>        <th class=\"col_heading level0 col0\" >LR</th>        <th class=\"col_heading level0 col1\" >Lasso</th>        <th class=\"col_heading level0 col2\" >ElasticNet</th>        <th class=\"col_heading level0 col3\" >Ridge</th>        <th class=\"col_heading level0 col4\" >kNN</th>        <th class=\"col_heading level0 col5\" >SVRrbf</th>        <th class=\"col_heading level0 col6\" >SVRpoly</th>        <th class=\"col_heading level0 col7\" >SVRlinear</th>        <th class=\"col_heading level0 col8\" >DT</th>        <th class=\"col_heading level0 col9\" >RF</th>    </tr></thead><tbody>\n",
       "                <tr>\n",
       "                        <th id=\"T_5fe84c52_6905_11ea_ab23_784f438b3f7blevel0_row0\" class=\"row_heading level0 row0\" >R2</th>\n",
       "                        <td id=\"T_5fe84c52_6905_11ea_ab23_784f438b3f7brow0_col0\" class=\"data row0 col0\" >0.669</td>\n",
       "                        <td id=\"T_5fe84c52_6905_11ea_ab23_784f438b3f7brow0_col1\" class=\"data row0 col1\" >-0.039</td>\n",
       "                        <td id=\"T_5fe84c52_6905_11ea_ab23_784f438b3f7brow0_col2\" class=\"data row0 col2\" >-0.039</td>\n",
       "                        <td id=\"T_5fe84c52_6905_11ea_ab23_784f438b3f7brow0_col3\" class=\"data row0 col3\" >0.680</td>\n",
       "                        <td id=\"T_5fe84c52_6905_11ea_ab23_784f438b3f7brow0_col4\" class=\"data row0 col4\" >0.558</td>\n",
       "                        <td id=\"T_5fe84c52_6905_11ea_ab23_784f438b3f7brow0_col5\" class=\"data row0 col5\" >0.606</td>\n",
       "                        <td id=\"T_5fe84c52_6905_11ea_ab23_784f438b3f7brow0_col6\" class=\"data row0 col6\" >-1.115</td>\n",
       "                        <td id=\"T_5fe84c52_6905_11ea_ab23_784f438b3f7brow0_col7\" class=\"data row0 col7\" >0.644</td>\n",
       "                        <td id=\"T_5fe84c52_6905_11ea_ab23_784f438b3f7brow0_col8\" class=\"data row0 col8\" >0.477</td>\n",
       "                        <td id=\"T_5fe84c52_6905_11ea_ab23_784f438b3f7brow0_col9\" class=\"data row0 col9\" >0.459</td>\n",
       "            </tr>\n",
       "    </tbody></table>"
      ],
      "text/plain": [
       "<pandas.io.formats.style.Styler at 0x1a1af63310>"
      ]
     },
     "metadata": {},
     "output_type": "display_data"
    },
    {
     "name": "stdout",
     "output_type": "stream",
     "text": [
      "In Valence (mean) dimension ...\n"
     ]
    },
    {
     "data": {
      "text/html": [
       "<style  type=\"text/css\" >\n",
       "    #T_6aaf1030_6905_11ea_ab23_784f438b3f7brow0_col6 {\n",
       "            background-color:  yellow;\n",
       "        }</style><table id=\"T_6aaf1030_6905_11ea_ab23_784f438b3f7b\" ><thead>    <tr>        <th class=\"blank level0\" ></th>        <th class=\"col_heading level0 col0\" >LR</th>        <th class=\"col_heading level0 col1\" >Lasso</th>        <th class=\"col_heading level0 col2\" >ElasticNet</th>        <th class=\"col_heading level0 col3\" >Ridge</th>        <th class=\"col_heading level0 col4\" >kNN</th>        <th class=\"col_heading level0 col5\" >SVRrbf</th>        <th class=\"col_heading level0 col6\" >SVRpoly</th>        <th class=\"col_heading level0 col7\" >SVRlinear</th>        <th class=\"col_heading level0 col8\" >DT</th>        <th class=\"col_heading level0 col9\" >RF</th>    </tr></thead><tbody>\n",
       "                <tr>\n",
       "                        <th id=\"T_6aaf1030_6905_11ea_ab23_784f438b3f7blevel0_row0\" class=\"row_heading level0 row0\" >R2</th>\n",
       "                        <td id=\"T_6aaf1030_6905_11ea_ab23_784f438b3f7brow0_col0\" class=\"data row0 col0\" >0.373</td>\n",
       "                        <td id=\"T_6aaf1030_6905_11ea_ab23_784f438b3f7brow0_col1\" class=\"data row0 col1\" >-0.056</td>\n",
       "                        <td id=\"T_6aaf1030_6905_11ea_ab23_784f438b3f7brow0_col2\" class=\"data row0 col2\" >-0.056</td>\n",
       "                        <td id=\"T_6aaf1030_6905_11ea_ab23_784f438b3f7brow0_col3\" class=\"data row0 col3\" >0.400</td>\n",
       "                        <td id=\"T_6aaf1030_6905_11ea_ab23_784f438b3f7brow0_col4\" class=\"data row0 col4\" >0.357</td>\n",
       "                        <td id=\"T_6aaf1030_6905_11ea_ab23_784f438b3f7brow0_col5\" class=\"data row0 col5\" >0.418</td>\n",
       "                        <td id=\"T_6aaf1030_6905_11ea_ab23_784f438b3f7brow0_col6\" class=\"data row0 col6\" >-2.233</td>\n",
       "                        <td id=\"T_6aaf1030_6905_11ea_ab23_784f438b3f7brow0_col7\" class=\"data row0 col7\" >0.333</td>\n",
       "                        <td id=\"T_6aaf1030_6905_11ea_ab23_784f438b3f7brow0_col8\" class=\"data row0 col8\" >0.148</td>\n",
       "                        <td id=\"T_6aaf1030_6905_11ea_ab23_784f438b3f7brow0_col9\" class=\"data row0 col9\" >0.356</td>\n",
       "            </tr>\n",
       "    </tbody></table>"
      ],
      "text/plain": [
       "<pandas.io.formats.style.Styler at 0x1a1c4a13d0>"
      ]
     },
     "metadata": {},
     "output_type": "display_data"
    },
    {
     "name": "stdout",
     "output_type": "stream",
     "text": [
      "In Arousal (std) dimension...\n"
     ]
    },
    {
     "data": {
      "text/html": [
       "<style  type=\"text/css\" >\n",
       "    #T_6b4571ec_6905_11ea_ab23_784f438b3f7brow0_col8 {\n",
       "            background-color:  yellow;\n",
       "        }</style><table id=\"T_6b4571ec_6905_11ea_ab23_784f438b3f7b\" ><thead>    <tr>        <th class=\"blank level0\" ></th>        <th class=\"col_heading level0 col0\" >LR</th>        <th class=\"col_heading level0 col1\" >Lasso</th>        <th class=\"col_heading level0 col2\" >ElasticNet</th>        <th class=\"col_heading level0 col3\" >Ridge</th>        <th class=\"col_heading level0 col4\" >kNN</th>        <th class=\"col_heading level0 col5\" >SVRrbf</th>        <th class=\"col_heading level0 col6\" >SVRpoly</th>        <th class=\"col_heading level0 col7\" >SVRlinear</th>        <th class=\"col_heading level0 col8\" >DT</th>        <th class=\"col_heading level0 col9\" >RF</th>    </tr></thead><tbody>\n",
       "                <tr>\n",
       "                        <th id=\"T_6b4571ec_6905_11ea_ab23_784f438b3f7blevel0_row0\" class=\"row_heading level0 row0\" >R2</th>\n",
       "                        <td id=\"T_6b4571ec_6905_11ea_ab23_784f438b3f7brow0_col0\" class=\"data row0 col0\" >0.007</td>\n",
       "                        <td id=\"T_6b4571ec_6905_11ea_ab23_784f438b3f7brow0_col1\" class=\"data row0 col1\" >-0.013</td>\n",
       "                        <td id=\"T_6b4571ec_6905_11ea_ab23_784f438b3f7brow0_col2\" class=\"data row0 col2\" >-0.013</td>\n",
       "                        <td id=\"T_6b4571ec_6905_11ea_ab23_784f438b3f7brow0_col3\" class=\"data row0 col3\" >0.051</td>\n",
       "                        <td id=\"T_6b4571ec_6905_11ea_ab23_784f438b3f7brow0_col4\" class=\"data row0 col4\" >-0.009</td>\n",
       "                        <td id=\"T_6b4571ec_6905_11ea_ab23_784f438b3f7brow0_col5\" class=\"data row0 col5\" >-0.143</td>\n",
       "                        <td id=\"T_6b4571ec_6905_11ea_ab23_784f438b3f7brow0_col6\" class=\"data row0 col6\" >-0.123</td>\n",
       "                        <td id=\"T_6b4571ec_6905_11ea_ab23_784f438b3f7brow0_col7\" class=\"data row0 col7\" >-0.097</td>\n",
       "                        <td id=\"T_6b4571ec_6905_11ea_ab23_784f438b3f7brow0_col8\" class=\"data row0 col8\" >-0.184</td>\n",
       "                        <td id=\"T_6b4571ec_6905_11ea_ab23_784f438b3f7brow0_col9\" class=\"data row0 col9\" >0.136</td>\n",
       "            </tr>\n",
       "    </tbody></table>"
      ],
      "text/plain": [
       "<pandas.io.formats.style.Styler at 0x1a1c7c5590>"
      ]
     },
     "metadata": {},
     "output_type": "display_data"
    },
    {
     "name": "stdout",
     "output_type": "stream",
     "text": [
      "In Valence (std) dimension...\n"
     ]
    },
    {
     "data": {
      "text/html": [
       "<style  type=\"text/css\" >\n",
       "    #T_6bd76ce6_6905_11ea_ab23_784f438b3f7brow0_col8 {\n",
       "            background-color:  yellow;\n",
       "        }</style><table id=\"T_6bd76ce6_6905_11ea_ab23_784f438b3f7b\" ><thead>    <tr>        <th class=\"blank level0\" ></th>        <th class=\"col_heading level0 col0\" >LR</th>        <th class=\"col_heading level0 col1\" >Lasso</th>        <th class=\"col_heading level0 col2\" >ElasticNet</th>        <th class=\"col_heading level0 col3\" >Ridge</th>        <th class=\"col_heading level0 col4\" >kNN</th>        <th class=\"col_heading level0 col5\" >SVRrbf</th>        <th class=\"col_heading level0 col6\" >SVRpoly</th>        <th class=\"col_heading level0 col7\" >SVRlinear</th>        <th class=\"col_heading level0 col8\" >DT</th>        <th class=\"col_heading level0 col9\" >RF</th>    </tr></thead><tbody>\n",
       "                <tr>\n",
       "                        <th id=\"T_6bd76ce6_6905_11ea_ab23_784f438b3f7blevel0_row0\" class=\"row_heading level0 row0\" >R2</th>\n",
       "                        <td id=\"T_6bd76ce6_6905_11ea_ab23_784f438b3f7brow0_col0\" class=\"data row0 col0\" >-0.349</td>\n",
       "                        <td id=\"T_6bd76ce6_6905_11ea_ab23_784f438b3f7brow0_col1\" class=\"data row0 col1\" >-0.026</td>\n",
       "                        <td id=\"T_6bd76ce6_6905_11ea_ab23_784f438b3f7brow0_col2\" class=\"data row0 col2\" >-0.026</td>\n",
       "                        <td id=\"T_6bd76ce6_6905_11ea_ab23_784f438b3f7brow0_col3\" class=\"data row0 col3\" >-0.334</td>\n",
       "                        <td id=\"T_6bd76ce6_6905_11ea_ab23_784f438b3f7brow0_col4\" class=\"data row0 col4\" >-0.187</td>\n",
       "                        <td id=\"T_6bd76ce6_6905_11ea_ab23_784f438b3f7brow0_col5\" class=\"data row0 col5\" >-0.071</td>\n",
       "                        <td id=\"T_6bd76ce6_6905_11ea_ab23_784f438b3f7brow0_col6\" class=\"data row0 col6\" >-0.136</td>\n",
       "                        <td id=\"T_6bd76ce6_6905_11ea_ab23_784f438b3f7brow0_col7\" class=\"data row0 col7\" >-0.104</td>\n",
       "                        <td id=\"T_6bd76ce6_6905_11ea_ab23_784f438b3f7brow0_col8\" class=\"data row0 col8\" >-0.397</td>\n",
       "                        <td id=\"T_6bd76ce6_6905_11ea_ab23_784f438b3f7brow0_col9\" class=\"data row0 col9\" >-0.011</td>\n",
       "            </tr>\n",
       "    </tbody></table>"
      ],
      "text/plain": [
       "<pandas.io.formats.style.Styler at 0x1a1af1c2d0>"
      ]
     },
     "metadata": {},
     "output_type": "display_data"
    }
   ],
   "source": [
    "prefunc = [StandardScaler()]\n",
    "\n",
    "print('Audio Features - r2 score:\\n')\n",
    "\n",
    "print('In Arousal (mean) dimension...')\n",
    "features_a_mean, labels_a_mean = load_audio_dataset(audio_features_a_mean)\n",
    "scores_a_a_mean_r2 = cross_val_regression_r2(regressors, features_a_mean, labels_a_mean, prefunc)\n",
    "ipd.display(format_scores(scores_a_a_mean_r2))\n",
    "\n",
    "print('In Valence (mean) dimension ...')\n",
    "features_v_mean, labels_v_mean = load_audio_dataset(audio_features_v_mean)\n",
    "scores_a_v_mean_r2 = cross_val_regression_r2(regressors, features_v_mean, labels_v_mean, prefunc)\n",
    "ipd.display(format_scores(scores_a_v_mean_r2))\n",
    "\n",
    "print('In Arousal (std) dimension...')\n",
    "features_a_std, labels_a_std = load_audio_dataset(audio_features_a_std)\n",
    "scores_a_a_std_r2 = cross_val_regression_r2(regressors, features_a_std, labels_a_std, prefunc)\n",
    "ipd.display(format_scores(scores_a_a_std_r2))\n",
    "\n",
    "print('In Valence (std) dimension...')\n",
    "features_v_std, labels_v_std = load_audio_dataset(audio_features_v_std)\n",
    "scores_a_v_std_r2 = cross_val_regression_r2(regressors, features_v_std, labels_v_std, prefunc)\n",
    "ipd.display(format_scores(scores_a_v_std_r2))"
   ]
  },
  {
   "cell_type": "markdown",
   "metadata": {},
   "source": [
    "### Multiple regressors on EDA features"
   ]
  },
  {
   "cell_type": "code",
   "execution_count": 34,
   "metadata": {},
   "outputs": [
    {
     "name": "stdout",
     "output_type": "stream",
     "text": [
      "EDA Features - RMSE:\n",
      "\n",
      "In Arousal (mean) dimension...\n"
     ]
    },
    {
     "data": {
      "text/html": [
       "<style  type=\"text/css\" >\n",
       "    #T_f1f213a2_6906_11ea_ab23_784f438b3f7brow0_col0 {\n",
       "            background-color:  yellow;\n",
       "        }</style><table id=\"T_f1f213a2_6906_11ea_ab23_784f438b3f7b\" ><thead>    <tr>        <th class=\"blank level0\" ></th>        <th class=\"col_heading level0 col0\" >LR</th>        <th class=\"col_heading level0 col1\" >Lasso</th>        <th class=\"col_heading level0 col2\" >ElasticNet</th>        <th class=\"col_heading level0 col3\" >Ridge</th>        <th class=\"col_heading level0 col4\" >kNN</th>        <th class=\"col_heading level0 col5\" >SVRrbf</th>        <th class=\"col_heading level0 col6\" >SVRpoly</th>        <th class=\"col_heading level0 col7\" >SVRlinear</th>        <th class=\"col_heading level0 col8\" >DT</th>        <th class=\"col_heading level0 col9\" >RF</th>    </tr></thead><tbody>\n",
       "                <tr>\n",
       "                        <th id=\"T_f1f213a2_6906_11ea_ab23_784f438b3f7blevel0_row0\" class=\"row_heading level0 row0\" >RMSE</th>\n",
       "                        <td id=\"T_f1f213a2_6906_11ea_ab23_784f438b3f7brow0_col0\" class=\"data row0 col0\" >0.000</td>\n",
       "                        <td id=\"T_f1f213a2_6906_11ea_ab23_784f438b3f7brow0_col1\" class=\"data row0 col1\" >0.184</td>\n",
       "                        <td id=\"T_f1f213a2_6906_11ea_ab23_784f438b3f7brow0_col2\" class=\"data row0 col2\" >0.184</td>\n",
       "                        <td id=\"T_f1f213a2_6906_11ea_ab23_784f438b3f7brow0_col3\" class=\"data row0 col3\" >0.000</td>\n",
       "                        <td id=\"T_f1f213a2_6906_11ea_ab23_784f438b3f7brow0_col4\" class=\"data row0 col4\" >0.136</td>\n",
       "                        <td id=\"T_f1f213a2_6906_11ea_ab23_784f438b3f7brow0_col5\" class=\"data row0 col5\" >0.074</td>\n",
       "                        <td id=\"T_f1f213a2_6906_11ea_ab23_784f438b3f7brow0_col6\" class=\"data row0 col6\" >0.096</td>\n",
       "                        <td id=\"T_f1f213a2_6906_11ea_ab23_784f438b3f7brow0_col7\" class=\"data row0 col7\" >0.055</td>\n",
       "                        <td id=\"T_f1f213a2_6906_11ea_ab23_784f438b3f7brow0_col8\" class=\"data row0 col8\" >0.008</td>\n",
       "                        <td id=\"T_f1f213a2_6906_11ea_ab23_784f438b3f7brow0_col9\" class=\"data row0 col9\" >0.179</td>\n",
       "            </tr>\n",
       "    </tbody></table>"
      ],
      "text/plain": [
       "<pandas.io.formats.style.Styler at 0x1a1f708790>"
      ]
     },
     "metadata": {},
     "output_type": "display_data"
    },
    {
     "name": "stdout",
     "output_type": "stream",
     "text": [
      "In Valence (mean) dimension...\n"
     ]
    },
    {
     "data": {
      "text/html": [
       "<style  type=\"text/css\" >\n",
       "    #T_f2c73fbe_6906_11ea_ab23_784f438b3f7brow0_col0 {\n",
       "            background-color:  yellow;\n",
       "        }</style><table id=\"T_f2c73fbe_6906_11ea_ab23_784f438b3f7b\" ><thead>    <tr>        <th class=\"blank level0\" ></th>        <th class=\"col_heading level0 col0\" >LR</th>        <th class=\"col_heading level0 col1\" >Lasso</th>        <th class=\"col_heading level0 col2\" >ElasticNet</th>        <th class=\"col_heading level0 col3\" >Ridge</th>        <th class=\"col_heading level0 col4\" >kNN</th>        <th class=\"col_heading level0 col5\" >SVRrbf</th>        <th class=\"col_heading level0 col6\" >SVRpoly</th>        <th class=\"col_heading level0 col7\" >SVRlinear</th>        <th class=\"col_heading level0 col8\" >DT</th>        <th class=\"col_heading level0 col9\" >RF</th>    </tr></thead><tbody>\n",
       "                <tr>\n",
       "                        <th id=\"T_f2c73fbe_6906_11ea_ab23_784f438b3f7blevel0_row0\" class=\"row_heading level0 row0\" >RMSE</th>\n",
       "                        <td id=\"T_f2c73fbe_6906_11ea_ab23_784f438b3f7brow0_col0\" class=\"data row0 col0\" >0.000</td>\n",
       "                        <td id=\"T_f2c73fbe_6906_11ea_ab23_784f438b3f7brow0_col1\" class=\"data row0 col1\" >0.162</td>\n",
       "                        <td id=\"T_f2c73fbe_6906_11ea_ab23_784f438b3f7brow0_col2\" class=\"data row0 col2\" >0.162</td>\n",
       "                        <td id=\"T_f2c73fbe_6906_11ea_ab23_784f438b3f7brow0_col3\" class=\"data row0 col3\" >0.000</td>\n",
       "                        <td id=\"T_f2c73fbe_6906_11ea_ab23_784f438b3f7brow0_col4\" class=\"data row0 col4\" >0.121</td>\n",
       "                        <td id=\"T_f2c73fbe_6906_11ea_ab23_784f438b3f7brow0_col5\" class=\"data row0 col5\" >0.073</td>\n",
       "                        <td id=\"T_f2c73fbe_6906_11ea_ab23_784f438b3f7brow0_col6\" class=\"data row0 col6\" >0.100</td>\n",
       "                        <td id=\"T_f2c73fbe_6906_11ea_ab23_784f438b3f7brow0_col7\" class=\"data row0 col7\" >0.053</td>\n",
       "                        <td id=\"T_f2c73fbe_6906_11ea_ab23_784f438b3f7brow0_col8\" class=\"data row0 col8\" >0.008</td>\n",
       "                        <td id=\"T_f2c73fbe_6906_11ea_ab23_784f438b3f7brow0_col9\" class=\"data row0 col9\" >0.157</td>\n",
       "            </tr>\n",
       "    </tbody></table>"
      ],
      "text/plain": [
       "<pandas.io.formats.style.Styler at 0x1a1c85f850>"
      ]
     },
     "metadata": {},
     "output_type": "display_data"
    },
    {
     "name": "stdout",
     "output_type": "stream",
     "text": [
      "In Arousal (std) dimension...\n"
     ]
    },
    {
     "data": {
      "text/html": [
       "<style  type=\"text/css\" >\n",
       "    #T_f3623410_6906_11ea_ab23_784f438b3f7brow0_col0 {\n",
       "            background-color:  yellow;\n",
       "        }</style><table id=\"T_f3623410_6906_11ea_ab23_784f438b3f7b\" ><thead>    <tr>        <th class=\"blank level0\" ></th>        <th class=\"col_heading level0 col0\" >LR</th>        <th class=\"col_heading level0 col1\" >Lasso</th>        <th class=\"col_heading level0 col2\" >ElasticNet</th>        <th class=\"col_heading level0 col3\" >Ridge</th>        <th class=\"col_heading level0 col4\" >kNN</th>        <th class=\"col_heading level0 col5\" >SVRrbf</th>        <th class=\"col_heading level0 col6\" >SVRpoly</th>        <th class=\"col_heading level0 col7\" >SVRlinear</th>        <th class=\"col_heading level0 col8\" >DT</th>        <th class=\"col_heading level0 col9\" >RF</th>    </tr></thead><tbody>\n",
       "                <tr>\n",
       "                        <th id=\"T_f3623410_6906_11ea_ab23_784f438b3f7blevel0_row0\" class=\"row_heading level0 row0\" >RMSE</th>\n",
       "                        <td id=\"T_f3623410_6906_11ea_ab23_784f438b3f7brow0_col0\" class=\"data row0 col0\" >0.000</td>\n",
       "                        <td id=\"T_f3623410_6906_11ea_ab23_784f438b3f7brow0_col1\" class=\"data row0 col1\" >0.047</td>\n",
       "                        <td id=\"T_f3623410_6906_11ea_ab23_784f438b3f7brow0_col2\" class=\"data row0 col2\" >0.047</td>\n",
       "                        <td id=\"T_f3623410_6906_11ea_ab23_784f438b3f7brow0_col3\" class=\"data row0 col3\" >0.000</td>\n",
       "                        <td id=\"T_f3623410_6906_11ea_ab23_784f438b3f7brow0_col4\" class=\"data row0 col4\" >0.035</td>\n",
       "                        <td id=\"T_f3623410_6906_11ea_ab23_784f438b3f7brow0_col5\" class=\"data row0 col5\" >0.048</td>\n",
       "                        <td id=\"T_f3623410_6906_11ea_ab23_784f438b3f7brow0_col6\" class=\"data row0 col6\" >0.048</td>\n",
       "                        <td id=\"T_f3623410_6906_11ea_ab23_784f438b3f7brow0_col7\" class=\"data row0 col7\" >0.045</td>\n",
       "                        <td id=\"T_f3623410_6906_11ea_ab23_784f438b3f7brow0_col8\" class=\"data row0 col8\" >0.002</td>\n",
       "                        <td id=\"T_f3623410_6906_11ea_ab23_784f438b3f7brow0_col9\" class=\"data row0 col9\" >0.045</td>\n",
       "            </tr>\n",
       "    </tbody></table>"
      ],
      "text/plain": [
       "<pandas.io.formats.style.Styler at 0x1a1ef37fd0>"
      ]
     },
     "metadata": {},
     "output_type": "display_data"
    },
    {
     "name": "stdout",
     "output_type": "stream",
     "text": [
      "In Valence (std) dimension...\n"
     ]
    },
    {
     "data": {
      "text/html": [
       "<style  type=\"text/css\" >\n",
       "    #T_f3fe8f68_6906_11ea_ab23_784f438b3f7brow0_col0 {\n",
       "            background-color:  yellow;\n",
       "        }</style><table id=\"T_f3fe8f68_6906_11ea_ab23_784f438b3f7b\" ><thead>    <tr>        <th class=\"blank level0\" ></th>        <th class=\"col_heading level0 col0\" >LR</th>        <th class=\"col_heading level0 col1\" >Lasso</th>        <th class=\"col_heading level0 col2\" >ElasticNet</th>        <th class=\"col_heading level0 col3\" >Ridge</th>        <th class=\"col_heading level0 col4\" >kNN</th>        <th class=\"col_heading level0 col5\" >SVRrbf</th>        <th class=\"col_heading level0 col6\" >SVRpoly</th>        <th class=\"col_heading level0 col7\" >SVRlinear</th>        <th class=\"col_heading level0 col8\" >DT</th>        <th class=\"col_heading level0 col9\" >RF</th>    </tr></thead><tbody>\n",
       "                <tr>\n",
       "                        <th id=\"T_f3fe8f68_6906_11ea_ab23_784f438b3f7blevel0_row0\" class=\"row_heading level0 row0\" >RMSE</th>\n",
       "                        <td id=\"T_f3fe8f68_6906_11ea_ab23_784f438b3f7brow0_col0\" class=\"data row0 col0\" >0.000</td>\n",
       "                        <td id=\"T_f3fe8f68_6906_11ea_ab23_784f438b3f7brow0_col1\" class=\"data row0 col1\" >0.046</td>\n",
       "                        <td id=\"T_f3fe8f68_6906_11ea_ab23_784f438b3f7brow0_col2\" class=\"data row0 col2\" >0.046</td>\n",
       "                        <td id=\"T_f3fe8f68_6906_11ea_ab23_784f438b3f7brow0_col3\" class=\"data row0 col3\" >0.000</td>\n",
       "                        <td id=\"T_f3fe8f68_6906_11ea_ab23_784f438b3f7brow0_col4\" class=\"data row0 col4\" >0.035</td>\n",
       "                        <td id=\"T_f3fe8f68_6906_11ea_ab23_784f438b3f7brow0_col5\" class=\"data row0 col5\" >0.045</td>\n",
       "                        <td id=\"T_f3fe8f68_6906_11ea_ab23_784f438b3f7brow0_col6\" class=\"data row0 col6\" >0.045</td>\n",
       "                        <td id=\"T_f3fe8f68_6906_11ea_ab23_784f438b3f7brow0_col7\" class=\"data row0 col7\" >0.043</td>\n",
       "                        <td id=\"T_f3fe8f68_6906_11ea_ab23_784f438b3f7brow0_col8\" class=\"data row0 col8\" >0.002</td>\n",
       "                        <td id=\"T_f3fe8f68_6906_11ea_ab23_784f438b3f7brow0_col9\" class=\"data row0 col9\" >0.045</td>\n",
       "            </tr>\n",
       "    </tbody></table>"
      ],
      "text/plain": [
       "<pandas.io.formats.style.Styler at 0x1a1c85f850>"
      ]
     },
     "metadata": {},
     "output_type": "display_data"
    }
   ],
   "source": [
    "prefunc = [StandardScaler()]\n",
    "\n",
    "print('EDA Features - RMSE:\\n')\n",
    "\n",
    "print('In Arousal (mean) dimension...')\n",
    "scores_eda_a_mean_RMSE = cross_val_regression_RMSE(regressors, eda_features_a_mean, arousal_mean, prefunc)\n",
    "ipd.display(format_scores(scores_eda_a_mean_RMSE))\n",
    "\n",
    "print('In Valence (mean) dimension...')\n",
    "scores_eda_v_mean_RMSE = cross_val_regression_RMSE(regressors, eda_features_v_mean, valence_mean, prefunc)\n",
    "ipd.display(format_scores(scores_eda_v_mean_RMSE))\n",
    "\n",
    "print('In Arousal (std) dimension...')\n",
    "scores_eda_a_std_RMSE = cross_val_regression_RMSE(regressors, eda_features_a_std, arousal_std, prefunc)\n",
    "ipd.display(format_scores(scores_eda_a_std_RMSE))\n",
    "\n",
    "print('In Valence (std) dimension...')\n",
    "scores_eda_v_std_RMSE = cross_val_regression_RMSE(regressors, eda_features_v_std, valence_std, prefunc)\n",
    "ipd.display(format_scores(scores_eda_v_std_RMSE))"
   ]
  },
  {
   "cell_type": "code",
   "execution_count": 29,
   "metadata": {},
   "outputs": [
    {
     "name": "stdout",
     "output_type": "stream",
     "text": [
      "EDA Features - r2 score:\n",
      "\n",
      "In Arousal (mean) dimension...\n"
     ]
    },
    {
     "data": {
      "text/html": [
       "<style  type=\"text/css\" >\n",
       "    #T_bf9877f8_6905_11ea_ab23_784f438b3f7brow0_col1 {\n",
       "            background-color:  yellow;\n",
       "        }    #T_bf9877f8_6905_11ea_ab23_784f438b3f7brow0_col2 {\n",
       "            background-color:  yellow;\n",
       "        }</style><table id=\"T_bf9877f8_6905_11ea_ab23_784f438b3f7b\" ><thead>    <tr>        <th class=\"blank level0\" ></th>        <th class=\"col_heading level0 col0\" >LR</th>        <th class=\"col_heading level0 col1\" >Lasso</th>        <th class=\"col_heading level0 col2\" >ElasticNet</th>        <th class=\"col_heading level0 col3\" >Ridge</th>        <th class=\"col_heading level0 col4\" >kNN</th>        <th class=\"col_heading level0 col5\" >SVRrbf</th>        <th class=\"col_heading level0 col6\" >SVRpoly</th>        <th class=\"col_heading level0 col7\" >SVRlinear</th>        <th class=\"col_heading level0 col8\" >DT</th>        <th class=\"col_heading level0 col9\" >RF</th>    </tr></thead><tbody>\n",
       "                <tr>\n",
       "                        <th id=\"T_bf9877f8_6905_11ea_ab23_784f438b3f7blevel0_row0\" class=\"row_heading level0 row0\" >R2</th>\n",
       "                        <td id=\"T_bf9877f8_6905_11ea_ab23_784f438b3f7brow0_col0\" class=\"data row0 col0\" >1.000</td>\n",
       "                        <td id=\"T_bf9877f8_6905_11ea_ab23_784f438b3f7brow0_col1\" class=\"data row0 col1\" >-0.039</td>\n",
       "                        <td id=\"T_bf9877f8_6905_11ea_ab23_784f438b3f7brow0_col2\" class=\"data row0 col2\" >-0.039</td>\n",
       "                        <td id=\"T_bf9877f8_6905_11ea_ab23_784f438b3f7brow0_col3\" class=\"data row0 col3\" >1.000</td>\n",
       "                        <td id=\"T_bf9877f8_6905_11ea_ab23_784f438b3f7brow0_col4\" class=\"data row0 col4\" >0.435</td>\n",
       "                        <td id=\"T_bf9877f8_6905_11ea_ab23_784f438b3f7brow0_col5\" class=\"data row0 col5\" >0.831</td>\n",
       "                        <td id=\"T_bf9877f8_6905_11ea_ab23_784f438b3f7brow0_col6\" class=\"data row0 col6\" >0.685</td>\n",
       "                        <td id=\"T_bf9877f8_6905_11ea_ab23_784f438b3f7brow0_col7\" class=\"data row0 col7\" >0.907</td>\n",
       "                        <td id=\"T_bf9877f8_6905_11ea_ab23_784f438b3f7brow0_col8\" class=\"data row0 col8\" >0.998</td>\n",
       "                        <td id=\"T_bf9877f8_6905_11ea_ab23_784f438b3f7brow0_col9\" class=\"data row0 col9\" >0.019</td>\n",
       "            </tr>\n",
       "    </tbody></table>"
      ],
      "text/plain": [
       "<pandas.io.formats.style.Styler at 0x1a1c500ad0>"
      ]
     },
     "metadata": {},
     "output_type": "display_data"
    },
    {
     "name": "stdout",
     "output_type": "stream",
     "text": [
      "In Valence (mean) dimension...\n"
     ]
    },
    {
     "data": {
      "text/html": [
       "<style  type=\"text/css\" >\n",
       "    #T_c06a1e48_6905_11ea_ab23_784f438b3f7brow0_col1 {\n",
       "            background-color:  yellow;\n",
       "        }    #T_c06a1e48_6905_11ea_ab23_784f438b3f7brow0_col2 {\n",
       "            background-color:  yellow;\n",
       "        }</style><table id=\"T_c06a1e48_6905_11ea_ab23_784f438b3f7b\" ><thead>    <tr>        <th class=\"blank level0\" ></th>        <th class=\"col_heading level0 col0\" >LR</th>        <th class=\"col_heading level0 col1\" >Lasso</th>        <th class=\"col_heading level0 col2\" >ElasticNet</th>        <th class=\"col_heading level0 col3\" >Ridge</th>        <th class=\"col_heading level0 col4\" >kNN</th>        <th class=\"col_heading level0 col5\" >SVRrbf</th>        <th class=\"col_heading level0 col6\" >SVRpoly</th>        <th class=\"col_heading level0 col7\" >SVRlinear</th>        <th class=\"col_heading level0 col8\" >DT</th>        <th class=\"col_heading level0 col9\" >RF</th>    </tr></thead><tbody>\n",
       "                <tr>\n",
       "                        <th id=\"T_c06a1e48_6905_11ea_ab23_784f438b3f7blevel0_row0\" class=\"row_heading level0 row0\" >R2</th>\n",
       "                        <td id=\"T_c06a1e48_6905_11ea_ab23_784f438b3f7brow0_col0\" class=\"data row0 col0\" >1.000</td>\n",
       "                        <td id=\"T_c06a1e48_6905_11ea_ab23_784f438b3f7brow0_col1\" class=\"data row0 col1\" >-0.056</td>\n",
       "                        <td id=\"T_c06a1e48_6905_11ea_ab23_784f438b3f7brow0_col2\" class=\"data row0 col2\" >-0.056</td>\n",
       "                        <td id=\"T_c06a1e48_6905_11ea_ab23_784f438b3f7brow0_col3\" class=\"data row0 col3\" >1.000</td>\n",
       "                        <td id=\"T_c06a1e48_6905_11ea_ab23_784f438b3f7brow0_col4\" class=\"data row0 col4\" >0.410</td>\n",
       "                        <td id=\"T_c06a1e48_6905_11ea_ab23_784f438b3f7brow0_col5\" class=\"data row0 col5\" >0.780</td>\n",
       "                        <td id=\"T_c06a1e48_6905_11ea_ab23_784f438b3f7brow0_col6\" class=\"data row0 col6\" >0.480</td>\n",
       "                        <td id=\"T_c06a1e48_6905_11ea_ab23_784f438b3f7brow0_col7\" class=\"data row0 col7\" >0.886</td>\n",
       "                        <td id=\"T_c06a1e48_6905_11ea_ab23_784f438b3f7brow0_col8\" class=\"data row0 col8\" >0.997</td>\n",
       "                        <td id=\"T_c06a1e48_6905_11ea_ab23_784f438b3f7brow0_col9\" class=\"data row0 col9\" >-0.006</td>\n",
       "            </tr>\n",
       "    </tbody></table>"
      ],
      "text/plain": [
       "<pandas.io.formats.style.Styler at 0x1a1c1d4090>"
      ]
     },
     "metadata": {},
     "output_type": "display_data"
    },
    {
     "name": "stdout",
     "output_type": "stream",
     "text": [
      "In Arousal (std) dimension...\n"
     ]
    },
    {
     "data": {
      "text/html": [
       "<style  type=\"text/css\" >\n",
       "    #T_c10fdb12_6905_11ea_ab23_784f438b3f7brow0_col5 {\n",
       "            background-color:  yellow;\n",
       "        }</style><table id=\"T_c10fdb12_6905_11ea_ab23_784f438b3f7b\" ><thead>    <tr>        <th class=\"blank level0\" ></th>        <th class=\"col_heading level0 col0\" >LR</th>        <th class=\"col_heading level0 col1\" >Lasso</th>        <th class=\"col_heading level0 col2\" >ElasticNet</th>        <th class=\"col_heading level0 col3\" >Ridge</th>        <th class=\"col_heading level0 col4\" >kNN</th>        <th class=\"col_heading level0 col5\" >SVRrbf</th>        <th class=\"col_heading level0 col6\" >SVRpoly</th>        <th class=\"col_heading level0 col7\" >SVRlinear</th>        <th class=\"col_heading level0 col8\" >DT</th>        <th class=\"col_heading level0 col9\" >RF</th>    </tr></thead><tbody>\n",
       "                <tr>\n",
       "                        <th id=\"T_c10fdb12_6905_11ea_ab23_784f438b3f7blevel0_row0\" class=\"row_heading level0 row0\" >R2</th>\n",
       "                        <td id=\"T_c10fdb12_6905_11ea_ab23_784f438b3f7brow0_col0\" class=\"data row0 col0\" >1.000</td>\n",
       "                        <td id=\"T_c10fdb12_6905_11ea_ab23_784f438b3f7brow0_col1\" class=\"data row0 col1\" >-0.013</td>\n",
       "                        <td id=\"T_c10fdb12_6905_11ea_ab23_784f438b3f7brow0_col2\" class=\"data row0 col2\" >-0.013</td>\n",
       "                        <td id=\"T_c10fdb12_6905_11ea_ab23_784f438b3f7brow0_col3\" class=\"data row0 col3\" >1.000</td>\n",
       "                        <td id=\"T_c10fdb12_6905_11ea_ab23_784f438b3f7brow0_col4\" class=\"data row0 col4\" >0.439</td>\n",
       "                        <td id=\"T_c10fdb12_6905_11ea_ab23_784f438b3f7brow0_col5\" class=\"data row0 col5\" >-0.072</td>\n",
       "                        <td id=\"T_c10fdb12_6905_11ea_ab23_784f438b3f7brow0_col6\" class=\"data row0 col6\" >-0.042</td>\n",
       "                        <td id=\"T_c10fdb12_6905_11ea_ab23_784f438b3f7brow0_col7\" class=\"data row0 col7\" >0.067</td>\n",
       "                        <td id=\"T_c10fdb12_6905_11ea_ab23_784f438b3f7brow0_col8\" class=\"data row0 col8\" >0.997</td>\n",
       "                        <td id=\"T_c10fdb12_6905_11ea_ab23_784f438b3f7brow0_col9\" class=\"data row0 col9\" >0.035</td>\n",
       "            </tr>\n",
       "    </tbody></table>"
      ],
      "text/plain": [
       "<pandas.io.formats.style.Styler at 0x1a1c856310>"
      ]
     },
     "metadata": {},
     "output_type": "display_data"
    },
    {
     "name": "stdout",
     "output_type": "stream",
     "text": [
      "In Valence (std) dimension...\n"
     ]
    },
    {
     "data": {
      "text/html": [
       "<style  type=\"text/css\" >\n",
       "    #T_c1bc8d8a_6905_11ea_ab23_784f438b3f7brow0_col1 {\n",
       "            background-color:  yellow;\n",
       "        }    #T_c1bc8d8a_6905_11ea_ab23_784f438b3f7brow0_col2 {\n",
       "            background-color:  yellow;\n",
       "        }</style><table id=\"T_c1bc8d8a_6905_11ea_ab23_784f438b3f7b\" ><thead>    <tr>        <th class=\"blank level0\" ></th>        <th class=\"col_heading level0 col0\" >LR</th>        <th class=\"col_heading level0 col1\" >Lasso</th>        <th class=\"col_heading level0 col2\" >ElasticNet</th>        <th class=\"col_heading level0 col3\" >Ridge</th>        <th class=\"col_heading level0 col4\" >kNN</th>        <th class=\"col_heading level0 col5\" >SVRrbf</th>        <th class=\"col_heading level0 col6\" >SVRpoly</th>        <th class=\"col_heading level0 col7\" >SVRlinear</th>        <th class=\"col_heading level0 col8\" >DT</th>        <th class=\"col_heading level0 col9\" >RF</th>    </tr></thead><tbody>\n",
       "                <tr>\n",
       "                        <th id=\"T_c1bc8d8a_6905_11ea_ab23_784f438b3f7blevel0_row0\" class=\"row_heading level0 row0\" >R2</th>\n",
       "                        <td id=\"T_c1bc8d8a_6905_11ea_ab23_784f438b3f7brow0_col0\" class=\"data row0 col0\" >1.000</td>\n",
       "                        <td id=\"T_c1bc8d8a_6905_11ea_ab23_784f438b3f7brow0_col1\" class=\"data row0 col1\" >-0.026</td>\n",
       "                        <td id=\"T_c1bc8d8a_6905_11ea_ab23_784f438b3f7brow0_col2\" class=\"data row0 col2\" >-0.026</td>\n",
       "                        <td id=\"T_c1bc8d8a_6905_11ea_ab23_784f438b3f7brow0_col3\" class=\"data row0 col3\" >1.000</td>\n",
       "                        <td id=\"T_c1bc8d8a_6905_11ea_ab23_784f438b3f7brow0_col4\" class=\"data row0 col4\" >0.406</td>\n",
       "                        <td id=\"T_c1bc8d8a_6905_11ea_ab23_784f438b3f7brow0_col5\" class=\"data row0 col5\" >0.015</td>\n",
       "                        <td id=\"T_c1bc8d8a_6905_11ea_ab23_784f438b3f7brow0_col6\" class=\"data row0 col6\" >0.012</td>\n",
       "                        <td id=\"T_c1bc8d8a_6905_11ea_ab23_784f438b3f7brow0_col7\" class=\"data row0 col7\" >0.101</td>\n",
       "                        <td id=\"T_c1bc8d8a_6905_11ea_ab23_784f438b3f7brow0_col8\" class=\"data row0 col8\" >0.997</td>\n",
       "                        <td id=\"T_c1bc8d8a_6905_11ea_ab23_784f438b3f7brow0_col9\" class=\"data row0 col9\" >0.026</td>\n",
       "            </tr>\n",
       "    </tbody></table>"
      ],
      "text/plain": [
       "<pandas.io.formats.style.Styler at 0x1a1c7da950>"
      ]
     },
     "metadata": {},
     "output_type": "display_data"
    }
   ],
   "source": [
    "prefunc = [StandardScaler()]\n",
    "\n",
    "print('EDA Features - r2 score:\\n')\n",
    "\n",
    "print('In Arousal (mean) dimension...')\n",
    "scores_eda_a_mean_r2 = cross_val_regression_r2(regressors, eda_features_a_mean, arousal_mean, prefunc)\n",
    "ipd.display(format_scores(scores_eda_a_mean_r2))\n",
    "\n",
    "print('In Valence (mean) dimension...')\n",
    "scores_eda_v_mean_r2 = cross_val_regression_r2(regressors, eda_features_v_mean, valence_mean, prefunc)\n",
    "ipd.display(format_scores(scores_eda_v_mean_r2))\n",
    "\n",
    "print('In Arousal (std) dimension...')\n",
    "scores_eda_a_std_r2 = cross_val_regression_r2(regressors, eda_features_a_std, arousal_std, prefunc)\n",
    "ipd.display(format_scores(scores_eda_a_std_r2))\n",
    "\n",
    "print('In Valence (std) dimension...')\n",
    "scores_eda_v_std_r2 = cross_val_regression_r2(regressors, eda_features_v_std, valence_std, prefunc)\n",
    "ipd.display(format_scores(scores_eda_v_std_r2))"
   ]
  },
  {
   "cell_type": "markdown",
   "metadata": {},
   "source": [
    "### Multiple regressors on audio + EDA features"
   ]
  },
  {
   "cell_type": "code",
   "execution_count": 30,
   "metadata": {},
   "outputs": [
    {
     "name": "stdout",
     "output_type": "stream",
     "text": [
      "Audio + EDA Features - RMSE score:\n",
      "\n",
      "In Arousal (mean) dimension...\n"
     ]
    },
    {
     "data": {
      "text/html": [
       "<style  type=\"text/css\" >\n",
       "    #T_329edd46_6906_11ea_ab23_784f438b3f7brow0_col3 {\n",
       "            background-color:  yellow;\n",
       "        }</style><table id=\"T_329edd46_6906_11ea_ab23_784f438b3f7b\" ><thead>    <tr>        <th class=\"blank level0\" ></th>        <th class=\"col_heading level0 col0\" >LR</th>        <th class=\"col_heading level0 col1\" >Lasso</th>        <th class=\"col_heading level0 col2\" >ElasticNet</th>        <th class=\"col_heading level0 col3\" >Ridge</th>        <th class=\"col_heading level0 col4\" >kNN</th>        <th class=\"col_heading level0 col5\" >SVRrbf</th>        <th class=\"col_heading level0 col6\" >SVRpoly</th>        <th class=\"col_heading level0 col7\" >SVRlinear</th>        <th class=\"col_heading level0 col8\" >DT</th>        <th class=\"col_heading level0 col9\" >RF</th>    </tr></thead><tbody>\n",
       "                <tr>\n",
       "                        <th id=\"T_329edd46_6906_11ea_ab23_784f438b3f7blevel0_row0\" class=\"row_heading level0 row0\" >RMSE</th>\n",
       "                        <td id=\"T_329edd46_6906_11ea_ab23_784f438b3f7brow0_col0\" class=\"data row0 col0\" >0.109</td>\n",
       "                        <td id=\"T_329edd46_6906_11ea_ab23_784f438b3f7brow0_col1\" class=\"data row0 col1\" >0.184</td>\n",
       "                        <td id=\"T_329edd46_6906_11ea_ab23_784f438b3f7brow0_col2\" class=\"data row0 col2\" >0.184</td>\n",
       "                        <td id=\"T_329edd46_6906_11ea_ab23_784f438b3f7brow0_col3\" class=\"data row0 col3\" >0.103</td>\n",
       "                        <td id=\"T_329edd46_6906_11ea_ab23_784f438b3f7brow0_col4\" class=\"data row0 col4\" >0.126</td>\n",
       "                        <td id=\"T_329edd46_6906_11ea_ab23_784f438b3f7brow0_col5\" class=\"data row0 col5\" >0.110</td>\n",
       "                        <td id=\"T_329edd46_6906_11ea_ab23_784f438b3f7brow0_col6\" class=\"data row0 col6\" >0.139</td>\n",
       "                        <td id=\"T_329edd46_6906_11ea_ab23_784f438b3f7brow0_col7\" class=\"data row0 col7\" >0.112</td>\n",
       "                        <td id=\"T_329edd46_6906_11ea_ab23_784f438b3f7brow0_col8\" class=\"data row0 col8\" >0.131</td>\n",
       "                        <td id=\"T_329edd46_6906_11ea_ab23_784f438b3f7brow0_col9\" class=\"data row0 col9\" >0.147</td>\n",
       "            </tr>\n",
       "    </tbody></table>"
      ],
      "text/plain": [
       "<pandas.io.formats.style.Styler at 0x1a1c500590>"
      ]
     },
     "metadata": {},
     "output_type": "display_data"
    },
    {
     "name": "stdout",
     "output_type": "stream",
     "text": [
      "In Valence (mean) dimension...\n"
     ]
    },
    {
     "data": {
      "text/html": [
       "<style  type=\"text/css\" >\n",
       "    #T_51f0f030_6906_11ea_ab23_784f438b3f7brow0_col5 {\n",
       "            background-color:  yellow;\n",
       "        }</style><table id=\"T_51f0f030_6906_11ea_ab23_784f438b3f7b\" ><thead>    <tr>        <th class=\"blank level0\" ></th>        <th class=\"col_heading level0 col0\" >LR</th>        <th class=\"col_heading level0 col1\" >Lasso</th>        <th class=\"col_heading level0 col2\" >ElasticNet</th>        <th class=\"col_heading level0 col3\" >Ridge</th>        <th class=\"col_heading level0 col4\" >kNN</th>        <th class=\"col_heading level0 col5\" >SVRrbf</th>        <th class=\"col_heading level0 col6\" >SVRpoly</th>        <th class=\"col_heading level0 col7\" >SVRlinear</th>        <th class=\"col_heading level0 col8\" >DT</th>        <th class=\"col_heading level0 col9\" >RF</th>    </tr></thead><tbody>\n",
       "                <tr>\n",
       "                        <th id=\"T_51f0f030_6906_11ea_ab23_784f438b3f7blevel0_row0\" class=\"row_heading level0 row0\" >RMSE</th>\n",
       "                        <td id=\"T_51f0f030_6906_11ea_ab23_784f438b3f7brow0_col0\" class=\"data row0 col0\" >0.134</td>\n",
       "                        <td id=\"T_51f0f030_6906_11ea_ab23_784f438b3f7brow0_col1\" class=\"data row0 col1\" >0.162</td>\n",
       "                        <td id=\"T_51f0f030_6906_11ea_ab23_784f438b3f7brow0_col2\" class=\"data row0 col2\" >0.162</td>\n",
       "                        <td id=\"T_51f0f030_6906_11ea_ab23_784f438b3f7brow0_col3\" class=\"data row0 col3\" >0.127</td>\n",
       "                        <td id=\"T_51f0f030_6906_11ea_ab23_784f438b3f7brow0_col4\" class=\"data row0 col4\" >0.129</td>\n",
       "                        <td id=\"T_51f0f030_6906_11ea_ab23_784f438b3f7brow0_col5\" class=\"data row0 col5\" >0.123</td>\n",
       "                        <td id=\"T_51f0f030_6906_11ea_ab23_784f438b3f7brow0_col6\" class=\"data row0 col6\" >0.148</td>\n",
       "                        <td id=\"T_51f0f030_6906_11ea_ab23_784f438b3f7brow0_col7\" class=\"data row0 col7\" >0.138</td>\n",
       "                        <td id=\"T_51f0f030_6906_11ea_ab23_784f438b3f7brow0_col8\" class=\"data row0 col8\" >0.142</td>\n",
       "                        <td id=\"T_51f0f030_6906_11ea_ab23_784f438b3f7brow0_col9\" class=\"data row0 col9\" >0.137</td>\n",
       "            </tr>\n",
       "    </tbody></table>"
      ],
      "text/plain": [
       "<pandas.io.formats.style.Styler at 0x1a1c7eba90>"
      ]
     },
     "metadata": {},
     "output_type": "display_data"
    },
    {
     "name": "stdout",
     "output_type": "stream",
     "text": [
      "In Arousal (std) dimension...\n"
     ]
    },
    {
     "data": {
      "text/html": [
       "<style  type=\"text/css\" >\n",
       "    #T_52f71bf8_6906_11ea_ab23_784f438b3f7brow0_col4 {\n",
       "            background-color:  yellow;\n",
       "        }</style><table id=\"T_52f71bf8_6906_11ea_ab23_784f438b3f7b\" ><thead>    <tr>        <th class=\"blank level0\" ></th>        <th class=\"col_heading level0 col0\" >LR</th>        <th class=\"col_heading level0 col1\" >Lasso</th>        <th class=\"col_heading level0 col2\" >ElasticNet</th>        <th class=\"col_heading level0 col3\" >Ridge</th>        <th class=\"col_heading level0 col4\" >kNN</th>        <th class=\"col_heading level0 col5\" >SVRrbf</th>        <th class=\"col_heading level0 col6\" >SVRpoly</th>        <th class=\"col_heading level0 col7\" >SVRlinear</th>        <th class=\"col_heading level0 col8\" >DT</th>        <th class=\"col_heading level0 col9\" >RF</th>    </tr></thead><tbody>\n",
       "                <tr>\n",
       "                        <th id=\"T_52f71bf8_6906_11ea_ab23_784f438b3f7blevel0_row0\" class=\"row_heading level0 row0\" >RMSE</th>\n",
       "                        <td id=\"T_52f71bf8_6906_11ea_ab23_784f438b3f7brow0_col0\" class=\"data row0 col0\" >0.052</td>\n",
       "                        <td id=\"T_52f71bf8_6906_11ea_ab23_784f438b3f7brow0_col1\" class=\"data row0 col1\" >0.047</td>\n",
       "                        <td id=\"T_52f71bf8_6906_11ea_ab23_784f438b3f7brow0_col2\" class=\"data row0 col2\" >0.047</td>\n",
       "                        <td id=\"T_52f71bf8_6906_11ea_ab23_784f438b3f7brow0_col3\" class=\"data row0 col3\" >0.049</td>\n",
       "                        <td id=\"T_52f71bf8_6906_11ea_ab23_784f438b3f7brow0_col4\" class=\"data row0 col4\" >0.046</td>\n",
       "                        <td id=\"T_52f71bf8_6906_11ea_ab23_784f438b3f7brow0_col5\" class=\"data row0 col5\" >0.050</td>\n",
       "                        <td id=\"T_52f71bf8_6906_11ea_ab23_784f438b3f7brow0_col6\" class=\"data row0 col6\" >0.050</td>\n",
       "                        <td id=\"T_52f71bf8_6906_11ea_ab23_784f438b3f7brow0_col7\" class=\"data row0 col7\" >0.049</td>\n",
       "                        <td id=\"T_52f71bf8_6906_11ea_ab23_784f438b3f7brow0_col8\" class=\"data row0 col8\" >0.051</td>\n",
       "                        <td id=\"T_52f71bf8_6906_11ea_ab23_784f438b3f7brow0_col9\" class=\"data row0 col9\" >0.045</td>\n",
       "            </tr>\n",
       "    </tbody></table>"
      ],
      "text/plain": [
       "<pandas.io.formats.style.Styler at 0x1a1c49a0d0>"
      ]
     },
     "metadata": {},
     "output_type": "display_data"
    },
    {
     "name": "stdout",
     "output_type": "stream",
     "text": [
      "In Valence (std) dimension...\n"
     ]
    },
    {
     "data": {
      "text/html": [
       "<style  type=\"text/css\" >\n",
       "    #T_53fda422_6906_11ea_ab23_784f438b3f7brow0_col1 {\n",
       "            background-color:  yellow;\n",
       "        }    #T_53fda422_6906_11ea_ab23_784f438b3f7brow0_col2 {\n",
       "            background-color:  yellow;\n",
       "        }</style><table id=\"T_53fda422_6906_11ea_ab23_784f438b3f7b\" ><thead>    <tr>        <th class=\"blank level0\" ></th>        <th class=\"col_heading level0 col0\" >LR</th>        <th class=\"col_heading level0 col1\" >Lasso</th>        <th class=\"col_heading level0 col2\" >ElasticNet</th>        <th class=\"col_heading level0 col3\" >Ridge</th>        <th class=\"col_heading level0 col4\" >kNN</th>        <th class=\"col_heading level0 col5\" >SVRrbf</th>        <th class=\"col_heading level0 col6\" >SVRpoly</th>        <th class=\"col_heading level0 col7\" >SVRlinear</th>        <th class=\"col_heading level0 col8\" >DT</th>        <th class=\"col_heading level0 col9\" >RF</th>    </tr></thead><tbody>\n",
       "                <tr>\n",
       "                        <th id=\"T_53fda422_6906_11ea_ab23_784f438b3f7blevel0_row0\" class=\"row_heading level0 row0\" >RMSE</th>\n",
       "                        <td id=\"T_53fda422_6906_11ea_ab23_784f438b3f7brow0_col0\" class=\"data row0 col0\" >0.056</td>\n",
       "                        <td id=\"T_53fda422_6906_11ea_ab23_784f438b3f7brow0_col1\" class=\"data row0 col1\" >0.046</td>\n",
       "                        <td id=\"T_53fda422_6906_11ea_ab23_784f438b3f7brow0_col2\" class=\"data row0 col2\" >0.046</td>\n",
       "                        <td id=\"T_53fda422_6906_11ea_ab23_784f438b3f7brow0_col3\" class=\"data row0 col3\" >0.053</td>\n",
       "                        <td id=\"T_53fda422_6906_11ea_ab23_784f438b3f7brow0_col4\" class=\"data row0 col4\" >0.048</td>\n",
       "                        <td id=\"T_53fda422_6906_11ea_ab23_784f438b3f7brow0_col5\" class=\"data row0 col5\" >0.047</td>\n",
       "                        <td id=\"T_53fda422_6906_11ea_ab23_784f438b3f7brow0_col6\" class=\"data row0 col6\" >0.048</td>\n",
       "                        <td id=\"T_53fda422_6906_11ea_ab23_784f438b3f7brow0_col7\" class=\"data row0 col7\" >0.048</td>\n",
       "                        <td id=\"T_53fda422_6906_11ea_ab23_784f438b3f7brow0_col8\" class=\"data row0 col8\" >0.052</td>\n",
       "                        <td id=\"T_53fda422_6906_11ea_ab23_784f438b3f7brow0_col9\" class=\"data row0 col9\" >0.046</td>\n",
       "            </tr>\n",
       "    </tbody></table>"
      ],
      "text/plain": [
       "<pandas.io.formats.style.Styler at 0x1a1c1dc510>"
      ]
     },
     "metadata": {},
     "output_type": "display_data"
    }
   ],
   "source": [
    "prefunc = [StandardScaler()]\n",
    "\n",
    "print('Audio + EDA Features - RMSE score:\\n')\n",
    "\n",
    "print('In Arousal (mean) dimension...')\n",
    "scores_f_a_mean_RMSE = cross_val_regression_RMSE(regressors, fusion_features, arousal_mean, prefunc)\n",
    "ipd.display(format_scores(scores_f_a_mean_RMSE))\n",
    "\n",
    "print('In Valence (mean) dimension...')\n",
    "scores_f_v_mean_RMSE = cross_val_regression_RMSE(regressors, fusion_features, valence_mean, prefunc)\n",
    "ipd.display(format_scores(scores_f_v_mean_RMSE))\n",
    "\n",
    "print('In Arousal (std) dimension...')\n",
    "scores_f_a_std_RMSE = cross_val_regression_RMSE(regressors, fusion_features, arousal_std, prefunc)\n",
    "ipd.display(format_scores(scores_f_a_std_RMSE))\n",
    "\n",
    "print('In Valence (std) dimension...')\n",
    "scores_f_v_std_RMSE = cross_val_regression_RMSE(regressors, fusion_features, valence_std, prefunc)\n",
    "ipd.display(format_scores(scores_f_v_std_RMSE))"
   ]
  },
  {
   "cell_type": "code",
   "execution_count": 35,
   "metadata": {},
   "outputs": [
    {
     "name": "stdout",
     "output_type": "stream",
     "text": [
      "Audio + EDA Features - r2 score:\n",
      "\n",
      "In Arousal (mean) dimension...\n"
     ]
    },
    {
     "data": {
      "text/html": [
       "<style  type=\"text/css\" >\n",
       "    #T_148c560c_6907_11ea_ab23_784f438b3f7brow0_col1 {\n",
       "            background-color:  yellow;\n",
       "        }    #T_148c560c_6907_11ea_ab23_784f438b3f7brow0_col2 {\n",
       "            background-color:  yellow;\n",
       "        }</style><table id=\"T_148c560c_6907_11ea_ab23_784f438b3f7b\" ><thead>    <tr>        <th class=\"blank level0\" ></th>        <th class=\"col_heading level0 col0\" >LR</th>        <th class=\"col_heading level0 col1\" >Lasso</th>        <th class=\"col_heading level0 col2\" >ElasticNet</th>        <th class=\"col_heading level0 col3\" >Ridge</th>        <th class=\"col_heading level0 col4\" >kNN</th>        <th class=\"col_heading level0 col5\" >SVRrbf</th>        <th class=\"col_heading level0 col6\" >SVRpoly</th>        <th class=\"col_heading level0 col7\" >SVRlinear</th>        <th class=\"col_heading level0 col8\" >DT</th>        <th class=\"col_heading level0 col9\" >RF</th>    </tr></thead><tbody>\n",
       "                <tr>\n",
       "                        <th id=\"T_148c560c_6907_11ea_ab23_784f438b3f7blevel0_row0\" class=\"row_heading level0 row0\" >R2</th>\n",
       "                        <td id=\"T_148c560c_6907_11ea_ab23_784f438b3f7brow0_col0\" class=\"data row0 col0\" >0.622</td>\n",
       "                        <td id=\"T_148c560c_6907_11ea_ab23_784f438b3f7brow0_col1\" class=\"data row0 col1\" >-0.039</td>\n",
       "                        <td id=\"T_148c560c_6907_11ea_ab23_784f438b3f7brow0_col2\" class=\"data row0 col2\" >-0.039</td>\n",
       "                        <td id=\"T_148c560c_6907_11ea_ab23_784f438b3f7brow0_col3\" class=\"data row0 col3\" >0.662</td>\n",
       "                        <td id=\"T_148c560c_6907_11ea_ab23_784f438b3f7brow0_col4\" class=\"data row0 col4\" >0.510</td>\n",
       "                        <td id=\"T_148c560c_6907_11ea_ab23_784f438b3f7brow0_col5\" class=\"data row0 col5\" >0.623</td>\n",
       "                        <td id=\"T_148c560c_6907_11ea_ab23_784f438b3f7brow0_col6\" class=\"data row0 col6\" >0.346</td>\n",
       "                        <td id=\"T_148c560c_6907_11ea_ab23_784f438b3f7brow0_col7\" class=\"data row0 col7\" >0.599</td>\n",
       "                        <td id=\"T_148c560c_6907_11ea_ab23_784f438b3f7brow0_col8\" class=\"data row0 col8\" >0.465</td>\n",
       "                        <td id=\"T_148c560c_6907_11ea_ab23_784f438b3f7brow0_col9\" class=\"data row0 col9\" >0.332</td>\n",
       "            </tr>\n",
       "    </tbody></table>"
      ],
      "text/plain": [
       "<pandas.io.formats.style.Styler at 0x1a1f727310>"
      ]
     },
     "metadata": {},
     "output_type": "display_data"
    },
    {
     "name": "stdout",
     "output_type": "stream",
     "text": [
      "In Valence (mean) dimension...\n"
     ]
    },
    {
     "data": {
      "text/html": [
       "<style  type=\"text/css\" >\n",
       "    #T_35c1c7bc_6907_11ea_ab23_784f438b3f7brow0_col1 {\n",
       "            background-color:  yellow;\n",
       "        }    #T_35c1c7bc_6907_11ea_ab23_784f438b3f7brow0_col2 {\n",
       "            background-color:  yellow;\n",
       "        }</style><table id=\"T_35c1c7bc_6907_11ea_ab23_784f438b3f7b\" ><thead>    <tr>        <th class=\"blank level0\" ></th>        <th class=\"col_heading level0 col0\" >LR</th>        <th class=\"col_heading level0 col1\" >Lasso</th>        <th class=\"col_heading level0 col2\" >ElasticNet</th>        <th class=\"col_heading level0 col3\" >Ridge</th>        <th class=\"col_heading level0 col4\" >kNN</th>        <th class=\"col_heading level0 col5\" >SVRrbf</th>        <th class=\"col_heading level0 col6\" >SVRpoly</th>        <th class=\"col_heading level0 col7\" >SVRlinear</th>        <th class=\"col_heading level0 col8\" >DT</th>        <th class=\"col_heading level0 col9\" >RF</th>    </tr></thead><tbody>\n",
       "                <tr>\n",
       "                        <th id=\"T_35c1c7bc_6907_11ea_ab23_784f438b3f7blevel0_row0\" class=\"row_heading level0 row0\" >R2</th>\n",
       "                        <td id=\"T_35c1c7bc_6907_11ea_ab23_784f438b3f7brow0_col0\" class=\"data row0 col0\" >0.243</td>\n",
       "                        <td id=\"T_35c1c7bc_6907_11ea_ab23_784f438b3f7brow0_col1\" class=\"data row0 col1\" >-0.056</td>\n",
       "                        <td id=\"T_35c1c7bc_6907_11ea_ab23_784f438b3f7brow0_col2\" class=\"data row0 col2\" >-0.056</td>\n",
       "                        <td id=\"T_35c1c7bc_6907_11ea_ab23_784f438b3f7brow0_col3\" class=\"data row0 col3\" >0.322</td>\n",
       "                        <td id=\"T_35c1c7bc_6907_11ea_ab23_784f438b3f7brow0_col4\" class=\"data row0 col4\" >0.333</td>\n",
       "                        <td id=\"T_35c1c7bc_6907_11ea_ab23_784f438b3f7brow0_col5\" class=\"data row0 col5\" >0.389</td>\n",
       "                        <td id=\"T_35c1c7bc_6907_11ea_ab23_784f438b3f7brow0_col6\" class=\"data row0 col6\" >-0.014</td>\n",
       "                        <td id=\"T_35c1c7bc_6907_11ea_ab23_784f438b3f7brow0_col7\" class=\"data row0 col7\" >0.204</td>\n",
       "                        <td id=\"T_35c1c7bc_6907_11ea_ab23_784f438b3f7brow0_col8\" class=\"data row0 col8\" >0.162</td>\n",
       "                        <td id=\"T_35c1c7bc_6907_11ea_ab23_784f438b3f7brow0_col9\" class=\"data row0 col9\" >0.244</td>\n",
       "            </tr>\n",
       "    </tbody></table>"
      ],
      "text/plain": [
       "<pandas.io.formats.style.Styler at 0x1a1c1d8950>"
      ]
     },
     "metadata": {},
     "output_type": "display_data"
    },
    {
     "name": "stdout",
     "output_type": "stream",
     "text": [
      "In Arousal (std) dimension...\n"
     ]
    },
    {
     "data": {
      "text/html": [
       "<style  type=\"text/css\" >\n",
       "    #T_36c8b81e_6907_11ea_ab23_784f438b3f7brow0_col8 {\n",
       "            background-color:  yellow;\n",
       "        }</style><table id=\"T_36c8b81e_6907_11ea_ab23_784f438b3f7b\" ><thead>    <tr>        <th class=\"blank level0\" ></th>        <th class=\"col_heading level0 col0\" >LR</th>        <th class=\"col_heading level0 col1\" >Lasso</th>        <th class=\"col_heading level0 col2\" >ElasticNet</th>        <th class=\"col_heading level0 col3\" >Ridge</th>        <th class=\"col_heading level0 col4\" >kNN</th>        <th class=\"col_heading level0 col5\" >SVRrbf</th>        <th class=\"col_heading level0 col6\" >SVRpoly</th>        <th class=\"col_heading level0 col7\" >SVRlinear</th>        <th class=\"col_heading level0 col8\" >DT</th>        <th class=\"col_heading level0 col9\" >RF</th>    </tr></thead><tbody>\n",
       "                <tr>\n",
       "                        <th id=\"T_36c8b81e_6907_11ea_ab23_784f438b3f7blevel0_row0\" class=\"row_heading level0 row0\" >R2</th>\n",
       "                        <td id=\"T_36c8b81e_6907_11ea_ab23_784f438b3f7brow0_col0\" class=\"data row0 col0\" >-0.222</td>\n",
       "                        <td id=\"T_36c8b81e_6907_11ea_ab23_784f438b3f7brow0_col1\" class=\"data row0 col1\" >-0.013</td>\n",
       "                        <td id=\"T_36c8b81e_6907_11ea_ab23_784f438b3f7brow0_col2\" class=\"data row0 col2\" >-0.013</td>\n",
       "                        <td id=\"T_36c8b81e_6907_11ea_ab23_784f438b3f7brow0_col3\" class=\"data row0 col3\" >-0.101</td>\n",
       "                        <td id=\"T_36c8b81e_6907_11ea_ab23_784f438b3f7brow0_col4\" class=\"data row0 col4\" >0.027</td>\n",
       "                        <td id=\"T_36c8b81e_6907_11ea_ab23_784f438b3f7brow0_col5\" class=\"data row0 col5\" >-0.160</td>\n",
       "                        <td id=\"T_36c8b81e_6907_11ea_ab23_784f438b3f7brow0_col6\" class=\"data row0 col6\" >-0.159</td>\n",
       "                        <td id=\"T_36c8b81e_6907_11ea_ab23_784f438b3f7brow0_col7\" class=\"data row0 col7\" >-0.090</td>\n",
       "                        <td id=\"T_36c8b81e_6907_11ea_ab23_784f438b3f7brow0_col8\" class=\"data row0 col8\" >-0.223</td>\n",
       "                        <td id=\"T_36c8b81e_6907_11ea_ab23_784f438b3f7brow0_col9\" class=\"data row0 col9\" >0.081</td>\n",
       "            </tr>\n",
       "    </tbody></table>"
      ],
      "text/plain": [
       "<pandas.io.formats.style.Styler at 0x1a1c7da950>"
      ]
     },
     "metadata": {},
     "output_type": "display_data"
    },
    {
     "name": "stdout",
     "output_type": "stream",
     "text": [
      "In Valence (std) dimension...\n"
     ]
    },
    {
     "data": {
      "text/html": [
       "<style  type=\"text/css\" >\n",
       "    #T_37d2dfb4_6907_11ea_ab23_784f438b3f7brow0_col0 {\n",
       "            background-color:  yellow;\n",
       "        }</style><table id=\"T_37d2dfb4_6907_11ea_ab23_784f438b3f7b\" ><thead>    <tr>        <th class=\"blank level0\" ></th>        <th class=\"col_heading level0 col0\" >LR</th>        <th class=\"col_heading level0 col1\" >Lasso</th>        <th class=\"col_heading level0 col2\" >ElasticNet</th>        <th class=\"col_heading level0 col3\" >Ridge</th>        <th class=\"col_heading level0 col4\" >kNN</th>        <th class=\"col_heading level0 col5\" >SVRrbf</th>        <th class=\"col_heading level0 col6\" >SVRpoly</th>        <th class=\"col_heading level0 col7\" >SVRlinear</th>        <th class=\"col_heading level0 col8\" >DT</th>        <th class=\"col_heading level0 col9\" >RF</th>    </tr></thead><tbody>\n",
       "                <tr>\n",
       "                        <th id=\"T_37d2dfb4_6907_11ea_ab23_784f438b3f7blevel0_row0\" class=\"row_heading level0 row0\" >R2</th>\n",
       "                        <td id=\"T_37d2dfb4_6907_11ea_ab23_784f438b3f7brow0_col0\" class=\"data row0 col0\" >-0.547</td>\n",
       "                        <td id=\"T_37d2dfb4_6907_11ea_ab23_784f438b3f7brow0_col1\" class=\"data row0 col1\" >-0.026</td>\n",
       "                        <td id=\"T_37d2dfb4_6907_11ea_ab23_784f438b3f7brow0_col2\" class=\"data row0 col2\" >-0.026</td>\n",
       "                        <td id=\"T_37d2dfb4_6907_11ea_ab23_784f438b3f7brow0_col3\" class=\"data row0 col3\" >-0.410</td>\n",
       "                        <td id=\"T_37d2dfb4_6907_11ea_ab23_784f438b3f7brow0_col4\" class=\"data row0 col4\" >-0.140</td>\n",
       "                        <td id=\"T_37d2dfb4_6907_11ea_ab23_784f438b3f7brow0_col5\" class=\"data row0 col5\" >-0.087</td>\n",
       "                        <td id=\"T_37d2dfb4_6907_11ea_ab23_784f438b3f7brow0_col6\" class=\"data row0 col6\" >-0.115</td>\n",
       "                        <td id=\"T_37d2dfb4_6907_11ea_ab23_784f438b3f7brow0_col7\" class=\"data row0 col7\" >-0.116</td>\n",
       "                        <td id=\"T_37d2dfb4_6907_11ea_ab23_784f438b3f7brow0_col8\" class=\"data row0 col8\" >-0.356</td>\n",
       "                        <td id=\"T_37d2dfb4_6907_11ea_ab23_784f438b3f7brow0_col9\" class=\"data row0 col9\" >-0.009</td>\n",
       "            </tr>\n",
       "    </tbody></table>"
      ],
      "text/plain": [
       "<pandas.io.formats.style.Styler at 0x1a1aff6910>"
      ]
     },
     "metadata": {},
     "output_type": "display_data"
    }
   ],
   "source": [
    "prefunc = [StandardScaler()]\n",
    "\n",
    "print('Audio + EDA Features - r2 score:\\n')\n",
    "\n",
    "print('In Arousal (mean) dimension...')\n",
    "scores_f_a_mean_r2 = cross_val_regression_r2(regressors, fusion_features, arousal_mean, prefunc)\n",
    "ipd.display(format_scores(scores_f_a_mean_r2))\n",
    "\n",
    "print('In Valence (mean) dimension...')\n",
    "scores_f_v_mean_r2 = cross_val_regression_r2(regressors, fusion_features, valence_mean, prefunc)\n",
    "ipd.display(format_scores(scores_f_v_mean_r2))\n",
    "\n",
    "print('In Arousal (std) dimension...')\n",
    "scores_f_a_std_r2 = cross_val_regression_r2(regressors, fusion_features, arousal_std, prefunc)\n",
    "ipd.display(format_scores(scores_f_a_std_r2))\n",
    "\n",
    "print('In Valence (std) dimension...')\n",
    "scores_f_v_std_r2 = cross_val_regression_r2(regressors, fusion_features, valence_std, prefunc)\n",
    "ipd.display(format_scores(scores_f_v_std_r2))"
   ]
  },
  {
   "cell_type": "code",
   "execution_count": null,
   "metadata": {},
   "outputs": [],
   "source": []
  }
 ],
 "metadata": {
  "kernelspec": {
   "display_name": "Python 3",
   "language": "python",
   "name": "python3"
  },
  "language_info": {
   "codemirror_mode": {
    "name": "ipython",
    "version": 3
   },
   "file_extension": ".py",
   "mimetype": "text/x-python",
   "name": "python",
   "nbconvert_exporter": "python",
   "pygments_lexer": "ipython3",
   "version": "3.7.4"
  }
 },
 "nbformat": 4,
 "nbformat_minor": 2
}
