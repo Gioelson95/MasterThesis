{
 "cells": [
  {
   "cell_type": "markdown",
   "metadata": {},
   "source": [
    "# MER algorithm for dynamic features"
   ]
  },
  {
   "cell_type": "markdown",
   "metadata": {},
   "source": [
    "### Load data"
   ]
  },
  {
   "cell_type": "code",
   "execution_count": 1,
   "metadata": {},
   "outputs": [],
   "source": [
    "import pandas as pd\n",
    "import numpy as np\n",
    "from tqdm import tqdm"
   ]
  },
  {
   "cell_type": "code",
   "execution_count": 2,
   "metadata": {},
   "outputs": [],
   "source": [
    "audio_features_dir = '/Users/gioelepozzi/Desktop/data/features_thesis/dynamic_features.csv'\n",
    "audio_features_df = pd.read_csv(audio_features_dir)\n",
    "\n",
    "eda_features_dir = '/Users/gioelepozzi/Desktop/data/features_thesis/dynamic_features_EDA.csv'\n",
    "eda_features_df = pd.read_csv(eda_features_dir)\n",
    "eda_dataset = eda_features_df.groupby(by=['music_ID', 'frame'], as_index=False).mean() # mean over 10 subjects\n",
    "eda_dataset = eda_dataset.drop(columns=['subject_ID'])\n",
    "\n",
    "VA_mean_dir = '/Users/gioelepozzi/Desktop/data/annotations_thesis/dynamic_annotations.csv'\n",
    "VA_std_dir = '/Users/gioelepozzi/Desktop/data/annotations_thesis/dynamic_annotations_std.csv'\n",
    "VA_mean_df = pd.read_csv(VA_mean_dir)\n",
    "VA_std_df = pd.read_csv(VA_std_dir)\n",
    "\n",
    "audio_df = pd.merge(audio_features_df, VA_mean_df, on=['music_ID', 'frame'])\n",
    "audio_df = pd.merge(audio_df, VA_std_df, on=['music_ID', 'frame']) # df with audio features and VA values\n",
    "audio_df = audio_df.fillna(0)\n",
    "\n",
    "eda_df = pd.merge(eda_dataset, VA_mean_df, on=['music_ID', 'frame'])\n",
    "eda_df = pd.merge(eda_df, VA_std_df, on=['music_ID', 'frame'])"
   ]
  },
  {
   "cell_type": "code",
   "execution_count": 3,
   "metadata": {},
   "outputs": [],
   "source": [
    "audio_features_v_mean = audio_df.drop(columns=['music_ID', 'frame', 'Arousal(mean)', 'Arousal(std)', 'Valence(std)'])\n",
    "audio_features_a_mean = audio_df.drop(columns=['music_ID', 'frame', 'Valence(mean)', 'Arousal(std)', 'Valence(std)'])\n",
    "audio_features_v_std = audio_df.drop(columns=['music_ID', 'frame', 'Arousal(mean)', 'Valence(mean)', 'Arousal(std)'])\n",
    "audio_features_a_std = audio_df.drop(columns=['music_ID', 'frame', 'Arousal(mean)', 'Valence(mean)', 'Valence(std)'])\n",
    "\n",
    "eda_features_v_mean = eda_df.drop(columns=['music_ID', 'frame', 'Arousal(mean)', 'Arousal(std)', 'Valence(std)'])\n",
    "eda_features_a_mean = eda_df.drop(columns=['music_ID', 'frame', 'Valence(mean)', 'Arousal(std)', 'Valence(std)'])\n",
    "eda_features_v_std = eda_df.drop(columns=['music_ID', 'frame', 'Arousal(mean)', 'Valence(mean)', 'Arousal(std)'])\n",
    "eda_features_a_std = eda_df.drop(columns=['music_ID', 'frame', 'Arousal(mean)', 'Valence(mean)', 'Valence(std)'])\n",
    "\n",
    "arousal_mean = audio_df['Arousal(mean)']\n",
    "valence_mean = audio_df['Valence(mean)']\n",
    "arousal_std = audio_df['Arousal(std)']\n",
    "valence_std = audio_df['Valence(std)']\n",
    "\n",
    "eda_arousal_mean = eda_df['Arousal(mean)']\n",
    "eda_valence_mean = eda_df['Valence(mean)']\n",
    "eda_arousal_std = eda_df['Arousal(std)']\n",
    "eda_valence_std = eda_df['Valence(std)']"
   ]
  },
  {
   "cell_type": "code",
   "execution_count": 4,
   "metadata": {},
   "outputs": [],
   "source": [
    "fusion_dataset = pd.merge(audio_features_df, eda_dataset, on=['music_ID', 'frame'])\n",
    "fusion_features = fusion_dataset.drop(columns=['music_ID', 'frame'])"
   ]
  },
  {
   "cell_type": "code",
   "execution_count": 5,
   "metadata": {},
   "outputs": [],
   "source": [
    "def load_audio_dataset(data):\n",
    "    features = data[data.columns[:-1]].values\n",
    "    labels = data[data.columns[-1]].values\n",
    "    #scaler = StandardScaler(copy=False)\n",
    "    #scaler.fit_transform(features)\n",
    "    return features, labels"
   ]
  },
  {
   "cell_type": "markdown",
   "metadata": {},
   "source": [
    "### Regressors"
   ]
  },
  {
   "cell_type": "code",
   "execution_count": 6,
   "metadata": {},
   "outputs": [],
   "source": [
    "from sklearn.linear_model import Lasso, ElasticNet, Ridge, LinearRegression\n",
    "from sklearn.neighbors import KNeighborsRegressor\n",
    "from sklearn.svm import SVR\n",
    "from sklearn.tree import DecisionTreeRegressor\n",
    "from sklearn.ensemble import RandomForestRegressor"
   ]
  },
  {
   "cell_type": "code",
   "execution_count": 7,
   "metadata": {},
   "outputs": [],
   "source": [
    "def rmse(y, y_pred):\n",
    "    return sqrt(mean_squared_error(y, y_pred))\n",
    "\n",
    "regressors = {\n",
    "    'LR': LinearRegression(),\n",
    "    'Lasso': Lasso(),\n",
    "    'ElasticNet': ElasticNet(),\n",
    "    'Ridge': Ridge(),\n",
    "    'kNN': KNeighborsRegressor(),\n",
    "    'SVRrbf': SVR(kernel='rbf', gamma='scale'),\n",
    "    'SVRpoly': SVR(kernel='poly', gamma='scale'),\n",
    "    'SVRlinear': SVR(kernel='linear', gamma='scale'),\n",
    "    'DT': DecisionTreeRegressor(max_depth=5),\n",
    "    'RF': RandomForestRegressor(max_depth=5, n_estimators=10, max_features=1),\n",
    "}"
   ]
  },
  {
   "cell_type": "code",
   "execution_count": 8,
   "metadata": {},
   "outputs": [],
   "source": [
    "def cross_val_regression(regressors, features, labels, preprocessfunc):\n",
    "    columns = list(regressors.keys())\n",
    "    scores = pd.DataFrame(columns=columns, index=['RMSE'])\n",
    "\n",
    "    for reg_name, reg in tqdm(regressors.items(), desc='regressors'):\n",
    "        scorer = {'rmse': make_scorer(rmse)}\n",
    "        reg = make_pipeline(*preprocessfunc, reg)\n",
    "        reg_score = cross_validate(reg, features, labels, scoring=scorer, cv=10, return_train_score=False) \n",
    "        scores.loc['RMSE', reg_name] = reg_score['test_rmse'].mean()\n",
    "        #scores.loc['R', reg_name] = reg_score['test_r'].mean()\n",
    "\n",
    "    mean_rmse = scores.mean(axis=1)\n",
    "    std_rmse = scores.std(axis=1)\n",
    "    \n",
    "    scores['Mean'] = mean_rmse\n",
    "    scores['std'] = std_rmse\n",
    "    return scores\n",
    "\n",
    "def format_scores(scores):\n",
    "    def highlight(s):\n",
    "        is_min = s == min(s)\n",
    "#         is_max = s == max(s)\n",
    "#         is_max_or_min = (is_min | is_max)\n",
    "        return ['background-color: yellow' if v else '' for v in is_min]\n",
    "    scores = scores.style.apply(highlight, axis=1, subset=pd.IndexSlice[:, :scores.columns[-2]])\n",
    "    return scores.format('{:.3f}')"
   ]
  },
  {
   "cell_type": "markdown",
   "metadata": {},
   "source": [
    "### Multiple regressors on audio features"
   ]
  },
  {
   "cell_type": "code",
   "execution_count": 9,
   "metadata": {},
   "outputs": [],
   "source": [
    "from sklearn.preprocessing import StandardScaler\n",
    "from sklearn.metrics import mean_squared_error, make_scorer\n",
    "from sklearn.pipeline import make_pipeline\n",
    "from sklearn.model_selection import cross_validate\n",
    "\n",
    "from math import sqrt\n",
    "\n",
    "import IPython.display as ipd"
   ]
  },
  {
   "cell_type": "code",
   "execution_count": null,
   "metadata": {},
   "outputs": [
    {
     "name": "stderr",
     "output_type": "stream",
     "text": [
      "\r",
      "regressors:   0%|          | 0/10 [00:00<?, ?it/s]"
     ]
    },
    {
     "name": "stdout",
     "output_type": "stream",
     "text": [
      "Audio Features:\n",
      "\n",
      "In Arousal (mean) dimension...\n"
     ]
    },
    {
     "name": "stderr",
     "output_type": "stream",
     "text": [
      "regressors:  50%|█████     | 5/10 [05:24<08:03, 96.68s/it]"
     ]
    }
   ],
   "source": [
    "prefunc = [StandardScaler()]\n",
    "\n",
    "print('Audio Features:\\n')\n",
    "\n",
    "print('In Arousal (mean) dimension...')\n",
    "features_a_mean, labels_a_mean = load_audio_dataset(audio_features_a_mean)\n",
    "scores_a_a_mean = cross_val_regression(regressors, features_a_mean, labels_a_mean, prefunc)\n",
    "ipd.display(format_scores(scores_a_a_mean))\n",
    "\n",
    "print('In Valence (mean) dimension ...')\n",
    "features_v_mean, labels_v_mean = load_audio_dataset(audio_features_v_mean)\n",
    "scores_a_v_mean = cross_val_regression(regressors, features_v_mean, labels_v_mean, prefunc)\n",
    "ipd.display(format_scores(scores_a_v_mean))\n",
    "\n",
    "print('In Arousal (std) dimension...')\n",
    "features_a_std, labels_a_std = load_audio_dataset(audio_features_a_std)\n",
    "scores_a_a_std = cross_val_regression(regressors, features_a_std, labels_a_std, prefunc)\n",
    "ipd.display(format_scores(scores_a_a_std))\n",
    "\n",
    "print('In Valence (std) dimension...')\n",
    "features_v_std, labels_v_std = load_audio_dataset(audio_features_v_std)\n",
    "scores_a_v_std = cross_val_regression(regressors, features_v_std, labels_v_std, prefunc)\n",
    "ipd.display(format_scores(scores_a_v_std))"
   ]
  },
  {
   "cell_type": "markdown",
   "metadata": {},
   "source": [
    "### Multiple regressors on EDA features"
   ]
  },
  {
   "cell_type": "code",
   "execution_count": null,
   "metadata": {},
   "outputs": [],
   "source": [
    "prefunc = [StandardScaler()]\n",
    "\n",
    "print('EDA Features:\\n')\n",
    "\n",
    "print('In Arousal (mean) dimension...')\n",
    "scores_eda_a_mean = cross_val_regression(regressors, eda_features_a_mean, eda_arousal_mean, prefunc)\n",
    "ipd.display(format_scores(scores_eda_a_mean))\n",
    "\n",
    "print('In Valence (mean) dimension...')\n",
    "scores_eda_v_mean = cross_val_regression(regressors, eda_features_v_mean, eda_valence_mean, prefunc)\n",
    "ipd.display(format_scores(scores_eda_v_mean))\n",
    "\n",
    "print('In Arousal (std) dimension...')\n",
    "scores_eda_a_std = cross_val_regression(regressors, eda_features_a_std, eda_arousal_std, prefunc)\n",
    "ipd.display(format_scores(scores_eda_a_std))\n",
    "\n",
    "print('In Valence (std) dimension...')\n",
    "scores_eda_v_std = cross_val_regression(regressors, eda_features_v_std, eda_valence_std, prefunc)\n",
    "ipd.display(format_scores(scores_eda_v_std))"
   ]
  },
  {
   "cell_type": "markdown",
   "metadata": {},
   "source": [
    "### Multiple regressors on audio + EDA features"
   ]
  },
  {
   "cell_type": "code",
   "execution_count": null,
   "metadata": {},
   "outputs": [],
   "source": [
    "prefunc = [StandardScaler()]\n",
    "\n",
    "print('Audio + EDA Features:\\n')\n",
    "\n",
    "print('In Arousal (mean) dimension...')\n",
    "scores_f_a_mean = cross_val_regression(regressors, fusion_features, arousal_mean, prefunc)\n",
    "ipd.display(format_scores(scores_f_a_mean))\n",
    "\n",
    "print('In Valence (mean) dimension...')\n",
    "scores_f_v_mean = cross_val_regression(regressors, fusion_features, valence_mean, prefunc)\n",
    "ipd.display(format_scores(scores_f_v_mean))\n",
    "\n",
    "print('In Arousal (std) dimension...')\n",
    "scores_f_a_std = cross_val_regression(regressors, fusion_features, arousal_std, prefunc)\n",
    "ipd.display(format_scores(scores_f_a_std))\n",
    "\n",
    "print('In Valence (std) dimension...')\n",
    "scores_f_v_std = cross_val_regression(regressors, fusion_features, valence_std, prefunc)\n",
    "ipd.display(format_scores(scores_f_v_std))"
   ]
  }
 ],
 "metadata": {
  "kernelspec": {
   "display_name": "Python 3",
   "language": "python",
   "name": "python3"
  },
  "language_info": {
   "codemirror_mode": {
    "name": "ipython",
    "version": 3
   },
   "file_extension": ".py",
   "mimetype": "text/x-python",
   "name": "python",
   "nbconvert_exporter": "python",
   "pygments_lexer": "ipython3",
   "version": "3.7.5"
  }
 },
 "nbformat": 4,
 "nbformat_minor": 2
}
