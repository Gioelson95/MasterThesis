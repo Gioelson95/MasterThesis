{
 "cells": [
  {
   "cell_type": "markdown",
   "metadata": {},
   "source": [
    "# MER algorithm for dynamic features"
   ]
  },
  {
   "cell_type": "markdown",
   "metadata": {},
   "source": [
    "### Load data"
   ]
  },
  {
   "cell_type": "code",
   "execution_count": 1,
   "metadata": {},
   "outputs": [],
   "source": [
    "import pandas as pd\n",
    "import os\n",
    "import numpy as np\n",
    "from math import sqrt\n",
    "from tqdm import tqdm\n",
    "\n",
    "from sklearn.utils import shuffle\n",
    "from sklearn.linear_model import Lasso, ElasticNet, Ridge\n",
    "from sklearn.svm import SVR, LinearSVR\n",
    "from sklearn.neighbors import KNeighborsRegressor\n",
    "from sklearn.tree import DecisionTreeRegressor\n",
    "from sklearn.ensemble import RandomForestRegressor, AdaBoostRegressor\n",
    "from sklearn.neural_network import MLPRegressor\n",
    "from sklearn.metrics import mean_squared_error, make_scorer\n",
    "from scipy.stats import pearsonr\n",
    "from sklearn.preprocessing import StandardScaler\n",
    "from sklearn.model_selection import cross_validate, KFold, train_test_split\n",
    "from sklearn.feature_extraction.text import TfidfVectorizer, CountVectorizer\n",
    "from sklearn.pipeline import make_pipeline\n",
    "from nltk.stem.snowball import SnowballStemmer\n",
    "import IPython.display as ipd"
   ]
  },
  {
   "cell_type": "code",
   "execution_count": 2,
   "metadata": {},
   "outputs": [],
   "source": [
    "audio_features_dir = '/Users/gioelepozzi/Desktop/data/features_thesis/dynamic_features.csv'\n",
    "audio_features_df = pd.read_csv(audio_features_dir)\n",
    "\n",
    "eda_features_dir = '/Users/gioelepozzi/Desktop/data/features_thesis/dynamic_features_EDA.csv'\n",
    "eda_features_df = pd.read_csv(eda_features_dir)\n",
    "eda_dataset = eda_features_df.groupby(by=['music_ID', 'frame'], as_index=False).mean() # mean over 10 subjects\n",
    "eda_dataset = eda_dataset.drop(columns=['subject_ID'])\n",
    "\n",
    "VA_mean_dir = '/Users/gioelepozzi/Desktop/data/annotations_thesis/dynamic_annotations.csv'\n",
    "VA_std_dir = '/Users/gioelepozzi/Desktop/data/annotations_thesis/dynamic_annotations_std.csv'\n",
    "VA_mean_df = pd.read_csv(VA_mean_dir)\n",
    "VA_std_df = pd.read_csv(VA_std_dir)\n",
    "\n",
    "audio_df = pd.merge(audio_features_df, VA_mean_df, on=['music_ID', 'frame'])\n",
    "audio_df = pd.merge(audio_df, VA_std_df, on=['music_ID', 'frame']) # df with audio features and VA values\n",
    "audio_df = audio_df.fillna(0)\n",
    "\n",
    "eda_df = pd.merge(eda_dataset, VA_mean_df, on=['music_ID', 'frame'])\n",
    "eda_df = pd.merge(eda_df, VA_std_df, on=['music_ID', 'frame'])"
   ]
  },
  {
   "cell_type": "code",
   "execution_count": 3,
   "metadata": {},
   "outputs": [],
   "source": [
    "audio_features_v_mean = audio_df.drop(columns=['music_ID', 'frame', 'Arousal(mean)', 'Arousal(std)', 'Valence(std)'])\n",
    "audio_features_a_mean = audio_df.drop(columns=['music_ID', 'frame', 'Valence(mean)', 'Arousal(std)', 'Valence(std)'])\n",
    "audio_features_v_std = audio_df.drop(columns=['music_ID', 'frame', 'Arousal(mean)', 'Valence(mean)', 'Arousal(std)'])\n",
    "audio_features_a_std = audio_df.drop(columns=['music_ID', 'frame', 'Arousal(mean)', 'Valence(mean)', 'Valence(std)'])\n",
    "\n",
    "eda_features_v_mean = eda_df.drop(columns=['music_ID', 'frame', 'Arousal(mean)', 'Arousal(std)', 'Valence(std)'])\n",
    "eda_features_a_mean = eda_df.drop(columns=['music_ID', 'frame', 'Valence(mean)', 'Arousal(std)', 'Valence(std)'])\n",
    "eda_features_v_std = eda_df.drop(columns=['music_ID', 'frame', 'Arousal(mean)', 'Valence(mean)', 'Arousal(std)'])\n",
    "eda_features_a_std = eda_df.drop(columns=['music_ID', 'frame', 'Arousal(mean)', 'Valence(mean)', 'Valence(std)'])\n",
    "\n",
    "arousal_mean = audio_df['Arousal(mean)']\n",
    "valence_mean = audio_df['Valence(mean)']\n",
    "arousal_std = audio_df['Arousal(std)']\n",
    "valence_std = audio_df['Valence(std)']\n",
    "\n",
    "eda_arousal_mean = eda_df['Arousal(mean)']\n",
    "eda_valence_mean = eda_df['Valence(mean)']\n",
    "eda_arousal_std = eda_df['Arousal(std)']\n",
    "eda_valence_std = eda_df['Valence(std)']"
   ]
  },
  {
   "cell_type": "code",
   "execution_count": 4,
   "metadata": {},
   "outputs": [],
   "source": [
    "fusion_dataset = pd.merge(audio_features_df, eda_dataset, on=['music_ID', 'frame'])\n",
    "fusion_features = fusion_dataset.drop(columns=['music_ID', 'frame'])"
   ]
  },
  {
   "cell_type": "code",
   "execution_count": 5,
   "metadata": {},
   "outputs": [],
   "source": [
    "def load_audio_dataset(data):\n",
    "    features = data[data.columns[:-1]].values\n",
    "    labels = data[data.columns[-1]].values\n",
    "    #scaler = StandardScaler(copy=False)\n",
    "    #scaler.fit_transform(features)\n",
    "    return features, labels"
   ]
  },
  {
   "cell_type": "markdown",
   "metadata": {},
   "source": [
    "### Regressors"
   ]
  },
  {
   "cell_type": "code",
   "execution_count": 6,
   "metadata": {},
   "outputs": [],
   "source": [
    "def rmse(y, y_pred):\n",
    "    return sqrt(mean_squared_error(y, y_pred))\n",
    "\n",
    "regressors = {\n",
    "    'Lasso': Lasso(),\n",
    "    'ElasticNet': ElasticNet(),\n",
    "    'Ridge': Ridge(),\n",
    "    'kNN': KNeighborsRegressor(),\n",
    "    'SVRrbf': SVR(kernel='rbf', gamma='scale'),\n",
    "    'SVRpoly': SVR(kernel='poly', gamma='scale'),\n",
    "    'SVRlinear': SVR(kernel='linear', gamma='scale'),\n",
    "    'DT': DecisionTreeRegressor(max_depth=5),\n",
    "    'RF': RandomForestRegressor(max_depth=5, n_estimators=10, max_features=1),\n",
    "    #'MLP': MLPRegressor(hidden_layer_sizes=(200,50), max_iter=2000),\n",
    "    #'AdaBoost': AdaBoostRegressor(n_estimators=10),\n",
    "}"
   ]
  },
  {
   "cell_type": "code",
   "execution_count": 7,
   "metadata": {},
   "outputs": [],
   "source": [
    "def cross_val_regression(regressors, features, labels, preprocessfunc):\n",
    "    columns = list(regressors.keys())\n",
    "    scores = pd.DataFrame(columns=columns, index=['RMSE'])\n",
    "\n",
    "    for reg_name, reg in tqdm(regressors.items(), desc='regressors'):\n",
    "        scorer = {'rmse': make_scorer(rmse)}\n",
    "        reg = make_pipeline(*preprocessfunc, reg)\n",
    "        reg_score = cross_validate(reg, features, labels, scoring=scorer, cv=10, return_train_score=False) \n",
    "        scores.loc['RMSE', reg_name] = reg_score['test_rmse'].mean()\n",
    "#         scores.loc['R', reg_name] = reg_score['test_r'].mean()\n",
    "    return scores\n",
    "\n",
    "def format_scores(scores):\n",
    "    def highlight(s):\n",
    "        is_min = s == min(s)\n",
    "#         is_max = s == max(s)\n",
    "#         is_max_or_min = (is_min | is_max)\n",
    "        return ['background-color: yellow' if v else '' for v in is_min]\n",
    "    scores = scores.style.apply(highlight, axis=1, subset=pd.IndexSlice[:, :scores.columns[-2]])\n",
    "    return scores.format('{:.3f}')\n",
    "\n",
    "def regression_results(regressors, trainset, testset, featureNames, labelName, filePrefix, preprocessfunc):\n",
    "    X_train = trainset[featureNames]\n",
    "    y_train = trainset[labelName]\n",
    "    X_test = testset[featureNames]\n",
    "    y_test = testset[labelName]\n",
    "\n",
    "    columns = ['music_ID', 'y_test'] + list(regressors.keys())\n",
    "    results = pd.DataFrame(columns=columns)\n",
    "    results['music_ID'] = testset['music_ID']\n",
    "    results['y_test'] = y_test.values\n",
    "    \n",
    "    for reg_name, reg in tqdm(regressors.items(), desc='regressors'):\n",
    "        reg = make_pipeline(*preprocessfunc, reg)\n",
    "        reg.fit(X_train, y_train)\n",
    "        y_pred = reg.predict(X_test)\n",
    "        results[reg_name] = y_pred\n",
    "        results.to_csv(os.path.join('temp_results',f'{filePrefix}_regression_results_{labelName}.csv'))\n",
    "    \n",
    "def compute_rmse_across_songs(resultsFile):\n",
    "    results = pd.read_csv(resultsFile,index_col=0).dropna(axis=1, how='any')\n",
    "    columns = results.columns[2:]\n",
    "    scores = pd.DataFrame(columns=columns, index=['rmse_across_segments', 'rmse_across_songs'])\n",
    "    rmse_across_songs = {}\n",
    "    testsongs_num = len(results['music_ID'].unique())\n",
    "\n",
    "    for reg_name in columns:\n",
    "        scores.loc['rmse_across_segments', reg_name] = rmse(results['y_test'], results[reg_name])\n",
    "        rmse_across_songs[reg_name] = 0\n",
    "\n",
    "    for i, g in results.groupby('music_ID'):\n",
    "        for reg_name in columns:\n",
    "            rmse_across_songs[reg_name] += rmse(g['y_test'], g[reg_name])\n",
    "\n",
    "    for reg_name in columns:\n",
    "        scores.loc['rmse_across_songs', reg_name] = rmse_across_songs[reg_name]/testsongs_num\n",
    "    \n",
    "    mean_rmse = scores.mean(axis=1)\n",
    "    std_rmse = scores.std(axis=1)\n",
    "    \n",
    "    scores['Mean'] = mean_rmse\n",
    "    scores['std'] = std_rmse\n",
    "    ipd.display(format_scores(scores))"
   ]
  },
  {
   "cell_type": "code",
   "execution_count": 8,
   "metadata": {},
   "outputs": [
    {
     "name": "stdout",
     "output_type": "stream",
     "text": [
      "[63, 490, 34, 743, 104, 177, 79, 894, 14, 668, 683, 151, 504, 516, 355, 98, 97, 579, 892, 837, 152, 169, 388, 391, 561, 850, 985, 958, 572, 514, 625, 791, 517, 507, 501, 1000, 803, 457, 403, 670, 51, 798, 59, 531, 466, 503, 794, 568, 279, 103, 350, 917, 428, 417, 393, 571, 354, 283, 906, 149, 56, 128, 742, 993, 94, 754, 199, 57, 576, 463, 284, 126, 488, 253, 227, 730, 861]\n"
     ]
    }
   ],
   "source": [
    "songs = audio_df['music_ID'].unique()\n",
    "songs = shuffle(songs, random_state=3)\n",
    "test_num = round(len(songs)*0.1)\n",
    "testsongs = songs[:test_num]\n",
    "print(list(testsongs))"
   ]
  },
  {
   "cell_type": "markdown",
   "metadata": {},
   "source": [
    "### Multiple regressors on audio features"
   ]
  },
  {
   "cell_type": "code",
   "execution_count": null,
   "metadata": {},
   "outputs": [
    {
     "name": "stderr",
     "output_type": "stream",
     "text": [
      "regressors:  11%|█         | 1/9 [00:00<00:01,  5.72it/s]"
     ]
    },
    {
     "name": "stdout",
     "output_type": "stream",
     "text": [
      "Audio Features:\n",
      "\n",
      "In Arousal dimension...\n"
     ]
    },
    {
     "name": "stderr",
     "output_type": "stream",
     "text": [
      "regressors:  67%|██████▋   | 6/9 [01:56<01:21, 27.06s/it]"
     ]
    }
   ],
   "source": [
    "iftestset = audio_df['music_ID'].apply(lambda x: x in testsongs)\n",
    "testset = audio_df[iftestset]\n",
    "trainset = audio_df[~iftestset]\n",
    "prefunc = [StandardScaler()]\n",
    "featureNames = audio_df.columns[2:-4]\n",
    "\n",
    "print('Audio Features:\\n')\n",
    "\n",
    "print('In Arousal dimension...')\n",
    "regression_results(regressors, trainset, testset, featureNames, 'Arousal(mean)', 'audio', prefunc)\n",
    "\n",
    "print('In Valence dimension...')\n",
    "regression_results(regressors, trainset, testset, featureNames, 'Valence(mean)', 'audio', prefunc)"
   ]
  },
  {
   "cell_type": "code",
   "execution_count": null,
   "metadata": {},
   "outputs": [],
   "source": [
    "print('In Arousal dimension...')\n",
    "compute_rmse_across_songs(os.path.join('temp_results','audio_regression_results_Arousal(mean).csv'))\n",
    "print('In Valence dimension...')\n",
    "compute_rmse_across_songs(os.path.join('temp_results','audio_regression_results_Valence(mean).csv'))"
   ]
  },
  {
   "cell_type": "markdown",
   "metadata": {},
   "source": [
    "### Multiple regressors on EDA features"
   ]
  },
  {
   "cell_type": "code",
   "execution_count": 78,
   "metadata": {},
   "outputs": [
    {
     "name": "stderr",
     "output_type": "stream",
     "text": [
      "regressors:  22%|██▏       | 2/9 [00:00<00:00, 17.03it/s]"
     ]
    },
    {
     "name": "stdout",
     "output_type": "stream",
     "text": [
      "In Arousal dimension...\n"
     ]
    },
    {
     "name": "stderr",
     "output_type": "stream",
     "text": [
      "\r",
      "regressors:  44%|████▍     | 4/9 [00:02<00:01,  2.74it/s]"
     ]
    },
    {
     "ename": "KeyboardInterrupt",
     "evalue": "",
     "output_type": "error",
     "traceback": [
      "\u001b[0;31m---------------------------------------------------------------------------\u001b[0m",
      "\u001b[0;31mKeyboardInterrupt\u001b[0m                         Traceback (most recent call last)",
      "\u001b[0;32m<ipython-input-78-b0e047d182cd>\u001b[0m in \u001b[0;36m<module>\u001b[0;34m\u001b[0m\n\u001b[1;32m      7\u001b[0m \u001b[0;34m\u001b[0m\u001b[0m\n\u001b[1;32m      8\u001b[0m \u001b[0mprint\u001b[0m\u001b[0;34m(\u001b[0m\u001b[0;34m'In Arousal dimension...'\u001b[0m\u001b[0;34m)\u001b[0m\u001b[0;34m\u001b[0m\u001b[0;34m\u001b[0m\u001b[0m\n\u001b[0;32m----> 9\u001b[0;31m \u001b[0mregression_results\u001b[0m\u001b[0;34m(\u001b[0m\u001b[0mregressors\u001b[0m\u001b[0;34m,\u001b[0m \u001b[0mtrainset\u001b[0m\u001b[0;34m,\u001b[0m \u001b[0mtestset\u001b[0m\u001b[0;34m,\u001b[0m \u001b[0mfeatureNames\u001b[0m\u001b[0;34m,\u001b[0m \u001b[0;34m'Arousal(mean)'\u001b[0m\u001b[0;34m,\u001b[0m \u001b[0;34m'eda'\u001b[0m\u001b[0;34m,\u001b[0m \u001b[0mprefunc\u001b[0m\u001b[0;34m)\u001b[0m\u001b[0;34m\u001b[0m\u001b[0;34m\u001b[0m\u001b[0m\n\u001b[0m\u001b[1;32m     10\u001b[0m \u001b[0;34m\u001b[0m\u001b[0m\n\u001b[1;32m     11\u001b[0m \u001b[0mprint\u001b[0m\u001b[0;34m(\u001b[0m\u001b[0;34m'In Valence dimension...'\u001b[0m\u001b[0;34m)\u001b[0m\u001b[0;34m\u001b[0m\u001b[0;34m\u001b[0m\u001b[0m\n",
      "\u001b[0;32m<ipython-input-43-5bd608198705>\u001b[0m in \u001b[0;36mregression_results\u001b[0;34m(regressors, trainset, testset, featureNames, labelName, filePrefix, preprocessfunc)\u001b[0m\n\u001b[1;32m     34\u001b[0m         \u001b[0mreg\u001b[0m \u001b[0;34m=\u001b[0m \u001b[0mmake_pipeline\u001b[0m\u001b[0;34m(\u001b[0m\u001b[0;34m*\u001b[0m\u001b[0mpreprocessfunc\u001b[0m\u001b[0;34m,\u001b[0m \u001b[0mreg\u001b[0m\u001b[0;34m)\u001b[0m\u001b[0;34m\u001b[0m\u001b[0;34m\u001b[0m\u001b[0m\n\u001b[1;32m     35\u001b[0m         \u001b[0mreg\u001b[0m\u001b[0;34m.\u001b[0m\u001b[0mfit\u001b[0m\u001b[0;34m(\u001b[0m\u001b[0mX_train\u001b[0m\u001b[0;34m,\u001b[0m \u001b[0my_train\u001b[0m\u001b[0;34m)\u001b[0m\u001b[0;34m\u001b[0m\u001b[0;34m\u001b[0m\u001b[0m\n\u001b[0;32m---> 36\u001b[0;31m         \u001b[0my_pred\u001b[0m \u001b[0;34m=\u001b[0m \u001b[0mreg\u001b[0m\u001b[0;34m.\u001b[0m\u001b[0mpredict\u001b[0m\u001b[0;34m(\u001b[0m\u001b[0mX_test\u001b[0m\u001b[0;34m)\u001b[0m\u001b[0;34m\u001b[0m\u001b[0;34m\u001b[0m\u001b[0m\n\u001b[0m\u001b[1;32m     37\u001b[0m         \u001b[0mresults\u001b[0m\u001b[0;34m[\u001b[0m\u001b[0mreg_name\u001b[0m\u001b[0;34m]\u001b[0m \u001b[0;34m=\u001b[0m \u001b[0my_pred\u001b[0m\u001b[0;34m\u001b[0m\u001b[0;34m\u001b[0m\u001b[0m\n\u001b[1;32m     38\u001b[0m         \u001b[0mresults\u001b[0m\u001b[0;34m.\u001b[0m\u001b[0mto_csv\u001b[0m\u001b[0;34m(\u001b[0m\u001b[0mos\u001b[0m\u001b[0;34m.\u001b[0m\u001b[0mpath\u001b[0m\u001b[0;34m.\u001b[0m\u001b[0mjoin\u001b[0m\u001b[0;34m(\u001b[0m\u001b[0;34m'temp_results'\u001b[0m\u001b[0;34m,\u001b[0m\u001b[0;34mf'{filePrefix}_regression_results_{labelName}.csv'\u001b[0m\u001b[0;34m)\u001b[0m\u001b[0;34m)\u001b[0m\u001b[0;34m\u001b[0m\u001b[0;34m\u001b[0m\u001b[0m\n",
      "\u001b[0;32m/Applications/anaconda3/lib/python3.7/site-packages/sklearn/utils/metaestimators.py\u001b[0m in \u001b[0;36m<lambda>\u001b[0;34m(*args, **kwargs)\u001b[0m\n\u001b[1;32m    114\u001b[0m \u001b[0;34m\u001b[0m\u001b[0m\n\u001b[1;32m    115\u001b[0m         \u001b[0;31m# lambda, but not partial, allows help() to work with update_wrapper\u001b[0m\u001b[0;34m\u001b[0m\u001b[0;34m\u001b[0m\u001b[0;34m\u001b[0m\u001b[0m\n\u001b[0;32m--> 116\u001b[0;31m         \u001b[0mout\u001b[0m \u001b[0;34m=\u001b[0m \u001b[0;32mlambda\u001b[0m \u001b[0;34m*\u001b[0m\u001b[0margs\u001b[0m\u001b[0;34m,\u001b[0m \u001b[0;34m**\u001b[0m\u001b[0mkwargs\u001b[0m\u001b[0;34m:\u001b[0m \u001b[0mself\u001b[0m\u001b[0;34m.\u001b[0m\u001b[0mfn\u001b[0m\u001b[0;34m(\u001b[0m\u001b[0mobj\u001b[0m\u001b[0;34m,\u001b[0m \u001b[0;34m*\u001b[0m\u001b[0margs\u001b[0m\u001b[0;34m,\u001b[0m \u001b[0;34m**\u001b[0m\u001b[0mkwargs\u001b[0m\u001b[0;34m)\u001b[0m\u001b[0;34m\u001b[0m\u001b[0;34m\u001b[0m\u001b[0m\n\u001b[0m\u001b[1;32m    117\u001b[0m         \u001b[0;31m# update the docstring of the returned function\u001b[0m\u001b[0;34m\u001b[0m\u001b[0;34m\u001b[0m\u001b[0;34m\u001b[0m\u001b[0m\n\u001b[1;32m    118\u001b[0m         \u001b[0mupdate_wrapper\u001b[0m\u001b[0;34m(\u001b[0m\u001b[0mout\u001b[0m\u001b[0;34m,\u001b[0m \u001b[0mself\u001b[0m\u001b[0;34m.\u001b[0m\u001b[0mfn\u001b[0m\u001b[0;34m)\u001b[0m\u001b[0;34m\u001b[0m\u001b[0;34m\u001b[0m\u001b[0m\n",
      "\u001b[0;32m/Applications/anaconda3/lib/python3.7/site-packages/sklearn/pipeline.py\u001b[0m in \u001b[0;36mpredict\u001b[0;34m(self, X, **predict_params)\u001b[0m\n\u001b[1;32m    420\u001b[0m         \u001b[0;32mfor\u001b[0m \u001b[0m_\u001b[0m\u001b[0;34m,\u001b[0m \u001b[0mname\u001b[0m\u001b[0;34m,\u001b[0m \u001b[0mtransform\u001b[0m \u001b[0;32min\u001b[0m \u001b[0mself\u001b[0m\u001b[0;34m.\u001b[0m\u001b[0m_iter\u001b[0m\u001b[0;34m(\u001b[0m\u001b[0mwith_final\u001b[0m\u001b[0;34m=\u001b[0m\u001b[0;32mFalse\u001b[0m\u001b[0;34m)\u001b[0m\u001b[0;34m:\u001b[0m\u001b[0;34m\u001b[0m\u001b[0;34m\u001b[0m\u001b[0m\n\u001b[1;32m    421\u001b[0m             \u001b[0mXt\u001b[0m \u001b[0;34m=\u001b[0m \u001b[0mtransform\u001b[0m\u001b[0;34m.\u001b[0m\u001b[0mtransform\u001b[0m\u001b[0;34m(\u001b[0m\u001b[0mXt\u001b[0m\u001b[0;34m)\u001b[0m\u001b[0;34m\u001b[0m\u001b[0;34m\u001b[0m\u001b[0m\n\u001b[0;32m--> 422\u001b[0;31m         \u001b[0;32mreturn\u001b[0m \u001b[0mself\u001b[0m\u001b[0;34m.\u001b[0m\u001b[0msteps\u001b[0m\u001b[0;34m[\u001b[0m\u001b[0;34m-\u001b[0m\u001b[0;36m1\u001b[0m\u001b[0;34m]\u001b[0m\u001b[0;34m[\u001b[0m\u001b[0;34m-\u001b[0m\u001b[0;36m1\u001b[0m\u001b[0;34m]\u001b[0m\u001b[0;34m.\u001b[0m\u001b[0mpredict\u001b[0m\u001b[0;34m(\u001b[0m\u001b[0mXt\u001b[0m\u001b[0;34m,\u001b[0m \u001b[0;34m**\u001b[0m\u001b[0mpredict_params\u001b[0m\u001b[0;34m)\u001b[0m\u001b[0;34m\u001b[0m\u001b[0;34m\u001b[0m\u001b[0m\n\u001b[0m\u001b[1;32m    423\u001b[0m \u001b[0;34m\u001b[0m\u001b[0m\n\u001b[1;32m    424\u001b[0m     \u001b[0;34m@\u001b[0m\u001b[0mif_delegate_has_method\u001b[0m\u001b[0;34m(\u001b[0m\u001b[0mdelegate\u001b[0m\u001b[0;34m=\u001b[0m\u001b[0;34m'_final_estimator'\u001b[0m\u001b[0;34m)\u001b[0m\u001b[0;34m\u001b[0m\u001b[0;34m\u001b[0m\u001b[0m\n",
      "\u001b[0;32m/Applications/anaconda3/lib/python3.7/site-packages/sklearn/svm/base.py\u001b[0m in \u001b[0;36mpredict\u001b[0;34m(self, X)\u001b[0m\n\u001b[1;32m    322\u001b[0m         \u001b[0mX\u001b[0m \u001b[0;34m=\u001b[0m \u001b[0mself\u001b[0m\u001b[0;34m.\u001b[0m\u001b[0m_validate_for_predict\u001b[0m\u001b[0;34m(\u001b[0m\u001b[0mX\u001b[0m\u001b[0;34m)\u001b[0m\u001b[0;34m\u001b[0m\u001b[0;34m\u001b[0m\u001b[0m\n\u001b[1;32m    323\u001b[0m         \u001b[0mpredict\u001b[0m \u001b[0;34m=\u001b[0m \u001b[0mself\u001b[0m\u001b[0;34m.\u001b[0m\u001b[0m_sparse_predict\u001b[0m \u001b[0;32mif\u001b[0m \u001b[0mself\u001b[0m\u001b[0;34m.\u001b[0m\u001b[0m_sparse\u001b[0m \u001b[0;32melse\u001b[0m \u001b[0mself\u001b[0m\u001b[0;34m.\u001b[0m\u001b[0m_dense_predict\u001b[0m\u001b[0;34m\u001b[0m\u001b[0;34m\u001b[0m\u001b[0m\n\u001b[0;32m--> 324\u001b[0;31m         \u001b[0;32mreturn\u001b[0m \u001b[0mpredict\u001b[0m\u001b[0;34m(\u001b[0m\u001b[0mX\u001b[0m\u001b[0;34m)\u001b[0m\u001b[0;34m\u001b[0m\u001b[0;34m\u001b[0m\u001b[0m\n\u001b[0m\u001b[1;32m    325\u001b[0m \u001b[0;34m\u001b[0m\u001b[0m\n\u001b[1;32m    326\u001b[0m     \u001b[0;32mdef\u001b[0m \u001b[0m_dense_predict\u001b[0m\u001b[0;34m(\u001b[0m\u001b[0mself\u001b[0m\u001b[0;34m,\u001b[0m \u001b[0mX\u001b[0m\u001b[0;34m)\u001b[0m\u001b[0;34m:\u001b[0m\u001b[0;34m\u001b[0m\u001b[0;34m\u001b[0m\u001b[0m\n",
      "\u001b[0;32m/Applications/anaconda3/lib/python3.7/site-packages/sklearn/svm/base.py\u001b[0m in \u001b[0;36m_dense_predict\u001b[0;34m(self, X)\u001b[0m\n\u001b[1;32m    344\u001b[0m             \u001b[0mself\u001b[0m\u001b[0;34m.\u001b[0m\u001b[0mprobA_\u001b[0m\u001b[0;34m,\u001b[0m \u001b[0mself\u001b[0m\u001b[0;34m.\u001b[0m\u001b[0mprobB_\u001b[0m\u001b[0;34m,\u001b[0m \u001b[0msvm_type\u001b[0m\u001b[0;34m=\u001b[0m\u001b[0msvm_type\u001b[0m\u001b[0;34m,\u001b[0m \u001b[0mkernel\u001b[0m\u001b[0;34m=\u001b[0m\u001b[0mkernel\u001b[0m\u001b[0;34m,\u001b[0m\u001b[0;34m\u001b[0m\u001b[0;34m\u001b[0m\u001b[0m\n\u001b[1;32m    345\u001b[0m             \u001b[0mdegree\u001b[0m\u001b[0;34m=\u001b[0m\u001b[0mself\u001b[0m\u001b[0;34m.\u001b[0m\u001b[0mdegree\u001b[0m\u001b[0;34m,\u001b[0m \u001b[0mcoef0\u001b[0m\u001b[0;34m=\u001b[0m\u001b[0mself\u001b[0m\u001b[0;34m.\u001b[0m\u001b[0mcoef0\u001b[0m\u001b[0;34m,\u001b[0m \u001b[0mgamma\u001b[0m\u001b[0;34m=\u001b[0m\u001b[0mself\u001b[0m\u001b[0;34m.\u001b[0m\u001b[0m_gamma\u001b[0m\u001b[0;34m,\u001b[0m\u001b[0;34m\u001b[0m\u001b[0;34m\u001b[0m\u001b[0m\n\u001b[0;32m--> 346\u001b[0;31m             cache_size=self.cache_size)\n\u001b[0m\u001b[1;32m    347\u001b[0m \u001b[0;34m\u001b[0m\u001b[0m\n\u001b[1;32m    348\u001b[0m     \u001b[0;32mdef\u001b[0m \u001b[0m_sparse_predict\u001b[0m\u001b[0;34m(\u001b[0m\u001b[0mself\u001b[0m\u001b[0;34m,\u001b[0m \u001b[0mX\u001b[0m\u001b[0;34m)\u001b[0m\u001b[0;34m:\u001b[0m\u001b[0;34m\u001b[0m\u001b[0;34m\u001b[0m\u001b[0m\n",
      "\u001b[0;31mKeyboardInterrupt\u001b[0m: "
     ]
    }
   ],
   "source": [
    "iftestset = eda_df['music_ID'].apply(lambda x: x in testsongs)\n",
    "testset = eda_df[iftestset]\n",
    "trainset = eda_df[~iftestset]\n",
    "prefunc = [StandardScaler()]\n",
    "featureNames = list(set(eda_df.columns).difference({'subject_ID', 'music_ID', 'frame', \n",
    "                                                         'Arousal(mean)', 'Valence(mean)'}))\n",
    "\n",
    "print('In Arousal dimension...')\n",
    "regression_results(regressors, trainset, testset, featureNames, 'Arousal(mean)', 'eda', prefunc)\n",
    "\n",
    "print('In Valence dimension...')\n",
    "regression_results(regressors, trainset, testset, featureNames, 'Valence(mean)', 'eda', prefunc)"
   ]
  },
  {
   "cell_type": "code",
   "execution_count": 25,
   "metadata": {},
   "outputs": [
    {
     "name": "stdout",
     "output_type": "stream",
     "text": [
      "In Arousal dimension...\n"
     ]
    },
    {
     "data": {
      "text/html": [
       "<style  type=\"text/css\" >\n",
       "    #T_d699cf2c_315d_11ea_a8ce_784f438b3f7brow0_col4 {\n",
       "            background-color:  yellow;\n",
       "        }    #T_d699cf2c_315d_11ea_a8ce_784f438b3f7brow1_col6 {\n",
       "            background-color:  yellow;\n",
       "        }</style><table id=\"T_d699cf2c_315d_11ea_a8ce_784f438b3f7b\" ><thead>    <tr>        <th class=\"blank level0\" ></th>        <th class=\"col_heading level0 col0\" >Lasso</th>        <th class=\"col_heading level0 col1\" >ElasticNet</th>        <th class=\"col_heading level0 col2\" >Ridge</th>        <th class=\"col_heading level0 col3\" >kNN</th>        <th class=\"col_heading level0 col4\" >SVRrbf</th>        <th class=\"col_heading level0 col5\" >SVRpoly</th>        <th class=\"col_heading level0 col6\" >SVRlinear</th>        <th class=\"col_heading level0 col7\" >DT</th>        <th class=\"col_heading level0 col8\" >RF</th>        <th class=\"col_heading level0 col9\" >Mean</th>        <th class=\"col_heading level0 col10\" >std</th>    </tr></thead><tbody>\n",
       "                <tr>\n",
       "                        <th id=\"T_d699cf2c_315d_11ea_a8ce_784f438b3f7blevel0_row0\" class=\"row_heading level0 row0\" >rmse_across_segments</th>\n",
       "                        <td id=\"T_d699cf2c_315d_11ea_a8ce_784f438b3f7brow0_col0\" class=\"data row0 col0\" >0.181</td>\n",
       "                        <td id=\"T_d699cf2c_315d_11ea_a8ce_784f438b3f7brow0_col1\" class=\"data row0 col1\" >0.181</td>\n",
       "                        <td id=\"T_d699cf2c_315d_11ea_a8ce_784f438b3f7brow0_col2\" class=\"data row0 col2\" >0.146</td>\n",
       "                        <td id=\"T_d699cf2c_315d_11ea_a8ce_784f438b3f7brow0_col3\" class=\"data row0 col3\" >0.170</td>\n",
       "                        <td id=\"T_d699cf2c_315d_11ea_a8ce_784f438b3f7brow0_col4\" class=\"data row0 col4\" >0.144</td>\n",
       "                        <td id=\"T_d699cf2c_315d_11ea_a8ce_784f438b3f7brow0_col5\" class=\"data row0 col5\" >0.193</td>\n",
       "                        <td id=\"T_d699cf2c_315d_11ea_a8ce_784f438b3f7brow0_col6\" class=\"data row0 col6\" >0.147</td>\n",
       "                        <td id=\"T_d699cf2c_315d_11ea_a8ce_784f438b3f7brow0_col7\" class=\"data row0 col7\" >0.164</td>\n",
       "                        <td id=\"T_d699cf2c_315d_11ea_a8ce_784f438b3f7brow0_col8\" class=\"data row0 col8\" >0.179</td>\n",
       "                        <td id=\"T_d699cf2c_315d_11ea_a8ce_784f438b3f7brow0_col9\" class=\"data row0 col9\" >0.167</td>\n",
       "                        <td id=\"T_d699cf2c_315d_11ea_a8ce_784f438b3f7brow0_col10\" class=\"data row0 col10\" >0.018</td>\n",
       "            </tr>\n",
       "            <tr>\n",
       "                        <th id=\"T_d699cf2c_315d_11ea_a8ce_784f438b3f7blevel0_row1\" class=\"row_heading level0 row1\" >rmse_across_songs</th>\n",
       "                        <td id=\"T_d699cf2c_315d_11ea_a8ce_784f438b3f7brow1_col0\" class=\"data row1 col0\" >0.151</td>\n",
       "                        <td id=\"T_d699cf2c_315d_11ea_a8ce_784f438b3f7brow1_col1\" class=\"data row1 col1\" >0.151</td>\n",
       "                        <td id=\"T_d699cf2c_315d_11ea_a8ce_784f438b3f7brow1_col2\" class=\"data row1 col2\" >0.113</td>\n",
       "                        <td id=\"T_d699cf2c_315d_11ea_a8ce_784f438b3f7brow1_col3\" class=\"data row1 col3\" >0.149</td>\n",
       "                        <td id=\"T_d699cf2c_315d_11ea_a8ce_784f438b3f7brow1_col4\" class=\"data row1 col4\" >0.119</td>\n",
       "                        <td id=\"T_d699cf2c_315d_11ea_a8ce_784f438b3f7brow1_col5\" class=\"data row1 col5\" >0.136</td>\n",
       "                        <td id=\"T_d699cf2c_315d_11ea_a8ce_784f438b3f7brow1_col6\" class=\"data row1 col6\" >0.112</td>\n",
       "                        <td id=\"T_d699cf2c_315d_11ea_a8ce_784f438b3f7brow1_col7\" class=\"data row1 col7\" >0.140</td>\n",
       "                        <td id=\"T_d699cf2c_315d_11ea_a8ce_784f438b3f7brow1_col8\" class=\"data row1 col8\" >0.150</td>\n",
       "                        <td id=\"T_d699cf2c_315d_11ea_a8ce_784f438b3f7brow1_col9\" class=\"data row1 col9\" >0.136</td>\n",
       "                        <td id=\"T_d699cf2c_315d_11ea_a8ce_784f438b3f7brow1_col10\" class=\"data row1 col10\" >0.017</td>\n",
       "            </tr>\n",
       "    </tbody></table>"
      ],
      "text/plain": [
       "<pandas.io.formats.style.Styler at 0x1a1c0c3690>"
      ]
     },
     "metadata": {},
     "output_type": "display_data"
    },
    {
     "name": "stdout",
     "output_type": "stream",
     "text": [
      "In Valence dimension...\n"
     ]
    },
    {
     "data": {
      "text/html": [
       "<style  type=\"text/css\" >\n",
       "    #T_d6c58eb4_315d_11ea_a8ce_784f438b3f7brow0_col2 {\n",
       "            background-color:  yellow;\n",
       "        }    #T_d6c58eb4_315d_11ea_a8ce_784f438b3f7brow1_col6 {\n",
       "            background-color:  yellow;\n",
       "        }</style><table id=\"T_d6c58eb4_315d_11ea_a8ce_784f438b3f7b\" ><thead>    <tr>        <th class=\"blank level0\" ></th>        <th class=\"col_heading level0 col0\" >Lasso</th>        <th class=\"col_heading level0 col1\" >ElasticNet</th>        <th class=\"col_heading level0 col2\" >Ridge</th>        <th class=\"col_heading level0 col3\" >kNN</th>        <th class=\"col_heading level0 col4\" >SVRrbf</th>        <th class=\"col_heading level0 col5\" >SVRpoly</th>        <th class=\"col_heading level0 col6\" >SVRlinear</th>        <th class=\"col_heading level0 col7\" >DT</th>        <th class=\"col_heading level0 col8\" >RF</th>        <th class=\"col_heading level0 col9\" >Mean</th>        <th class=\"col_heading level0 col10\" >std</th>    </tr></thead><tbody>\n",
       "                <tr>\n",
       "                        <th id=\"T_d6c58eb4_315d_11ea_a8ce_784f438b3f7blevel0_row0\" class=\"row_heading level0 row0\" >rmse_across_segments</th>\n",
       "                        <td id=\"T_d6c58eb4_315d_11ea_a8ce_784f438b3f7brow0_col0\" class=\"data row0 col0\" >0.152</td>\n",
       "                        <td id=\"T_d6c58eb4_315d_11ea_a8ce_784f438b3f7brow0_col1\" class=\"data row0 col1\" >0.152</td>\n",
       "                        <td id=\"T_d6c58eb4_315d_11ea_a8ce_784f438b3f7brow0_col2\" class=\"data row0 col2\" >0.118</td>\n",
       "                        <td id=\"T_d6c58eb4_315d_11ea_a8ce_784f438b3f7brow0_col3\" class=\"data row0 col3\" >0.137</td>\n",
       "                        <td id=\"T_d6c58eb4_315d_11ea_a8ce_784f438b3f7brow0_col4\" class=\"data row0 col4\" >0.120</td>\n",
       "                        <td id=\"T_d6c58eb4_315d_11ea_a8ce_784f438b3f7brow0_col5\" class=\"data row0 col5\" >0.182</td>\n",
       "                        <td id=\"T_d6c58eb4_315d_11ea_a8ce_784f438b3f7brow0_col6\" class=\"data row0 col6\" >0.119</td>\n",
       "                        <td id=\"T_d6c58eb4_315d_11ea_a8ce_784f438b3f7brow0_col7\" class=\"data row0 col7\" >0.152</td>\n",
       "                        <td id=\"T_d6c58eb4_315d_11ea_a8ce_784f438b3f7brow0_col8\" class=\"data row0 col8\" >0.141</td>\n",
       "                        <td id=\"T_d6c58eb4_315d_11ea_a8ce_784f438b3f7brow0_col9\" class=\"data row0 col9\" >0.142</td>\n",
       "                        <td id=\"T_d6c58eb4_315d_11ea_a8ce_784f438b3f7brow0_col10\" class=\"data row0 col10\" >0.021</td>\n",
       "            </tr>\n",
       "            <tr>\n",
       "                        <th id=\"T_d6c58eb4_315d_11ea_a8ce_784f438b3f7blevel0_row1\" class=\"row_heading level0 row1\" >rmse_across_songs</th>\n",
       "                        <td id=\"T_d6c58eb4_315d_11ea_a8ce_784f438b3f7brow1_col0\" class=\"data row1 col0\" >0.123</td>\n",
       "                        <td id=\"T_d6c58eb4_315d_11ea_a8ce_784f438b3f7brow1_col1\" class=\"data row1 col1\" >0.123</td>\n",
       "                        <td id=\"T_d6c58eb4_315d_11ea_a8ce_784f438b3f7brow1_col2\" class=\"data row1 col2\" >0.102</td>\n",
       "                        <td id=\"T_d6c58eb4_315d_11ea_a8ce_784f438b3f7brow1_col3\" class=\"data row1 col3\" >0.120</td>\n",
       "                        <td id=\"T_d6c58eb4_315d_11ea_a8ce_784f438b3f7brow1_col4\" class=\"data row1 col4\" >0.107</td>\n",
       "                        <td id=\"T_d6c58eb4_315d_11ea_a8ce_784f438b3f7brow1_col5\" class=\"data row1 col5\" >0.124</td>\n",
       "                        <td id=\"T_d6c58eb4_315d_11ea_a8ce_784f438b3f7brow1_col6\" class=\"data row1 col6\" >0.102</td>\n",
       "                        <td id=\"T_d6c58eb4_315d_11ea_a8ce_784f438b3f7brow1_col7\" class=\"data row1 col7\" >0.124</td>\n",
       "                        <td id=\"T_d6c58eb4_315d_11ea_a8ce_784f438b3f7brow1_col8\" class=\"data row1 col8\" >0.117</td>\n",
       "                        <td id=\"T_d6c58eb4_315d_11ea_a8ce_784f438b3f7brow1_col9\" class=\"data row1 col9\" >0.116</td>\n",
       "                        <td id=\"T_d6c58eb4_315d_11ea_a8ce_784f438b3f7brow1_col10\" class=\"data row1 col10\" >0.010</td>\n",
       "            </tr>\n",
       "    </tbody></table>"
      ],
      "text/plain": [
       "<pandas.io.formats.style.Styler at 0x1a1c0c3410>"
      ]
     },
     "metadata": {},
     "output_type": "display_data"
    }
   ],
   "source": [
    "print('In Arousal dimension...')\n",
    "compute_rmse_across_songs(os.path.join('temp_results','eda_regression_results_Arousal(mean).csv'))\n",
    "print('In Valence dimension...')\n",
    "compute_rmse_across_songs(os.path.join('temp_results','eda_regression_results_Valence(mean).csv'))"
   ]
  },
  {
   "cell_type": "markdown",
   "metadata": {},
   "source": [
    "### Multiple regressors on audio + EDA features"
   ]
  },
  {
   "cell_type": "code",
   "execution_count": null,
   "metadata": {},
   "outputs": [],
   "source": [
    "iftestset = fusion_dataset['musicId'].apply(lambda x: x in testsongs)\n",
    "testset = fusion_dataset[iftestset]\n",
    "trainset = fusion_dataset[~iftestset]\n",
    "prefunc = [StandardScaler()]\n",
    "featureNames = list(set(fusion_dataset.columns).difference({'subjectId', 'musicId', 'frameTime', \n",
    "                                                         'Arousal(mean)', 'Valence(mean)'}))\n",
    "print('In Arousal dimension...')\n",
    "regression_results(regressors, trainset, testset, featureNames, 'Arousal(mean)', 'mean_fusion', prefunc)\n",
    "\n",
    "print('In Valence dimension...')\n",
    "regression_results(regressors, trainset, testset, featureNames, 'Valence(mean)', 'mean_fusion', prefunc)"
   ]
  },
  {
   "cell_type": "code",
   "execution_count": null,
   "metadata": {},
   "outputs": [],
   "source": [
    "print('In Arousal dimension...')\n",
    "compute_rmse_across_songs(os.path.join('temp_results','mean_fusion_regression_results_Arousal(mean).csv'))\n",
    "print('In Valence dimension...')\n",
    "compute_rmse_across_songs(os.path.join('temp_results','mean_fusion_regression_results_Valence(mean).csv'))"
   ]
  }
 ],
 "metadata": {
  "kernelspec": {
   "display_name": "Python 3",
   "language": "python",
   "name": "python3"
  },
  "language_info": {
   "codemirror_mode": {
    "name": "ipython",
    "version": 3
   },
   "file_extension": ".py",
   "mimetype": "text/x-python",
   "name": "python",
   "nbconvert_exporter": "python",
   "pygments_lexer": "ipython3",
   "version": "3.7.5"
  }
 },
 "nbformat": 4,
 "nbformat_minor": 2
}
