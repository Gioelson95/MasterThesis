{
 "cells": [
  {
   "cell_type": "markdown",
   "metadata": {},
   "source": [
    "# Extract EDA Features for Static/Dynamic MER"
   ]
  },
  {
   "cell_type": "code",
   "execution_count": 11,
   "metadata": {},
   "outputs": [],
   "source": [
    "import pandas as pd\n",
    "import matplotlib.pyplot as plt\n",
    "import os\n",
    "import numpy as np\n",
    "import neurokit as nk\n",
    "from scipy import stats\n",
    "from tqdm import tqdm\n",
    "from sklearn.preprocessing import minmax_scale, scale\n",
    "from scipy.stats import kurtosis, skew\n",
    "from librosa.feature import mfcc"
   ]
  },
  {
   "cell_type": "code",
   "execution_count": 2,
   "metadata": {},
   "outputs": [],
   "source": [
    "def window_with_overlap(a, window, stride):\n",
    "    nrows = ((a.size-window)//stride)+1 # // floor division\n",
    "    n = a.strides[0]\n",
    "    # create a view into the array a with the given shape and strides\n",
    "    return np.lib.stride_tricks.as_strided(a, shape=(nrows,window), strides=(stride*n,n))\n",
    "\n",
    "def scr_features(times, phasic, SCR_Onsets, SCR_Peaks_Indexes, SCR_Peaks_Amplitudes):\n",
    "    features = {}\n",
    "    features['peakCount'] = len(SCR_Peaks_Indexes)\n",
    "    features['meanpeakAmplitude'] = np.mean(SCR_Peaks_Amplitudes)\n",
    "    RiseTime =  times[SCR_Peaks_Indexes] - times[SCR_Onsets]\n",
    "    features['MeanRiseTime'] = np.mean(RiseTime)\n",
    "    features['SumPeakAmplitude'] = np.sum(SCR_Peaks_Amplitudes)\n",
    "    features['SumRiseTime'] = np.sum(RiseTime)\n",
    "    features['SumAreas'] = np.trapz(phasic, x=times) # integrate along the axis using the composite trapezoidal rule\n",
    "    return features\n",
    "\n",
    "def time_domain_stats(times, signal):\n",
    "    features = {}\n",
    "    features['auc'] = np.trapz(signal, x=times) # auc = area under curve? integra il segnale nel tempo\n",
    "    features['meanEDA'] = np.mean(signal)\n",
    "    features['stdEDA'] = np.std(signal)\n",
    "    features['kurtEDA'] = kurtosis(signal) # measure of the \"tailedness\" of the probability distribution\n",
    "    features['skewEDA'] = skew(signal) # measure of the asymmetry of the probability distribution\n",
    "    features['meanDerivative'] = np.mean(np.gradient(signal))\n",
    "    features['meanNegativeDerivative'] = np.mean((0-np.gradient(signal)))\n",
    "    return features\n",
    "\n",
    "def frequency_domain_stats(frequency_signal, frequency):\n",
    "    features = {}\n",
    "    features['SMA_f'] = np.trapz(np.abs(frequency_signal), x=frequency)\n",
    "    features['meanEDA_f'] = np.mean(frequency_signal)\n",
    "    features['stdEDA_f'] = np.std(frequency_signal)\n",
    "    features['signalRange_f'] = frequency_signal.max() - frequency_signal.min()\n",
    "    features['kurtEDA_f'] = kurtosis(frequency_signal)\n",
    "    features['skewEDA_f'] = skew(frequency_signal)\n",
    "#     FrequencyDomain_Statistical['harmonicsSummation']\n",
    "    return features\n",
    "\n",
    "def band_power(frequency_signal, frequency):\n",
    "    features = {}\n",
    "    signal_inbands = frequency_signal[(frequency>=0) & (frequency<=0.5)]\n",
    "    features['signalEnergy'] = np.sum(np.abs(signal_inbands)**2)\n",
    "    band1 = frequency_signal[(frequency>=0) & (frequency<0.1)]\n",
    "    band2 = frequency_signal[(frequency>=0.1) & (frequency<0.2)]\n",
    "    band3 = frequency_signal[(frequency>=0.2) & (frequency<0.3)]\n",
    "    band4 = frequency_signal[(frequency>=0.3) & (frequency<0.4)]\n",
    "    band5 = frequency_signal[(frequency>=0.4) & (frequency<=0.5)]\n",
    "    bands = [band1, band2, band3, band4, band5]\n",
    "    bands_sp = np.zeros(len(bands))\n",
    "    for i, b in enumerate(bands):\n",
    "        sp = np.sum(b**2)\n",
    "        bands_sp[i] = sp\n",
    "        features['SpectralPower_band'+str(i+1)] = sp\n",
    "    features['minSpectralPower'] = np.min(bands_sp)\n",
    "    features['maxSpectralPower'] = np.max(bands_sp)\n",
    "    features['varSpectralPower'] = np.var(bands_sp)\n",
    "    \n",
    "    return features\n",
    "\n",
    "        \n",
    "def extract_eda_features(raw_eda, sampleRate=50, ifDynamic=False, window=50, stride=25):\n",
    "    normalized_data = minmax_scale(raw_eda.reshape(-1, 1)).reshape(-1,)\n",
    "    processed_results = nk.eda_process(normalized_data, sampling_rate=sampleRate) # automated processing of EDA signals using convex optimization\n",
    "\n",
    "    filtered_eda = processed_results['df']['EDA_Filtered']\n",
    "    tonic = processed_results['df']['EDA_Tonic']\n",
    "    phasic = processed_results['df']['EDA_Phasic']\n",
    "    \n",
    "    SCR_Onsets = processed_results['EDA']['SCR_Onsets']\n",
    "    SCR_Peaks_Indexes  = processed_results['EDA']['SCR_Peaks_Indexes']\n",
    "    SCR_Recovery_Indexes = processed_results['EDA']['SCR_Recovery_Indexes']\n",
    "    SCR_Peaks_Amplitudes = processed_results['EDA']['SCR_Peaks_Amplitudes']\n",
    "    \n",
    "    signal = phasic\n",
    "\n",
    "    times = np.arange(len(signal))/sampleRate # return evenly spaced values in all the signal\n",
    "\n",
    "    features = pd.DataFrame() # create a two-dimensional data structure\n",
    "    \n",
    "    # static features 33 dimension\n",
    "    if not ifDynamic:\n",
    "        eda_features = {}\n",
    "        # Time Domain: SCR Features, Statistical Features\n",
    "        SCR_Features = scr_features(times, phasic, SCR_Onsets, \n",
    "                                    SCR_Peaks_Indexes, SCR_Peaks_Amplitudes)\n",
    "        \n",
    "        TimeStats = time_domain_stats(times, signal)\n",
    "        # Frequency Domain: Statistical Features, Band Power\n",
    "        frequency_signal = np.abs(np.fft.fft(signal))\n",
    "        frequency = np.fft.fftfreq(signal.size, d=1/sampleRate)\n",
    "        FrequencyStats = frequency_domain_stats(frequency_signal, frequency)\n",
    "        BandPower = band_power(frequency_signal, frequency)\n",
    "        \n",
    "        eda_features.update(SCR_Features)\n",
    "        eda_features.update(TimeStats)\n",
    "        eda_features.update(FrequencyStats)\n",
    "        eda_features.update(BandPower)\n",
    "        \n",
    "        # Time-Frequency Domain: MFCC Features\n",
    "        n_mfcc = 20\n",
    "        mfccCoefficients = mfcc(signal.values, sr=sampleRate, n_mfcc=n_mfcc)\n",
    "        for i in range(n_mfcc):\n",
    "            mfccCoef = mfccCoefficients[i,:]\n",
    "            eda_features[f'meanMFCC[{i}]'] = np.mean(mfccCoef)\n",
    "            eda_features[f'stdMFCC[{i}]'] = np.std(mfccCoef)\n",
    "            eda_features[f'medianMFCC[{i}]'] = np.median(mfccCoef)\n",
    "            eda_features[f'kurtMFCC[{i}]'] = kurtosis(mfccCoef.reshape(-1,))\n",
    "            eda_features[f'skewMFCC[{i}]'] = skew(mfccCoef.reshape(-1,))\n",
    "        features = pd.DataFrame(data=eda_features, index=[0])\n",
    "        \n",
    "    else: # dynamic features\n",
    "        frames = window_with_overlap(signal, window, stride)\n",
    "        time_frames = window_with_overlap(times, window, stride)\n",
    "        \n",
    "        for fidx, frame in enumerate(frames):\n",
    "            eda_features = {}\n",
    "            frame_time = fidx*0.5+1\n",
    "            times = time_frames[fidx]\n",
    "            eda_features['frameTime'] = frame_time\n",
    "        \n",
    "            # Time Domain: Statistical Features\n",
    "            TimeStats = time_domain_stats(times, frame)\n",
    "            \n",
    "            # Frequency Domain: Statistical Features, Band Power\n",
    "            frequency_signal = np.abs(np.fft.fft(frame))\n",
    "            frequency = np.fft.fftfreq(frame.size, d=1/sampleRate)\n",
    "            FrequencyStats = frequency_domain_stats(frequency_signal, frequency)\n",
    "            BandPower = band_power(frequency_signal, frequency)\n",
    "\n",
    "            eda_features.update(TimeStats)\n",
    "            eda_features.update(FrequencyStats)\n",
    "            eda_features.update(BandPower)   \n",
    "\n",
    "            # Time-Frequency Domain: MFCC Features\n",
    "            n_mfcc = 20\n",
    "            mfccCoefficients = mfcc(frame, sr=sampleRate, n_mfcc=n_mfcc).reshape(-1,)\n",
    "            for i in range(mfccCoefficients.size):\n",
    "                eda_features[f'mfccCoefficient[{i}]'] = mfccCoefficients[i]\n",
    "            eda_features['meanMFCC'] = np.mean(mfccCoefficients)\n",
    "            eda_features['stdMFCC'] = np.std(mfccCoefficients)\n",
    "            eda_features['medianMFCC'] = np.median(mfccCoefficients)\n",
    "            eda_features['kurtMFCC'] = kurtosis(mfccCoefficients.reshape(-1,))\n",
    "            eda_features['skewMFCC'] = skew(mfccCoefficients.reshape(-1,))\n",
    "            features = features.append(pd.DataFrame(data=eda_features, index=[i]))\n",
    "        \n",
    "    return features\n"
   ]
  },
  {
   "cell_type": "markdown",
   "metadata": {},
   "source": [
    "## Compute the static EDA features for songs"
   ]
  },
  {
   "cell_type": "code",
   "execution_count": 4,
   "metadata": {
    "scrolled": true
   },
   "outputs": [
    {
     "name": "stderr",
     "output_type": "stream",
     "text": [
      "/Applications/anaconda3/lib/python3.7/site-packages/ipykernel_launcher.py:8: TqdmDeprecationWarning: This function will be removed in tqdm==5.0.0\n",
      "Please use `tqdm.notebook.tqdm` instead of `tqdm.tqdm_notebook`\n",
      "  \n"
     ]
    },
    {
     "data": {
      "application/vnd.jupyter.widget-view+json": {
       "model_id": "b19f2a96c35e44169405321d8bccc5aa",
       "version_major": 2,
       "version_minor": 0
      },
      "text/plain": [
       "HBox(children=(IntProgress(value=0, max=794), HTML(value='')))"
      ]
     },
     "metadata": {},
     "output_type": "display_data"
    },
    {
     "name": "stderr",
     "output_type": "stream",
     "text": [
      "/Applications/anaconda3/lib/python3.7/site-packages/numpy/core/fromnumeric.py:3257: RuntimeWarning: Mean of empty slice.\n",
      "  out=out, **kwargs)\n",
      "/Applications/anaconda3/lib/python3.7/site-packages/numpy/core/_methods.py:161: RuntimeWarning: invalid value encountered in double_scalars\n",
      "  ret = ret.dtype.type(ret / rcount)\n"
     ]
    },
    {
     "name": "stdout",
     "output_type": "stream",
     "text": [
      "\n"
     ]
    }
   ],
   "source": [
    "#dir_path = '/Users/huizhang/Desktop/PMEmo2.0/dataset2.0/eda/eda'\n",
    "dir_path = '/Users/gioelepozzi/Desktop/data/EDA'\n",
    "\n",
    "eda_files = [f for f in os.listdir(dir_path) if f[-4:]=='.csv']\n",
    "results = pd.DataFrame()\n",
    "# window = 50\n",
    "# stride = 25\n",
    "for f in tqdm(eda_files):\n",
    "# for f in ['1_EDA.csv', '4_EDA.csv']:\n",
    "    musicId = f.split('_')[0]\n",
    "    raw_eda = pd.read_csv(os.path.join(dir_path, f), index_col=0)\n",
    "#     row_num, col_num = raw_eda.shape[0], raw_eda.shape[1]-1\n",
    "\n",
    "    for c in raw_eda.columns:\n",
    "        subjectId = c[-6:]\n",
    "        features = extract_eda_features(raw_eda[c].values)\n",
    "        features['subjectId'] = subjectId\n",
    "        features['musicId'] = musicId\n",
    "        results = results.append(features)\n",
    "\n",
    "results.fillna(0)\n",
    "results.to_csv('EDA_features_static.csv', index=False, columns=['subjectId', 'musicId']+list(results.columns[:-2]))"
   ]
  },
  {
   "cell_type": "code",
   "execution_count": 9,
   "metadata": {
    "scrolled": true
   },
   "outputs": [],
   "source": [
    "eda_feature_set = pd.read_csv('EDA_features_static.csv')\n",
    "static_labels = pd.read_csv('/Users/gioelepozzi/Desktop/data/annotations/static_annotations.csv')\n",
    "eda_dataset = pd.merge(eda_feature_set, static_labels, on=['musicId']).dropna()\n",
    "eda_dataset.to_csv('eda_dataset.csv', index=False)"
   ]
  },
  {
   "cell_type": "markdown",
   "metadata": {},
   "source": [
    "## Compute the dynamic EDA features for songs"
   ]
  },
  {
   "cell_type": "code",
   "execution_count": 10,
   "metadata": {},
   "outputs": [
    {
     "name": "stderr",
     "output_type": "stream",
     "text": [
      "/Applications/anaconda3/lib/python3.7/site-packages/ipykernel_launcher.py:11: TqdmDeprecationWarning: This function will be removed in tqdm==5.0.0\n",
      "Please use `tqdm.notebook.tqdm` instead of `tqdm.tqdm_notebook`\n",
      "  # This is added back by InteractiveShellApp.init_path()\n"
     ]
    },
    {
     "data": {
      "application/vnd.jupyter.widget-view+json": {
       "model_id": "7580194af643435d83375399789fa482",
       "version_major": 2,
       "version_minor": 0
      },
      "text/plain": [
       "HBox(children=(IntProgress(value=0, max=794), HTML(value='')))"
      ]
     },
     "metadata": {},
     "output_type": "display_data"
    },
    {
     "ename": "KeyboardInterrupt",
     "evalue": "",
     "output_type": "error",
     "traceback": [
      "\u001b[0;31m---------------------------------------------------------------------------\u001b[0m",
      "\u001b[0;31mKeyboardInterrupt\u001b[0m                         Traceback (most recent call last)",
      "\u001b[0;32m<ipython-input-10-da4a84110891>\u001b[0m in \u001b[0;36m<module>\u001b[0;34m\u001b[0m\n\u001b[1;32m     16\u001b[0m     \u001b[0;32mfor\u001b[0m \u001b[0mc\u001b[0m \u001b[0;32min\u001b[0m \u001b[0mraw_eda\u001b[0m\u001b[0;34m.\u001b[0m\u001b[0mcolumns\u001b[0m\u001b[0;34m:\u001b[0m\u001b[0;34m\u001b[0m\u001b[0;34m\u001b[0m\u001b[0m\n\u001b[1;32m     17\u001b[0m         \u001b[0msubjectId\u001b[0m \u001b[0;34m=\u001b[0m \u001b[0mc\u001b[0m\u001b[0;34m\u001b[0m\u001b[0;34m\u001b[0m\u001b[0m\n\u001b[0;32m---> 18\u001b[0;31m         \u001b[0mfeatures\u001b[0m \u001b[0;34m=\u001b[0m \u001b[0mextract_eda_features\u001b[0m\u001b[0;34m(\u001b[0m\u001b[0mraw_eda\u001b[0m\u001b[0;34m[\u001b[0m\u001b[0mc\u001b[0m\u001b[0;34m]\u001b[0m\u001b[0;34m.\u001b[0m\u001b[0mvalues\u001b[0m\u001b[0;34m,\u001b[0m \u001b[0mifDynamic\u001b[0m\u001b[0;34m=\u001b[0m\u001b[0;32mTrue\u001b[0m\u001b[0;34m)\u001b[0m\u001b[0;34m\u001b[0m\u001b[0;34m\u001b[0m\u001b[0m\n\u001b[0m\u001b[1;32m     19\u001b[0m         \u001b[0mfeatures\u001b[0m\u001b[0;34m[\u001b[0m\u001b[0;34m'subjectId'\u001b[0m\u001b[0;34m]\u001b[0m \u001b[0;34m=\u001b[0m \u001b[0msubjectId\u001b[0m\u001b[0;34m\u001b[0m\u001b[0;34m\u001b[0m\u001b[0m\n\u001b[1;32m     20\u001b[0m         \u001b[0mfeatures\u001b[0m\u001b[0;34m[\u001b[0m\u001b[0;34m'musicId'\u001b[0m\u001b[0;34m]\u001b[0m \u001b[0;34m=\u001b[0m \u001b[0mmusicId\u001b[0m\u001b[0;34m\u001b[0m\u001b[0;34m\u001b[0m\u001b[0m\n",
      "\u001b[0;32m<ipython-input-2-2cbbf9374c4c>\u001b[0m in \u001b[0;36mextract_eda_features\u001b[0;34m(raw_eda, sampleRate, ifDynamic, window, stride)\u001b[0m\n\u001b[1;32m    143\u001b[0m             \u001b[0meda_features\u001b[0m\u001b[0;34m[\u001b[0m\u001b[0;34m'kurtMFCC'\u001b[0m\u001b[0;34m]\u001b[0m \u001b[0;34m=\u001b[0m \u001b[0mkurtosis\u001b[0m\u001b[0;34m(\u001b[0m\u001b[0mmfccCoefficients\u001b[0m\u001b[0;34m.\u001b[0m\u001b[0mreshape\u001b[0m\u001b[0;34m(\u001b[0m\u001b[0;34m-\u001b[0m\u001b[0;36m1\u001b[0m\u001b[0;34m,\u001b[0m\u001b[0;34m)\u001b[0m\u001b[0;34m)\u001b[0m\u001b[0;34m\u001b[0m\u001b[0;34m\u001b[0m\u001b[0m\n\u001b[1;32m    144\u001b[0m             \u001b[0meda_features\u001b[0m\u001b[0;34m[\u001b[0m\u001b[0;34m'skewMFCC'\u001b[0m\u001b[0;34m]\u001b[0m \u001b[0;34m=\u001b[0m \u001b[0mskew\u001b[0m\u001b[0;34m(\u001b[0m\u001b[0mmfccCoefficients\u001b[0m\u001b[0;34m.\u001b[0m\u001b[0mreshape\u001b[0m\u001b[0;34m(\u001b[0m\u001b[0;34m-\u001b[0m\u001b[0;36m1\u001b[0m\u001b[0;34m,\u001b[0m\u001b[0;34m)\u001b[0m\u001b[0;34m)\u001b[0m\u001b[0;34m\u001b[0m\u001b[0;34m\u001b[0m\u001b[0m\n\u001b[0;32m--> 145\u001b[0;31m             \u001b[0mfeatures\u001b[0m \u001b[0;34m=\u001b[0m \u001b[0mfeatures\u001b[0m\u001b[0;34m.\u001b[0m\u001b[0mappend\u001b[0m\u001b[0;34m(\u001b[0m\u001b[0mpd\u001b[0m\u001b[0;34m.\u001b[0m\u001b[0mDataFrame\u001b[0m\u001b[0;34m(\u001b[0m\u001b[0mdata\u001b[0m\u001b[0;34m=\u001b[0m\u001b[0meda_features\u001b[0m\u001b[0;34m,\u001b[0m \u001b[0mindex\u001b[0m\u001b[0;34m=\u001b[0m\u001b[0;34m[\u001b[0m\u001b[0mi\u001b[0m\u001b[0;34m]\u001b[0m\u001b[0;34m)\u001b[0m\u001b[0;34m)\u001b[0m\u001b[0;34m\u001b[0m\u001b[0;34m\u001b[0m\u001b[0m\n\u001b[0m\u001b[1;32m    146\u001b[0m \u001b[0;34m\u001b[0m\u001b[0m\n\u001b[1;32m    147\u001b[0m     \u001b[0;32mreturn\u001b[0m \u001b[0mfeatures\u001b[0m\u001b[0;34m\u001b[0m\u001b[0;34m\u001b[0m\u001b[0m\n",
      "\u001b[0;32m/Applications/anaconda3/lib/python3.7/site-packages/pandas/core/frame.py\u001b[0m in \u001b[0;36m__init__\u001b[0;34m(self, data, index, columns, dtype, copy)\u001b[0m\n\u001b[1;32m    409\u001b[0m             )\n\u001b[1;32m    410\u001b[0m         \u001b[0;32melif\u001b[0m \u001b[0misinstance\u001b[0m\u001b[0;34m(\u001b[0m\u001b[0mdata\u001b[0m\u001b[0;34m,\u001b[0m \u001b[0mdict\u001b[0m\u001b[0;34m)\u001b[0m\u001b[0;34m:\u001b[0m\u001b[0;34m\u001b[0m\u001b[0;34m\u001b[0m\u001b[0m\n\u001b[0;32m--> 411\u001b[0;31m             \u001b[0mmgr\u001b[0m \u001b[0;34m=\u001b[0m \u001b[0minit_dict\u001b[0m\u001b[0;34m(\u001b[0m\u001b[0mdata\u001b[0m\u001b[0;34m,\u001b[0m \u001b[0mindex\u001b[0m\u001b[0;34m,\u001b[0m \u001b[0mcolumns\u001b[0m\u001b[0;34m,\u001b[0m \u001b[0mdtype\u001b[0m\u001b[0;34m=\u001b[0m\u001b[0mdtype\u001b[0m\u001b[0;34m)\u001b[0m\u001b[0;34m\u001b[0m\u001b[0;34m\u001b[0m\u001b[0m\n\u001b[0m\u001b[1;32m    412\u001b[0m         \u001b[0;32melif\u001b[0m \u001b[0misinstance\u001b[0m\u001b[0;34m(\u001b[0m\u001b[0mdata\u001b[0m\u001b[0;34m,\u001b[0m \u001b[0mma\u001b[0m\u001b[0;34m.\u001b[0m\u001b[0mMaskedArray\u001b[0m\u001b[0;34m)\u001b[0m\u001b[0;34m:\u001b[0m\u001b[0;34m\u001b[0m\u001b[0;34m\u001b[0m\u001b[0m\n\u001b[1;32m    413\u001b[0m             \u001b[0;32mimport\u001b[0m \u001b[0mnumpy\u001b[0m\u001b[0;34m.\u001b[0m\u001b[0mma\u001b[0m\u001b[0;34m.\u001b[0m\u001b[0mmrecords\u001b[0m \u001b[0;32mas\u001b[0m \u001b[0mmrecords\u001b[0m\u001b[0;34m\u001b[0m\u001b[0;34m\u001b[0m\u001b[0m\n",
      "\u001b[0;32m/Applications/anaconda3/lib/python3.7/site-packages/pandas/core/internals/construction.py\u001b[0m in \u001b[0;36minit_dict\u001b[0;34m(data, index, columns, dtype)\u001b[0m\n\u001b[1;32m    245\u001b[0m     \u001b[0;32melse\u001b[0m\u001b[0;34m:\u001b[0m\u001b[0;34m\u001b[0m\u001b[0;34m\u001b[0m\u001b[0m\n\u001b[1;32m    246\u001b[0m         \u001b[0mkeys\u001b[0m \u001b[0;34m=\u001b[0m \u001b[0mcom\u001b[0m\u001b[0;34m.\u001b[0m\u001b[0mdict_keys_to_ordered_list\u001b[0m\u001b[0;34m(\u001b[0m\u001b[0mdata\u001b[0m\u001b[0;34m)\u001b[0m\u001b[0;34m\u001b[0m\u001b[0;34m\u001b[0m\u001b[0m\n\u001b[0;32m--> 247\u001b[0;31m         \u001b[0mcolumns\u001b[0m \u001b[0;34m=\u001b[0m \u001b[0mdata_names\u001b[0m \u001b[0;34m=\u001b[0m \u001b[0mIndex\u001b[0m\u001b[0;34m(\u001b[0m\u001b[0mkeys\u001b[0m\u001b[0;34m)\u001b[0m\u001b[0;34m\u001b[0m\u001b[0;34m\u001b[0m\u001b[0m\n\u001b[0m\u001b[1;32m    248\u001b[0m         \u001b[0marrays\u001b[0m \u001b[0;34m=\u001b[0m \u001b[0;34m(\u001b[0m\u001b[0mcom\u001b[0m\u001b[0;34m.\u001b[0m\u001b[0mmaybe_iterable_to_list\u001b[0m\u001b[0;34m(\u001b[0m\u001b[0mdata\u001b[0m\u001b[0;34m[\u001b[0m\u001b[0mk\u001b[0m\u001b[0;34m]\u001b[0m\u001b[0;34m)\u001b[0m \u001b[0;32mfor\u001b[0m \u001b[0mk\u001b[0m \u001b[0;32min\u001b[0m \u001b[0mkeys\u001b[0m\u001b[0;34m)\u001b[0m\u001b[0;34m\u001b[0m\u001b[0;34m\u001b[0m\u001b[0m\n\u001b[1;32m    249\u001b[0m         \u001b[0;31m# GH#24096 need copy to be deep for datetime64tz case\u001b[0m\u001b[0;34m\u001b[0m\u001b[0;34m\u001b[0m\u001b[0;34m\u001b[0m\u001b[0m\n",
      "\u001b[0;32m/Applications/anaconda3/lib/python3.7/site-packages/pandas/core/indexes/base.py\u001b[0m in \u001b[0;36m__new__\u001b[0;34m(cls, data, dtype, copy, name, fastpath, tupleize_cols, **kwargs)\u001b[0m\n\u001b[1;32m    533\u001b[0m                     )\n\u001b[1;32m    534\u001b[0m             \u001b[0;31m# other iterable of some kind\u001b[0m\u001b[0;34m\u001b[0m\u001b[0;34m\u001b[0m\u001b[0;34m\u001b[0m\u001b[0m\n\u001b[0;32m--> 535\u001b[0;31m             \u001b[0msubarr\u001b[0m \u001b[0;34m=\u001b[0m \u001b[0mcom\u001b[0m\u001b[0;34m.\u001b[0m\u001b[0masarray_tuplesafe\u001b[0m\u001b[0;34m(\u001b[0m\u001b[0mdata\u001b[0m\u001b[0;34m,\u001b[0m \u001b[0mdtype\u001b[0m\u001b[0;34m=\u001b[0m\u001b[0mobject\u001b[0m\u001b[0;34m)\u001b[0m\u001b[0;34m\u001b[0m\u001b[0;34m\u001b[0m\u001b[0m\n\u001b[0m\u001b[1;32m    536\u001b[0m             \u001b[0;32mreturn\u001b[0m \u001b[0mIndex\u001b[0m\u001b[0;34m(\u001b[0m\u001b[0msubarr\u001b[0m\u001b[0;34m,\u001b[0m \u001b[0mdtype\u001b[0m\u001b[0;34m=\u001b[0m\u001b[0mdtype\u001b[0m\u001b[0;34m,\u001b[0m \u001b[0mcopy\u001b[0m\u001b[0;34m=\u001b[0m\u001b[0mcopy\u001b[0m\u001b[0;34m,\u001b[0m \u001b[0mname\u001b[0m\u001b[0;34m=\u001b[0m\u001b[0mname\u001b[0m\u001b[0;34m,\u001b[0m \u001b[0;34m**\u001b[0m\u001b[0mkwargs\u001b[0m\u001b[0;34m)\u001b[0m\u001b[0;34m\u001b[0m\u001b[0;34m\u001b[0m\u001b[0m\n\u001b[1;32m    537\u001b[0m \u001b[0;34m\u001b[0m\u001b[0m\n",
      "\u001b[0;32m/Applications/anaconda3/lib/python3.7/site-packages/pandas/core/common.py\u001b[0m in \u001b[0;36masarray_tuplesafe\u001b[0;34m(values, dtype)\u001b[0m\n\u001b[1;32m    246\u001b[0m \u001b[0;34m\u001b[0m\u001b[0m\n\u001b[1;32m    247\u001b[0m     \u001b[0;32mif\u001b[0m \u001b[0misinstance\u001b[0m\u001b[0;34m(\u001b[0m\u001b[0mvalues\u001b[0m\u001b[0;34m,\u001b[0m \u001b[0mlist\u001b[0m\u001b[0;34m)\u001b[0m \u001b[0;32mand\u001b[0m \u001b[0mdtype\u001b[0m \u001b[0;32min\u001b[0m \u001b[0;34m[\u001b[0m\u001b[0mnp\u001b[0m\u001b[0;34m.\u001b[0m\u001b[0mobject_\u001b[0m\u001b[0;34m,\u001b[0m \u001b[0mobject\u001b[0m\u001b[0;34m]\u001b[0m\u001b[0;34m:\u001b[0m\u001b[0;34m\u001b[0m\u001b[0;34m\u001b[0m\u001b[0m\n\u001b[0;32m--> 248\u001b[0;31m         \u001b[0;32mreturn\u001b[0m \u001b[0mconstruct_1d_object_array_from_listlike\u001b[0m\u001b[0;34m(\u001b[0m\u001b[0mvalues\u001b[0m\u001b[0;34m)\u001b[0m\u001b[0;34m\u001b[0m\u001b[0;34m\u001b[0m\u001b[0m\n\u001b[0m\u001b[1;32m    249\u001b[0m \u001b[0;34m\u001b[0m\u001b[0m\n\u001b[1;32m    250\u001b[0m     \u001b[0mresult\u001b[0m \u001b[0;34m=\u001b[0m \u001b[0mnp\u001b[0m\u001b[0;34m.\u001b[0m\u001b[0masarray\u001b[0m\u001b[0;34m(\u001b[0m\u001b[0mvalues\u001b[0m\u001b[0;34m,\u001b[0m \u001b[0mdtype\u001b[0m\u001b[0;34m=\u001b[0m\u001b[0mdtype\u001b[0m\u001b[0;34m)\u001b[0m\u001b[0;34m\u001b[0m\u001b[0;34m\u001b[0m\u001b[0m\n",
      "\u001b[0;32m/Applications/anaconda3/lib/python3.7/site-packages/pandas/core/dtypes/cast.py\u001b[0m in \u001b[0;36mconstruct_1d_object_array_from_listlike\u001b[0;34m(values)\u001b[0m\n\u001b[1;32m   1258\u001b[0m     \u001b[0;31m# making a 1D array that contains list-likes is a bit tricky:\u001b[0m\u001b[0;34m\u001b[0m\u001b[0;34m\u001b[0m\u001b[0;34m\u001b[0m\u001b[0m\n\u001b[1;32m   1259\u001b[0m     \u001b[0mresult\u001b[0m \u001b[0;34m=\u001b[0m \u001b[0mnp\u001b[0m\u001b[0;34m.\u001b[0m\u001b[0mempty\u001b[0m\u001b[0;34m(\u001b[0m\u001b[0mlen\u001b[0m\u001b[0;34m(\u001b[0m\u001b[0mvalues\u001b[0m\u001b[0;34m)\u001b[0m\u001b[0;34m,\u001b[0m \u001b[0mdtype\u001b[0m\u001b[0;34m=\u001b[0m\u001b[0;34m\"object\"\u001b[0m\u001b[0;34m)\u001b[0m\u001b[0;34m\u001b[0m\u001b[0;34m\u001b[0m\u001b[0m\n\u001b[0;32m-> 1260\u001b[0;31m     \u001b[0mresult\u001b[0m\u001b[0;34m[\u001b[0m\u001b[0;34m:\u001b[0m\u001b[0;34m]\u001b[0m \u001b[0;34m=\u001b[0m \u001b[0mvalues\u001b[0m\u001b[0;34m\u001b[0m\u001b[0;34m\u001b[0m\u001b[0m\n\u001b[0m\u001b[1;32m   1261\u001b[0m     \u001b[0;32mreturn\u001b[0m \u001b[0mresult\u001b[0m\u001b[0;34m\u001b[0m\u001b[0;34m\u001b[0m\u001b[0m\n\u001b[1;32m   1262\u001b[0m \u001b[0;34m\u001b[0m\u001b[0m\n",
      "\u001b[0;31mKeyboardInterrupt\u001b[0m: "
     ]
    }
   ],
   "source": [
    "import warnings\n",
    "warnings.filterwarnings(\"ignore\", category=FutureWarning)\n",
    "\n",
    "eda_files = [f for f in os.listdir(dir_path) if f[-4:]=='.csv']\n",
    "results = pd.DataFrame()\n",
    "\n",
    "# window = 50\n",
    "# stride = 25\n",
    "\n",
    "for f in tqdm(eda_files):\n",
    "# for f in ['1_EDA.csv', '4_EDA.csv']:\n",
    "    musicId = f.split('_')[0]\n",
    "    raw_eda = pd.read_csv(os.path.join(dir_path, f), index_col=0)\n",
    "\n",
    "    for c in raw_eda.columns:\n",
    "        subjectId = c\n",
    "        features = extract_eda_features(raw_eda[c].values, ifDynamic=True)\n",
    "        features['subjectId'] = subjectId\n",
    "        features['musicId'] = musicId\n",
    "        results = results.append(features)\n",
    "\n",
    "results.fillna(0)\n",
    "results.to_csv('EDA_features_dynamic.csv', index=False, columns=['subjectId', 'musicId']+list(results.columns[:-2]))"
   ]
  }
 ],
 "metadata": {
  "kernelspec": {
   "display_name": "Python 3",
   "language": "python",
   "name": "python3"
  },
  "language_info": {
   "codemirror_mode": {
    "name": "ipython",
    "version": 3
   },
   "file_extension": ".py",
   "mimetype": "text/x-python",
   "name": "python",
   "nbconvert_exporter": "python",
   "pygments_lexer": "ipython3",
   "version": "3.7.5"
  },
  "toc": {
   "base_numbering": 1,
   "nav_menu": {},
   "number_sections": true,
   "sideBar": true,
   "skip_h1_title": true,
   "title_cell": "Table of Contents",
   "title_sidebar": "Contents",
   "toc_cell": false,
   "toc_position": {},
   "toc_section_display": true,
   "toc_window_display": true
  }
 },
 "nbformat": 4,
 "nbformat_minor": 2
}
