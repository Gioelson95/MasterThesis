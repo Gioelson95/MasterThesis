{
 "cells": [
  {
   "cell_type": "markdown",
   "metadata": {},
   "source": [
    "# Extract EDA Features for Static/Dynamic MER"
   ]
  },
  {
   "cell_type": "code",
   "execution_count": 6,
   "metadata": {},
   "outputs": [],
   "source": [
    "import pandas as pd\n",
    "import matplotlib.pyplot as plt\n",
    "import os\n",
    "import numpy as np\n",
    "import neurokit as nk\n",
    "from scipy import stats\n",
    "from tqdm import tqdm_notebook\n",
    "from sklearn.preprocessing import minmax_scale, scale\n",
    "from scipy.stats import kurtosis, skew\n",
    "from librosa.feature import mfcc"
   ]
  },
  {
   "cell_type": "code",
   "execution_count": 7,
   "metadata": {},
   "outputs": [],
   "source": [
    "def window_with_overlap(a, window, stride):\n",
    "    nrows = ((a.size-window)//stride)+1 # // floor division\n",
    "    n = a.strides[0]\n",
    "    # create a view into the array a with the given shape and strides\n",
    "    return np.lib.stride_tricks.as_strided(a, shape=(nrows,window), strides=(stride*n,n))\n",
    "\n",
    "def scr_features(times, phasic, SCR_Onsets, SCR_Peaks_Indexes, SCR_Peaks_Amplitudes):\n",
    "    features = {}\n",
    "    features['peakCount'] = len(SCR_Peaks_Indexes)\n",
    "    features['meanpeakAmplitude'] = np.mean(SCR_Peaks_Amplitudes)\n",
    "    RiseTime =  times[SCR_Peaks_Indexes] - times[SCR_Onsets]\n",
    "    features['MeanRiseTime'] = np.mean(RiseTime)\n",
    "    features['SumPeakAmplitude'] = np.sum(SCR_Peaks_Amplitudes)\n",
    "    features['SumRiseTime'] = np.sum(RiseTime)\n",
    "    features['SumAreas'] = np.trapz(phasic, x=times) # integrate along the axis using the composite trapezoidal rule\n",
    "    return features\n",
    "\n",
    "def time_domain_stats(times, signal):\n",
    "    features = {}\n",
    "    features['auc'] = np.trapz(signal, x=times) # auc = area under curve? integra il segnale nel tempo\n",
    "    features['meanEDA'] = np.mean(signal)\n",
    "    features['stdEDA'] = np.std(signal)\n",
    "    features['kurtEDA'] = kurtosis(signal) # measure of the \"tailedness\" of the probability distribution\n",
    "    features['skewEDA'] = skew(signal) # measure of the asymmetry of the probability distribution\n",
    "    features['meanDerivative'] = np.mean(np.gradient(signal))\n",
    "    features['meanNegativeDerivative'] = np.mean((0-np.gradient(signal)))\n",
    "    return features\n",
    "\n",
    "def frequency_domain_stats(frequency_signal, frequency):\n",
    "    features = {}\n",
    "    features['SMA_f'] = np.trapz(np.abs(frequency_signal), x=frequency)\n",
    "    features['meanEDA_f'] = np.mean(frequency_signal)\n",
    "    features['stdEDA_f'] = np.std(frequency_signal)\n",
    "    features['signalRange_f'] = frequency_signal.max() - frequency_signal.min()\n",
    "    features['kurtEDA_f'] = kurtosis(frequency_signal)\n",
    "    features['skewEDA_f'] = skew(frequency_signal)\n",
    "#     FrequencyDomain_Statistical['harmonicsSummation']\n",
    "    return features\n",
    "\n",
    "def band_power(frequency_signal, frequency):\n",
    "    features = {}\n",
    "    signal_inbands = frequency_signal[(frequency>=0) & (frequency<=0.5)]\n",
    "    features['signalEnergy'] = np.sum(np.abs(signal_inbands)**2)\n",
    "    band1 = frequency_signal[(frequency>=0) & (frequency<0.1)]\n",
    "    band2 = frequency_signal[(frequency>=0.1) & (frequency<0.2)]\n",
    "    band3 = frequency_signal[(frequency>=0.2) & (frequency<0.3)]\n",
    "    band4 = frequency_signal[(frequency>=0.3) & (frequency<0.4)]\n",
    "    band5 = frequency_signal[(frequency>=0.4) & (frequency<=0.5)]\n",
    "    bands = [band1, band2, band3, band4, band5]\n",
    "    bands_sp = np.zeros(len(bands))\n",
    "    for i, b in enumerate(bands):\n",
    "        sp = np.sum(b**2)\n",
    "        bands_sp[i] = sp\n",
    "        features['SpectralPower_band'+str(i+1)] = sp\n",
    "    features['minSpectralPower'] = np.min(bands_sp)\n",
    "    features['maxSpectralPower'] = np.max(bands_sp)\n",
    "    features['varSpectralPower'] = np.var(bands_sp)\n",
    "    \n",
    "    return features\n",
    "\n",
    "        \n",
    "def extract_eda_features(raw_eda, sampleRate=50, ifDynamic=False, window=50, stride=25):\n",
    "    normalized_data = minmax_scale(raw_eda.reshape(-1, 1)).reshape(-1,)\n",
    "    processed_results = nk.eda_process(normalized_data, sampling_rate=sampleRate) # automated processing of EDA signals using convex optimization\n",
    "\n",
    "    filtered_eda = processed_results['df']['EDA_Filtered']\n",
    "    tonic = processed_results['df']['EDA_Tonic']\n",
    "    phasic = processed_results['df']['EDA_Phasic']\n",
    "    \n",
    "    SCR_Onsets = processed_results['EDA']['SCR_Onsets']\n",
    "    SCR_Peaks_Indexes  = processed_results['EDA']['SCR_Peaks_Indexes']\n",
    "    SCR_Recovery_Indexes = processed_results['EDA']['SCR_Recovery_Indexes']\n",
    "    SCR_Peaks_Amplitudes = processed_results['EDA']['SCR_Peaks_Amplitudes']\n",
    "    \n",
    "    signal = phasic\n",
    "    times = np.arange(len(signal))/sampleRate # return evenly spaced values in all the signal\n",
    "\n",
    "    features = pd.DataFrame() # create a two-dimensional data structure\n",
    "    \n",
    "    # static features 33 dimension\n",
    "    if not ifDynamic:\n",
    "        eda_features = {}\n",
    "        # Time Domain: SCR Features, Statistical Features\n",
    "        SCR_Features = scr_features(times, phasic, SCR_Onsets, \n",
    "                                    SCR_Peaks_Indexes, SCR_Peaks_Amplitudes)\n",
    "        \n",
    "        TimeStats = time_domain_stats(times, signal)\n",
    "        # Frequency Domain: Statistical Features, Band Power\n",
    "        frequency_signal = np.abs(np.fft.fft(signal))\n",
    "        frequency = np.fft.fftfreq(signal.size, d=1/sampleRate)\n",
    "        FrequencyStats = frequency_domain_stats(frequency_signal, frequency)\n",
    "        BandPower = band_power(frequency_signal, frequency)\n",
    "        \n",
    "        eda_features.update(SCR_Features)\n",
    "        eda_features.update(TimeStats)\n",
    "        eda_features.update(FrequencyStats)\n",
    "        eda_features.update(BandPower)\n",
    "        \n",
    "        # Time-Frequency Domain: MFCC Features\n",
    "        n_mfcc = 20\n",
    "        mfccCoefficients = mfcc(signal.values, sr=sampleRate, n_mfcc=n_mfcc)\n",
    "        for i in range(n_mfcc):\n",
    "            mfccCoef = mfccCoefficients[i,:]\n",
    "            eda_features[f'meanMFCC[{i}]'] = np.mean(mfccCoef)\n",
    "            eda_features[f'stdMFCC[{i}]'] = np.std(mfccCoef)\n",
    "            eda_features[f'medianMFCC[{i}]'] = np.median(mfccCoef)\n",
    "            eda_features[f'kurtMFCC[{i}]'] = kurtosis(mfccCoef.reshape(-1,))\n",
    "            eda_features[f'skewMFCC[{i}]'] = skew(mfccCoef.reshape(-1,))\n",
    "        features = pd.DataFrame(data=eda_features, index=[0])\n",
    "        \n",
    "    else: # dynamic features\n",
    "        frames = window_with_overlap(signal, window, stride)\n",
    "        time_frames = window_with_overlap(times, window, stride)\n",
    "        \n",
    "        for fidx, frame in enumerate(frames):\n",
    "            eda_features = {}\n",
    "            frame_time = fidx*0.5+1\n",
    "            times = time_frames[fidx]\n",
    "            eda_features['frameTime'] = frame_time\n",
    "        \n",
    "            # Time Domain: Statistical Features\n",
    "            TimeStats = time_domain_stats(times, frame)\n",
    "            \n",
    "            # Frequency Domain: Statistical Features, Band Power\n",
    "            frequency_signal = np.abs(np.fft.fft(frame))\n",
    "            frequency = np.fft.fftfreq(frame.size, d=1/sampleRate)\n",
    "            FrequencyStats = frequency_domain_stats(frequency_signal, frequency)\n",
    "            BandPower = band_power(frequency_signal, frequency)\n",
    "\n",
    "            eda_features.update(TimeStats)\n",
    "            eda_features.update(FrequencyStats)\n",
    "            eda_features.update(BandPower)   \n",
    "\n",
    "            # Time-Frequency Domain: MFCC Features\n",
    "            n_mfcc = 20\n",
    "            mfccCoefficients = mfcc(frame, sr=sampleRate, n_mfcc=n_mfcc).reshape(-1,)\n",
    "            for i in range(mfccCoefficients.size):\n",
    "                eda_features[f'mfccCoefficient[{i}]'] = mfccCoefficients[i]\n",
    "            eda_features['meanMFCC'] = np.mean(mfccCoefficients)\n",
    "            eda_features['stdMFCC'] = np.std(mfccCoefficients)\n",
    "            eda_features['medianMFCC'] = np.median(mfccCoefficients)\n",
    "            eda_features['kurtMFCC'] = kurtosis(mfccCoefficients.reshape(-1,))\n",
    "            eda_features['skewMFCC'] = skew(mfccCoefficients.reshape(-1,))\n",
    "            features = features.append(pd.DataFrame(data=eda_features, index=[i]))\n",
    "        \n",
    "    return features\n"
   ]
  },
  {
   "cell_type": "markdown",
   "metadata": {},
   "source": [
    "## Compute the static EDA features for songs"
   ]
  },
  {
   "cell_type": "code",
   "execution_count": 8,
   "metadata": {
    "scrolled": true
   },
   "outputs": [
    {
     "data": {
      "application/vnd.jupyter.widget-view+json": {
       "model_id": "527280d332e44be0a96a8faeb23c17cc",
       "version_major": 2,
       "version_minor": 0
      },
      "text/plain": [
       "HBox(children=(IntProgress(value=0, max=5), HTML(value='')))"
      ]
     },
     "metadata": {},
     "output_type": "display_data"
    },
    {
     "name": "stdout",
     "output_type": "stream",
     "text": [
      "\n"
     ]
    },
    {
     "ename": "ValueError",
     "evalue": "could not convert string to float: 'neteaseId'",
     "output_type": "error",
     "traceback": [
      "\u001b[0;31m---------------------------------------------------------------------------\u001b[0m",
      "\u001b[0;31mValueError\u001b[0m                                Traceback (most recent call last)",
      "\u001b[0;32m<ipython-input-8-9f8a53d9dcc1>\u001b[0m in \u001b[0;36m<module>\u001b[0;34m\u001b[0m\n\u001b[1;32m     14\u001b[0m     \u001b[0;32mfor\u001b[0m \u001b[0mc\u001b[0m \u001b[0;32min\u001b[0m \u001b[0mraw_eda\u001b[0m\u001b[0;34m.\u001b[0m\u001b[0mcolumns\u001b[0m\u001b[0;34m:\u001b[0m\u001b[0;34m\u001b[0m\u001b[0;34m\u001b[0m\u001b[0m\n\u001b[1;32m     15\u001b[0m         \u001b[0msubjectId\u001b[0m \u001b[0;34m=\u001b[0m \u001b[0mc\u001b[0m\u001b[0;34m[\u001b[0m\u001b[0;34m-\u001b[0m\u001b[0;36m6\u001b[0m\u001b[0;34m:\u001b[0m\u001b[0;34m]\u001b[0m\u001b[0;34m\u001b[0m\u001b[0;34m\u001b[0m\u001b[0m\n\u001b[0;32m---> 16\u001b[0;31m         \u001b[0mfeatures\u001b[0m \u001b[0;34m=\u001b[0m \u001b[0mextract_eda_features\u001b[0m\u001b[0;34m(\u001b[0m\u001b[0mraw_eda\u001b[0m\u001b[0;34m[\u001b[0m\u001b[0mc\u001b[0m\u001b[0;34m]\u001b[0m\u001b[0;34m.\u001b[0m\u001b[0mvalues\u001b[0m\u001b[0;34m)\u001b[0m\u001b[0;34m\u001b[0m\u001b[0;34m\u001b[0m\u001b[0m\n\u001b[0m\u001b[1;32m     17\u001b[0m         \u001b[0mfeatures\u001b[0m\u001b[0;34m[\u001b[0m\u001b[0;34m'subjectId'\u001b[0m\u001b[0;34m]\u001b[0m \u001b[0;34m=\u001b[0m \u001b[0msubjectId\u001b[0m\u001b[0;34m\u001b[0m\u001b[0;34m\u001b[0m\u001b[0m\n\u001b[1;32m     18\u001b[0m         \u001b[0mfeatures\u001b[0m\u001b[0;34m[\u001b[0m\u001b[0;34m'musicId'\u001b[0m\u001b[0;34m]\u001b[0m \u001b[0;34m=\u001b[0m \u001b[0mmusicId\u001b[0m\u001b[0;34m\u001b[0m\u001b[0;34m\u001b[0m\u001b[0m\n",
      "\u001b[0;32m<ipython-input-7-ea10872d2271>\u001b[0m in \u001b[0;36mextract_eda_features\u001b[0;34m(raw_eda, sampleRate, ifDynamic, window, stride)\u001b[0m\n\u001b[1;32m     61\u001b[0m \u001b[0;34m\u001b[0m\u001b[0m\n\u001b[1;32m     62\u001b[0m \u001b[0;32mdef\u001b[0m \u001b[0mextract_eda_features\u001b[0m\u001b[0;34m(\u001b[0m\u001b[0mraw_eda\u001b[0m\u001b[0;34m,\u001b[0m \u001b[0msampleRate\u001b[0m\u001b[0;34m=\u001b[0m\u001b[0;36m50\u001b[0m\u001b[0;34m,\u001b[0m \u001b[0mifDynamic\u001b[0m\u001b[0;34m=\u001b[0m\u001b[0;32mFalse\u001b[0m\u001b[0;34m,\u001b[0m \u001b[0mwindow\u001b[0m\u001b[0;34m=\u001b[0m\u001b[0;36m50\u001b[0m\u001b[0;34m,\u001b[0m \u001b[0mstride\u001b[0m\u001b[0;34m=\u001b[0m\u001b[0;36m25\u001b[0m\u001b[0;34m)\u001b[0m\u001b[0;34m:\u001b[0m\u001b[0;34m\u001b[0m\u001b[0;34m\u001b[0m\u001b[0m\n\u001b[0;32m---> 63\u001b[0;31m     \u001b[0mnormalized_data\u001b[0m \u001b[0;34m=\u001b[0m \u001b[0mminmax_scale\u001b[0m\u001b[0;34m(\u001b[0m\u001b[0mraw_eda\u001b[0m\u001b[0;34m.\u001b[0m\u001b[0mreshape\u001b[0m\u001b[0;34m(\u001b[0m\u001b[0;34m-\u001b[0m\u001b[0;36m1\u001b[0m\u001b[0;34m,\u001b[0m \u001b[0;36m1\u001b[0m\u001b[0;34m)\u001b[0m\u001b[0;34m)\u001b[0m\u001b[0;34m.\u001b[0m\u001b[0mreshape\u001b[0m\u001b[0;34m(\u001b[0m\u001b[0;34m-\u001b[0m\u001b[0;36m1\u001b[0m\u001b[0;34m,\u001b[0m\u001b[0;34m)\u001b[0m\u001b[0;34m\u001b[0m\u001b[0;34m\u001b[0m\u001b[0m\n\u001b[0m\u001b[1;32m     64\u001b[0m     \u001b[0mprocessed_results\u001b[0m \u001b[0;34m=\u001b[0m \u001b[0mnk\u001b[0m\u001b[0;34m.\u001b[0m\u001b[0meda_process\u001b[0m\u001b[0;34m(\u001b[0m\u001b[0mnormalized_data\u001b[0m\u001b[0;34m,\u001b[0m \u001b[0msampling_rate\u001b[0m\u001b[0;34m=\u001b[0m\u001b[0msampleRate\u001b[0m\u001b[0;34m)\u001b[0m \u001b[0;31m# automated processing of EDA signals using convex optimization\u001b[0m\u001b[0;34m\u001b[0m\u001b[0;34m\u001b[0m\u001b[0m\n\u001b[1;32m     65\u001b[0m \u001b[0;34m\u001b[0m\u001b[0m\n",
      "\u001b[0;32m/Applications/anaconda3/lib/python3.7/site-packages/sklearn/preprocessing/data.py\u001b[0m in \u001b[0;36mminmax_scale\u001b[0;34m(X, feature_range, axis, copy)\u001b[0m\n\u001b[1;32m    470\u001b[0m     \u001b[0;31m# If copy is required, it will be done inside the scaler object.\u001b[0m\u001b[0;34m\u001b[0m\u001b[0;34m\u001b[0m\u001b[0;34m\u001b[0m\u001b[0m\n\u001b[1;32m    471\u001b[0m     X = check_array(X, copy=False, ensure_2d=False,\n\u001b[0;32m--> 472\u001b[0;31m                     dtype=FLOAT_DTYPES, force_all_finite='allow-nan')\n\u001b[0m\u001b[1;32m    473\u001b[0m     \u001b[0moriginal_ndim\u001b[0m \u001b[0;34m=\u001b[0m \u001b[0mX\u001b[0m\u001b[0;34m.\u001b[0m\u001b[0mndim\u001b[0m\u001b[0;34m\u001b[0m\u001b[0;34m\u001b[0m\u001b[0m\n\u001b[1;32m    474\u001b[0m \u001b[0;34m\u001b[0m\u001b[0m\n",
      "\u001b[0;32m/Applications/anaconda3/lib/python3.7/site-packages/sklearn/utils/validation.py\u001b[0m in \u001b[0;36mcheck_array\u001b[0;34m(array, accept_sparse, accept_large_sparse, dtype, order, copy, force_all_finite, ensure_2d, allow_nd, ensure_min_samples, ensure_min_features, warn_on_dtype, estimator)\u001b[0m\n\u001b[1;32m    494\u001b[0m             \u001b[0;32mtry\u001b[0m\u001b[0;34m:\u001b[0m\u001b[0;34m\u001b[0m\u001b[0;34m\u001b[0m\u001b[0m\n\u001b[1;32m    495\u001b[0m                 \u001b[0mwarnings\u001b[0m\u001b[0;34m.\u001b[0m\u001b[0msimplefilter\u001b[0m\u001b[0;34m(\u001b[0m\u001b[0;34m'error'\u001b[0m\u001b[0;34m,\u001b[0m \u001b[0mComplexWarning\u001b[0m\u001b[0;34m)\u001b[0m\u001b[0;34m\u001b[0m\u001b[0;34m\u001b[0m\u001b[0m\n\u001b[0;32m--> 496\u001b[0;31m                 \u001b[0marray\u001b[0m \u001b[0;34m=\u001b[0m \u001b[0mnp\u001b[0m\u001b[0;34m.\u001b[0m\u001b[0masarray\u001b[0m\u001b[0;34m(\u001b[0m\u001b[0marray\u001b[0m\u001b[0;34m,\u001b[0m \u001b[0mdtype\u001b[0m\u001b[0;34m=\u001b[0m\u001b[0mdtype\u001b[0m\u001b[0;34m,\u001b[0m \u001b[0morder\u001b[0m\u001b[0;34m=\u001b[0m\u001b[0morder\u001b[0m\u001b[0;34m)\u001b[0m\u001b[0;34m\u001b[0m\u001b[0;34m\u001b[0m\u001b[0m\n\u001b[0m\u001b[1;32m    497\u001b[0m             \u001b[0;32mexcept\u001b[0m \u001b[0mComplexWarning\u001b[0m\u001b[0;34m:\u001b[0m\u001b[0;34m\u001b[0m\u001b[0;34m\u001b[0m\u001b[0m\n\u001b[1;32m    498\u001b[0m                 raise ValueError(\"Complex data not supported\\n\"\n",
      "\u001b[0;32m/Applications/anaconda3/lib/python3.7/site-packages/numpy/core/numeric.py\u001b[0m in \u001b[0;36masarray\u001b[0;34m(a, dtype, order)\u001b[0m\n\u001b[1;32m    536\u001b[0m \u001b[0;34m\u001b[0m\u001b[0m\n\u001b[1;32m    537\u001b[0m     \"\"\"\n\u001b[0;32m--> 538\u001b[0;31m     \u001b[0;32mreturn\u001b[0m \u001b[0marray\u001b[0m\u001b[0;34m(\u001b[0m\u001b[0ma\u001b[0m\u001b[0;34m,\u001b[0m \u001b[0mdtype\u001b[0m\u001b[0;34m,\u001b[0m \u001b[0mcopy\u001b[0m\u001b[0;34m=\u001b[0m\u001b[0;32mFalse\u001b[0m\u001b[0;34m,\u001b[0m \u001b[0morder\u001b[0m\u001b[0;34m=\u001b[0m\u001b[0morder\u001b[0m\u001b[0;34m)\u001b[0m\u001b[0;34m\u001b[0m\u001b[0;34m\u001b[0m\u001b[0m\n\u001b[0m\u001b[1;32m    539\u001b[0m \u001b[0;34m\u001b[0m\u001b[0m\n\u001b[1;32m    540\u001b[0m \u001b[0;34m\u001b[0m\u001b[0m\n",
      "\u001b[0;31mValueError\u001b[0m: could not convert string to float: 'neteaseId'"
     ]
    }
   ],
   "source": [
    "# dir_path = '/Users/huizhang/Desktop/PMEmo2.0/dataset2.0/eda/eda'\n",
    "dir_path = '/Users/gioelepozzi/Desktop/data'\n",
    "\n",
    "eda_files = [f for f in os.listdir(dir_path) if f[-4:]=='.csv']\n",
    "results = pd.DataFrame()\n",
    "# window = 50\n",
    "# stride = 25\n",
    "for f in tqdm_notebook(eda_files):\n",
    "# for f in ['1_EDA.csv', '4_EDA.csv']:\n",
    "    musicId = f.split('_')[0]\n",
    "    raw_eda = pd.read_csv(os.path.join(dir_path, f), index_col=0)\n",
    "#     row_num, col_num = raw_eda.shape[0], raw_eda.shape[1]-1\n",
    "\n",
    "    for c in raw_eda.columns:\n",
    "        subjectId = c[-6:]\n",
    "        features = extract_eda_features(raw_eda[c].values)\n",
    "        features['subjectId'] = subjectId\n",
    "        features['musicId'] = musicId\n",
    "        results = results.append(features)\n",
    "\n",
    "results.fillna(0)\n",
    "results.to_csv('EDA_features_static.csv', index=False, columns=['subjectId', 'musicId']+list(results.columns[:-2]))"
   ]
  },
  {
   "cell_type": "code",
   "execution_count": 9,
   "metadata": {
    "scrolled": true
   },
   "outputs": [
    {
     "ename": "FileNotFoundError",
     "evalue": "[Errno 2] File b'EDA_features_static.csv' does not exist: b'EDA_features_static.csv'",
     "output_type": "error",
     "traceback": [
      "\u001b[0;31m---------------------------------------------------------------------------\u001b[0m",
      "\u001b[0;31mFileNotFoundError\u001b[0m                         Traceback (most recent call last)",
      "\u001b[0;32m<ipython-input-9-4cffb11ed4b6>\u001b[0m in \u001b[0;36m<module>\u001b[0;34m\u001b[0m\n\u001b[0;32m----> 1\u001b[0;31m \u001b[0meda_feature_set\u001b[0m \u001b[0;34m=\u001b[0m \u001b[0mpd\u001b[0m\u001b[0;34m.\u001b[0m\u001b[0mread_csv\u001b[0m\u001b[0;34m(\u001b[0m\u001b[0;34m'EDA_features_static.csv'\u001b[0m\u001b[0;34m)\u001b[0m\u001b[0;34m\u001b[0m\u001b[0;34m\u001b[0m\u001b[0m\n\u001b[0m\u001b[1;32m      2\u001b[0m \u001b[0mstatic_labels\u001b[0m \u001b[0;34m=\u001b[0m \u001b[0mpd\u001b[0m\u001b[0;34m.\u001b[0m\u001b[0mread_csv\u001b[0m\u001b[0;34m(\u001b[0m\u001b[0;34m'static_annotations.csv'\u001b[0m\u001b[0;34m)\u001b[0m\u001b[0;34m\u001b[0m\u001b[0;34m\u001b[0m\u001b[0m\n\u001b[1;32m      3\u001b[0m \u001b[0meda_dataset\u001b[0m \u001b[0;34m=\u001b[0m \u001b[0mpd\u001b[0m\u001b[0;34m.\u001b[0m\u001b[0mmerge\u001b[0m\u001b[0;34m(\u001b[0m\u001b[0meda_feature_set\u001b[0m\u001b[0;34m,\u001b[0m \u001b[0mstatic_labels\u001b[0m\u001b[0;34m,\u001b[0m \u001b[0mon\u001b[0m\u001b[0;34m=\u001b[0m\u001b[0;34m[\u001b[0m\u001b[0;34m'musicId'\u001b[0m\u001b[0;34m]\u001b[0m\u001b[0;34m)\u001b[0m\u001b[0;34m.\u001b[0m\u001b[0mdropna\u001b[0m\u001b[0;34m(\u001b[0m\u001b[0;34m)\u001b[0m\u001b[0;34m\u001b[0m\u001b[0;34m\u001b[0m\u001b[0m\n\u001b[1;32m      4\u001b[0m \u001b[0meda_dataset\u001b[0m\u001b[0;34m.\u001b[0m\u001b[0mto_csv\u001b[0m\u001b[0;34m(\u001b[0m\u001b[0;34m'eda_dataset.csv'\u001b[0m\u001b[0;34m,\u001b[0m \u001b[0mindex\u001b[0m\u001b[0;34m=\u001b[0m\u001b[0;32mFalse\u001b[0m\u001b[0;34m)\u001b[0m\u001b[0;34m\u001b[0m\u001b[0;34m\u001b[0m\u001b[0m\n",
      "\u001b[0;32m/Applications/anaconda3/lib/python3.7/site-packages/pandas/io/parsers.py\u001b[0m in \u001b[0;36mparser_f\u001b[0;34m(filepath_or_buffer, sep, delimiter, header, names, index_col, usecols, squeeze, prefix, mangle_dupe_cols, dtype, engine, converters, true_values, false_values, skipinitialspace, skiprows, skipfooter, nrows, na_values, keep_default_na, na_filter, verbose, skip_blank_lines, parse_dates, infer_datetime_format, keep_date_col, date_parser, dayfirst, iterator, chunksize, compression, thousands, decimal, lineterminator, quotechar, quoting, doublequote, escapechar, comment, encoding, dialect, tupleize_cols, error_bad_lines, warn_bad_lines, delim_whitespace, low_memory, memory_map, float_precision)\u001b[0m\n\u001b[1;32m    700\u001b[0m                     skip_blank_lines=skip_blank_lines)\n\u001b[1;32m    701\u001b[0m \u001b[0;34m\u001b[0m\u001b[0m\n\u001b[0;32m--> 702\u001b[0;31m         \u001b[0;32mreturn\u001b[0m \u001b[0m_read\u001b[0m\u001b[0;34m(\u001b[0m\u001b[0mfilepath_or_buffer\u001b[0m\u001b[0;34m,\u001b[0m \u001b[0mkwds\u001b[0m\u001b[0;34m)\u001b[0m\u001b[0;34m\u001b[0m\u001b[0;34m\u001b[0m\u001b[0m\n\u001b[0m\u001b[1;32m    703\u001b[0m \u001b[0;34m\u001b[0m\u001b[0m\n\u001b[1;32m    704\u001b[0m     \u001b[0mparser_f\u001b[0m\u001b[0;34m.\u001b[0m\u001b[0m__name__\u001b[0m \u001b[0;34m=\u001b[0m \u001b[0mname\u001b[0m\u001b[0;34m\u001b[0m\u001b[0;34m\u001b[0m\u001b[0m\n",
      "\u001b[0;32m/Applications/anaconda3/lib/python3.7/site-packages/pandas/io/parsers.py\u001b[0m in \u001b[0;36m_read\u001b[0;34m(filepath_or_buffer, kwds)\u001b[0m\n\u001b[1;32m    427\u001b[0m \u001b[0;34m\u001b[0m\u001b[0m\n\u001b[1;32m    428\u001b[0m     \u001b[0;31m# Create the parser.\u001b[0m\u001b[0;34m\u001b[0m\u001b[0;34m\u001b[0m\u001b[0;34m\u001b[0m\u001b[0m\n\u001b[0;32m--> 429\u001b[0;31m     \u001b[0mparser\u001b[0m \u001b[0;34m=\u001b[0m \u001b[0mTextFileReader\u001b[0m\u001b[0;34m(\u001b[0m\u001b[0mfilepath_or_buffer\u001b[0m\u001b[0;34m,\u001b[0m \u001b[0;34m**\u001b[0m\u001b[0mkwds\u001b[0m\u001b[0;34m)\u001b[0m\u001b[0;34m\u001b[0m\u001b[0;34m\u001b[0m\u001b[0m\n\u001b[0m\u001b[1;32m    430\u001b[0m \u001b[0;34m\u001b[0m\u001b[0m\n\u001b[1;32m    431\u001b[0m     \u001b[0;32mif\u001b[0m \u001b[0mchunksize\u001b[0m \u001b[0;32mor\u001b[0m \u001b[0miterator\u001b[0m\u001b[0;34m:\u001b[0m\u001b[0;34m\u001b[0m\u001b[0;34m\u001b[0m\u001b[0m\n",
      "\u001b[0;32m/Applications/anaconda3/lib/python3.7/site-packages/pandas/io/parsers.py\u001b[0m in \u001b[0;36m__init__\u001b[0;34m(self, f, engine, **kwds)\u001b[0m\n\u001b[1;32m    893\u001b[0m             \u001b[0mself\u001b[0m\u001b[0;34m.\u001b[0m\u001b[0moptions\u001b[0m\u001b[0;34m[\u001b[0m\u001b[0;34m'has_index_names'\u001b[0m\u001b[0;34m]\u001b[0m \u001b[0;34m=\u001b[0m \u001b[0mkwds\u001b[0m\u001b[0;34m[\u001b[0m\u001b[0;34m'has_index_names'\u001b[0m\u001b[0;34m]\u001b[0m\u001b[0;34m\u001b[0m\u001b[0;34m\u001b[0m\u001b[0m\n\u001b[1;32m    894\u001b[0m \u001b[0;34m\u001b[0m\u001b[0m\n\u001b[0;32m--> 895\u001b[0;31m         \u001b[0mself\u001b[0m\u001b[0;34m.\u001b[0m\u001b[0m_make_engine\u001b[0m\u001b[0;34m(\u001b[0m\u001b[0mself\u001b[0m\u001b[0;34m.\u001b[0m\u001b[0mengine\u001b[0m\u001b[0;34m)\u001b[0m\u001b[0;34m\u001b[0m\u001b[0;34m\u001b[0m\u001b[0m\n\u001b[0m\u001b[1;32m    896\u001b[0m \u001b[0;34m\u001b[0m\u001b[0m\n\u001b[1;32m    897\u001b[0m     \u001b[0;32mdef\u001b[0m \u001b[0mclose\u001b[0m\u001b[0;34m(\u001b[0m\u001b[0mself\u001b[0m\u001b[0;34m)\u001b[0m\u001b[0;34m:\u001b[0m\u001b[0;34m\u001b[0m\u001b[0;34m\u001b[0m\u001b[0m\n",
      "\u001b[0;32m/Applications/anaconda3/lib/python3.7/site-packages/pandas/io/parsers.py\u001b[0m in \u001b[0;36m_make_engine\u001b[0;34m(self, engine)\u001b[0m\n\u001b[1;32m   1120\u001b[0m     \u001b[0;32mdef\u001b[0m \u001b[0m_make_engine\u001b[0m\u001b[0;34m(\u001b[0m\u001b[0mself\u001b[0m\u001b[0;34m,\u001b[0m \u001b[0mengine\u001b[0m\u001b[0;34m=\u001b[0m\u001b[0;34m'c'\u001b[0m\u001b[0;34m)\u001b[0m\u001b[0;34m:\u001b[0m\u001b[0;34m\u001b[0m\u001b[0;34m\u001b[0m\u001b[0m\n\u001b[1;32m   1121\u001b[0m         \u001b[0;32mif\u001b[0m \u001b[0mengine\u001b[0m \u001b[0;34m==\u001b[0m \u001b[0;34m'c'\u001b[0m\u001b[0;34m:\u001b[0m\u001b[0;34m\u001b[0m\u001b[0;34m\u001b[0m\u001b[0m\n\u001b[0;32m-> 1122\u001b[0;31m             \u001b[0mself\u001b[0m\u001b[0;34m.\u001b[0m\u001b[0m_engine\u001b[0m \u001b[0;34m=\u001b[0m \u001b[0mCParserWrapper\u001b[0m\u001b[0;34m(\u001b[0m\u001b[0mself\u001b[0m\u001b[0;34m.\u001b[0m\u001b[0mf\u001b[0m\u001b[0;34m,\u001b[0m \u001b[0;34m**\u001b[0m\u001b[0mself\u001b[0m\u001b[0;34m.\u001b[0m\u001b[0moptions\u001b[0m\u001b[0;34m)\u001b[0m\u001b[0;34m\u001b[0m\u001b[0;34m\u001b[0m\u001b[0m\n\u001b[0m\u001b[1;32m   1123\u001b[0m         \u001b[0;32melse\u001b[0m\u001b[0;34m:\u001b[0m\u001b[0;34m\u001b[0m\u001b[0;34m\u001b[0m\u001b[0m\n\u001b[1;32m   1124\u001b[0m             \u001b[0;32mif\u001b[0m \u001b[0mengine\u001b[0m \u001b[0;34m==\u001b[0m \u001b[0;34m'python'\u001b[0m\u001b[0;34m:\u001b[0m\u001b[0;34m\u001b[0m\u001b[0;34m\u001b[0m\u001b[0m\n",
      "\u001b[0;32m/Applications/anaconda3/lib/python3.7/site-packages/pandas/io/parsers.py\u001b[0m in \u001b[0;36m__init__\u001b[0;34m(self, src, **kwds)\u001b[0m\n\u001b[1;32m   1851\u001b[0m         \u001b[0mkwds\u001b[0m\u001b[0;34m[\u001b[0m\u001b[0;34m'usecols'\u001b[0m\u001b[0;34m]\u001b[0m \u001b[0;34m=\u001b[0m \u001b[0mself\u001b[0m\u001b[0;34m.\u001b[0m\u001b[0musecols\u001b[0m\u001b[0;34m\u001b[0m\u001b[0;34m\u001b[0m\u001b[0m\n\u001b[1;32m   1852\u001b[0m \u001b[0;34m\u001b[0m\u001b[0m\n\u001b[0;32m-> 1853\u001b[0;31m         \u001b[0mself\u001b[0m\u001b[0;34m.\u001b[0m\u001b[0m_reader\u001b[0m \u001b[0;34m=\u001b[0m \u001b[0mparsers\u001b[0m\u001b[0;34m.\u001b[0m\u001b[0mTextReader\u001b[0m\u001b[0;34m(\u001b[0m\u001b[0msrc\u001b[0m\u001b[0;34m,\u001b[0m \u001b[0;34m**\u001b[0m\u001b[0mkwds\u001b[0m\u001b[0;34m)\u001b[0m\u001b[0;34m\u001b[0m\u001b[0;34m\u001b[0m\u001b[0m\n\u001b[0m\u001b[1;32m   1854\u001b[0m         \u001b[0mself\u001b[0m\u001b[0;34m.\u001b[0m\u001b[0munnamed_cols\u001b[0m \u001b[0;34m=\u001b[0m \u001b[0mself\u001b[0m\u001b[0;34m.\u001b[0m\u001b[0m_reader\u001b[0m\u001b[0;34m.\u001b[0m\u001b[0munnamed_cols\u001b[0m\u001b[0;34m\u001b[0m\u001b[0;34m\u001b[0m\u001b[0m\n\u001b[1;32m   1855\u001b[0m \u001b[0;34m\u001b[0m\u001b[0m\n",
      "\u001b[0;32mpandas/_libs/parsers.pyx\u001b[0m in \u001b[0;36mpandas._libs.parsers.TextReader.__cinit__\u001b[0;34m()\u001b[0m\n",
      "\u001b[0;32mpandas/_libs/parsers.pyx\u001b[0m in \u001b[0;36mpandas._libs.parsers.TextReader._setup_parser_source\u001b[0;34m()\u001b[0m\n",
      "\u001b[0;31mFileNotFoundError\u001b[0m: [Errno 2] File b'EDA_features_static.csv' does not exist: b'EDA_features_static.csv'"
     ]
    }
   ],
   "source": [
    "eda_feature_set = pd.read_csv('EDA_features_static.csv')\n",
    "static_labels = pd.read_csv('static_annotations.csv')\n",
    "eda_dataset = pd.merge(eda_feature_set, static_labels, on=['musicId']).dropna()\n",
    "eda_dataset.to_csv('eda_dataset.csv', index=False)"
   ]
  },
  {
   "cell_type": "markdown",
   "metadata": {},
   "source": [
    "## Compute the dynamic EDA features for songs"
   ]
  },
  {
   "cell_type": "code",
   "execution_count": 3,
   "metadata": {},
   "outputs": [
    {
     "data": {
      "application/vnd.jupyter.widget-view+json": {
       "model_id": "88fb4cf990a440dfabc8da4ef356e973",
       "version_major": 2,
       "version_minor": 0
      },
      "text/plain": [
       "HBox(children=(IntProgress(value=0, max=794), HTML(value='')))"
      ]
     },
     "metadata": {},
     "output_type": "display_data"
    },
    {
     "name": "stdout",
     "output_type": "stream",
     "text": [
      "\n"
     ]
    }
   ],
   "source": [
    "import warnings\n",
    "warnings.filterwarnings(\"ignore\", category=FutureWarning)\n",
    "\n",
    "dir_path = '/Users/huizhang/Desktop/PMEmo2.0/dataset2.0/eda/eda'\n",
    "eda_files = [f for f in os.listdir(dir_path) if f[-4:]=='.csv']\n",
    "results = pd.DataFrame()\n",
    "\n",
    "# window = 50\n",
    "# stride = 25\n",
    "\n",
    "for f in tqdm_notebook(eda_files):\n",
    "# for f in ['1_EDA.csv', '4_EDA.csv']:\n",
    "    musicId = f.split('_')[0]\n",
    "    raw_eda = pd.read_csv(os.path.join(dir_path, f), index_col=0)\n",
    "\n",
    "    for c in raw_eda.columns:\n",
    "        subjectId = c\n",
    "        features = extract_eda_features(raw_eda[c].values, ifDynamic=True)\n",
    "        features['subjectId'] = subjectId\n",
    "        features['musicId'] = musicId\n",
    "        results = results.append(features)\n",
    "\n",
    "results.fillna(0)\n",
    "results.to_csv('EDA_features_dynamic.csv', index=False, columns=['subjectId', 'musicId']+list(results.columns[:-2]))"
   ]
  }
 ],
 "metadata": {
  "kernelspec": {
   "display_name": "Python 3",
   "language": "python",
   "name": "python3"
  },
  "language_info": {
   "codemirror_mode": {
    "name": "ipython",
    "version": 3
   },
   "file_extension": ".py",
   "mimetype": "text/x-python",
   "name": "python",
   "nbconvert_exporter": "python",
   "pygments_lexer": "ipython3",
   "version": "3.7.3"
  },
  "toc": {
   "base_numbering": 1,
   "nav_menu": {},
   "number_sections": true,
   "sideBar": true,
   "skip_h1_title": true,
   "title_cell": "Table of Contents",
   "title_sidebar": "Contents",
   "toc_cell": false,
   "toc_position": {},
   "toc_section_display": true,
   "toc_window_display": true
  }
 },
 "nbformat": 4,
 "nbformat_minor": 2
}
